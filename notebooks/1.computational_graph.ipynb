{
 "cells": [
  {
   "cell_type": "markdown",
   "metadata": {
    "id": "DQlYVQ5534Sr"
   },
   "source": [
    "# **1. Computational Graph**"
   ]
  },
  {
   "cell_type": "markdown",
   "metadata": {
    "id": "a1ikw4oLCE6S"
   },
   "source": [
    "> This code is adapted from course **NN from Zero to Hero** - Andrej Karpathy\n",
    "\n",
    "- We want to create a computational graph.\n",
    "- An operation node in computational graph\n",
    "  - receives 1 or 2 values from other nodes\n",
    "  - return a single value"
   ]
  },
  {
   "cell_type": "code",
   "execution_count": 1,
   "metadata": {
    "id": "m2BR7-o_3twz"
   },
   "outputs": [],
   "source": [
    "# Run this library\n",
    "import math\n",
    "import random\n",
    "import numpy as np\n",
    "import matplotlib.pyplot as plt\n",
    "%matplotlib inline"
   ]
  },
  {
   "cell_type": "markdown",
   "metadata": {
    "id": "ltzouPCb4pZS"
   },
   "source": [
    "## **Task 1**\n",
    "---"
   ]
  },
  {
   "cell_type": "markdown",
   "metadata": {
    "id": "Blpc9s9G5Uzu"
   },
   "source": [
    "- Create a Class called `Value`\n",
    "- Initialize a single value when creating `Value` object.\n",
    "- Return `Value(data=<data>)` if you call the object."
   ]
  },
  {
   "cell_type": "code",
   "execution_count": 2,
   "metadata": {
    "id": "zST_kR-m4TyH"
   },
   "outputs": [],
   "source": [
    "# Write your code in here\n",
    "class Value:\n",
    "    def __init__(self, data):\n",
    "        self.data = data\n",
    "\n",
    "    def __repr__(self):\n",
    "        return f'Value(data={self.data})'"
   ]
  },
  {
   "cell_type": "markdown",
   "metadata": {
    "id": "W8oELXcl5EH7"
   },
   "source": [
    "Test the code"
   ]
  },
  {
   "cell_type": "code",
   "execution_count": 3,
   "metadata": {
    "colab": {
     "base_uri": "https://localhost:8080/"
    },
    "id": "JqbXbb985ByZ",
    "outputId": "a7bbc27e-0e60-4404-f4ef-4e786f4ebe32"
   },
   "outputs": [
    {
     "name": "stdout",
     "output_type": "stream",
     "text": [
      "Value(data=3)\n"
     ]
    }
   ],
   "source": [
    "a = Value(3)\n",
    "print(a)"
   ]
  },
  {
   "cell_type": "code",
   "execution_count": 4,
   "metadata": {
    "colab": {
     "base_uri": "https://localhost:8080/"
    },
    "id": "hufywwpu5HRA",
    "outputId": "fc13da76-1963-4d93-cfb8-1ba8257c91bf"
   },
   "outputs": [
    {
     "name": "stdout",
     "output_type": "stream",
     "text": [
      "Value(data=-4.0)\n"
     ]
    }
   ],
   "source": [
    "b = Value(-4.0)\n",
    "print(b)"
   ]
  },
  {
   "cell_type": "markdown",
   "metadata": {
    "id": "z4BA_vuT5P6Y"
   },
   "source": [
    "## **Task 2**\n",
    "---"
   ]
  },
  {
   "cell_type": "markdown",
   "metadata": {
    "id": "Asw8_GaD5X6U"
   },
   "source": [
    "- Update the `Value` class\n",
    "- Create basic operations e.g. summation and multiplication\n",
    "- Store\n",
    "  - The label data\n",
    "  - The children\n",
    "  - The type of operation as class parameters.\n",
    "- Return the calculation results as a `Value` object\n",
    "- Perform basic operation"
   ]
  },
  {
   "cell_type": "code",
   "execution_count": 5,
   "metadata": {
    "id": "umSHKp2N5W_A"
   },
   "outputs": [],
   "source": [
    "# Write your code in here\n",
    "class Value:\n",
    "    def __init__(self, data, _children=(), _op='', label=''):\n",
    "        self.data = data\n",
    "        self._prev = set(_children)\n",
    "        self._op = _op\n",
    "        self.label = label\n",
    "\n",
    "    def __repr__(self):\n",
    "        return f'Value(data={self.data})'\n",
    "\n",
    "    def __add__(self, other):\n",
    "        out = Value(data = self.data + other.data,\n",
    "                    _children = (self, other),\n",
    "                    _op = '+')\n",
    "\n",
    "        return out\n",
    "\n",
    "    def __mul__(self, other):\n",
    "        out = Value(data = self.data * other.data,\n",
    "                    _children = (self, other),\n",
    "                    _op = '*')\n",
    "\n",
    "        return out\n"
   ]
  },
  {
   "cell_type": "markdown",
   "metadata": {
    "id": "IY1z76Z46XYV"
   },
   "source": [
    "Test the code"
   ]
  },
  {
   "cell_type": "code",
   "execution_count": 6,
   "metadata": {
    "colab": {
     "base_uri": "https://localhost:8080/"
    },
    "id": "3OqEAw9w6SM1",
    "outputId": "8d7c5bce-b9b4-4bd5-9e04-aa0e8e3842e9"
   },
   "outputs": [
    {
     "name": "stdout",
     "output_type": "stream",
     "text": [
      "Operation result          : Value(data=7.0)\n",
      "Operation type            : +\n",
      "Value label               : c\n",
      "Previous value to operate : {Value(data=3.0), Value(data=4.0)}\n"
     ]
    }
   ],
   "source": [
    "a = Value(data=4.0, label='a')\n",
    "b = Value(data=3.0, label='b')\n",
    "\n",
    "c = a + b; c.label = 'c'\n",
    "\n",
    "print('Operation result          :', c)\n",
    "print('Operation type            :', c._op)\n",
    "print('Value label               :', c.label)\n",
    "print('Previous value to operate :', c._prev)"
   ]
  },
  {
   "cell_type": "code",
   "execution_count": 7,
   "metadata": {
    "colab": {
     "base_uri": "https://localhost:8080/"
    },
    "id": "YvGTbOM26p8A",
    "outputId": "1e421bca-9798-4450-da29-ad2fe82b0909"
   },
   "outputs": [
    {
     "name": "stdout",
     "output_type": "stream",
     "text": [
      "Operation result          : Value(data=-12.0)\n",
      "Operation type            : *\n",
      "Value label               : c\n",
      "Previous value to operate : {Value(data=4.0), Value(data=-3.0)}\n"
     ]
    }
   ],
   "source": [
    "a = Value(data=4.0, label='a')\n",
    "b = Value(data=-3.0, label='b')\n",
    "\n",
    "c = a * b; c.label = 'c'\n",
    "\n",
    "print('Operation result          :', c)\n",
    "print('Operation type            :', c._op)\n",
    "print('Value label               :', c.label)\n",
    "print('Previous value to operate :', c._prev)"
   ]
  },
  {
   "cell_type": "markdown",
   "metadata": {
    "id": "afFgcwR46ups"
   },
   "source": [
    "## **Task 3**\n",
    "---"
   ]
  },
  {
   "cell_type": "markdown",
   "metadata": {
    "id": "ypQZ10tj6upw"
   },
   "source": [
    "- Perform the operation\n",
    "- Create a function to `trace` the nodes that being operated & edges that define operation between two nodes."
   ]
  },
  {
   "cell_type": "markdown",
   "metadata": {
    "id": "7BiY3ERJ7TSv"
   },
   "source": [
    "We create a computational graph, say\n",
    "\n",
    "$$\n",
    "\\begin{align*}\n",
    "C &= A + B \\\\\n",
    "E &= C * D\n",
    "\\end{align*}\n",
    "$$"
   ]
  },
  {
   "cell_type": "code",
   "execution_count": 8,
   "metadata": {
    "id": "A79pBdyP73Rf"
   },
   "outputs": [],
   "source": [
    "# Let\n",
    "A = Value(data=4.0, label='A')\n",
    "B = Value(data=3.0, label='B')\n",
    "D = Value(data=2.0, label='D')"
   ]
  },
  {
   "cell_type": "code",
   "execution_count": 9,
   "metadata": {
    "colab": {
     "base_uri": "https://localhost:8080/"
    },
    "id": "zBrl3z_F6upy",
    "outputId": "06b9432d-a326-4355-be3e-6ebc15d063ea"
   },
   "outputs": [
    {
     "name": "stdout",
     "output_type": "stream",
     "text": [
      "Value(data=7.0)\n",
      "Value(data=14.0)\n"
     ]
    }
   ],
   "source": [
    "# 1st operation\n",
    "C = A + B; C.label = 'C'\n",
    "print(C)\n",
    "\n",
    "# 2nd operation\n",
    "E = C * D; E.label = 'E'\n",
    "print(E)"
   ]
  },
  {
   "cell_type": "markdown",
   "metadata": {
    "id": "z9LymQlh746d"
   },
   "source": [
    "We backtrack the children"
   ]
  },
  {
   "cell_type": "code",
   "execution_count": 10,
   "metadata": {
    "colab": {
     "base_uri": "https://localhost:8080/"
    },
    "id": "CKXggS0J70ap",
    "outputId": "d8844768-f927-46bf-ab74-83af9da191f5"
   },
   "outputs": [
    {
     "name": "stdout",
     "output_type": "stream",
     "text": [
      "Value(data=2.0)\n",
      "Value(data=7.0)\n"
     ]
    }
   ],
   "source": [
    "# Children of E\n",
    "for child in E._prev:\n",
    "    print(child)"
   ]
  },
  {
   "cell_type": "markdown",
   "metadata": {
    "id": "xU58Z9dV9In9"
   },
   "source": [
    "Great! The children of `E` is `C` and `D` which have value of `7.0` and `2.0` respectively."
   ]
  },
  {
   "cell_type": "code",
   "execution_count": 11,
   "metadata": {
    "colab": {
     "base_uri": "https://localhost:8080/"
    },
    "id": "yJj1yJrE8BbJ",
    "outputId": "1fe31968-3d8c-4bec-d482-121df47f2f52"
   },
   "outputs": [
    {
     "name": "stdout",
     "output_type": "stream",
     "text": [
      "Child - Value(data=2.0) does not have any children\n",
      "Child - Value(data=7.0) does have children:\n",
      " - Value(data=3.0)\n",
      " - Value(data=4.0)\n"
     ]
    }
   ],
   "source": [
    "# Children of children of E\n",
    "for child in E._prev:\n",
    "    if len(child._prev)==0:\n",
    "        print(f'Child - {child} does not have any children')\n",
    "    else:\n",
    "        print(f'Child - {child} does have children:')\n",
    "\n",
    "    for grandchild in child._prev:\n",
    "        print(' -', grandchild)"
   ]
  },
  {
   "cell_type": "markdown",
   "metadata": {
    "id": "9hrccR_b9R4f"
   },
   "source": [
    "Great! We can extract the grand children.\n",
    "\n",
    "Now, we can optimize this and create a tracing function from the root (the final variable)"
   ]
  },
  {
   "cell_type": "code",
   "execution_count": 12,
   "metadata": {
    "id": "p23Rvcl59dGD"
   },
   "outputs": [],
   "source": [
    "def trace(root):\n",
    "    \"\"\"Trace all noeds and edges in a graph\"\"\"\n",
    "    nodes = set()\n",
    "    edges = set()\n",
    "\n",
    "    # A local function\n",
    "    def build(node):\n",
    "        # If node is not in nodes, then trace the node\n",
    "        if node not in nodes:\n",
    "            # Store node to nodes\n",
    "            nodes.add(node)\n",
    "\n",
    "            # Iterate to find child of previous nodes\n",
    "            for child in node._prev:\n",
    "                # Add edges that connect node & child\n",
    "                edges.add((child, node))\n",
    "\n",
    "                # Build the child node recursively\n",
    "                build(child)\n",
    "\n",
    "    # Start building the node recursively from the final node\n",
    "    build(root)\n",
    "\n",
    "    return nodes, edges\n"
   ]
  },
  {
   "cell_type": "markdown",
   "metadata": {
    "id": "fbc_ksVz_QuF"
   },
   "source": [
    "Let's validate"
   ]
  },
  {
   "cell_type": "code",
   "execution_count": 13,
   "metadata": {
    "id": "zfAUCrEK_PSg"
   },
   "outputs": [],
   "source": [
    "nodes, edges = trace(root = E)"
   ]
  },
  {
   "cell_type": "code",
   "execution_count": 14,
   "metadata": {
    "colab": {
     "base_uri": "https://localhost:8080/"
    },
    "id": "Fus3L8NF_YSr",
    "outputId": "ef03bb3b-63c4-4308-ab2f-afd523e939b6"
   },
   "outputs": [
    {
     "data": {
      "text/plain": [
       "{Value(data=14.0),\n",
       " Value(data=2.0),\n",
       " Value(data=3.0),\n",
       " Value(data=4.0),\n",
       " Value(data=7.0)}"
      ]
     },
     "execution_count": 14,
     "metadata": {},
     "output_type": "execute_result"
    }
   ],
   "source": [
    "nodes"
   ]
  },
  {
   "cell_type": "code",
   "execution_count": 15,
   "metadata": {
    "colab": {
     "base_uri": "https://localhost:8080/"
    },
    "id": "Me-XH4OF_ZYC",
    "outputId": "feda5859-9eeb-4bae-ebb1-d4187d26c578"
   },
   "outputs": [
    {
     "data": {
      "text/plain": [
       "{(Value(data=2.0), Value(data=14.0)),\n",
       " (Value(data=3.0), Value(data=7.0)),\n",
       " (Value(data=4.0), Value(data=7.0)),\n",
       " (Value(data=7.0), Value(data=14.0))}"
      ]
     },
     "execution_count": 15,
     "metadata": {},
     "output_type": "execute_result"
    }
   ],
   "source": [
    "edges"
   ]
  },
  {
   "cell_type": "markdown",
   "metadata": {
    "id": "KdjNF1oyFFwG"
   },
   "source": [
    "## **Task 4**\n",
    "---"
   ]
  },
  {
   "cell_type": "markdown",
   "metadata": {
    "id": "_89QHZeaFFwN"
   },
   "source": [
    "- Draw the computational graph"
   ]
  },
  {
   "cell_type": "markdown",
   "metadata": {
    "id": "H6-GzEJt_gEt"
   },
   "source": [
    "Now, use this library to draw the computational graph"
   ]
  },
  {
   "cell_type": "code",
   "execution_count": null,
   "metadata": {
    "id": "cohKRe6g6ZkR"
   },
   "outputs": [],
   "source": [
    "# Install the library first\n",
    "!sudo apt-get update\n",
    "!sudo apt-get install graphviz -y\n",
    "!pip install graphviz"
   ]
  },
  {
   "cell_type": "code",
   "execution_count": 17,
   "metadata": {
    "id": "9VvN7lD4_jLb"
   },
   "outputs": [],
   "source": [
    "from graphviz import Digraph"
   ]
  },
  {
   "cell_type": "code",
   "execution_count": 18,
   "metadata": {
    "id": "d0OlwHz2_lYM"
   },
   "outputs": [],
   "source": [
    "def draw_dot(root):\n",
    "    \"\"\"Draw the computational graph by backtracing the operation\"\"\"\n",
    "    # Create a workspace\n",
    "    dot = Digraph(format='svg',\n",
    "                  graph_attr={'rankdir': 'LR'})\n",
    "\n",
    "    # Trace the nodes & edges from computational graph\n",
    "    nodes, edges = trace(root)\n",
    "\n",
    "    # Draw\n",
    "    for node_ in nodes:\n",
    "        uid = str(id(node_))\n",
    "\n",
    "        # Create a rectangular node\n",
    "        dot.node(name = uid,\n",
    "                 label = '{ %s | data %.4f }' % (node_.label, node_.data),\n",
    "                 shape = 'record')\n",
    "\n",
    "        # Create operator (node & edge)\n",
    "        if node_._op:\n",
    "            # Create an operation node\n",
    "            dot.node(name = uid + node_._op,\n",
    "                     label = node_._op)\n",
    "\n",
    "            # Connect edge between operation nodes to next value nodes\n",
    "            dot.edge(tail_name = uid + node_._op,\n",
    "                     head_name = uid)\n",
    "\n",
    "    # Create edge for value nodes to operation nodes\n",
    "    for node_1, node_2 in edges:\n",
    "        dot.edge(tail_name = str(id(node_1)),\n",
    "                 head_name = str(id(node_2)) + node_2._op)\n",
    "\n",
    "    return dot\n"
   ]
  },
  {
   "cell_type": "markdown",
   "metadata": {
    "id": "A6zlNNCRA9Kd"
   },
   "source": [
    "Let's draw our computational graph"
   ]
  },
  {
   "cell_type": "code",
   "execution_count": 19,
   "metadata": {
    "colab": {
     "base_uri": "https://localhost:8080/",
     "height": 191
    },
    "id": "qeyEdA0dA8qG",
    "outputId": "82249ff2-1aab-4588-b2c5-f2c7db966c8b"
   },
   "outputs": [
    {
     "data": {
      "image/svg+xml": [
       "<?xml version=\"1.0\" encoding=\"UTF-8\" standalone=\"no\"?>\n",
       "<!DOCTYPE svg PUBLIC \"-//W3C//DTD SVG 1.1//EN\"\n",
       " \"http://www.w3.org/Graphics/SVG/1.1/DTD/svg11.dtd\">\n",
       "<!-- Generated by graphviz version 2.43.0 (0)\n",
       " -->\n",
       "<!-- Title: %3 Pages: 1 -->\n",
       "<svg width=\"657pt\" height=\"128pt\"\n",
       " viewBox=\"0.00 0.00 657.00 128.00\" xmlns=\"http://www.w3.org/2000/svg\" xmlns:xlink=\"http://www.w3.org/1999/xlink\">\n",
       "<g id=\"graph0\" class=\"graph\" transform=\"scale(1 1) rotate(0) translate(4 124)\">\n",
       "<title>%3</title>\n",
       "<polygon fill=\"white\" stroke=\"transparent\" points=\"-4,4 -4,-124 653,-124 653,4 -4,4\"/>\n",
       "<!-- 140200464858176 -->\n",
       "<g id=\"node1\" class=\"node\">\n",
       "<title>140200464858176</title>\n",
       "<polygon fill=\"none\" stroke=\"black\" points=\"0.5,-83.5 0.5,-119.5 128.5,-119.5 128.5,-83.5 0.5,-83.5\"/>\n",
       "<text text-anchor=\"middle\" x=\"13.5\" y=\"-97.8\" font-family=\"Times,serif\" font-size=\"14.00\">A</text>\n",
       "<polyline fill=\"none\" stroke=\"black\" points=\"26.5,-83.5 26.5,-119.5 \"/>\n",
       "<text text-anchor=\"middle\" x=\"77.5\" y=\"-97.8\" font-family=\"Times,serif\" font-size=\"14.00\">data 4.0000</text>\n",
       "</g>\n",
       "<!-- 140200464855728+ -->\n",
       "<g id=\"node3\" class=\"node\">\n",
       "<title>140200464855728+</title>\n",
       "<ellipse fill=\"none\" stroke=\"black\" cx=\"192\" cy=\"-73.5\" rx=\"27\" ry=\"18\"/>\n",
       "<text text-anchor=\"middle\" x=\"192\" y=\"-69.8\" font-family=\"Times,serif\" font-size=\"14.00\">+</text>\n",
       "</g>\n",
       "<!-- 140200464858176&#45;&gt;140200464855728+ -->\n",
       "<g id=\"edge3\" class=\"edge\">\n",
       "<title>140200464858176&#45;&gt;140200464855728+</title>\n",
       "<path fill=\"none\" stroke=\"black\" d=\"M128.62,-87.42C138.08,-85.31 147.53,-83.2 156.1,-81.29\"/>\n",
       "<polygon fill=\"black\" stroke=\"black\" points=\"157.08,-84.65 166.08,-79.06 155.56,-77.82 157.08,-84.65\"/>\n",
       "</g>\n",
       "<!-- 140200464855728 -->\n",
       "<g id=\"node2\" class=\"node\">\n",
       "<title>140200464855728</title>\n",
       "<polygon fill=\"none\" stroke=\"black\" points=\"255.5,-55.5 255.5,-91.5 384.5,-91.5 384.5,-55.5 255.5,-55.5\"/>\n",
       "<text text-anchor=\"middle\" x=\"269\" y=\"-69.8\" font-family=\"Times,serif\" font-size=\"14.00\">C</text>\n",
       "<polyline fill=\"none\" stroke=\"black\" points=\"282.5,-55.5 282.5,-91.5 \"/>\n",
       "<text text-anchor=\"middle\" x=\"333.5\" y=\"-69.8\" font-family=\"Times,serif\" font-size=\"14.00\">data 7.0000</text>\n",
       "</g>\n",
       "<!-- 140200857587424* -->\n",
       "<g id=\"node5\" class=\"node\">\n",
       "<title>140200857587424*</title>\n",
       "<ellipse fill=\"none\" stroke=\"black\" cx=\"448\" cy=\"-45.5\" rx=\"27\" ry=\"18\"/>\n",
       "<text text-anchor=\"middle\" x=\"448\" y=\"-41.8\" font-family=\"Times,serif\" font-size=\"14.00\">*</text>\n",
       "</g>\n",
       "<!-- 140200464855728&#45;&gt;140200857587424* -->\n",
       "<g id=\"edge5\" class=\"edge\">\n",
       "<title>140200464855728&#45;&gt;140200857587424*</title>\n",
       "<path fill=\"none\" stroke=\"black\" d=\"M384.74,-59.34C394.2,-57.23 403.64,-55.14 412.2,-53.23\"/>\n",
       "<polygon fill=\"black\" stroke=\"black\" points=\"413.15,-56.61 422.15,-51.02 411.63,-49.77 413.15,-56.61\"/>\n",
       "</g>\n",
       "<!-- 140200464855728+&#45;&gt;140200464855728 -->\n",
       "<g id=\"edge1\" class=\"edge\">\n",
       "<title>140200464855728+&#45;&gt;140200464855728</title>\n",
       "<path fill=\"none\" stroke=\"black\" d=\"M219.11,-73.5C226.94,-73.5 235.95,-73.5 245.28,-73.5\"/>\n",
       "<polygon fill=\"black\" stroke=\"black\" points=\"245.5,-77 255.5,-73.5 245.5,-70 245.5,-77\"/>\n",
       "</g>\n",
       "<!-- 140200857587424 -->\n",
       "<g id=\"node4\" class=\"node\">\n",
       "<title>140200857587424</title>\n",
       "<polygon fill=\"none\" stroke=\"black\" points=\"511,-27.5 511,-63.5 649,-63.5 649,-27.5 511,-27.5\"/>\n",
       "<text text-anchor=\"middle\" x=\"524.5\" y=\"-41.8\" font-family=\"Times,serif\" font-size=\"14.00\">E</text>\n",
       "<polyline fill=\"none\" stroke=\"black\" points=\"538,-27.5 538,-63.5 \"/>\n",
       "<text text-anchor=\"middle\" x=\"593.5\" y=\"-41.8\" font-family=\"Times,serif\" font-size=\"14.00\">data 14.0000</text>\n",
       "</g>\n",
       "<!-- 140200857587424*&#45;&gt;140200857587424 -->\n",
       "<g id=\"edge2\" class=\"edge\">\n",
       "<title>140200857587424*&#45;&gt;140200857587424</title>\n",
       "<path fill=\"none\" stroke=\"black\" d=\"M475.31,-45.5C482.85,-45.5 491.49,-45.5 500.5,-45.5\"/>\n",
       "<polygon fill=\"black\" stroke=\"black\" points=\"500.78,-49 510.78,-45.5 500.78,-42 500.78,-49\"/>\n",
       "</g>\n",
       "<!-- 140200464852752 -->\n",
       "<g id=\"node6\" class=\"node\">\n",
       "<title>140200464852752</title>\n",
       "<polygon fill=\"none\" stroke=\"black\" points=\"0,-28.5 0,-64.5 129,-64.5 129,-28.5 0,-28.5\"/>\n",
       "<text text-anchor=\"middle\" x=\"13.5\" y=\"-42.8\" font-family=\"Times,serif\" font-size=\"14.00\">B</text>\n",
       "<polyline fill=\"none\" stroke=\"black\" points=\"27,-28.5 27,-64.5 \"/>\n",
       "<text text-anchor=\"middle\" x=\"78\" y=\"-42.8\" font-family=\"Times,serif\" font-size=\"14.00\">data 3.0000</text>\n",
       "</g>\n",
       "<!-- 140200464852752&#45;&gt;140200464855728+ -->\n",
       "<g id=\"edge4\" class=\"edge\">\n",
       "<title>140200464852752&#45;&gt;140200464855728+</title>\n",
       "<path fill=\"none\" stroke=\"black\" d=\"M129.35,-60.24C138.65,-62.24 147.92,-64.23 156.33,-66.04\"/>\n",
       "<polygon fill=\"black\" stroke=\"black\" points=\"155.61,-69.47 166.13,-68.15 157.09,-62.62 155.61,-69.47\"/>\n",
       "</g>\n",
       "<!-- 140200464856976 -->\n",
       "<g id=\"node7\" class=\"node\">\n",
       "<title>140200464856976</title>\n",
       "<polygon fill=\"none\" stroke=\"black\" points=\"255,-0.5 255,-36.5 385,-36.5 385,-0.5 255,-0.5\"/>\n",
       "<text text-anchor=\"middle\" x=\"269\" y=\"-14.8\" font-family=\"Times,serif\" font-size=\"14.00\">D</text>\n",
       "<polyline fill=\"none\" stroke=\"black\" points=\"283,-0.5 283,-36.5 \"/>\n",
       "<text text-anchor=\"middle\" x=\"334\" y=\"-14.8\" font-family=\"Times,serif\" font-size=\"14.00\">data 2.0000</text>\n",
       "</g>\n",
       "<!-- 140200464856976&#45;&gt;140200857587424* -->\n",
       "<g id=\"edge6\" class=\"edge\">\n",
       "<title>140200464856976&#45;&gt;140200857587424*</title>\n",
       "<path fill=\"none\" stroke=\"black\" d=\"M385.11,-32.24C394.44,-34.24 403.75,-36.23 412.2,-38.04\"/>\n",
       "<polygon fill=\"black\" stroke=\"black\" points=\"411.52,-41.48 422.03,-40.15 412.98,-34.63 411.52,-41.48\"/>\n",
       "</g>\n",
       "</g>\n",
       "</svg>\n"
      ],
      "text/plain": [
       "<graphviz.graphs.Digraph at 0x7f82f6ca1ff0>"
      ]
     },
     "execution_count": 19,
     "metadata": {},
     "output_type": "execute_result"
    }
   ],
   "source": [
    "draw_dot(E)"
   ]
  },
  {
   "cell_type": "markdown",
   "metadata": {
    "id": "iY5f_FAsFMUD"
   },
   "source": [
    "## **Exercise**\n",
    "---"
   ]
  },
  {
   "cell_type": "markdown",
   "metadata": {
    "id": "3KV9FTYUFPuw"
   },
   "source": [
    "Given a linear regression function\n",
    "\n",
    "$$\n",
    "y = w_{0} + w_{1}x_{1} + w_{2}x_{2}\n",
    "$$\n",
    "\n",
    "Your tasks are:\n",
    "1. Create a computational graph to find $y$ where\n",
    "  - $w = [0.9, 0.01, 0.2]$\n",
    "  - $x = [1.0, -1.0]$\n",
    "\n",
    "2. Draw the computational graph"
   ]
  },
  {
   "cell_type": "code",
   "execution_count": 20,
   "metadata": {
    "id": "-cVz99AjFNyB"
   },
   "outputs": [],
   "source": [
    "# Create an input\n",
    "x1 = Value(data=1.0, label='x1')\n",
    "x2 = Value(data=-1.0, label='x2')\n",
    "\n",
    "w0 = Value(data=0.9, label='w0')\n",
    "w1 = Value(data=0.01, label='w1')\n",
    "w2 = Value(data=0.2, label='w2')"
   ]
  },
  {
   "cell_type": "code",
   "execution_count": 21,
   "metadata": {
    "colab": {
     "base_uri": "https://localhost:8080/"
    },
    "id": "-IVmG0YfF57A",
    "outputId": "c74e0594-988c-4a1d-d1e0-46b10918bb77"
   },
   "outputs": [
    {
     "data": {
      "text/plain": [
       "Value(data=0.71)"
      ]
     },
     "execution_count": 21,
     "metadata": {},
     "output_type": "execute_result"
    }
   ],
   "source": [
    "# Create a computational graph\n",
    "w1x1 = w1 * x1; w1x1.label = 'w1x1'\n",
    "w2x2 = w2 * x2; w2x2.label = 'w2x2'\n",
    "w1x1w2x2 = w1x1 + w2x2; w1x1w2x2.label = 'w1x1 + w2x2'\n",
    "\n",
    "y = w0 + w1x1w2x2; y.label = 'y'\n",
    "y"
   ]
  },
  {
   "cell_type": "code",
   "execution_count": 22,
   "metadata": {
    "colab": {
     "base_uri": "https://localhost:8080/",
     "height": 301
    },
    "id": "QojzFNPEGMt5",
    "outputId": "56e80ff6-e809-4ea5-ef6f-68881f951341"
   },
   "outputs": [
    {
     "data": {
      "image/svg+xml": [
       "<?xml version=\"1.0\" encoding=\"UTF-8\" standalone=\"no\"?>\n",
       "<!DOCTYPE svg PUBLIC \"-//W3C//DTD SVG 1.1//EN\"\n",
       " \"http://www.w3.org/Graphics/SVG/1.1/DTD/svg11.dtd\">\n",
       "<!-- Generated by graphviz version 2.43.0 (0)\n",
       " -->\n",
       "<!-- Title: %3 Pages: 1 -->\n",
       "<svg width=\"1037pt\" height=\"210pt\"\n",
       " viewBox=\"0.00 0.00 1037.00 210.00\" xmlns=\"http://www.w3.org/2000/svg\" xmlns:xlink=\"http://www.w3.org/1999/xlink\">\n",
       "<g id=\"graph0\" class=\"graph\" transform=\"scale(1 1) rotate(0) translate(4 206)\">\n",
       "<title>%3</title>\n",
       "<polygon fill=\"white\" stroke=\"transparent\" points=\"-4,4 -4,-206 1033,-206 1033,4 -4,4\"/>\n",
       "<!-- 140200462916656 -->\n",
       "<g id=\"node1\" class=\"node\">\n",
       "<title>140200462916656</title>\n",
       "<polygon fill=\"none\" stroke=\"black\" points=\"267,-55.5 267,-91.5 429,-91.5 429,-55.5 267,-55.5\"/>\n",
       "<text text-anchor=\"middle\" x=\"294.5\" y=\"-69.8\" font-family=\"Times,serif\" font-size=\"14.00\">w2x2</text>\n",
       "<polyline fill=\"none\" stroke=\"black\" points=\"322,-55.5 322,-91.5 \"/>\n",
       "<text text-anchor=\"middle\" x=\"375.5\" y=\"-69.8\" font-family=\"Times,serif\" font-size=\"14.00\">data &#45;0.2000</text>\n",
       "</g>\n",
       "<!-- 140200462921120+ -->\n",
       "<g id=\"node12\" class=\"node\">\n",
       "<title>140200462921120+</title>\n",
       "<ellipse fill=\"none\" stroke=\"black\" cx=\"492\" cy=\"-100.5\" rx=\"27\" ry=\"18\"/>\n",
       "<text text-anchor=\"middle\" x=\"492\" y=\"-96.8\" font-family=\"Times,serif\" font-size=\"14.00\">+</text>\n",
       "</g>\n",
       "<!-- 140200462916656&#45;&gt;140200462921120+ -->\n",
       "<g id=\"edge12\" class=\"edge\">\n",
       "<title>140200462916656&#45;&gt;140200462921120+</title>\n",
       "<path fill=\"none\" stroke=\"black\" d=\"M429.13,-88.74C438.51,-90.52 447.67,-92.26 455.94,-93.83\"/>\n",
       "<polygon fill=\"black\" stroke=\"black\" points=\"455.43,-97.3 465.9,-95.73 456.73,-90.42 455.43,-97.3\"/>\n",
       "</g>\n",
       "<!-- 140200462916656* -->\n",
       "<g id=\"node2\" class=\"node\">\n",
       "<title>140200462916656*</title>\n",
       "<ellipse fill=\"none\" stroke=\"black\" cx=\"204\" cy=\"-73.5\" rx=\"27\" ry=\"18\"/>\n",
       "<text text-anchor=\"middle\" x=\"204\" y=\"-69.8\" font-family=\"Times,serif\" font-size=\"14.00\">*</text>\n",
       "</g>\n",
       "<!-- 140200462916656*&#45;&gt;140200462916656 -->\n",
       "<g id=\"edge1\" class=\"edge\">\n",
       "<title>140200462916656*&#45;&gt;140200462916656</title>\n",
       "<path fill=\"none\" stroke=\"black\" d=\"M231.04,-73.5C238.63,-73.5 247.38,-73.5 256.6,-73.5\"/>\n",
       "<polygon fill=\"black\" stroke=\"black\" points=\"256.76,-77 266.76,-73.5 256.76,-70 256.76,-77\"/>\n",
       "</g>\n",
       "<!-- 140200462914688 -->\n",
       "<g id=\"node3\" class=\"node\">\n",
       "<title>140200462914688</title>\n",
       "<polygon fill=\"none\" stroke=\"black\" points=\"269.5,-110.5 269.5,-146.5 426.5,-146.5 426.5,-110.5 269.5,-110.5\"/>\n",
       "<text text-anchor=\"middle\" x=\"297\" y=\"-124.8\" font-family=\"Times,serif\" font-size=\"14.00\">w1x1</text>\n",
       "<polyline fill=\"none\" stroke=\"black\" points=\"324.5,-110.5 324.5,-146.5 \"/>\n",
       "<text text-anchor=\"middle\" x=\"375.5\" y=\"-124.8\" font-family=\"Times,serif\" font-size=\"14.00\">data 0.0100</text>\n",
       "</g>\n",
       "<!-- 140200462914688&#45;&gt;140200462921120+ -->\n",
       "<g id=\"edge7\" class=\"edge\">\n",
       "<title>140200462914688&#45;&gt;140200462921120+</title>\n",
       "<path fill=\"none\" stroke=\"black\" d=\"M426.65,-113.19C436.89,-111.17 446.94,-109.19 455.94,-107.41\"/>\n",
       "<polygon fill=\"black\" stroke=\"black\" points=\"456.85,-110.8 465.98,-105.43 455.49,-103.93 456.85,-110.8\"/>\n",
       "</g>\n",
       "<!-- 140200462914688* -->\n",
       "<g id=\"node4\" class=\"node\">\n",
       "<title>140200462914688*</title>\n",
       "<ellipse fill=\"none\" stroke=\"black\" cx=\"204\" cy=\"-128.5\" rx=\"27\" ry=\"18\"/>\n",
       "<text text-anchor=\"middle\" x=\"204\" y=\"-124.8\" font-family=\"Times,serif\" font-size=\"14.00\">*</text>\n",
       "</g>\n",
       "<!-- 140200462914688*&#45;&gt;140200462914688 -->\n",
       "<g id=\"edge2\" class=\"edge\">\n",
       "<title>140200462914688*&#45;&gt;140200462914688</title>\n",
       "<path fill=\"none\" stroke=\"black\" d=\"M231.04,-128.5C239.33,-128.5 249.01,-128.5 259.17,-128.5\"/>\n",
       "<polygon fill=\"black\" stroke=\"black\" points=\"259.46,-132 269.46,-128.5 259.46,-125 259.46,-132\"/>\n",
       "</g>\n",
       "<!-- 140200462924480 -->\n",
       "<g id=\"node5\" class=\"node\">\n",
       "<title>140200462924480</title>\n",
       "<polygon fill=\"none\" stroke=\"black\" points=\"0.5,-55.5 0.5,-91.5 140.5,-91.5 140.5,-55.5 0.5,-55.5\"/>\n",
       "<text text-anchor=\"middle\" x=\"19.5\" y=\"-69.8\" font-family=\"Times,serif\" font-size=\"14.00\">w2</text>\n",
       "<polyline fill=\"none\" stroke=\"black\" points=\"38.5,-55.5 38.5,-91.5 \"/>\n",
       "<text text-anchor=\"middle\" x=\"89.5\" y=\"-69.8\" font-family=\"Times,serif\" font-size=\"14.00\">data 0.2000</text>\n",
       "</g>\n",
       "<!-- 140200462924480&#45;&gt;140200462916656* -->\n",
       "<g id=\"edge11\" class=\"edge\">\n",
       "<title>140200462924480&#45;&gt;140200462916656*</title>\n",
       "<path fill=\"none\" stroke=\"black\" d=\"M140.72,-73.5C149.66,-73.5 158.53,-73.5 166.64,-73.5\"/>\n",
       "<polygon fill=\"black\" stroke=\"black\" points=\"166.81,-77 176.81,-73.5 166.81,-70 166.81,-77\"/>\n",
       "</g>\n",
       "<!-- 140200462915264 -->\n",
       "<g id=\"node6\" class=\"node\">\n",
       "<title>140200462915264</title>\n",
       "<polygon fill=\"none\" stroke=\"black\" points=\"595.5,-137.5 595.5,-173.5 735.5,-173.5 735.5,-137.5 595.5,-137.5\"/>\n",
       "<text text-anchor=\"middle\" x=\"614.5\" y=\"-151.8\" font-family=\"Times,serif\" font-size=\"14.00\">w0</text>\n",
       "<polyline fill=\"none\" stroke=\"black\" points=\"633.5,-137.5 633.5,-173.5 \"/>\n",
       "<text text-anchor=\"middle\" x=\"684.5\" y=\"-151.8\" font-family=\"Times,serif\" font-size=\"14.00\">data 0.9000</text>\n",
       "</g>\n",
       "<!-- 140200462916512+ -->\n",
       "<g id=\"node8\" class=\"node\">\n",
       "<title>140200462916512+</title>\n",
       "<ellipse fill=\"none\" stroke=\"black\" cx=\"839\" cy=\"-127.5\" rx=\"27\" ry=\"18\"/>\n",
       "<text text-anchor=\"middle\" x=\"839\" y=\"-123.8\" font-family=\"Times,serif\" font-size=\"14.00\">+</text>\n",
       "</g>\n",
       "<!-- 140200462915264&#45;&gt;140200462916512+ -->\n",
       "<g id=\"edge6\" class=\"edge\">\n",
       "<title>140200462915264&#45;&gt;140200462916512+</title>\n",
       "<path fill=\"none\" stroke=\"black\" d=\"M735.76,-144.19C758.67,-140.45 783.2,-136.45 802.49,-133.3\"/>\n",
       "<polygon fill=\"black\" stroke=\"black\" points=\"803.32,-136.71 812.63,-131.64 802.19,-129.8 803.32,-136.71\"/>\n",
       "</g>\n",
       "<!-- 140200462916512 -->\n",
       "<g id=\"node7\" class=\"node\">\n",
       "<title>140200462916512</title>\n",
       "<polygon fill=\"none\" stroke=\"black\" points=\"902,-109.5 902,-145.5 1029,-145.5 1029,-109.5 902,-109.5\"/>\n",
       "<text text-anchor=\"middle\" x=\"914.5\" y=\"-123.8\" font-family=\"Times,serif\" font-size=\"14.00\">y</text>\n",
       "<polyline fill=\"none\" stroke=\"black\" points=\"927,-109.5 927,-145.5 \"/>\n",
       "<text text-anchor=\"middle\" x=\"978\" y=\"-123.8\" font-family=\"Times,serif\" font-size=\"14.00\">data 0.7100</text>\n",
       "</g>\n",
       "<!-- 140200462916512+&#45;&gt;140200462916512 -->\n",
       "<g id=\"edge3\" class=\"edge\">\n",
       "<title>140200462916512+&#45;&gt;140200462916512</title>\n",
       "<path fill=\"none\" stroke=\"black\" d=\"M866.1,-127.5C873.71,-127.5 882.44,-127.5 891.47,-127.5\"/>\n",
       "<polygon fill=\"black\" stroke=\"black\" points=\"891.76,-131 901.76,-127.5 891.76,-124 891.76,-131\"/>\n",
       "</g>\n",
       "<!-- 140200462916368 -->\n",
       "<g id=\"node9\" class=\"node\">\n",
       "<title>140200462916368</title>\n",
       "<polygon fill=\"none\" stroke=\"black\" points=\"2.5,-165.5 2.5,-201.5 138.5,-201.5 138.5,-165.5 2.5,-165.5\"/>\n",
       "<text text-anchor=\"middle\" x=\"19.5\" y=\"-179.8\" font-family=\"Times,serif\" font-size=\"14.00\">x1</text>\n",
       "<polyline fill=\"none\" stroke=\"black\" points=\"36.5,-165.5 36.5,-201.5 \"/>\n",
       "<text text-anchor=\"middle\" x=\"87.5\" y=\"-179.8\" font-family=\"Times,serif\" font-size=\"14.00\">data 1.0000</text>\n",
       "</g>\n",
       "<!-- 140200462916368&#45;&gt;140200462914688* -->\n",
       "<g id=\"edge8\" class=\"edge\">\n",
       "<title>140200462916368&#45;&gt;140200462914688*</title>\n",
       "<path fill=\"none\" stroke=\"black\" d=\"M119.12,-165.39C126.47,-162.48 133.96,-159.46 141,-156.5 151.13,-152.25 162.08,-147.39 171.92,-142.93\"/>\n",
       "<polygon fill=\"black\" stroke=\"black\" points=\"173.68,-145.97 181.32,-138.64 170.77,-139.61 173.68,-145.97\"/>\n",
       "</g>\n",
       "<!-- 140200462925152 -->\n",
       "<g id=\"node10\" class=\"node\">\n",
       "<title>140200462925152</title>\n",
       "<polygon fill=\"none\" stroke=\"black\" points=\"0.5,-110.5 0.5,-146.5 140.5,-146.5 140.5,-110.5 0.5,-110.5\"/>\n",
       "<text text-anchor=\"middle\" x=\"19.5\" y=\"-124.8\" font-family=\"Times,serif\" font-size=\"14.00\">w1</text>\n",
       "<polyline fill=\"none\" stroke=\"black\" points=\"38.5,-110.5 38.5,-146.5 \"/>\n",
       "<text text-anchor=\"middle\" x=\"89.5\" y=\"-124.8\" font-family=\"Times,serif\" font-size=\"14.00\">data 0.0100</text>\n",
       "</g>\n",
       "<!-- 140200462925152&#45;&gt;140200462914688* -->\n",
       "<g id=\"edge9\" class=\"edge\">\n",
       "<title>140200462925152&#45;&gt;140200462914688*</title>\n",
       "<path fill=\"none\" stroke=\"black\" d=\"M140.72,-128.5C149.66,-128.5 158.53,-128.5 166.64,-128.5\"/>\n",
       "<polygon fill=\"black\" stroke=\"black\" points=\"166.81,-132 176.81,-128.5 166.81,-125 166.81,-132\"/>\n",
       "</g>\n",
       "<!-- 140200462921120 -->\n",
       "<g id=\"node11\" class=\"node\">\n",
       "<title>140200462921120</title>\n",
       "<polygon fill=\"none\" stroke=\"black\" points=\"555,-82.5 555,-118.5 776,-118.5 776,-82.5 555,-82.5\"/>\n",
       "<text text-anchor=\"middle\" x=\"612\" y=\"-96.8\" font-family=\"Times,serif\" font-size=\"14.00\">w1x1 + w2x2</text>\n",
       "<polyline fill=\"none\" stroke=\"black\" points=\"669,-82.5 669,-118.5 \"/>\n",
       "<text text-anchor=\"middle\" x=\"722.5\" y=\"-96.8\" font-family=\"Times,serif\" font-size=\"14.00\">data &#45;0.1900</text>\n",
       "</g>\n",
       "<!-- 140200462921120&#45;&gt;140200462916512+ -->\n",
       "<g id=\"edge5\" class=\"edge\">\n",
       "<title>140200462921120&#45;&gt;140200462916512+</title>\n",
       "<path fill=\"none\" stroke=\"black\" d=\"M776.08,-117.75C785.49,-119.23 794.48,-120.65 802.54,-121.92\"/>\n",
       "<polygon fill=\"black\" stroke=\"black\" points=\"802.16,-125.4 812.58,-123.5 803.25,-118.49 802.16,-125.4\"/>\n",
       "</g>\n",
       "<!-- 140200462921120+&#45;&gt;140200462921120 -->\n",
       "<g id=\"edge4\" class=\"edge\">\n",
       "<title>140200462921120+&#45;&gt;140200462921120</title>\n",
       "<path fill=\"none\" stroke=\"black\" d=\"M519.05,-100.5C526.48,-100.5 535.1,-100.5 544.36,-100.5\"/>\n",
       "<polygon fill=\"black\" stroke=\"black\" points=\"544.64,-104 554.64,-100.5 544.64,-97 544.64,-104\"/>\n",
       "</g>\n",
       "<!-- 140200462916080 -->\n",
       "<g id=\"node13\" class=\"node\">\n",
       "<title>140200462916080</title>\n",
       "<polygon fill=\"none\" stroke=\"black\" points=\"0,-0.5 0,-36.5 141,-36.5 141,-0.5 0,-0.5\"/>\n",
       "<text text-anchor=\"middle\" x=\"17\" y=\"-14.8\" font-family=\"Times,serif\" font-size=\"14.00\">x2</text>\n",
       "<polyline fill=\"none\" stroke=\"black\" points=\"34,-0.5 34,-36.5 \"/>\n",
       "<text text-anchor=\"middle\" x=\"87.5\" y=\"-14.8\" font-family=\"Times,serif\" font-size=\"14.00\">data &#45;1.0000</text>\n",
       "</g>\n",
       "<!-- 140200462916080&#45;&gt;140200462916656* -->\n",
       "<g id=\"edge10\" class=\"edge\">\n",
       "<title>140200462916080&#45;&gt;140200462916656*</title>\n",
       "<path fill=\"none\" stroke=\"black\" d=\"M116.81,-36.54C124.88,-39.82 133.2,-43.23 141,-46.5 150.99,-50.69 161.83,-55.36 171.61,-59.63\"/>\n",
       "<polygon fill=\"black\" stroke=\"black\" points=\"170.4,-62.92 180.97,-63.73 173.21,-56.51 170.4,-62.92\"/>\n",
       "</g>\n",
       "</g>\n",
       "</svg>\n"
      ],
      "text/plain": [
       "<graphviz.graphs.Digraph at 0x7f82f6ca1d20>"
      ]
     },
     "execution_count": 22,
     "metadata": {},
     "output_type": "execute_result"
    }
   ],
   "source": [
    "# Draw the computational graph\n",
    "draw_dot(root = y)"
   ]
  },
  {
   "cell_type": "markdown",
   "metadata": {
    "id": "2sS7wekLHfNA"
   },
   "source": [
    "# **Automatic Differentiation**\n",
    "---"
   ]
  },
  {
   "cell_type": "markdown",
   "metadata": {
    "id": "mws9f5hvHlZN"
   },
   "source": [
    "Our objective\n",
    "- We can obtain the gradient of root (final results) to each node inside the computational graph.\n",
    "- To do that, we can backtrack the operation through computational graph"
   ]
  },
  {
   "cell_type": "markdown",
   "metadata": {
    "id": "tINHdvgbHze1"
   },
   "source": [
    "## **Task 1**\n",
    "---"
   ]
  },
  {
   "cell_type": "markdown",
   "metadata": {
    "id": "76LYfiApH1aP"
   },
   "source": [
    "- Find the gradient of a function at is minimum points\n",
    "- Say\n",
    "\n",
    "$$\n",
    "f(x) = 5x^{2} - 10x + 3\n",
    "$$"
   ]
  },
  {
   "cell_type": "markdown",
   "metadata": {
    "id": "nPL9UazJJavz"
   },
   "source": [
    "---\n",
    "Analitically, minimum value of $f(x)$ can be obtained by solving\n",
    "\n",
    "$$\n",
    "\\cfrac{d f(x)}{dx} = 0\n",
    "$$"
   ]
  },
  {
   "cell_type": "markdown",
   "metadata": {
    "id": "vLQ7gr67JkXQ"
   },
   "source": [
    "Thus\n",
    "\n",
    "$$\n",
    "\\begin{align*}\n",
    "\\cfrac{d f(x)}{dx} &= 0 \\\\\n",
    "0 &= 2.5.x - 10 \\\\\n",
    "10x &= 10 \\\\\n",
    "x_{\\text{optimum}} &= 1.0\n",
    "\\end{align*}\n",
    "$$"
   ]
  },
  {
   "cell_type": "markdown",
   "metadata": {
    "id": "-POfLJ1MIFan"
   },
   "source": [
    "To do it computationally,"
   ]
  },
  {
   "cell_type": "code",
   "execution_count": 23,
   "metadata": {
    "id": "dNyfbbjRHhQ4"
   },
   "outputs": [],
   "source": [
    "def f(x):\n",
    "    return (5*(x**2)) - (10*x) + 3"
   ]
  },
  {
   "cell_type": "code",
   "execution_count": 24,
   "metadata": {
    "id": "-4Iw6Z37IQ7q"
   },
   "outputs": [],
   "source": [
    "# Define some x & y\n",
    "xs = np.arange(-5, 5, 0.25)\n",
    "ys = f(xs)"
   ]
  },
  {
   "cell_type": "code",
   "execution_count": 25,
   "metadata": {
    "colab": {
     "base_uri": "https://localhost:8080/",
     "height": 447
    },
    "id": "ArgMwy2HITrd",
    "outputId": "2c522fe1-2a6f-4bda-93c7-4394ee1d27e1"
   },
   "outputs": [
    {
     "data": {
      "text/plain": [
       "[<matplotlib.lines.Line2D at 0x7f82f6cfb280>]"
      ]
     },
     "execution_count": 25,
     "metadata": {},
     "output_type": "execute_result"
    },
    {
     "data": {
      "image/png": "[encoded data removed]",
      "text/plain": [
       "<Figure size 640x480 with 1 Axes>"
      ]
     },
     "metadata": {},
     "output_type": "display_data"
    }
   ],
   "source": [
    "# Plot\n",
    "plt.plot(xs, ys)"
   ]
  },
  {
   "cell_type": "markdown",
   "metadata": {
    "id": "ySU85k8qIalQ"
   },
   "source": [
    "We can see that the minimum value of $f(x)$ is near $1.0$"
   ]
  },
  {
   "cell_type": "markdown",
   "metadata": {
    "id": "OknxYBK3IhZw"
   },
   "source": [
    "To find it's gradient computationally, we can use the newton's method\n",
    "\n",
    "$$\n",
    "\\cfrac{d f(x)}{dx}\n",
    "=\n",
    "\\cfrac\n",
    "{f(x+h) - f(x)}\n",
    "{h}\n",
    "$$"
   ]
  },
  {
   "cell_type": "code",
   "execution_count": 26,
   "metadata": {
    "colab": {
     "base_uri": "https://localhost:8080/"
    },
    "id": "Fc4MiS6vIgBo",
    "outputId": "d62bb845-ed87-441f-cc61-5ea2a07dbf45"
   },
   "outputs": [
    {
     "data": {
      "text/plain": [
       "5.000444502911705e-06"
      ]
     },
     "execution_count": 26,
     "metadata": {},
     "output_type": "execute_result"
    }
   ],
   "source": [
    "h = 0.000001\n",
    "x = 1.0\n",
    "\n",
    "grad = (f(x+h) - f(x)) / h\n",
    "grad"
   ]
  },
  {
   "cell_type": "markdown",
   "metadata": {
    "id": "B4tNsHEaJ-jh"
   },
   "source": [
    "## **Task 2**\n",
    "---"
   ]
  },
  {
   "cell_type": "markdown",
   "metadata": {
    "id": "S7hAGzTBJ-ji"
   },
   "source": [
    "- Find gradient of a more complex operations\n",
    "\n",
    "- Say,\n",
    "\n",
    "$$\n",
    "d = a + b.c\n",
    "$$"
   ]
  },
  {
   "cell_type": "markdown",
   "metadata": {
    "id": "BoiWauAkKRZQ"
   },
   "source": [
    "---\n",
    "Analytically,\n",
    "\n",
    "$$\n",
    "\\begin{align*}\n",
    "\\cfrac{\\partial d}{\\partial a} &= 1.0 \\\\\n",
    "\\cfrac{\\partial d}{\\partial b} &= c \\\\\n",
    "\\cfrac{\\partial d}{\\partial c} &= b \\\\\n",
    "\\end{align*}\n",
    "$$"
   ]
  },
  {
   "cell_type": "markdown",
   "metadata": {
    "id": "21hJpOPkKiWy"
   },
   "source": [
    "---\n",
    "Computationally, we can use $h$"
   ]
  },
  {
   "cell_type": "markdown",
   "metadata": {
    "id": "59VE74S_K1td"
   },
   "source": [
    "First, gradient of $a$\n",
    "\n",
    "$$\n",
    "\\cfrac{\\partial d}{\\partial a} = 1.0\n",
    "$$"
   ]
  },
  {
   "cell_type": "code",
   "execution_count": 27,
   "metadata": {
    "colab": {
     "base_uri": "https://localhost:8080/"
    },
    "id": "PN8AazCTKD9Z",
    "outputId": "2494d6ee-5f2a-4246-d007-554a646efd74"
   },
   "outputs": [
    {
     "data": {
      "text/plain": [
       "0.9999999999976694"
      ]
     },
     "execution_count": 27,
     "metadata": {},
     "output_type": "execute_result"
    }
   ],
   "source": [
    "# Define h\n",
    "h = 0.0001\n",
    "\n",
    "# Inputs\n",
    "a = 3.0\n",
    "b = -4.0\n",
    "c = 8.0\n",
    "\n",
    "# obtain f(x)\n",
    "d1 = a + b*c\n",
    "\n",
    "# Update a by h\n",
    "a += h\n",
    "\n",
    "# obtain f(x+h)\n",
    "d2 = a + b*c\n",
    "\n",
    "# find the grad (slope)\n",
    "slope = (d2-d1) / h\n",
    "slope"
   ]
  },
  {
   "cell_type": "markdown",
   "metadata": {
    "id": "cuOHErbuLLNS"
   },
   "source": [
    "Find gradient of $b$\n",
    "\n",
    "$$\n",
    "\\cfrac{\\partial d}{\\partial b} = c\n",
    "$$"
   ]
  },
  {
   "cell_type": "code",
   "execution_count": 28,
   "metadata": {
    "colab": {
     "base_uri": "https://localhost:8080/"
    },
    "id": "pYnEQ5VtLF4o",
    "outputId": "4bab48b0-8931-4964-b8b8-b830be39cfe6"
   },
   "outputs": [
    {
     "data": {
      "text/plain": [
       "8.000000000016882"
      ]
     },
     "execution_count": 28,
     "metadata": {},
     "output_type": "execute_result"
    }
   ],
   "source": [
    "# Define h\n",
    "h = 0.0001\n",
    "\n",
    "# Inputs\n",
    "a = 3.0\n",
    "b = -4.0\n",
    "c = 8.0\n",
    "\n",
    "# obtain f(x)\n",
    "d1 = a + b*c\n",
    "\n",
    "# Update b by h\n",
    "b += h\n",
    "\n",
    "# obtain f(x+h)\n",
    "d2 = a + b*c\n",
    "\n",
    "# find the grad (slope)\n",
    "slope = (d2-d1) / h\n",
    "slope"
   ]
  },
  {
   "cell_type": "markdown",
   "metadata": {
    "id": "RD8qX6t1LUGn"
   },
   "source": [
    "Find gradient of $c$\n",
    "\n",
    "$$\n",
    "\\cfrac{\\partial d}{\\partial c} = b\n",
    "$$"
   ]
  },
  {
   "cell_type": "code",
   "execution_count": 29,
   "metadata": {
    "colab": {
     "base_uri": "https://localhost:8080/"
    },
    "id": "bOH-Cn6QLUGq",
    "outputId": "f9a6aa09-869c-4607-ab6b-b59003217f2d"
   },
   "outputs": [
    {
     "data": {
      "text/plain": [
       "-3.9999999999906777"
      ]
     },
     "execution_count": 29,
     "metadata": {},
     "output_type": "execute_result"
    }
   ],
   "source": [
    "# Define h\n",
    "h = 0.0001\n",
    "\n",
    "# Inputs\n",
    "a = 3.0\n",
    "b = -4.0\n",
    "c = 8.0\n",
    "\n",
    "# obtain f(x)\n",
    "d1 = a + b*c\n",
    "\n",
    "# Update c by h\n",
    "c += h\n",
    "\n",
    "# obtain f(x+h)\n",
    "d2 = a + b*c\n",
    "\n",
    "# find the grad (slope)\n",
    "slope = (d2-d1) / h\n",
    "slope"
   ]
  },
  {
   "cell_type": "markdown",
   "metadata": {
    "id": "tVO5brWjLbVp"
   },
   "source": [
    "Great!"
   ]
  },
  {
   "cell_type": "markdown",
   "metadata": {
    "id": "3X6M7ovSLeC3"
   },
   "source": [
    "## **Task 3**\n",
    "---"
   ]
  },
  {
   "cell_type": "markdown",
   "metadata": {
    "id": "gn3iNIoeLeD2"
   },
   "source": [
    "- Find gradient of a more complex operations using `Value` class\n",
    "\n",
    "- Say,\n",
    "\n",
    "$$\n",
    "d = a + b.c\n",
    "$$"
   ]
  },
  {
   "cell_type": "markdown",
   "metadata": {
    "id": "xNl_l9P_Lh_1"
   },
   "source": [
    "---\n",
    "The gradient of $a$"
   ]
  },
  {
   "cell_type": "code",
   "execution_count": 30,
   "metadata": {
    "colab": {
     "base_uri": "https://localhost:8080/"
    },
    "id": "2fSvc7I7Lbxy",
    "outputId": "821643f9-b013-4678-d93e-d10e6a02156b"
   },
   "outputs": [
    {
     "data": {
      "text/plain": [
       "0.9999999999976694"
      ]
     },
     "execution_count": 30,
     "metadata": {},
     "output_type": "execute_result"
    }
   ],
   "source": [
    "# Define h\n",
    "h = 0.0001\n",
    "\n",
    "# Inputs\n",
    "a = Value(data=3.0, label='a')\n",
    "b = Value(data=-4.0, label='b')\n",
    "c = Value(data=8.0, label='c')\n",
    "\n",
    "# obtain f(x)\n",
    "d1 = a + b*c; d1.label = 'd1'\n",
    "\n",
    "# Update a by h\n",
    "a.data += h\n",
    "\n",
    "# obtain f(x+h)\n",
    "d2 = a + b*c; d2.label = 'd2'\n",
    "\n",
    "# find the grad (slope)\n",
    "slope = (d2.data - d1.data) / h\n",
    "slope"
   ]
  },
  {
   "cell_type": "markdown",
   "metadata": {
    "id": "yHXCMBTVL4Ay"
   },
   "source": [
    "---\n",
    "The gradient of $b$"
   ]
  },
  {
   "cell_type": "code",
   "execution_count": 31,
   "metadata": {
    "colab": {
     "base_uri": "https://localhost:8080/"
    },
    "id": "9dr5ufKgL4Ay",
    "outputId": "2b560e7b-64ec-4d62-984c-a7098cf0bd3c"
   },
   "outputs": [
    {
     "data": {
      "text/plain": [
       "8.000000000016882"
      ]
     },
     "execution_count": 31,
     "metadata": {},
     "output_type": "execute_result"
    }
   ],
   "source": [
    "# Define h\n",
    "h = 0.0001\n",
    "\n",
    "# Inputs\n",
    "a = Value(data=3.0, label='a')\n",
    "b = Value(data=-4.0, label='b')\n",
    "c = Value(data=8.0, label='c')\n",
    "\n",
    "# obtain f(x)\n",
    "d1 = a + b*c; d1.label = 'd1'\n",
    "\n",
    "# Update b by h\n",
    "b.data += h\n",
    "\n",
    "# obtain f(x+h)\n",
    "d2 = a + b*c; d2.label = 'd2'\n",
    "\n",
    "# find the grad (slope)\n",
    "slope = (d2.data - d1.data) / h\n",
    "slope"
   ]
  },
  {
   "cell_type": "markdown",
   "metadata": {
    "id": "nTRa_eDpL78K"
   },
   "source": [
    "---\n",
    "The gradient of $c$"
   ]
  },
  {
   "cell_type": "code",
   "execution_count": 32,
   "metadata": {
    "colab": {
     "base_uri": "https://localhost:8080/"
    },
    "id": "uR8r3-ZoL786",
    "outputId": "0ecc97a7-9233-436d-9fcb-4a471268c0c0"
   },
   "outputs": [
    {
     "data": {
      "text/plain": [
       "-3.9999999999906777"
      ]
     },
     "execution_count": 32,
     "metadata": {},
     "output_type": "execute_result"
    }
   ],
   "source": [
    "# Define h\n",
    "h = 0.0001\n",
    "\n",
    "# Inputs\n",
    "a = Value(data=3.0, label='a')\n",
    "b = Value(data=-4.0, label='b')\n",
    "c = Value(data=8.0, label='c')\n",
    "\n",
    "# obtain f(x)\n",
    "d1 = a + b*c; d1.label = 'd1'\n",
    "\n",
    "# Update c by h\n",
    "c.data += h\n",
    "\n",
    "# obtain f(x+h)\n",
    "d2 = a + b*c; d2.label = 'd2'\n",
    "\n",
    "# find the grad (slope)\n",
    "slope = (d2.data - d1.data) / h\n",
    "slope"
   ]
  },
  {
   "cell_type": "markdown",
   "metadata": {
    "id": "3jPnQlRJMF6I"
   },
   "source": [
    "## **Task 4**\n",
    "---"
   ]
  },
  {
   "cell_type": "markdown",
   "metadata": {
    "id": "-NSQasksMF6i"
   },
   "source": [
    "- Update the `Value` class and add `backward` operation for each operations"
   ]
  },
  {
   "cell_type": "code",
   "execution_count": 33,
   "metadata": {
    "id": "UnZY0QDgL2R2"
   },
   "outputs": [],
   "source": [
    "# Write your code in here\n",
    "class Value:\n",
    "    def __init__(self, data, _children=(), _op='', label=''):\n",
    "        self.data = data\n",
    "        self._prev = set(_children)\n",
    "        self._op = _op\n",
    "        self.label = label\n",
    "\n",
    "        # For automatic differentiation\n",
    "        self.grad = 0.0\n",
    "        self._backward = lambda: None\n",
    "\n",
    "    def __repr__(self):\n",
    "        return f'Value(data={self.data})'\n",
    "\n",
    "    def __add__(self, other):\n",
    "        out = Value(data = self.data + other.data,\n",
    "                    _children = (self, other),\n",
    "                    _op = '+')\n",
    "\n",
    "        # Local grad function\n",
    "        def _backward():\n",
    "            # Say C = A + B\n",
    "            # A = self ; B = other\n",
    "\n",
    "            # This is dC / dA = 1.0\n",
    "            self.grad = 1.0\n",
    "\n",
    "            # This is dC / dB = 1.0\n",
    "            other.grad = 1.0\n",
    "\n",
    "        # Call the local functions\n",
    "        out._backward = _backward\n",
    "\n",
    "        return out\n",
    "\n",
    "    def __mul__(self, other):\n",
    "        out = Value(data = self.data * other.data,\n",
    "                    _children = (self, other),\n",
    "                    _op = '*')\n",
    "\n",
    "        # Local grad function\n",
    "        def _backward():\n",
    "            # Say C = A * B\n",
    "            # A = self ; B = other\n",
    "\n",
    "            # This is dC / dA = B\n",
    "            self.grad = other.data\n",
    "\n",
    "            # This is dC / dB = A\n",
    "            other.grad = self.data\n",
    "\n",
    "        # Call the local functions\n",
    "        out._backward = _backward\n",
    "\n",
    "        return out\n"
   ]
  },
  {
   "cell_type": "markdown",
   "metadata": {
    "id": "aJGt1haGNoJX"
   },
   "source": [
    "Let's validate"
   ]
  },
  {
   "cell_type": "code",
   "execution_count": 34,
   "metadata": {
    "colab": {
     "base_uri": "https://localhost:8080/"
    },
    "id": "_D6o-UN2Ng1K",
    "outputId": "055e6539-fc76-41d7-d9da-a0f3186d8f40"
   },
   "outputs": [
    {
     "data": {
      "text/plain": [
       "Value(data=-29.0)"
      ]
     },
     "execution_count": 34,
     "metadata": {},
     "output_type": "execute_result"
    }
   ],
   "source": [
    "# Inputs\n",
    "a = Value(data=3.0, label='a')\n",
    "b = Value(data=-4.0, label='b')\n",
    "c = Value(data=8.0, label='c')\n",
    "\n",
    "# obtain f(x)\n",
    "e = b*c; e.label = 'e'\n",
    "d = a + e; d.label = 'd'\n",
    "d"
   ]
  },
  {
   "cell_type": "markdown",
   "metadata": {
    "id": "K8YnuE6dNsud"
   },
   "source": [
    "Let's find gradient of $d$ to $a$, $b$, and $c$"
   ]
  },
  {
   "cell_type": "code",
   "execution_count": 35,
   "metadata": {
    "colab": {
     "base_uri": "https://localhost:8080/",
     "height": 192
    },
    "id": "B9BSvVm2crYc",
    "outputId": "eee5ff16-89d0-46a8-bf39-aec07fa6eadb"
   },
   "outputs": [
    {
     "data": {
      "image/svg+xml": [
       "<?xml version=\"1.0\" encoding=\"UTF-8\" standalone=\"no\"?>\n",
       "<!DOCTYPE svg PUBLIC \"-//W3C//DTD SVG 1.1//EN\"\n",
       " \"http://www.w3.org/Graphics/SVG/1.1/DTD/svg11.dtd\">\n",
       "<!-- Generated by graphviz version 2.43.0 (0)\n",
       " -->\n",
       "<!-- Title: %3 Pages: 1 -->\n",
       "<svg width=\"676pt\" height=\"128pt\"\n",
       " viewBox=\"0.00 0.00 676.00 128.00\" xmlns=\"http://www.w3.org/2000/svg\" xmlns:xlink=\"http://www.w3.org/1999/xlink\">\n",
       "<g id=\"graph0\" class=\"graph\" transform=\"scale(1 1) rotate(0) translate(4 124)\">\n",
       "<title>%3</title>\n",
       "<polygon fill=\"white\" stroke=\"transparent\" points=\"-4,4 -4,-124 672,-124 672,4 -4,4\"/>\n",
       "<!-- 140200428349584 -->\n",
       "<g id=\"node1\" class=\"node\">\n",
       "<title>140200428349584</title>\n",
       "<polygon fill=\"none\" stroke=\"black\" points=\"526,-27.5 526,-63.5 668,-63.5 668,-27.5 526,-27.5\"/>\n",
       "<text text-anchor=\"middle\" x=\"539\" y=\"-41.8\" font-family=\"Times,serif\" font-size=\"14.00\">d</text>\n",
       "<polyline fill=\"none\" stroke=\"black\" points=\"552,-27.5 552,-63.5 \"/>\n",
       "<text text-anchor=\"middle\" x=\"610\" y=\"-41.8\" font-family=\"Times,serif\" font-size=\"14.00\">data &#45;29.0000</text>\n",
       "</g>\n",
       "<!-- 140200428349584+ -->\n",
       "<g id=\"node2\" class=\"node\">\n",
       "<title>140200428349584+</title>\n",
       "<ellipse fill=\"none\" stroke=\"black\" cx=\"463\" cy=\"-45.5\" rx=\"27\" ry=\"18\"/>\n",
       "<text text-anchor=\"middle\" x=\"463\" y=\"-41.8\" font-family=\"Times,serif\" font-size=\"14.00\">+</text>\n",
       "</g>\n",
       "<!-- 140200428349584+&#45;&gt;140200428349584 -->\n",
       "<g id=\"edge1\" class=\"edge\">\n",
       "<title>140200428349584+&#45;&gt;140200428349584</title>\n",
       "<path fill=\"none\" stroke=\"black\" d=\"M490.08,-45.5C497.75,-45.5 506.57,-45.5 515.78,-45.5\"/>\n",
       "<polygon fill=\"black\" stroke=\"black\" points=\"515.89,-49 525.89,-45.5 515.89,-42 515.89,-49\"/>\n",
       "</g>\n",
       "<!-- 140200462923472 -->\n",
       "<g id=\"node3\" class=\"node\">\n",
       "<title>140200462923472</title>\n",
       "<polygon fill=\"none\" stroke=\"black\" points=\"3.5,-83.5 3.5,-119.5 129.5,-119.5 129.5,-83.5 3.5,-83.5\"/>\n",
       "<text text-anchor=\"middle\" x=\"15.5\" y=\"-97.8\" font-family=\"Times,serif\" font-size=\"14.00\">c</text>\n",
       "<polyline fill=\"none\" stroke=\"black\" points=\"27.5,-83.5 27.5,-119.5 \"/>\n",
       "<text text-anchor=\"middle\" x=\"78.5\" y=\"-97.8\" font-family=\"Times,serif\" font-size=\"14.00\">data 8.0000</text>\n",
       "</g>\n",
       "<!-- 140200428351360* -->\n",
       "<g id=\"node5\" class=\"node\">\n",
       "<title>140200428351360*</title>\n",
       "<ellipse fill=\"none\" stroke=\"black\" cx=\"196\" cy=\"-73.5\" rx=\"27\" ry=\"18\"/>\n",
       "<text text-anchor=\"middle\" x=\"196\" y=\"-69.8\" font-family=\"Times,serif\" font-size=\"14.00\">*</text>\n",
       "</g>\n",
       "<!-- 140200462923472&#45;&gt;140200428351360* -->\n",
       "<g id=\"edge5\" class=\"edge\">\n",
       "<title>140200462923472&#45;&gt;140200428351360*</title>\n",
       "<path fill=\"none\" stroke=\"black\" d=\"M129.76,-87.83C140.25,-85.52 150.79,-83.21 160.25,-81.13\"/>\n",
       "<polygon fill=\"black\" stroke=\"black\" points=\"161.03,-84.54 170.04,-78.98 159.52,-77.71 161.03,-84.54\"/>\n",
       "</g>\n",
       "<!-- 140200428351360 -->\n",
       "<g id=\"node4\" class=\"node\">\n",
       "<title>140200428351360</title>\n",
       "<polygon fill=\"none\" stroke=\"black\" points=\"259,-55.5 259,-91.5 400,-91.5 400,-55.5 259,-55.5\"/>\n",
       "<text text-anchor=\"middle\" x=\"271.5\" y=\"-69.8\" font-family=\"Times,serif\" font-size=\"14.00\">e</text>\n",
       "<polyline fill=\"none\" stroke=\"black\" points=\"284,-55.5 284,-91.5 \"/>\n",
       "<text text-anchor=\"middle\" x=\"342\" y=\"-69.8\" font-family=\"Times,serif\" font-size=\"14.00\">data &#45;32.0000</text>\n",
       "</g>\n",
       "<!-- 140200428351360&#45;&gt;140200428349584+ -->\n",
       "<g id=\"edge6\" class=\"edge\">\n",
       "<title>140200428351360&#45;&gt;140200428349584+</title>\n",
       "<path fill=\"none\" stroke=\"black\" d=\"M400.1,-58.68C409.37,-56.71 418.54,-54.75 426.86,-52.98\"/>\n",
       "<polygon fill=\"black\" stroke=\"black\" points=\"427.85,-56.35 436.9,-50.84 426.39,-49.5 427.85,-56.35\"/>\n",
       "</g>\n",
       "<!-- 140200428351360*&#45;&gt;140200428351360 -->\n",
       "<g id=\"edge2\" class=\"edge\">\n",
       "<title>140200428351360*&#45;&gt;140200428351360</title>\n",
       "<path fill=\"none\" stroke=\"black\" d=\"M223.29,-73.5C230.95,-73.5 239.73,-73.5 248.89,-73.5\"/>\n",
       "<polygon fill=\"black\" stroke=\"black\" points=\"248.93,-77 258.93,-73.5 248.93,-70 248.93,-77\"/>\n",
       "</g>\n",
       "<!-- 140200462916032 -->\n",
       "<g id=\"node6\" class=\"node\">\n",
       "<title>140200462916032</title>\n",
       "<polygon fill=\"none\" stroke=\"black\" points=\"266,-0.5 266,-36.5 393,-36.5 393,-0.5 266,-0.5\"/>\n",
       "<text text-anchor=\"middle\" x=\"278.5\" y=\"-14.8\" font-family=\"Times,serif\" font-size=\"14.00\">a</text>\n",
       "<polyline fill=\"none\" stroke=\"black\" points=\"291,-0.5 291,-36.5 \"/>\n",
       "<text text-anchor=\"middle\" x=\"342\" y=\"-14.8\" font-family=\"Times,serif\" font-size=\"14.00\">data 3.0000</text>\n",
       "</g>\n",
       "<!-- 140200462916032&#45;&gt;140200428349584+ -->\n",
       "<g id=\"edge3\" class=\"edge\">\n",
       "<title>140200462916032&#45;&gt;140200428349584+</title>\n",
       "<path fill=\"none\" stroke=\"black\" d=\"M393.17,-31.37C404.78,-33.75 416.52,-36.16 426.93,-38.3\"/>\n",
       "<polygon fill=\"black\" stroke=\"black\" points=\"426.35,-41.75 436.85,-40.34 427.76,-34.9 426.35,-41.75\"/>\n",
       "</g>\n",
       "<!-- 140200463629280 -->\n",
       "<g id=\"node7\" class=\"node\">\n",
       "<title>140200463629280</title>\n",
       "<polygon fill=\"none\" stroke=\"black\" points=\"0,-28.5 0,-64.5 133,-64.5 133,-28.5 0,-28.5\"/>\n",
       "<text text-anchor=\"middle\" x=\"13\" y=\"-42.8\" font-family=\"Times,serif\" font-size=\"14.00\">b</text>\n",
       "<polyline fill=\"none\" stroke=\"black\" points=\"26,-28.5 26,-64.5 \"/>\n",
       "<text text-anchor=\"middle\" x=\"79.5\" y=\"-42.8\" font-family=\"Times,serif\" font-size=\"14.00\">data &#45;4.0000</text>\n",
       "</g>\n",
       "<!-- 140200463629280&#45;&gt;140200428351360* -->\n",
       "<g id=\"edge4\" class=\"edge\">\n",
       "<title>140200463629280&#45;&gt;140200428351360*</title>\n",
       "<path fill=\"none\" stroke=\"black\" d=\"M133.12,-60.4C142.49,-62.38 151.8,-64.35 160.25,-66.14\"/>\n",
       "<polygon fill=\"black\" stroke=\"black\" points=\"159.57,-69.58 170.08,-68.22 161.02,-62.73 159.57,-69.58\"/>\n",
       "</g>\n",
       "</g>\n",
       "</svg>\n"
      ],
      "text/plain": [
       "<graphviz.graphs.Digraph at 0x7f82f4b7a5c0>"
      ]
     },
     "execution_count": 35,
     "metadata": {},
     "output_type": "execute_result"
    }
   ],
   "source": [
    "draw_dot(d)"
   ]
  },
  {
   "cell_type": "markdown",
   "metadata": {
    "id": "4hYIiMijfgG_"
   },
   "source": [
    "Get gradient $a$ and $e$ manually"
   ]
  },
  {
   "cell_type": "code",
   "execution_count": 36,
   "metadata": {
    "colab": {
     "base_uri": "https://localhost:8080/"
    },
    "id": "Mw455r_rcu_I",
    "outputId": "e3e6b341-548a-45e5-c96a-05c5ba90d1b1"
   },
   "outputs": [
    {
     "data": {
      "text/plain": [
       "0.9999999999976694"
      ]
     },
     "execution_count": 36,
     "metadata": {},
     "output_type": "execute_result"
    }
   ],
   "source": [
    "# Gradient of a - MANUALLY\n",
    "\n",
    "# Inputs\n",
    "a = Value(data=3.0, label='a')\n",
    "b = Value(data=-4.0, label='b')\n",
    "c = Value(data=8.0, label='c')\n",
    "h = 0.0001\n",
    "\n",
    "# obtain f(x)\n",
    "e = b*c; e.label = 'e'\n",
    "d1 = a + e; d1.label = 'd1'\n",
    "\n",
    "# update a\n",
    "a.data += h\n",
    "\n",
    "# obtain f(x+h)\n",
    "d2 = a + e; d2.label = 'd2'\n",
    "\n",
    "# get the grad -> dd / da\n",
    "grad = (d2.data-d1.data)/h\n",
    "grad"
   ]
  },
  {
   "cell_type": "code",
   "execution_count": 37,
   "metadata": {
    "colab": {
     "base_uri": "https://localhost:8080/"
    },
    "id": "ULB8M0Dtgv9d",
    "outputId": "04cd935a-2080-4e9b-c03f-4e011b42725d"
   },
   "outputs": [
    {
     "data": {
      "text/plain": [
       "0.9999999999976694"
      ]
     },
     "execution_count": 37,
     "metadata": {},
     "output_type": "execute_result"
    }
   ],
   "source": [
    "# Gradient of e - MANUALLY\n",
    "\n",
    "# Inputs\n",
    "a = Value(data=3.0, label='a')\n",
    "b = Value(data=-4.0, label='b')\n",
    "c = Value(data=8.0, label='c')\n",
    "h = 0.0001\n",
    "\n",
    "# obtain f(x)\n",
    "e = b*c; e.label = 'e'\n",
    "d1 = a + e; d1.label = 'd1'\n",
    "\n",
    "# update e\n",
    "e.data += h\n",
    "\n",
    "# obtain f(x+h)\n",
    "d2 = a + e; d2.label = 'd2'\n",
    "\n",
    "# get the grad -> dd / de\n",
    "grad = (d2.data-d1.data)/h\n",
    "grad"
   ]
  },
  {
   "cell_type": "markdown",
   "metadata": {
    "id": "mWBWhKAfg4vt"
   },
   "source": [
    "Get gradient $a$ and $e$ automatically"
   ]
  },
  {
   "cell_type": "code",
   "execution_count": 38,
   "metadata": {
    "id": "zKJhG5k0fe7z"
   },
   "outputs": [],
   "source": [
    "# Gradient of a - automatically\n",
    "# Inputs\n",
    "a = Value(data=3.0, label='a')\n",
    "b = Value(data=-4.0, label='b')\n",
    "c = Value(data=8.0, label='c')\n",
    "\n",
    "# obtain f(x)\n",
    "e = b*c; e.label = 'e'\n",
    "d = a + e; d.label = 'd'"
   ]
  },
  {
   "cell_type": "code",
   "execution_count": 39,
   "metadata": {
    "colab": {
     "base_uri": "https://localhost:8080/"
    },
    "id": "kiCPc-hzgksJ",
    "outputId": "447567c9-2032-49fd-f666-47cec25a9e0b"
   },
   "outputs": [
    {
     "name": "stdout",
     "output_type": "stream",
     "text": [
      "grad before : 0.0 0.0 0.0\n",
      "grad after  : 0.0 1.0 1.0\n"
     ]
    }
   ],
   "source": [
    "# call the backward of d so that we got\n",
    "# dd / da and dd / de\n",
    "print(f'grad before :', d.grad, a.grad, e.grad)\n",
    "\n",
    "# call the backward\n",
    "d._backward()\n",
    "\n",
    "print(f'grad after  :', d.grad, a.grad, e.grad)"
   ]
  },
  {
   "cell_type": "markdown",
   "metadata": {
    "id": "NyX9OxIig9V4"
   },
   "source": [
    "Get gradient $c$ and $b$ manually"
   ]
  },
  {
   "cell_type": "code",
   "execution_count": 40,
   "metadata": {
    "colab": {
     "base_uri": "https://localhost:8080/"
    },
    "id": "WMHZDvxAhP5F",
    "outputId": "69278712-88a0-4826-be54-30663ff0b890"
   },
   "outputs": [
    {
     "data": {
      "text/plain": [
       "8.000000000016882"
      ]
     },
     "execution_count": 40,
     "metadata": {},
     "output_type": "execute_result"
    }
   ],
   "source": [
    "# Gradient of b - MANUALLY\n",
    "\n",
    "# Inputs\n",
    "a = Value(data=3.0, label='a')\n",
    "b = Value(data=-4.0, label='b')\n",
    "c = Value(data=8.0, label='c')\n",
    "h = 0.0001\n",
    "\n",
    "# obtain f(x)\n",
    "e = b*c; e.label = 'e'\n",
    "d1 = a + e; d1.label = 'd1'\n",
    "\n",
    "# update b\n",
    "b.data += h\n",
    "\n",
    "# obtain f(x+h)\n",
    "e = b*c; e.label = 'e'\n",
    "d2 = a + e; d2.label = 'd2'\n",
    "\n",
    "# get the grad -> dd / da\n",
    "grad = (d2.data-d1.data)/h\n",
    "grad"
   ]
  },
  {
   "cell_type": "code",
   "execution_count": 41,
   "metadata": {
    "colab": {
     "base_uri": "https://localhost:8080/"
    },
    "id": "-hc4-fWDhfYJ",
    "outputId": "a828e6c4-61cb-427a-cfff-bfcd8350a175"
   },
   "outputs": [
    {
     "data": {
      "text/plain": [
       "-3.9999999999906777"
      ]
     },
     "execution_count": 41,
     "metadata": {},
     "output_type": "execute_result"
    }
   ],
   "source": [
    "# Gradient of c - MANUALLY\n",
    "\n",
    "# Inputs\n",
    "a = Value(data=3.0, label='a')\n",
    "b = Value(data=-4.0, label='b')\n",
    "c = Value(data=8.0, label='c')\n",
    "h = 0.0001\n",
    "\n",
    "# obtain f(x)\n",
    "e = b*c; e.label = 'e'\n",
    "d1 = a + e; d1.label = 'd1'\n",
    "\n",
    "# update c\n",
    "c.data += h\n",
    "\n",
    "# obtain f(x+h)\n",
    "e = b*c; e.label = 'e'\n",
    "d2 = a + e; d2.label = 'd2'\n",
    "\n",
    "# get the grad -> dd / da\n",
    "grad = (d2.data-d1.data)/h\n",
    "grad"
   ]
  },
  {
   "cell_type": "markdown",
   "metadata": {
    "id": "Q30ABWqshktS"
   },
   "source": [
    "Get gradient $c$ and $b$ automatically"
   ]
  },
  {
   "cell_type": "code",
   "execution_count": 42,
   "metadata": {
    "id": "RQRfs0abhmPa"
   },
   "outputs": [],
   "source": [
    "# Gradient - automatically\n",
    "# Inputs\n",
    "a = Value(data=3.0, label='a')\n",
    "b = Value(data=-4.0, label='b')\n",
    "c = Value(data=8.0, label='c')\n",
    "\n",
    "# obtain f(x)\n",
    "e = b*c; e.label = 'e'\n",
    "d = a + e; d.label = 'd'"
   ]
  },
  {
   "cell_type": "code",
   "execution_count": 43,
   "metadata": {
    "colab": {
     "base_uri": "https://localhost:8080/"
    },
    "id": "_gudM0bBhppi",
    "outputId": "85cb615f-9e5f-4d21-ea6c-0c253908572f"
   },
   "outputs": [
    {
     "name": "stdout",
     "output_type": "stream",
     "text": [
      "grad before : 0.0 0.0 0.0 0.0\n",
      "grad after  : 0.0 1.0 8.0 -4.0\n"
     ]
    }
   ],
   "source": [
    "# call the backward of d so that we got\n",
    "# dd / da and dd / de\n",
    "print(f'grad before :', d.grad, e.grad, b.grad, c.grad)\n",
    "\n",
    "# call the backward\n",
    "d._backward()\n",
    "e._backward()\n",
    "\n",
    "print(f'grad after  :', d.grad, e.grad, b.grad, c.grad)"
   ]
  },
  {
   "cell_type": "markdown",
   "metadata": {
    "id": "lBaUZ4-qi8ez"
   },
   "source": [
    "What we see in this\n",
    "\n",
    "- `e.grad` is $\\cfrac{dd}{de}$\n",
    "- `b.grad` is $\\cfrac{de}{db}$ not $\\cfrac{dd}{db}$\n",
    "- `c.grad` is $\\cfrac{de}{dc}$ not $\\cfrac{dd}{dc}$"
   ]
  },
  {
   "cell_type": "markdown",
   "metadata": {
    "id": "YREi8J64jUdX"
   },
   "source": [
    "## **Task 5**\n",
    "---"
   ]
  },
  {
   "cell_type": "markdown",
   "metadata": {
    "id": "xc2QM7O3jUeC"
   },
   "source": [
    "- Update the `Value` class so that you can have the derivative of final variables to each previous variables."
   ]
  },
  {
   "cell_type": "markdown",
   "metadata": {
    "id": "LlPNEalKjhpt"
   },
   "source": [
    "Perviously,\n",
    "- `e.grad` is $\\cfrac{dd}{de}$\n",
    "- `b.grad` is $\\cfrac{de}{db}$ not $\\cfrac{dd}{db}$\n",
    "- `c.grad` is $\\cfrac{de}{dc}$ not $\\cfrac{dd}{dc}$\n"
   ]
  },
  {
   "cell_type": "markdown",
   "metadata": {
    "id": "uNtWb9IXjxn2"
   },
   "source": [
    "So, say to find the $\\cfrac{dd}{db}$ we have to multiply `c.grad` with the previous grad, i.e. `e.grad`"
   ]
  },
  {
   "cell_type": "code",
   "execution_count": 44,
   "metadata": {
    "id": "gYxEZPQrkCy6"
   },
   "outputs": [],
   "source": [
    "# Gradient - automatically\n",
    "# Inputs\n",
    "a = Value(data=3.0, label='a')\n",
    "b = Value(data=-4.0, label='b')\n",
    "c = Value(data=8.0, label='c')\n",
    "\n",
    "# obtain f(x)\n",
    "e = b*c; e.label = 'e'\n",
    "d = a + e; d.label = 'd'"
   ]
  },
  {
   "cell_type": "code",
   "execution_count": 45,
   "metadata": {
    "colab": {
     "base_uri": "https://localhost:8080/"
    },
    "id": "d1n954ktkCzk",
    "outputId": "d9186c74-cfa1-44b7-f6a4-287ba1b95669"
   },
   "outputs": [
    {
     "name": "stdout",
     "output_type": "stream",
     "text": [
      "grad before         : 0.0 0.0 0.0 0.0\n",
      "grad after backward : 0.0 1.0 8.0 -4.0\n",
      "grad after update   : 0.0 0.0 0.0 -0.0\n"
     ]
    }
   ],
   "source": [
    "# call the backward of d so that we got\n",
    "# dd / da and dd / de\n",
    "print(f'grad before         :', d.grad, e.grad, b.grad, c.grad)\n",
    "\n",
    "# call the backward\n",
    "d._backward()\n",
    "e._backward()\n",
    "\n",
    "print(f'grad after backward :', d.grad, e.grad, b.grad, c.grad)\n",
    "\n",
    "# update the grad\n",
    "e.grad = e.grad * d.grad\n",
    "b.grad = b.grad * e.grad\n",
    "c.grad = c.grad * e.grad\n",
    "\n",
    "print(f'grad after update   :', d.grad, e.grad, b.grad, c.grad)"
   ]
  },
  {
   "cell_type": "markdown",
   "metadata": {
    "id": "YvjpV3roka_B"
   },
   "source": [
    "why all the value is zero? **because $\\cfrac{dd}{dd} = 0.0$ is zero**\n",
    "\n",
    "$$\n",
    "\\begin{align*}\n",
    "\\cfrac{dd}{dd} &= 0.0 \\\\\n",
    "\\cfrac{dd}{de} &= \\cfrac{dd}{de} \\cdot \\cfrac{dd}{dd} = (1).(0) = 0.0 \\\\\n",
    "\\cfrac{dd}{db} &= \\cfrac{de}{db} \\cdot \\cfrac{dd}{de} = (8).(0) = 0.0 \\\\\n",
    "\\cfrac{dd}{dc} &= \\cfrac{de}{dc} \\cdot \\cfrac{dd}{de} = (-4).(0) = 0.0 \\\\\n",
    "\\end{align*}\n",
    "$$"
   ]
  },
  {
   "cell_type": "markdown",
   "metadata": {
    "id": "5HSSk0fElaBt"
   },
   "source": [
    "**Solution**: we initialize $\\cfrac{dd}{dd} = 1.0$ before backwarding"
   ]
  },
  {
   "cell_type": "code",
   "execution_count": 46,
   "metadata": {
    "id": "tXzWYXOylh2i"
   },
   "outputs": [],
   "source": [
    "# Gradient - automatically\n",
    "# Inputs\n",
    "a = Value(data=3.0, label='a')\n",
    "b = Value(data=-4.0, label='b')\n",
    "c = Value(data=8.0, label='c')\n",
    "\n",
    "# obtain f(x)\n",
    "e = b*c; e.label = 'e'\n",
    "d = a + e; d.label = 'd'"
   ]
  },
  {
   "cell_type": "code",
   "execution_count": 47,
   "metadata": {
    "colab": {
     "base_uri": "https://localhost:8080/"
    },
    "id": "F8wauqczlh2m",
    "outputId": "bf541037-5827-4c32-c6f4-addeb5fe1615"
   },
   "outputs": [
    {
     "name": "stdout",
     "output_type": "stream",
     "text": [
      "grad before         : 0.0 0.0 0.0 0.0\n",
      "grad after backward : 1.0 1.0 8.0 -4.0\n",
      "grad after update   : 1.0 1.0 8.0 -4.0\n"
     ]
    }
   ],
   "source": [
    "# call the backward of d so that we got\n",
    "# dd / da and dd / de\n",
    "print(f'grad before         :', d.grad, e.grad, b.grad, c.grad)\n",
    "\n",
    "# call the backward\n",
    "d.grad = 1.0\n",
    "d._backward()\n",
    "e._backward()\n",
    "\n",
    "print(f'grad after backward :', d.grad, e.grad, b.grad, c.grad)\n",
    "\n",
    "# update the grad\n",
    "e.grad = e.grad * d.grad\n",
    "b.grad = b.grad * e.grad\n",
    "c.grad = c.grad * e.grad\n",
    "\n",
    "print(f'grad after update   :', d.grad, e.grad, b.grad, c.grad)"
   ]
  },
  {
   "cell_type": "markdown",
   "metadata": {
    "id": "muScWNxilsMI"
   },
   "source": [
    "Great, now we have the same results & lets update the `Value` class"
   ]
  },
  {
   "cell_type": "code",
   "execution_count": 48,
   "metadata": {
    "id": "9dCqqyM0lgF-"
   },
   "outputs": [],
   "source": [
    "# Write your code in here\n",
    "class Value:\n",
    "    def __init__(self, data, _children=(), _op='', label=''):\n",
    "        self.data = data\n",
    "        self._prev = set(_children)\n",
    "        self._op = _op\n",
    "        self.label = label\n",
    "\n",
    "        # For automatic differentiation\n",
    "        self.grad = 0.0\n",
    "        self._backward = lambda: None\n",
    "\n",
    "    def __repr__(self):\n",
    "        return f'Value(data={self.data})'\n",
    "\n",
    "    def __add__(self, other):\n",
    "        out = Value(data = self.data + other.data,\n",
    "                    _children = (self, other),\n",
    "                    _op = '+')\n",
    "\n",
    "        # Local grad function\n",
    "        def _backward():\n",
    "            # Say C = A + B\n",
    "            # A = self ; B = other\n",
    "\n",
    "            # This is dC / dA = 1.0\n",
    "            # add out.grad      --> dprev / dC\n",
    "            # then self.grad    --> dprev / dA\n",
    "            self.grad = 1.0 * out.grad\n",
    "\n",
    "            # This is dC / dB = 1.0\n",
    "            other.grad = 1.0 * out.grad\n",
    "\n",
    "        # Call the local functions\n",
    "        out._backward = _backward\n",
    "\n",
    "        return out\n",
    "\n",
    "    def __mul__(self, other):\n",
    "        out = Value(data = self.data * other.data,\n",
    "                    _children = (self, other),\n",
    "                    _op = '*')\n",
    "\n",
    "        # Local grad function\n",
    "        def _backward():\n",
    "            # Say C = A * B\n",
    "            # A = self ; B = other\n",
    "\n",
    "            # This is dC / dA = B\n",
    "            self.grad = other.data * out.grad\n",
    "\n",
    "            # This is dC / dB = A\n",
    "            other.grad = self.data * out.grad\n",
    "\n",
    "        # Call the local functions\n",
    "        out._backward = _backward\n",
    "\n",
    "        return out\n"
   ]
  },
  {
   "cell_type": "markdown",
   "metadata": {
    "id": "fsae2oGemEv_"
   },
   "source": [
    "Let's validate"
   ]
  },
  {
   "cell_type": "code",
   "execution_count": 49,
   "metadata": {
    "id": "VAmazIF3mKEM"
   },
   "outputs": [],
   "source": [
    "# Gradient - automatically\n",
    "# Inputs\n",
    "a = Value(data=3.0, label='a')\n",
    "b = Value(data=-4.0, label='b')\n",
    "c = Value(data=8.0, label='c')\n",
    "\n",
    "# obtain f(x)\n",
    "e = b*c; e.label = 'e'\n",
    "d = a + e; d.label = 'd'"
   ]
  },
  {
   "cell_type": "code",
   "execution_count": 50,
   "metadata": {
    "colab": {
     "base_uri": "https://localhost:8080/"
    },
    "id": "5nOJpfmumKEU",
    "outputId": "afa3c5fb-3964-4dd3-bb33-713314699802"
   },
   "outputs": [
    {
     "name": "stdout",
     "output_type": "stream",
     "text": [
      "grad before : 0.0 0.0 0.0 0.0\n",
      "grad after  : 1.0 1.0 8.0 -4.0\n"
     ]
    }
   ],
   "source": [
    "# call the backward of d so that we got\n",
    "# dd / da and dd / de\n",
    "print(f'grad before :', d.grad, e.grad, b.grad, c.grad)\n",
    "\n",
    "# call the backward\n",
    "d.grad = 1.0\n",
    "d._backward()\n",
    "e._backward()\n",
    "\n",
    "print(f'grad after  :', d.grad, e.grad, b.grad, c.grad)"
   ]
  },
  {
   "cell_type": "markdown",
   "metadata": {
    "id": "4pA8yzcFmZ7V"
   },
   "source": [
    "## **Task 6**\n",
    "---"
   ]
  },
  {
   "cell_type": "markdown",
   "metadata": {
    "id": "jPvp3jXymZ7W"
   },
   "source": [
    "- Simplify the `Value` class `backward` operations. Make it run automatically by calling `backward()` method"
   ]
  },
  {
   "cell_type": "markdown",
   "metadata": {
    "id": "d4d5-mIamj_X"
   },
   "source": [
    "To solve this, we have to build a topological list of node from final result to first variable then perform `node._backward`"
   ]
  },
  {
   "cell_type": "code",
   "execution_count": 51,
   "metadata": {
    "id": "MzjCM_lBm-2d"
   },
   "outputs": [],
   "source": [
    "# Gradient - automatically\n",
    "# Inputs\n",
    "a = Value(data=3.0, label='a')\n",
    "b = Value(data=-4.0, label='b')\n",
    "c = Value(data=8.0, label='c')\n",
    "\n",
    "# obtain f(x)\n",
    "e = b*c; e.label = 'e'\n",
    "d = a + e; d.label = 'd'"
   ]
  },
  {
   "cell_type": "code",
   "execution_count": 52,
   "metadata": {
    "id": "iir0NnHTnAq0"
   },
   "outputs": [],
   "source": [
    "# Initialize\n",
    "topo = []\n",
    "visited = set()\n",
    "\n",
    "# create a function to build topology recursively\n",
    "def build_topo(node):\n",
    "    if node not in visited:\n",
    "        # add node\n",
    "        visited.add(node)\n",
    "\n",
    "        # visit child recursively\n",
    "        for child in node._prev:\n",
    "            build_topo(child)\n",
    "\n",
    "        # append node to topo\n",
    "        topo.append(node)\n",
    "\n",
    "# Run the build_topo\n",
    "build_topo(node = d)\n"
   ]
  },
  {
   "cell_type": "code",
   "execution_count": 53,
   "metadata": {
    "colab": {
     "base_uri": "https://localhost:8080/"
    },
    "id": "nIz2pFDbnen2",
    "outputId": "5bf499cc-dc10-4a19-bd92-2a89b32b90d4"
   },
   "outputs": [
    {
     "data": {
      "text/plain": [
       "[Value(data=-4.0),\n",
       " Value(data=8.0),\n",
       " Value(data=-32.0),\n",
       " Value(data=3.0),\n",
       " Value(data=-29.0)]"
      ]
     },
     "execution_count": 53,
     "metadata": {},
     "output_type": "execute_result"
    }
   ],
   "source": [
    "topo"
   ]
  },
  {
   "cell_type": "markdown",
   "metadata": {
    "id": "qs8deYbZng_d"
   },
   "source": [
    "So, the last element of `topo` is our final variables (-29.0). To perform `._backward` we need to reverse the topo order."
   ]
  },
  {
   "cell_type": "code",
   "execution_count": 54,
   "metadata": {
    "colab": {
     "base_uri": "https://localhost:8080/"
    },
    "id": "6Qq0CcT8nxIJ",
    "outputId": "2d12cc29-b15f-47be-cafa-988148049f9e"
   },
   "outputs": [
    {
     "name": "stdout",
     "output_type": "stream",
     "text": [
      "Grad before   : 0.0 0.0 0.0 0.0 0.0\n",
      "Grad before   : 1.0 1.0 1.0 8.0 -4.0\n"
     ]
    }
   ],
   "source": [
    "# Print grad before\n",
    "print('Grad before   :', d.grad, e.grad, a.grad, b.grad, c.grad)\n",
    "\n",
    "# Perform the backward based on reversed topo\n",
    "d.grad = 1.0\n",
    "for node in reversed(topo):\n",
    "    node._backward()\n",
    "\n",
    "# Print grad after\n",
    "print('Grad before   :', d.grad, e.grad, a.grad, b.grad, c.grad)"
   ]
  },
  {
   "cell_type": "markdown",
   "metadata": {
    "id": "P1E13feMoO7c"
   },
   "source": [
    "Great!\n",
    "Let's wrap it"
   ]
  },
  {
   "cell_type": "code",
   "execution_count": 55,
   "metadata": {
    "id": "Il95WZiVoSVn"
   },
   "outputs": [],
   "source": [
    "# Write your code in here\n",
    "class Value:\n",
    "    def __init__(self, data, _children=(), _op='', label=''):\n",
    "        self.data = data\n",
    "        self._prev = set(_children)\n",
    "        self._op = _op\n",
    "        self.label = label\n",
    "\n",
    "        # For automatic differentiation\n",
    "        self.grad = 0.0\n",
    "        self._backward = lambda: None\n",
    "\n",
    "    def __repr__(self):\n",
    "        return f'Value(data={self.data})'\n",
    "\n",
    "    def __add__(self, other):\n",
    "        out = Value(data = self.data + other.data,\n",
    "                    _children = (self, other),\n",
    "                    _op = '+')\n",
    "\n",
    "        # Local grad function\n",
    "        def _backward():\n",
    "            # Say C = A + B\n",
    "            # A = self ; B = other\n",
    "\n",
    "            # This is dC / dA = 1.0\n",
    "            # add out.grad      --> dprev / dC\n",
    "            # then self.grad    --> dprev / dA\n",
    "            self.grad = 1.0 * out.grad\n",
    "\n",
    "            # This is dC / dB = 1.0\n",
    "            other.grad = 1.0 * out.grad\n",
    "\n",
    "        # Call the local functions\n",
    "        out._backward = _backward\n",
    "\n",
    "        return out\n",
    "\n",
    "    def __mul__(self, other):\n",
    "        out = Value(data = self.data * other.data,\n",
    "                    _children = (self, other),\n",
    "                    _op = '*')\n",
    "\n",
    "        # Local grad function\n",
    "        def _backward():\n",
    "            # Say C = A * B\n",
    "            # A = self ; B = other\n",
    "\n",
    "            # This is dC / dA = B\n",
    "            self.grad = other.data * out.grad\n",
    "\n",
    "            # This is dC / dB = A\n",
    "            other.grad = self.data * out.grad\n",
    "\n",
    "        # Call the local functions\n",
    "        out._backward = _backward\n",
    "\n",
    "        return out\n",
    "\n",
    "    def backward(self):\n",
    "        # Initialize\n",
    "        topo = []\n",
    "        visited = set()\n",
    "\n",
    "        # create a function to build topology recursively\n",
    "        def build_topo(node):\n",
    "            if node not in visited:\n",
    "                # add node\n",
    "                visited.add(node)\n",
    "\n",
    "                # visit child recursively\n",
    "                for child in node._prev:\n",
    "                    build_topo(child)\n",
    "\n",
    "                # append node to topo\n",
    "                topo.append(node)\n",
    "\n",
    "        # Run the build_topo\n",
    "        build_topo(node = self)\n",
    "\n",
    "        # Run the backward operation\n",
    "        self.grad = 1.0\n",
    "        for node in reversed(topo):\n",
    "            node._backward()\n"
   ]
  },
  {
   "cell_type": "markdown",
   "metadata": {
    "id": "2PElHVCiokEm"
   },
   "source": [
    "Let's validate it"
   ]
  },
  {
   "cell_type": "code",
   "execution_count": 56,
   "metadata": {
    "id": "sP4Cu4vwonh9"
   },
   "outputs": [],
   "source": [
    "# Gradient - automatically\n",
    "# Inputs\n",
    "a = Value(data=3.0, label='a')\n",
    "b = Value(data=-4.0, label='b')\n",
    "c = Value(data=8.0, label='c')\n",
    "\n",
    "# obtain f(x)\n",
    "e = b*c; e.label = 'e'\n",
    "d = a + e; d.label = 'd'"
   ]
  },
  {
   "cell_type": "code",
   "execution_count": 57,
   "metadata": {
    "colab": {
     "base_uri": "https://localhost:8080/"
    },
    "id": "8jBkTafUoniA",
    "outputId": "217e5575-2e37-4075-f4c5-7b13302797c4"
   },
   "outputs": [
    {
     "name": "stdout",
     "output_type": "stream",
     "text": [
      "grad before : 0.0 0.0 0.0 0.0\n",
      "grad after  : 1.0 1.0 8.0 -4.0\n"
     ]
    }
   ],
   "source": [
    "# call the backward of d so that we got\n",
    "# dd / da and dd / de\n",
    "print(f'grad before :', d.grad, e.grad, b.grad, c.grad)\n",
    "\n",
    "# call the backward\n",
    "d.backward()        # call the backward function\n",
    "\n",
    "print(f'grad after  :', d.grad, e.grad, b.grad, c.grad)"
   ]
  },
  {
   "cell_type": "markdown",
   "metadata": {
    "id": "WQPjwKq9ozpy"
   },
   "source": [
    "Nice!"
   ]
  },
  {
   "cell_type": "markdown",
   "metadata": {
    "id": "qFUhaa5UiTaU"
   },
   "source": [
    "## **Task 7**\n",
    "---"
   ]
  },
  {
   "cell_type": "markdown",
   "metadata": {
    "id": "vBMfZMayiTaY"
   },
   "source": [
    "- Update the `draw_dot` function so that we can see the gradients on the computational graph"
   ]
  },
  {
   "cell_type": "code",
   "execution_count": 58,
   "metadata": {
    "id": "bFNb_gmBifMK"
   },
   "outputs": [],
   "source": [
    "def draw_dot(root):\n",
    "    \"\"\"Draw the computational graph by backtracing the operation\"\"\"\n",
    "    # Create a workspace\n",
    "    dot = Digraph(format='svg',\n",
    "                  graph_attr={'rankdir': 'LR'})\n",
    "\n",
    "    # Trace the nodes & edges from computational graph\n",
    "    nodes, edges = trace(root)\n",
    "\n",
    "    # Draw\n",
    "    for node_ in nodes:\n",
    "        uid = str(id(node_))\n",
    "\n",
    "        # Create a rectangular node\n",
    "        # ADD GRAD RESULTS in here\n",
    "        dot.node(name = uid,\n",
    "                 label = '{ %s | data %.4f | grad %.4f }' % (node_.label, node_.data, node_.grad),\n",
    "                 shape = 'record')\n",
    "\n",
    "        # Create operator (node & edge)\n",
    "        if node_._op:\n",
    "            # Create an operation node\n",
    "            dot.node(name = uid + node_._op,\n",
    "                     label = node_._op)\n",
    "\n",
    "            # Connect edge between operation nodes to next value nodes\n",
    "            dot.edge(tail_name = uid + node_._op,\n",
    "                     head_name = uid)\n",
    "\n",
    "    # Create edge for value nodes to operation nodes\n",
    "    for node_1, node_2 in edges:\n",
    "        dot.edge(tail_name = str(id(node_1)),\n",
    "                 head_name = str(id(node_2)) + node_2._op)\n",
    "\n",
    "    return dot\n"
   ]
  },
  {
   "cell_type": "markdown",
   "metadata": {
    "id": "1Mg3gULuiq7B"
   },
   "source": [
    "Let's validate"
   ]
  },
  {
   "cell_type": "code",
   "execution_count": 59,
   "metadata": {
    "colab": {
     "base_uri": "https://localhost:8080/"
    },
    "id": "aVLVmqLkisJI",
    "outputId": "9ae298f9-c232-417d-bb46-c21cb181527a"
   },
   "outputs": [
    {
     "data": {
      "text/plain": [
       "Value(data=-29.0)"
      ]
     },
     "execution_count": 59,
     "metadata": {},
     "output_type": "execute_result"
    }
   ],
   "source": [
    "# Inputs\n",
    "a = Value(data=3.0, label='a')\n",
    "b = Value(data=-4.0, label='b')\n",
    "c = Value(data=8.0, label='c')\n",
    "\n",
    "# obtain f(x)\n",
    "e = b*c; e.label = 'e'\n",
    "d = a + e; d.label = 'd'\n",
    "d"
   ]
  },
  {
   "cell_type": "code",
   "execution_count": 60,
   "metadata": {
    "colab": {
     "base_uri": "https://localhost:8080/",
     "height": 192
    },
    "id": "qExEpHUMiwaS",
    "outputId": "62e85627-592f-4c94-defe-4b376a7f6bb7"
   },
   "outputs": [
    {
     "data": {
      "image/svg+xml": [
       "<?xml version=\"1.0\" encoding=\"UTF-8\" standalone=\"no\"?>\n",
       "<!DOCTYPE svg PUBLIC \"-//W3C//DTD SVG 1.1//EN\"\n",
       " \"http://www.w3.org/Graphics/SVG/1.1/DTD/svg11.dtd\">\n",
       "<!-- Generated by graphviz version 2.43.0 (0)\n",
       " -->\n",
       "<!-- Title: %3 Pages: 1 -->\n",
       "<svg width=\"988pt\" height=\"128pt\"\n",
       " viewBox=\"0.00 0.00 988.00 128.00\" xmlns=\"http://www.w3.org/2000/svg\" xmlns:xlink=\"http://www.w3.org/1999/xlink\">\n",
       "<g id=\"graph0\" class=\"graph\" transform=\"scale(1 1) rotate(0) translate(4 124)\">\n",
       "<title>%3</title>\n",
       "<polygon fill=\"white\" stroke=\"transparent\" points=\"-4,4 -4,-124 984,-124 984,4 -4,4\"/>\n",
       "<!-- 140200428727808 -->\n",
       "<g id=\"node1\" class=\"node\">\n",
       "<title>140200428727808</title>\n",
       "<polygon fill=\"none\" stroke=\"black\" points=\"0,-83.5 0,-119.5 237,-119.5 237,-83.5 0,-83.5\"/>\n",
       "<text text-anchor=\"middle\" x=\"13\" y=\"-97.8\" font-family=\"Times,serif\" font-size=\"14.00\">b</text>\n",
       "<polyline fill=\"none\" stroke=\"black\" points=\"26,-83.5 26,-119.5 \"/>\n",
       "<text text-anchor=\"middle\" x=\"79.5\" y=\"-97.8\" font-family=\"Times,serif\" font-size=\"14.00\">data &#45;4.0000</text>\n",
       "<polyline fill=\"none\" stroke=\"black\" points=\"133,-83.5 133,-119.5 \"/>\n",
       "<text text-anchor=\"middle\" x=\"185\" y=\"-97.8\" font-family=\"Times,serif\" font-size=\"14.00\">grad 0.0000</text>\n",
       "</g>\n",
       "<!-- 140200428718496* -->\n",
       "<g id=\"node7\" class=\"node\">\n",
       "<title>140200428718496*</title>\n",
       "<ellipse fill=\"none\" stroke=\"black\" cx=\"300\" cy=\"-73.5\" rx=\"27\" ry=\"18\"/>\n",
       "<text text-anchor=\"middle\" x=\"300\" y=\"-69.8\" font-family=\"Times,serif\" font-size=\"14.00\">*</text>\n",
       "</g>\n",
       "<!-- 140200428727808&#45;&gt;140200428718496* -->\n",
       "<g id=\"edge3\" class=\"edge\">\n",
       "<title>140200428727808&#45;&gt;140200428718496*</title>\n",
       "<path fill=\"none\" stroke=\"black\" d=\"M234.96,-83.49C245.12,-81.91 254.8,-80.4 263.41,-79.05\"/>\n",
       "<polygon fill=\"black\" stroke=\"black\" points=\"264.02,-82.5 273.36,-77.5 262.94,-75.58 264.02,-82.5\"/>\n",
       "</g>\n",
       "<!-- 140200428722720 -->\n",
       "<g id=\"node2\" class=\"node\">\n",
       "<title>140200428722720</title>\n",
       "<polygon fill=\"none\" stroke=\"black\" points=\"370,-0.5 370,-36.5 601,-36.5 601,-0.5 370,-0.5\"/>\n",
       "<text text-anchor=\"middle\" x=\"382.5\" y=\"-14.8\" font-family=\"Times,serif\" font-size=\"14.00\">a</text>\n",
       "<polyline fill=\"none\" stroke=\"black\" points=\"395,-0.5 395,-36.5 \"/>\n",
       "<text text-anchor=\"middle\" x=\"446\" y=\"-14.8\" font-family=\"Times,serif\" font-size=\"14.00\">data 3.0000</text>\n",
       "<polyline fill=\"none\" stroke=\"black\" points=\"497,-0.5 497,-36.5 \"/>\n",
       "<text text-anchor=\"middle\" x=\"549\" y=\"-14.8\" font-family=\"Times,serif\" font-size=\"14.00\">grad 0.0000</text>\n",
       "</g>\n",
       "<!-- 140200428717728+ -->\n",
       "<g id=\"node4\" class=\"node\">\n",
       "<title>140200428717728+</title>\n",
       "<ellipse fill=\"none\" stroke=\"black\" cx=\"671\" cy=\"-45.5\" rx=\"27\" ry=\"18\"/>\n",
       "<text text-anchor=\"middle\" x=\"671\" y=\"-41.8\" font-family=\"Times,serif\" font-size=\"14.00\">+</text>\n",
       "</g>\n",
       "<!-- 140200428722720&#45;&gt;140200428717728+ -->\n",
       "<g id=\"edge5\" class=\"edge\">\n",
       "<title>140200428722720&#45;&gt;140200428717728+</title>\n",
       "<path fill=\"none\" stroke=\"black\" d=\"M601.15,-35.37C613.07,-37.12 624.43,-38.8 634.37,-40.26\"/>\n",
       "<polygon fill=\"black\" stroke=\"black\" points=\"634.15,-43.76 644.56,-41.76 635.17,-36.84 634.15,-43.76\"/>\n",
       "</g>\n",
       "<!-- 140200428717728 -->\n",
       "<g id=\"node3\" class=\"node\">\n",
       "<title>140200428717728</title>\n",
       "<polygon fill=\"none\" stroke=\"black\" points=\"734,-27.5 734,-63.5 980,-63.5 980,-27.5 734,-27.5\"/>\n",
       "<text text-anchor=\"middle\" x=\"747\" y=\"-41.8\" font-family=\"Times,serif\" font-size=\"14.00\">d</text>\n",
       "<polyline fill=\"none\" stroke=\"black\" points=\"760,-27.5 760,-63.5 \"/>\n",
       "<text text-anchor=\"middle\" x=\"818\" y=\"-41.8\" font-family=\"Times,serif\" font-size=\"14.00\">data &#45;29.0000</text>\n",
       "<polyline fill=\"none\" stroke=\"black\" points=\"876,-27.5 876,-63.5 \"/>\n",
       "<text text-anchor=\"middle\" x=\"928\" y=\"-41.8\" font-family=\"Times,serif\" font-size=\"14.00\">grad 0.0000</text>\n",
       "</g>\n",
       "<!-- 140200428717728+&#45;&gt;140200428717728 -->\n",
       "<g id=\"edge1\" class=\"edge\">\n",
       "<title>140200428717728+&#45;&gt;140200428717728</title>\n",
       "<path fill=\"none\" stroke=\"black\" d=\"M698.36,-45.5C705.73,-45.5 714.28,-45.5 723.5,-45.5\"/>\n",
       "<polygon fill=\"black\" stroke=\"black\" points=\"723.75,-49 733.75,-45.5 723.75,-42 723.75,-49\"/>\n",
       "</g>\n",
       "<!-- 140200428723440 -->\n",
       "<g id=\"node5\" class=\"node\">\n",
       "<title>140200428723440</title>\n",
       "<polygon fill=\"none\" stroke=\"black\" points=\"3.5,-28.5 3.5,-64.5 233.5,-64.5 233.5,-28.5 3.5,-28.5\"/>\n",
       "<text text-anchor=\"middle\" x=\"15.5\" y=\"-42.8\" font-family=\"Times,serif\" font-size=\"14.00\">c</text>\n",
       "<polyline fill=\"none\" stroke=\"black\" points=\"27.5,-28.5 27.5,-64.5 \"/>\n",
       "<text text-anchor=\"middle\" x=\"78.5\" y=\"-42.8\" font-family=\"Times,serif\" font-size=\"14.00\">data 8.0000</text>\n",
       "<polyline fill=\"none\" stroke=\"black\" points=\"129.5,-28.5 129.5,-64.5 \"/>\n",
       "<text text-anchor=\"middle\" x=\"181.5\" y=\"-42.8\" font-family=\"Times,serif\" font-size=\"14.00\">grad 0.0000</text>\n",
       "</g>\n",
       "<!-- 140200428723440&#45;&gt;140200428718496* -->\n",
       "<g id=\"edge6\" class=\"edge\">\n",
       "<title>140200428723440&#45;&gt;140200428718496*</title>\n",
       "<path fill=\"none\" stroke=\"black\" d=\"M233.69,-63.68C244.32,-65.28 254.46,-66.8 263.45,-68.15\"/>\n",
       "<polygon fill=\"black\" stroke=\"black\" points=\"263.01,-71.63 273.42,-69.65 264.05,-64.7 263.01,-71.63\"/>\n",
       "</g>\n",
       "<!-- 140200428718496 -->\n",
       "<g id=\"node6\" class=\"node\">\n",
       "<title>140200428718496</title>\n",
       "<polygon fill=\"none\" stroke=\"black\" points=\"363,-55.5 363,-91.5 608,-91.5 608,-55.5 363,-55.5\"/>\n",
       "<text text-anchor=\"middle\" x=\"375.5\" y=\"-69.8\" font-family=\"Times,serif\" font-size=\"14.00\">e</text>\n",
       "<polyline fill=\"none\" stroke=\"black\" points=\"388,-55.5 388,-91.5 \"/>\n",
       "<text text-anchor=\"middle\" x=\"446\" y=\"-69.8\" font-family=\"Times,serif\" font-size=\"14.00\">data &#45;32.0000</text>\n",
       "<polyline fill=\"none\" stroke=\"black\" points=\"504,-55.5 504,-91.5 \"/>\n",
       "<text text-anchor=\"middle\" x=\"556\" y=\"-69.8\" font-family=\"Times,serif\" font-size=\"14.00\">grad 0.0000</text>\n",
       "</g>\n",
       "<!-- 140200428718496&#45;&gt;140200428717728+ -->\n",
       "<g id=\"edge4\" class=\"edge\">\n",
       "<title>140200428718496&#45;&gt;140200428717728+</title>\n",
       "<path fill=\"none\" stroke=\"black\" d=\"M604.53,-55.49C615.23,-53.86 625.41,-52.3 634.42,-50.93\"/>\n",
       "<polygon fill=\"black\" stroke=\"black\" points=\"635.05,-54.37 644.41,-49.4 634,-47.45 635.05,-54.37\"/>\n",
       "</g>\n",
       "<!-- 140200428718496*&#45;&gt;140200428718496 -->\n",
       "<g id=\"edge2\" class=\"edge\">\n",
       "<title>140200428718496*&#45;&gt;140200428718496</title>\n",
       "<path fill=\"none\" stroke=\"black\" d=\"M327.29,-73.5C334.79,-73.5 343.51,-73.5 352.93,-73.5\"/>\n",
       "<polygon fill=\"black\" stroke=\"black\" points=\"352.97,-77 362.97,-73.5 352.97,-70 352.97,-77\"/>\n",
       "</g>\n",
       "</g>\n",
       "</svg>\n"
      ],
      "text/plain": [
       "<graphviz.graphs.Digraph at 0x7f82f4c04670>"
      ]
     },
     "execution_count": 60,
     "metadata": {},
     "output_type": "execute_result"
    }
   ],
   "source": [
    "draw_dot(d)"
   ]
  },
  {
   "cell_type": "code",
   "execution_count": 61,
   "metadata": {
    "colab": {
     "base_uri": "https://localhost:8080/"
    },
    "id": "3ukpChV8o5C1",
    "outputId": "ce59f086-746c-4875-f395-eb30a3ec54d2"
   },
   "outputs": [
    {
     "name": "stdout",
     "output_type": "stream",
     "text": [
      "grad before : 0.0 0.0 0.0 0.0\n",
      "grad after  : 1.0 1.0 8.0 -4.0\n"
     ]
    }
   ],
   "source": [
    "# call the backward of d so that we got\n",
    "# dd / da and dd / de\n",
    "print(f'grad before :', d.grad, e.grad, b.grad, c.grad)\n",
    "\n",
    "# call the backward\n",
    "d.backward()        # call the backward function\n",
    "\n",
    "print(f'grad after  :', d.grad, e.grad, b.grad, c.grad)"
   ]
  },
  {
   "cell_type": "code",
   "execution_count": 62,
   "metadata": {
    "colab": {
     "base_uri": "https://localhost:8080/",
     "height": 192
    },
    "id": "KLsCK9eJo7R5",
    "outputId": "dc77cf2c-b311-459a-82a1-01d5d3fb1f10"
   },
   "outputs": [
    {
     "data": {
      "image/svg+xml": [
       "<?xml version=\"1.0\" encoding=\"UTF-8\" standalone=\"no\"?>\n",
       "<!DOCTYPE svg PUBLIC \"-//W3C//DTD SVG 1.1//EN\"\n",
       " \"http://www.w3.org/Graphics/SVG/1.1/DTD/svg11.dtd\">\n",
       "<!-- Generated by graphviz version 2.43.0 (0)\n",
       " -->\n",
       "<!-- Title: %3 Pages: 1 -->\n",
       "<svg width=\"988pt\" height=\"128pt\"\n",
       " viewBox=\"0.00 0.00 988.00 128.00\" xmlns=\"http://www.w3.org/2000/svg\" xmlns:xlink=\"http://www.w3.org/1999/xlink\">\n",
       "<g id=\"graph0\" class=\"graph\" transform=\"scale(1 1) rotate(0) translate(4 124)\">\n",
       "<title>%3</title>\n",
       "<polygon fill=\"white\" stroke=\"transparent\" points=\"-4,4 -4,-124 984,-124 984,4 -4,4\"/>\n",
       "<!-- 140200428727808 -->\n",
       "<g id=\"node1\" class=\"node\">\n",
       "<title>140200428727808</title>\n",
       "<polygon fill=\"none\" stroke=\"black\" points=\"0,-83.5 0,-119.5 237,-119.5 237,-83.5 0,-83.5\"/>\n",
       "<text text-anchor=\"middle\" x=\"13\" y=\"-97.8\" font-family=\"Times,serif\" font-size=\"14.00\">b</text>\n",
       "<polyline fill=\"none\" stroke=\"black\" points=\"26,-83.5 26,-119.5 \"/>\n",
       "<text text-anchor=\"middle\" x=\"79.5\" y=\"-97.8\" font-family=\"Times,serif\" font-size=\"14.00\">data &#45;4.0000</text>\n",
       "<polyline fill=\"none\" stroke=\"black\" points=\"133,-83.5 133,-119.5 \"/>\n",
       "<text text-anchor=\"middle\" x=\"185\" y=\"-97.8\" font-family=\"Times,serif\" font-size=\"14.00\">grad 8.0000</text>\n",
       "</g>\n",
       "<!-- 140200428718496* -->\n",
       "<g id=\"node7\" class=\"node\">\n",
       "<title>140200428718496*</title>\n",
       "<ellipse fill=\"none\" stroke=\"black\" cx=\"300\" cy=\"-73.5\" rx=\"27\" ry=\"18\"/>\n",
       "<text text-anchor=\"middle\" x=\"300\" y=\"-69.8\" font-family=\"Times,serif\" font-size=\"14.00\">*</text>\n",
       "</g>\n",
       "<!-- 140200428727808&#45;&gt;140200428718496* -->\n",
       "<g id=\"edge3\" class=\"edge\">\n",
       "<title>140200428727808&#45;&gt;140200428718496*</title>\n",
       "<path fill=\"none\" stroke=\"black\" d=\"M234.96,-83.49C245.12,-81.91 254.8,-80.4 263.41,-79.05\"/>\n",
       "<polygon fill=\"black\" stroke=\"black\" points=\"264.02,-82.5 273.36,-77.5 262.94,-75.58 264.02,-82.5\"/>\n",
       "</g>\n",
       "<!-- 140200428722720 -->\n",
       "<g id=\"node2\" class=\"node\">\n",
       "<title>140200428722720</title>\n",
       "<polygon fill=\"none\" stroke=\"black\" points=\"370,-0.5 370,-36.5 601,-36.5 601,-0.5 370,-0.5\"/>\n",
       "<text text-anchor=\"middle\" x=\"382.5\" y=\"-14.8\" font-family=\"Times,serif\" font-size=\"14.00\">a</text>\n",
       "<polyline fill=\"none\" stroke=\"black\" points=\"395,-0.5 395,-36.5 \"/>\n",
       "<text text-anchor=\"middle\" x=\"446\" y=\"-14.8\" font-family=\"Times,serif\" font-size=\"14.00\">data 3.0000</text>\n",
       "<polyline fill=\"none\" stroke=\"black\" points=\"497,-0.5 497,-36.5 \"/>\n",
       "<text text-anchor=\"middle\" x=\"549\" y=\"-14.8\" font-family=\"Times,serif\" font-size=\"14.00\">grad 1.0000</text>\n",
       "</g>\n",
       "<!-- 140200428717728+ -->\n",
       "<g id=\"node4\" class=\"node\">\n",
       "<title>140200428717728+</title>\n",
       "<ellipse fill=\"none\" stroke=\"black\" cx=\"671\" cy=\"-45.5\" rx=\"27\" ry=\"18\"/>\n",
       "<text text-anchor=\"middle\" x=\"671\" y=\"-41.8\" font-family=\"Times,serif\" font-size=\"14.00\">+</text>\n",
       "</g>\n",
       "<!-- 140200428722720&#45;&gt;140200428717728+ -->\n",
       "<g id=\"edge5\" class=\"edge\">\n",
       "<title>140200428722720&#45;&gt;140200428717728+</title>\n",
       "<path fill=\"none\" stroke=\"black\" d=\"M601.15,-35.37C613.07,-37.12 624.43,-38.8 634.37,-40.26\"/>\n",
       "<polygon fill=\"black\" stroke=\"black\" points=\"634.15,-43.76 644.56,-41.76 635.17,-36.84 634.15,-43.76\"/>\n",
       "</g>\n",
       "<!-- 140200428717728 -->\n",
       "<g id=\"node3\" class=\"node\">\n",
       "<title>140200428717728</title>\n",
       "<polygon fill=\"none\" stroke=\"black\" points=\"734,-27.5 734,-63.5 980,-63.5 980,-27.5 734,-27.5\"/>\n",
       "<text text-anchor=\"middle\" x=\"747\" y=\"-41.8\" font-family=\"Times,serif\" font-size=\"14.00\">d</text>\n",
       "<polyline fill=\"none\" stroke=\"black\" points=\"760,-27.5 760,-63.5 \"/>\n",
       "<text text-anchor=\"middle\" x=\"818\" y=\"-41.8\" font-family=\"Times,serif\" font-size=\"14.00\">data &#45;29.0000</text>\n",
       "<polyline fill=\"none\" stroke=\"black\" points=\"876,-27.5 876,-63.5 \"/>\n",
       "<text text-anchor=\"middle\" x=\"928\" y=\"-41.8\" font-family=\"Times,serif\" font-size=\"14.00\">grad 1.0000</text>\n",
       "</g>\n",
       "<!-- 140200428717728+&#45;&gt;140200428717728 -->\n",
       "<g id=\"edge1\" class=\"edge\">\n",
       "<title>140200428717728+&#45;&gt;140200428717728</title>\n",
       "<path fill=\"none\" stroke=\"black\" d=\"M698.36,-45.5C705.73,-45.5 714.28,-45.5 723.5,-45.5\"/>\n",
       "<polygon fill=\"black\" stroke=\"black\" points=\"723.75,-49 733.75,-45.5 723.75,-42 723.75,-49\"/>\n",
       "</g>\n",
       "<!-- 140200428723440 -->\n",
       "<g id=\"node5\" class=\"node\">\n",
       "<title>140200428723440</title>\n",
       "<polygon fill=\"none\" stroke=\"black\" points=\"1.5,-28.5 1.5,-64.5 235.5,-64.5 235.5,-28.5 1.5,-28.5\"/>\n",
       "<text text-anchor=\"middle\" x=\"13.5\" y=\"-42.8\" font-family=\"Times,serif\" font-size=\"14.00\">c</text>\n",
       "<polyline fill=\"none\" stroke=\"black\" points=\"25.5,-28.5 25.5,-64.5 \"/>\n",
       "<text text-anchor=\"middle\" x=\"76.5\" y=\"-42.8\" font-family=\"Times,serif\" font-size=\"14.00\">data 8.0000</text>\n",
       "<polyline fill=\"none\" stroke=\"black\" points=\"127.5,-28.5 127.5,-64.5 \"/>\n",
       "<text text-anchor=\"middle\" x=\"181.5\" y=\"-42.8\" font-family=\"Times,serif\" font-size=\"14.00\">grad &#45;4.0000</text>\n",
       "</g>\n",
       "<!-- 140200428723440&#45;&gt;140200428718496* -->\n",
       "<g id=\"edge6\" class=\"edge\">\n",
       "<title>140200428723440&#45;&gt;140200428718496*</title>\n",
       "<path fill=\"none\" stroke=\"black\" d=\"M235.72,-63.98C245.57,-65.46 254.96,-66.88 263.35,-68.14\"/>\n",
       "<polygon fill=\"black\" stroke=\"black\" points=\"262.98,-71.62 273.39,-69.65 264.02,-64.7 262.98,-71.62\"/>\n",
       "</g>\n",
       "<!-- 140200428718496 -->\n",
       "<g id=\"node6\" class=\"node\">\n",
       "<title>140200428718496</title>\n",
       "<polygon fill=\"none\" stroke=\"black\" points=\"363,-55.5 363,-91.5 608,-91.5 608,-55.5 363,-55.5\"/>\n",
       "<text text-anchor=\"middle\" x=\"375.5\" y=\"-69.8\" font-family=\"Times,serif\" font-size=\"14.00\">e</text>\n",
       "<polyline fill=\"none\" stroke=\"black\" points=\"388,-55.5 388,-91.5 \"/>\n",
       "<text text-anchor=\"middle\" x=\"446\" y=\"-69.8\" font-family=\"Times,serif\" font-size=\"14.00\">data &#45;32.0000</text>\n",
       "<polyline fill=\"none\" stroke=\"black\" points=\"504,-55.5 504,-91.5 \"/>\n",
       "<text text-anchor=\"middle\" x=\"556\" y=\"-69.8\" font-family=\"Times,serif\" font-size=\"14.00\">grad 1.0000</text>\n",
       "</g>\n",
       "<!-- 140200428718496&#45;&gt;140200428717728+ -->\n",
       "<g id=\"edge4\" class=\"edge\">\n",
       "<title>140200428718496&#45;&gt;140200428717728+</title>\n",
       "<path fill=\"none\" stroke=\"black\" d=\"M604.53,-55.49C615.23,-53.86 625.41,-52.3 634.42,-50.93\"/>\n",
       "<polygon fill=\"black\" stroke=\"black\" points=\"635.05,-54.37 644.41,-49.4 634,-47.45 635.05,-54.37\"/>\n",
       "</g>\n",
       "<!-- 140200428718496*&#45;&gt;140200428718496 -->\n",
       "<g id=\"edge2\" class=\"edge\">\n",
       "<title>140200428718496*&#45;&gt;140200428718496</title>\n",
       "<path fill=\"none\" stroke=\"black\" d=\"M327.29,-73.5C334.79,-73.5 343.51,-73.5 352.93,-73.5\"/>\n",
       "<polygon fill=\"black\" stroke=\"black\" points=\"352.97,-77 362.97,-73.5 352.97,-70 352.97,-77\"/>\n",
       "</g>\n",
       "</g>\n",
       "</svg>\n"
      ],
      "text/plain": [
       "<graphviz.graphs.Digraph at 0x7f82f4c05000>"
      ]
     },
     "execution_count": 62,
     "metadata": {},
     "output_type": "execute_result"
    }
   ],
   "source": [
    "draw_dot(d)"
   ]
  },
  {
   "cell_type": "markdown",
   "metadata": {
    "id": "XcRifGY5pKy9"
   },
   "source": [
    "## **Task 8**\n",
    "---"
   ]
  },
  {
   "cell_type": "markdown",
   "metadata": {
    "id": "riL4RAZopKy-"
   },
   "source": [
    "- Fix the bug on `Value` class `backward`"
   ]
  },
  {
   "cell_type": "markdown",
   "metadata": {
    "id": "itE75OhPpR8y"
   },
   "source": [
    "Let's solve this. Say you want to differentiate a simple equation\n",
    "\n",
    "$$\n",
    "b = a + a\n",
    "$$\n",
    "\n",
    "then\n",
    "$$\n",
    "\\cfrac{db}{da} = 2.0\n",
    "$$\n",
    "\n",
    "Let's find its differentation with our computational graph"
   ]
  },
  {
   "cell_type": "code",
   "execution_count": 63,
   "metadata": {
    "colab": {
     "base_uri": "https://localhost:8080/",
     "height": 81
    },
    "id": "w4vzp7MsOshT",
    "outputId": "c1ad836a-68fc-4b54-a06f-eec43c36e3e5"
   },
   "outputs": [
    {
     "data": {
      "image/svg+xml": [
       "<?xml version=\"1.0\" encoding=\"UTF-8\" standalone=\"no\"?>\n",
       "<!DOCTYPE svg PUBLIC \"-//W3C//DTD SVG 1.1//EN\"\n",
       " \"http://www.w3.org/Graphics/SVG/1.1/DTD/svg11.dtd\">\n",
       "<!-- Generated by graphviz version 2.43.0 (0)\n",
       " -->\n",
       "<!-- Title: %3 Pages: 1 -->\n",
       "<svg width=\"597pt\" height=\"45pt\"\n",
       " viewBox=\"0.00 0.00 597.00 45.00\" xmlns=\"http://www.w3.org/2000/svg\" xmlns:xlink=\"http://www.w3.org/1999/xlink\">\n",
       "<g id=\"graph0\" class=\"graph\" transform=\"scale(1 1) rotate(0) translate(4 41)\">\n",
       "<title>%3</title>\n",
       "<polygon fill=\"white\" stroke=\"transparent\" points=\"-4,4 -4,-41 593,-41 593,4 -4,4\"/>\n",
       "<!-- 140200428724400 -->\n",
       "<g id=\"node1\" class=\"node\">\n",
       "<title>140200428724400</title>\n",
       "<polygon fill=\"none\" stroke=\"black\" points=\"357,-0.5 357,-36.5 589,-36.5 589,-0.5 357,-0.5\"/>\n",
       "<text text-anchor=\"middle\" x=\"370\" y=\"-14.8\" font-family=\"Times,serif\" font-size=\"14.00\">b</text>\n",
       "<polyline fill=\"none\" stroke=\"black\" points=\"383,-0.5 383,-36.5 \"/>\n",
       "<text text-anchor=\"middle\" x=\"434\" y=\"-14.8\" font-family=\"Times,serif\" font-size=\"14.00\">data 8.0000</text>\n",
       "<polyline fill=\"none\" stroke=\"black\" points=\"485,-0.5 485,-36.5 \"/>\n",
       "<text text-anchor=\"middle\" x=\"537\" y=\"-14.8\" font-family=\"Times,serif\" font-size=\"14.00\">grad 0.0000</text>\n",
       "</g>\n",
       "<!-- 140200428724400+ -->\n",
       "<g id=\"node2\" class=\"node\">\n",
       "<title>140200428724400+</title>\n",
       "<ellipse fill=\"none\" stroke=\"black\" cx=\"294\" cy=\"-18.5\" rx=\"27\" ry=\"18\"/>\n",
       "<text text-anchor=\"middle\" x=\"294\" y=\"-14.8\" font-family=\"Times,serif\" font-size=\"14.00\">+</text>\n",
       "</g>\n",
       "<!-- 140200428724400+&#45;&gt;140200428724400 -->\n",
       "<g id=\"edge1\" class=\"edge\">\n",
       "<title>140200428724400+&#45;&gt;140200428724400</title>\n",
       "<path fill=\"none\" stroke=\"black\" d=\"M321.12,-18.5C328.53,-18.5 337.14,-18.5 346.4,-18.5\"/>\n",
       "<polygon fill=\"black\" stroke=\"black\" points=\"346.69,-22 356.69,-18.5 346.69,-15 346.69,-22\"/>\n",
       "</g>\n",
       "<!-- 140200428722480 -->\n",
       "<g id=\"node3\" class=\"node\">\n",
       "<title>140200428722480</title>\n",
       "<polygon fill=\"none\" stroke=\"black\" points=\"0,-0.5 0,-36.5 231,-36.5 231,-0.5 0,-0.5\"/>\n",
       "<text text-anchor=\"middle\" x=\"12.5\" y=\"-14.8\" font-family=\"Times,serif\" font-size=\"14.00\">a</text>\n",
       "<polyline fill=\"none\" stroke=\"black\" points=\"25,-0.5 25,-36.5 \"/>\n",
       "<text text-anchor=\"middle\" x=\"76\" y=\"-14.8\" font-family=\"Times,serif\" font-size=\"14.00\">data 4.0000</text>\n",
       "<polyline fill=\"none\" stroke=\"black\" points=\"127,-0.5 127,-36.5 \"/>\n",
       "<text text-anchor=\"middle\" x=\"179\" y=\"-14.8\" font-family=\"Times,serif\" font-size=\"14.00\">grad 0.0000</text>\n",
       "</g>\n",
       "<!-- 140200428722480&#45;&gt;140200428724400+ -->\n",
       "<g id=\"edge2\" class=\"edge\">\n",
       "<title>140200428722480&#45;&gt;140200428724400+</title>\n",
       "<path fill=\"none\" stroke=\"black\" d=\"M231.27,-18.5C240.32,-18.5 248.97,-18.5 256.76,-18.5\"/>\n",
       "<polygon fill=\"black\" stroke=\"black\" points=\"256.84,-22 266.84,-18.5 256.84,-15 256.84,-22\"/>\n",
       "</g>\n",
       "</g>\n",
       "</svg>\n"
      ],
      "text/plain": [
       "<graphviz.graphs.Digraph at 0x7f82f4c05ab0>"
      ]
     },
     "execution_count": 63,
     "metadata": {},
     "output_type": "execute_result"
    }
   ],
   "source": [
    "# input\n",
    "a = Value(data=4.0, label='a')\n",
    "b = a + a; b.label='b'\n",
    "\n",
    "draw_dot(b)"
   ]
  },
  {
   "cell_type": "code",
   "execution_count": 64,
   "metadata": {
    "colab": {
     "base_uri": "https://localhost:8080/",
     "height": 81
    },
    "id": "eSCaNjB2puKn",
    "outputId": "b2162ed3-3365-45e7-e1fb-ad39f6b550c8"
   },
   "outputs": [
    {
     "data": {
      "image/svg+xml": [
       "<?xml version=\"1.0\" encoding=\"UTF-8\" standalone=\"no\"?>\n",
       "<!DOCTYPE svg PUBLIC \"-//W3C//DTD SVG 1.1//EN\"\n",
       " \"http://www.w3.org/Graphics/SVG/1.1/DTD/svg11.dtd\">\n",
       "<!-- Generated by graphviz version 2.43.0 (0)\n",
       " -->\n",
       "<!-- Title: %3 Pages: 1 -->\n",
       "<svg width=\"597pt\" height=\"45pt\"\n",
       " viewBox=\"0.00 0.00 597.00 45.00\" xmlns=\"http://www.w3.org/2000/svg\" xmlns:xlink=\"http://www.w3.org/1999/xlink\">\n",
       "<g id=\"graph0\" class=\"graph\" transform=\"scale(1 1) rotate(0) translate(4 41)\">\n",
       "<title>%3</title>\n",
       "<polygon fill=\"white\" stroke=\"transparent\" points=\"-4,4 -4,-41 593,-41 593,4 -4,4\"/>\n",
       "<!-- 140200428724400 -->\n",
       "<g id=\"node1\" class=\"node\">\n",
       "<title>140200428724400</title>\n",
       "<polygon fill=\"none\" stroke=\"black\" points=\"357,-0.5 357,-36.5 589,-36.5 589,-0.5 357,-0.5\"/>\n",
       "<text text-anchor=\"middle\" x=\"370\" y=\"-14.8\" font-family=\"Times,serif\" font-size=\"14.00\">b</text>\n",
       "<polyline fill=\"none\" stroke=\"black\" points=\"383,-0.5 383,-36.5 \"/>\n",
       "<text text-anchor=\"middle\" x=\"434\" y=\"-14.8\" font-family=\"Times,serif\" font-size=\"14.00\">data 8.0000</text>\n",
       "<polyline fill=\"none\" stroke=\"black\" points=\"485,-0.5 485,-36.5 \"/>\n",
       "<text text-anchor=\"middle\" x=\"537\" y=\"-14.8\" font-family=\"Times,serif\" font-size=\"14.00\">grad 1.0000</text>\n",
       "</g>\n",
       "<!-- 140200428724400+ -->\n",
       "<g id=\"node2\" class=\"node\">\n",
       "<title>140200428724400+</title>\n",
       "<ellipse fill=\"none\" stroke=\"black\" cx=\"294\" cy=\"-18.5\" rx=\"27\" ry=\"18\"/>\n",
       "<text text-anchor=\"middle\" x=\"294\" y=\"-14.8\" font-family=\"Times,serif\" font-size=\"14.00\">+</text>\n",
       "</g>\n",
       "<!-- 140200428724400+&#45;&gt;140200428724400 -->\n",
       "<g id=\"edge1\" class=\"edge\">\n",
       "<title>140200428724400+&#45;&gt;140200428724400</title>\n",
       "<path fill=\"none\" stroke=\"black\" d=\"M321.12,-18.5C328.53,-18.5 337.14,-18.5 346.4,-18.5\"/>\n",
       "<polygon fill=\"black\" stroke=\"black\" points=\"346.69,-22 356.69,-18.5 346.69,-15 346.69,-22\"/>\n",
       "</g>\n",
       "<!-- 140200428722480 -->\n",
       "<g id=\"node3\" class=\"node\">\n",
       "<title>140200428722480</title>\n",
       "<polygon fill=\"none\" stroke=\"black\" points=\"0,-0.5 0,-36.5 231,-36.5 231,-0.5 0,-0.5\"/>\n",
       "<text text-anchor=\"middle\" x=\"12.5\" y=\"-14.8\" font-family=\"Times,serif\" font-size=\"14.00\">a</text>\n",
       "<polyline fill=\"none\" stroke=\"black\" points=\"25,-0.5 25,-36.5 \"/>\n",
       "<text text-anchor=\"middle\" x=\"76\" y=\"-14.8\" font-family=\"Times,serif\" font-size=\"14.00\">data 4.0000</text>\n",
       "<polyline fill=\"none\" stroke=\"black\" points=\"127,-0.5 127,-36.5 \"/>\n",
       "<text text-anchor=\"middle\" x=\"179\" y=\"-14.8\" font-family=\"Times,serif\" font-size=\"14.00\">grad 1.0000</text>\n",
       "</g>\n",
       "<!-- 140200428722480&#45;&gt;140200428724400+ -->\n",
       "<g id=\"edge2\" class=\"edge\">\n",
       "<title>140200428722480&#45;&gt;140200428724400+</title>\n",
       "<path fill=\"none\" stroke=\"black\" d=\"M231.27,-18.5C240.32,-18.5 248.97,-18.5 256.76,-18.5\"/>\n",
       "<polygon fill=\"black\" stroke=\"black\" points=\"256.84,-22 266.84,-18.5 256.84,-15 256.84,-22\"/>\n",
       "</g>\n",
       "</g>\n",
       "</svg>\n"
      ],
      "text/plain": [
       "<graphviz.graphs.Digraph at 0x7f82f4c058a0>"
      ]
     },
     "execution_count": 64,
     "metadata": {},
     "output_type": "execute_result"
    }
   ],
   "source": [
    "# Lets do the backward\n",
    "b.backward()\n",
    "\n",
    "draw_dot(b)"
   ]
  },
  {
   "cell_type": "markdown",
   "metadata": {
    "id": "7X-ckRTKqbn9"
   },
   "source": [
    "The $\\cfrac{db}{da}$ should be 2.0\n",
    "\n",
    "Why is this happen? **Because we do not accumulate the grad of similar variables**\n",
    "\n",
    "So, instead of using `self.grad = <grad> * out.grad` we will do `self.grad += <grad> * out.grad`."
   ]
  },
  {
   "cell_type": "markdown",
   "metadata": {
    "id": "oDc9G9hQq038"
   },
   "source": [
    "Let's update the class!"
   ]
  },
  {
   "cell_type": "code",
   "execution_count": 65,
   "metadata": {
    "id": "TcWVHLaQp18N"
   },
   "outputs": [],
   "source": [
    "# Write your code in here\n",
    "class Value:\n",
    "    def __init__(self, data, _children=(), _op='', label=''):\n",
    "        self.data = data\n",
    "        self._prev = set(_children)\n",
    "        self._op = _op\n",
    "        self.label = label\n",
    "\n",
    "        # For automatic differentiation\n",
    "        self.grad = 0.0\n",
    "        self._backward = lambda: None\n",
    "\n",
    "    def __repr__(self):\n",
    "        return f'Value(data={self.data})'\n",
    "\n",
    "    def __add__(self, other):\n",
    "        out = Value(data = self.data + other.data,\n",
    "                    _children = (self, other),\n",
    "                    _op = '+')\n",
    "\n",
    "        # Local grad function\n",
    "        def _backward():\n",
    "            # Say C = A + B\n",
    "            # A = self ; B = other\n",
    "\n",
    "            # This is dC / dA = 1.0\n",
    "            # add out.grad      --> dprev / dC\n",
    "            # then self.grad    --> dprev / dA\n",
    "            self.grad += 1.0 * out.grad\n",
    "\n",
    "            # This is dC / dB = 1.0\n",
    "            other.grad += 1.0 * out.grad\n",
    "\n",
    "        # Call the local functions\n",
    "        out._backward = _backward\n",
    "\n",
    "        return out\n",
    "\n",
    "    def __mul__(self, other):\n",
    "        out = Value(data = self.data * other.data,\n",
    "                    _children = (self, other),\n",
    "                    _op = '*')\n",
    "\n",
    "        # Local grad function\n",
    "        def _backward():\n",
    "            # Say C = A * B\n",
    "            # A = self ; B = other\n",
    "\n",
    "            # This is dC / dA = B\n",
    "            self.grad += other.data * out.grad\n",
    "\n",
    "            # This is dC / dB = A\n",
    "            other.grad += self.data * out.grad\n",
    "\n",
    "        # Call the local functions\n",
    "        out._backward = _backward\n",
    "\n",
    "        return out\n",
    "\n",
    "    def backward(self):\n",
    "        # Initialize\n",
    "        topo = []\n",
    "        visited = set()\n",
    "\n",
    "        # create a function to build topology recursively\n",
    "        def build_topo(node):\n",
    "            if node not in visited:\n",
    "                # add node\n",
    "                visited.add(node)\n",
    "\n",
    "                # visit child recursively\n",
    "                for child in node._prev:\n",
    "                    build_topo(child)\n",
    "\n",
    "                # append node to topo\n",
    "                topo.append(node)\n",
    "\n",
    "        # Run the build_topo\n",
    "        build_topo(node = self)\n",
    "\n",
    "        # Run the backward operation\n",
    "        self.grad = 1.0\n",
    "        for node in reversed(topo):\n",
    "            node._backward()\n"
   ]
  },
  {
   "cell_type": "markdown",
   "metadata": {
    "id": "mV_8pNrYrBJF"
   },
   "source": [
    "Let's validate"
   ]
  },
  {
   "cell_type": "code",
   "execution_count": 66,
   "metadata": {
    "colab": {
     "base_uri": "https://localhost:8080/",
     "height": 81
    },
    "id": "Za2NFHgvrCSP",
    "outputId": "9c3b3d26-5ca7-44c0-c1a6-e0061e42f22c"
   },
   "outputs": [
    {
     "data": {
      "image/svg+xml": [
       "<?xml version=\"1.0\" encoding=\"UTF-8\" standalone=\"no\"?>\n",
       "<!DOCTYPE svg PUBLIC \"-//W3C//DTD SVG 1.1//EN\"\n",
       " \"http://www.w3.org/Graphics/SVG/1.1/DTD/svg11.dtd\">\n",
       "<!-- Generated by graphviz version 2.43.0 (0)\n",
       " -->\n",
       "<!-- Title: %3 Pages: 1 -->\n",
       "<svg width=\"597pt\" height=\"45pt\"\n",
       " viewBox=\"0.00 0.00 597.00 45.00\" xmlns=\"http://www.w3.org/2000/svg\" xmlns:xlink=\"http://www.w3.org/1999/xlink\">\n",
       "<g id=\"graph0\" class=\"graph\" transform=\"scale(1 1) rotate(0) translate(4 41)\">\n",
       "<title>%3</title>\n",
       "<polygon fill=\"white\" stroke=\"transparent\" points=\"-4,4 -4,-41 593,-41 593,4 -4,4\"/>\n",
       "<!-- 140200428352896 -->\n",
       "<g id=\"node1\" class=\"node\">\n",
       "<title>140200428352896</title>\n",
       "<polygon fill=\"none\" stroke=\"black\" points=\"357,-0.5 357,-36.5 589,-36.5 589,-0.5 357,-0.5\"/>\n",
       "<text text-anchor=\"middle\" x=\"370\" y=\"-14.8\" font-family=\"Times,serif\" font-size=\"14.00\">b</text>\n",
       "<polyline fill=\"none\" stroke=\"black\" points=\"383,-0.5 383,-36.5 \"/>\n",
       "<text text-anchor=\"middle\" x=\"434\" y=\"-14.8\" font-family=\"Times,serif\" font-size=\"14.00\">data 8.0000</text>\n",
       "<polyline fill=\"none\" stroke=\"black\" points=\"485,-0.5 485,-36.5 \"/>\n",
       "<text text-anchor=\"middle\" x=\"537\" y=\"-14.8\" font-family=\"Times,serif\" font-size=\"14.00\">grad 0.0000</text>\n",
       "</g>\n",
       "<!-- 140200428352896+ -->\n",
       "<g id=\"node2\" class=\"node\">\n",
       "<title>140200428352896+</title>\n",
       "<ellipse fill=\"none\" stroke=\"black\" cx=\"294\" cy=\"-18.5\" rx=\"27\" ry=\"18\"/>\n",
       "<text text-anchor=\"middle\" x=\"294\" y=\"-14.8\" font-family=\"Times,serif\" font-size=\"14.00\">+</text>\n",
       "</g>\n",
       "<!-- 140200428352896+&#45;&gt;140200428352896 -->\n",
       "<g id=\"edge1\" class=\"edge\">\n",
       "<title>140200428352896+&#45;&gt;140200428352896</title>\n",
       "<path fill=\"none\" stroke=\"black\" d=\"M321.12,-18.5C328.53,-18.5 337.14,-18.5 346.4,-18.5\"/>\n",
       "<polygon fill=\"black\" stroke=\"black\" points=\"346.69,-22 356.69,-18.5 346.69,-15 346.69,-22\"/>\n",
       "</g>\n",
       "<!-- 140200428354336 -->\n",
       "<g id=\"node3\" class=\"node\">\n",
       "<title>140200428354336</title>\n",
       "<polygon fill=\"none\" stroke=\"black\" points=\"0,-0.5 0,-36.5 231,-36.5 231,-0.5 0,-0.5\"/>\n",
       "<text text-anchor=\"middle\" x=\"12.5\" y=\"-14.8\" font-family=\"Times,serif\" font-size=\"14.00\">a</text>\n",
       "<polyline fill=\"none\" stroke=\"black\" points=\"25,-0.5 25,-36.5 \"/>\n",
       "<text text-anchor=\"middle\" x=\"76\" y=\"-14.8\" font-family=\"Times,serif\" font-size=\"14.00\">data 4.0000</text>\n",
       "<polyline fill=\"none\" stroke=\"black\" points=\"127,-0.5 127,-36.5 \"/>\n",
       "<text text-anchor=\"middle\" x=\"179\" y=\"-14.8\" font-family=\"Times,serif\" font-size=\"14.00\">grad 0.0000</text>\n",
       "</g>\n",
       "<!-- 140200428354336&#45;&gt;140200428352896+ -->\n",
       "<g id=\"edge2\" class=\"edge\">\n",
       "<title>140200428354336&#45;&gt;140200428352896+</title>\n",
       "<path fill=\"none\" stroke=\"black\" d=\"M231.27,-18.5C240.32,-18.5 248.97,-18.5 256.76,-18.5\"/>\n",
       "<polygon fill=\"black\" stroke=\"black\" points=\"256.84,-22 266.84,-18.5 256.84,-15 256.84,-22\"/>\n",
       "</g>\n",
       "</g>\n",
       "</svg>\n"
      ],
      "text/plain": [
       "<graphviz.graphs.Digraph at 0x7f82f4babb50>"
      ]
     },
     "execution_count": 66,
     "metadata": {},
     "output_type": "execute_result"
    }
   ],
   "source": [
    "# input\n",
    "a = Value(data=4.0, label='a')\n",
    "b = a + a; b.label='b'\n",
    "\n",
    "draw_dot(b)"
   ]
  },
  {
   "cell_type": "code",
   "execution_count": 67,
   "metadata": {
    "colab": {
     "base_uri": "https://localhost:8080/",
     "height": 81
    },
    "id": "RrC_OFTirCTJ",
    "outputId": "85099dd0-7398-4ba9-b12e-b12ed85e3a3e"
   },
   "outputs": [
    {
     "data": {
      "image/svg+xml": [
       "<?xml version=\"1.0\" encoding=\"UTF-8\" standalone=\"no\"?>\n",
       "<!DOCTYPE svg PUBLIC \"-//W3C//DTD SVG 1.1//EN\"\n",
       " \"http://www.w3.org/Graphics/SVG/1.1/DTD/svg11.dtd\">\n",
       "<!-- Generated by graphviz version 2.43.0 (0)\n",
       " -->\n",
       "<!-- Title: %3 Pages: 1 -->\n",
       "<svg width=\"597pt\" height=\"45pt\"\n",
       " viewBox=\"0.00 0.00 597.00 45.00\" xmlns=\"http://www.w3.org/2000/svg\" xmlns:xlink=\"http://www.w3.org/1999/xlink\">\n",
       "<g id=\"graph0\" class=\"graph\" transform=\"scale(1 1) rotate(0) translate(4 41)\">\n",
       "<title>%3</title>\n",
       "<polygon fill=\"white\" stroke=\"transparent\" points=\"-4,4 -4,-41 593,-41 593,4 -4,4\"/>\n",
       "<!-- 140200428352896 -->\n",
       "<g id=\"node1\" class=\"node\">\n",
       "<title>140200428352896</title>\n",
       "<polygon fill=\"none\" stroke=\"black\" points=\"357,-0.5 357,-36.5 589,-36.5 589,-0.5 357,-0.5\"/>\n",
       "<text text-anchor=\"middle\" x=\"370\" y=\"-14.8\" font-family=\"Times,serif\" font-size=\"14.00\">b</text>\n",
       "<polyline fill=\"none\" stroke=\"black\" points=\"383,-0.5 383,-36.5 \"/>\n",
       "<text text-anchor=\"middle\" x=\"434\" y=\"-14.8\" font-family=\"Times,serif\" font-size=\"14.00\">data 8.0000</text>\n",
       "<polyline fill=\"none\" stroke=\"black\" points=\"485,-0.5 485,-36.5 \"/>\n",
       "<text text-anchor=\"middle\" x=\"537\" y=\"-14.8\" font-family=\"Times,serif\" font-size=\"14.00\">grad 1.0000</text>\n",
       "</g>\n",
       "<!-- 140200428352896+ -->\n",
       "<g id=\"node2\" class=\"node\">\n",
       "<title>140200428352896+</title>\n",
       "<ellipse fill=\"none\" stroke=\"black\" cx=\"294\" cy=\"-18.5\" rx=\"27\" ry=\"18\"/>\n",
       "<text text-anchor=\"middle\" x=\"294\" y=\"-14.8\" font-family=\"Times,serif\" font-size=\"14.00\">+</text>\n",
       "</g>\n",
       "<!-- 140200428352896+&#45;&gt;140200428352896 -->\n",
       "<g id=\"edge1\" class=\"edge\">\n",
       "<title>140200428352896+&#45;&gt;140200428352896</title>\n",
       "<path fill=\"none\" stroke=\"black\" d=\"M321.12,-18.5C328.53,-18.5 337.14,-18.5 346.4,-18.5\"/>\n",
       "<polygon fill=\"black\" stroke=\"black\" points=\"346.69,-22 356.69,-18.5 346.69,-15 346.69,-22\"/>\n",
       "</g>\n",
       "<!-- 140200428354336 -->\n",
       "<g id=\"node3\" class=\"node\">\n",
       "<title>140200428354336</title>\n",
       "<polygon fill=\"none\" stroke=\"black\" points=\"0,-0.5 0,-36.5 231,-36.5 231,-0.5 0,-0.5\"/>\n",
       "<text text-anchor=\"middle\" x=\"12.5\" y=\"-14.8\" font-family=\"Times,serif\" font-size=\"14.00\">a</text>\n",
       "<polyline fill=\"none\" stroke=\"black\" points=\"25,-0.5 25,-36.5 \"/>\n",
       "<text text-anchor=\"middle\" x=\"76\" y=\"-14.8\" font-family=\"Times,serif\" font-size=\"14.00\">data 4.0000</text>\n",
       "<polyline fill=\"none\" stroke=\"black\" points=\"127,-0.5 127,-36.5 \"/>\n",
       "<text text-anchor=\"middle\" x=\"179\" y=\"-14.8\" font-family=\"Times,serif\" font-size=\"14.00\">grad 2.0000</text>\n",
       "</g>\n",
       "<!-- 140200428354336&#45;&gt;140200428352896+ -->\n",
       "<g id=\"edge2\" class=\"edge\">\n",
       "<title>140200428354336&#45;&gt;140200428352896+</title>\n",
       "<path fill=\"none\" stroke=\"black\" d=\"M231.27,-18.5C240.32,-18.5 248.97,-18.5 256.76,-18.5\"/>\n",
       "<polygon fill=\"black\" stroke=\"black\" points=\"256.84,-22 266.84,-18.5 256.84,-15 256.84,-22\"/>\n",
       "</g>\n",
       "</g>\n",
       "</svg>\n"
      ],
      "text/plain": [
       "<graphviz.graphs.Digraph at 0x7f82f4baabf0>"
      ]
     },
     "execution_count": 67,
     "metadata": {},
     "output_type": "execute_result"
    }
   ],
   "source": [
    "# Lets do the backward\n",
    "b.backward()\n",
    "\n",
    "draw_dot(b)"
   ]
  },
  {
   "cell_type": "markdown",
   "metadata": {
    "id": "PjFKFZyXrFTD"
   },
   "source": [
    "Great!"
   ]
  },
  {
   "cell_type": "markdown",
   "metadata": {
    "id": "du1gazBirQJz"
   },
   "source": [
    "## **Exercise**\n",
    "---"
   ]
  },
  {
   "cell_type": "markdown",
   "metadata": {
    "id": "OrkhQhrqrQJ2"
   },
   "source": [
    "Given a linear regression function\n",
    "\n",
    "$$\n",
    "y = w_{0} + w_{1}x_{1} + w_{2}x_{2}\n",
    "$$\n",
    "\n",
    "Your tasks are:\n",
    "1. Create a computational graph to find $y$ where\n",
    "  - $w = [0.9, 0.01, 0.2]$\n",
    "  - $x = [1.0, -1.0]$\n",
    "\n",
    "2. Draw the computational graph\n",
    "3. Find the gradient of $y$ with respect to each model parameters"
   ]
  },
  {
   "cell_type": "code",
   "execution_count": 68,
   "metadata": {
    "id": "ufYWNwE-rQJ3"
   },
   "outputs": [],
   "source": [
    "# Create an input\n",
    "x1 = Value(data=1.0, label='x1')\n",
    "x2 = Value(data=-1.0, label='x2')\n",
    "\n",
    "w0 = Value(data=0.9, label='w0')\n",
    "w1 = Value(data=0.01, label='w1')\n",
    "w2 = Value(data=0.2, label='w2')"
   ]
  },
  {
   "cell_type": "code",
   "execution_count": 69,
   "metadata": {
    "colab": {
     "base_uri": "https://localhost:8080/"
    },
    "id": "w8CVcHv4rQJ5",
    "outputId": "ceee38bd-7b75-42a2-dfb7-8c2f28f050b3"
   },
   "outputs": [
    {
     "data": {
      "text/plain": [
       "Value(data=0.71)"
      ]
     },
     "execution_count": 69,
     "metadata": {},
     "output_type": "execute_result"
    }
   ],
   "source": [
    "# Create a computational graph\n",
    "w1x1 = w1 * x1; w1x1.label = 'w1x1'\n",
    "w2x2 = w2 * x2; w2x2.label = 'w2x2'\n",
    "w1x1w2x2 = w1x1 + w2x2; w1x1w2x2.label = 'w1x1 + w2x2'\n",
    "\n",
    "y = w0 + w1x1w2x2; y.label = 'y'\n",
    "y"
   ]
  },
  {
   "cell_type": "code",
   "execution_count": 70,
   "metadata": {
    "colab": {
     "base_uri": "https://localhost:8080/",
     "height": 301
    },
    "id": "1uZgi37RrQJ6",
    "outputId": "d7ac434b-d676-4825-80c5-ea217c5364a4"
   },
   "outputs": [
    {
     "data": {
      "image/svg+xml": [
       "<?xml version=\"1.0\" encoding=\"UTF-8\" standalone=\"no\"?>\n",
       "<!DOCTYPE svg PUBLIC \"-//W3C//DTD SVG 1.1//EN\"\n",
       " \"http://www.w3.org/Graphics/SVG/1.1/DTD/svg11.dtd\">\n",
       "<!-- Generated by graphviz version 2.43.0 (0)\n",
       " -->\n",
       "<!-- Title: %3 Pages: 1 -->\n",
       "<svg width=\"1453pt\" height=\"210pt\"\n",
       " viewBox=\"0.00 0.00 1453.00 210.00\" xmlns=\"http://www.w3.org/2000/svg\" xmlns:xlink=\"http://www.w3.org/1999/xlink\">\n",
       "<g id=\"graph0\" class=\"graph\" transform=\"scale(1 1) rotate(0) translate(4 206)\">\n",
       "<title>%3</title>\n",
       "<polygon fill=\"white\" stroke=\"transparent\" points=\"-4,4 -4,-206 1449,-206 1449,4 -4,4\"/>\n",
       "<!-- 140200428350112 -->\n",
       "<g id=\"node1\" class=\"node\">\n",
       "<title>140200428350112</title>\n",
       "<polygon fill=\"none\" stroke=\"black\" points=\"373.5,-55.5 373.5,-91.5 634.5,-91.5 634.5,-55.5 373.5,-55.5\"/>\n",
       "<text text-anchor=\"middle\" x=\"401\" y=\"-69.8\" font-family=\"Times,serif\" font-size=\"14.00\">w1x1</text>\n",
       "<polyline fill=\"none\" stroke=\"black\" points=\"428.5,-55.5 428.5,-91.5 \"/>\n",
       "<text text-anchor=\"middle\" x=\"479.5\" y=\"-69.8\" font-family=\"Times,serif\" font-size=\"14.00\">data 0.0100</text>\n",
       "<polyline fill=\"none\" stroke=\"black\" points=\"530.5,-55.5 530.5,-91.5 \"/>\n",
       "<text text-anchor=\"middle\" x=\"582.5\" y=\"-69.8\" font-family=\"Times,serif\" font-size=\"14.00\">grad 0.0000</text>\n",
       "</g>\n",
       "<!-- 140200428352464+ -->\n",
       "<g id=\"node13\" class=\"node\">\n",
       "<title>140200428352464+</title>\n",
       "<ellipse fill=\"none\" stroke=\"black\" cx=\"700\" cy=\"-100.5\" rx=\"27\" ry=\"18\"/>\n",
       "<text text-anchor=\"middle\" x=\"700\" y=\"-96.8\" font-family=\"Times,serif\" font-size=\"14.00\">+</text>\n",
       "</g>\n",
       "<!-- 140200428350112&#45;&gt;140200428352464+ -->\n",
       "<g id=\"edge5\" class=\"edge\">\n",
       "<title>140200428350112&#45;&gt;140200428352464+</title>\n",
       "<path fill=\"none\" stroke=\"black\" d=\"M634.4,-91.51C644.78,-92.95 654.6,-94.32 663.3,-95.53\"/>\n",
       "<polygon fill=\"black\" stroke=\"black\" points=\"662.94,-99.01 673.32,-96.93 663.9,-92.08 662.94,-99.01\"/>\n",
       "</g>\n",
       "<!-- 140200428350112* -->\n",
       "<g id=\"node2\" class=\"node\">\n",
       "<title>140200428350112*</title>\n",
       "<ellipse fill=\"none\" stroke=\"black\" cx=\"308\" cy=\"-73.5\" rx=\"27\" ry=\"18\"/>\n",
       "<text text-anchor=\"middle\" x=\"308\" y=\"-69.8\" font-family=\"Times,serif\" font-size=\"14.00\">*</text>\n",
       "</g>\n",
       "<!-- 140200428350112*&#45;&gt;140200428350112 -->\n",
       "<g id=\"edge1\" class=\"edge\">\n",
       "<title>140200428350112*&#45;&gt;140200428350112</title>\n",
       "<path fill=\"none\" stroke=\"black\" d=\"M335.16,-73.5C343.24,-73.5 352.75,-73.5 363.07,-73.5\"/>\n",
       "<polygon fill=\"black\" stroke=\"black\" points=\"363.2,-77 373.2,-73.5 363.2,-70 363.2,-77\"/>\n",
       "</g>\n",
       "<!-- 140200462919344 -->\n",
       "<g id=\"node3\" class=\"node\">\n",
       "<title>140200462919344</title>\n",
       "<polygon fill=\"none\" stroke=\"black\" points=\"2.5,-55.5 2.5,-91.5 242.5,-91.5 242.5,-55.5 2.5,-55.5\"/>\n",
       "<text text-anchor=\"middle\" x=\"19.5\" y=\"-69.8\" font-family=\"Times,serif\" font-size=\"14.00\">x1</text>\n",
       "<polyline fill=\"none\" stroke=\"black\" points=\"36.5,-55.5 36.5,-91.5 \"/>\n",
       "<text text-anchor=\"middle\" x=\"87.5\" y=\"-69.8\" font-family=\"Times,serif\" font-size=\"14.00\">data 1.0000</text>\n",
       "<polyline fill=\"none\" stroke=\"black\" points=\"138.5,-55.5 138.5,-91.5 \"/>\n",
       "<text text-anchor=\"middle\" x=\"190.5\" y=\"-69.8\" font-family=\"Times,serif\" font-size=\"14.00\">grad 0.0000</text>\n",
       "</g>\n",
       "<!-- 140200462919344&#45;&gt;140200428350112* -->\n",
       "<g id=\"edge12\" class=\"edge\">\n",
       "<title>140200462919344&#45;&gt;140200428350112*</title>\n",
       "<path fill=\"none\" stroke=\"black\" d=\"M242.56,-73.5C252.61,-73.5 262.17,-73.5 270.71,-73.5\"/>\n",
       "<polygon fill=\"black\" stroke=\"black\" points=\"270.93,-77 280.93,-73.5 270.93,-70 270.93,-77\"/>\n",
       "</g>\n",
       "<!-- 140200428354000 -->\n",
       "<g id=\"node4\" class=\"node\">\n",
       "<title>140200428354000</title>\n",
       "<polygon fill=\"none\" stroke=\"black\" points=\"1214,-109.5 1214,-145.5 1445,-145.5 1445,-109.5 1214,-109.5\"/>\n",
       "<text text-anchor=\"middle\" x=\"1226.5\" y=\"-123.8\" font-family=\"Times,serif\" font-size=\"14.00\">y</text>\n",
       "<polyline fill=\"none\" stroke=\"black\" points=\"1239,-109.5 1239,-145.5 \"/>\n",
       "<text text-anchor=\"middle\" x=\"1290\" y=\"-123.8\" font-family=\"Times,serif\" font-size=\"14.00\">data 0.7100</text>\n",
       "<polyline fill=\"none\" stroke=\"black\" points=\"1341,-109.5 1341,-145.5 \"/>\n",
       "<text text-anchor=\"middle\" x=\"1393\" y=\"-123.8\" font-family=\"Times,serif\" font-size=\"14.00\">grad 0.0000</text>\n",
       "</g>\n",
       "<!-- 140200428354000+ -->\n",
       "<g id=\"node5\" class=\"node\">\n",
       "<title>140200428354000+</title>\n",
       "<ellipse fill=\"none\" stroke=\"black\" cx=\"1151\" cy=\"-127.5\" rx=\"27\" ry=\"18\"/>\n",
       "<text text-anchor=\"middle\" x=\"1151\" y=\"-123.8\" font-family=\"Times,serif\" font-size=\"14.00\">+</text>\n",
       "</g>\n",
       "<!-- 140200428354000+&#45;&gt;140200428354000 -->\n",
       "<g id=\"edge2\" class=\"edge\">\n",
       "<title>140200428354000+&#45;&gt;140200428354000</title>\n",
       "<path fill=\"none\" stroke=\"black\" d=\"M1178.04,-127.5C1185.59,-127.5 1194.37,-127.5 1203.82,-127.5\"/>\n",
       "<polygon fill=\"black\" stroke=\"black\" points=\"1203.89,-131 1213.89,-127.5 1203.89,-124 1203.89,-131\"/>\n",
       "</g>\n",
       "<!-- 140200462917376 -->\n",
       "<g id=\"node6\" class=\"node\">\n",
       "<title>140200462917376</title>\n",
       "<polygon fill=\"none\" stroke=\"black\" points=\"803.5,-137.5 803.5,-173.5 1047.5,-173.5 1047.5,-137.5 803.5,-137.5\"/>\n",
       "<text text-anchor=\"middle\" x=\"822.5\" y=\"-151.8\" font-family=\"Times,serif\" font-size=\"14.00\">w0</text>\n",
       "<polyline fill=\"none\" stroke=\"black\" points=\"841.5,-137.5 841.5,-173.5 \"/>\n",
       "<text text-anchor=\"middle\" x=\"892.5\" y=\"-151.8\" font-family=\"Times,serif\" font-size=\"14.00\">data 0.9000</text>\n",
       "<polyline fill=\"none\" stroke=\"black\" points=\"943.5,-137.5 943.5,-173.5 \"/>\n",
       "<text text-anchor=\"middle\" x=\"995.5\" y=\"-151.8\" font-family=\"Times,serif\" font-size=\"14.00\">grad 0.0000</text>\n",
       "</g>\n",
       "<!-- 140200462917376&#45;&gt;140200428354000+ -->\n",
       "<g id=\"edge7\" class=\"edge\">\n",
       "<title>140200462917376&#45;&gt;140200428354000+</title>\n",
       "<path fill=\"none\" stroke=\"black\" d=\"M1047.73,-140.31C1072.04,-137.27 1095.74,-134.3 1114.2,-131.99\"/>\n",
       "<polygon fill=\"black\" stroke=\"black\" points=\"1114.66,-135.45 1124.15,-130.74 1113.79,-128.51 1114.66,-135.45\"/>\n",
       "</g>\n",
       "<!-- 140200428349200 -->\n",
       "<g id=\"node7\" class=\"node\">\n",
       "<title>140200428349200</title>\n",
       "<polygon fill=\"none\" stroke=\"black\" points=\"371,-110.5 371,-146.5 637,-146.5 637,-110.5 371,-110.5\"/>\n",
       "<text text-anchor=\"middle\" x=\"398.5\" y=\"-124.8\" font-family=\"Times,serif\" font-size=\"14.00\">w2x2</text>\n",
       "<polyline fill=\"none\" stroke=\"black\" points=\"426,-110.5 426,-146.5 \"/>\n",
       "<text text-anchor=\"middle\" x=\"479.5\" y=\"-124.8\" font-family=\"Times,serif\" font-size=\"14.00\">data &#45;0.2000</text>\n",
       "<polyline fill=\"none\" stroke=\"black\" points=\"533,-110.5 533,-146.5 \"/>\n",
       "<text text-anchor=\"middle\" x=\"585\" y=\"-124.8\" font-family=\"Times,serif\" font-size=\"14.00\">grad 0.0000</text>\n",
       "</g>\n",
       "<!-- 140200428349200&#45;&gt;140200428352464+ -->\n",
       "<g id=\"edge11\" class=\"edge\">\n",
       "<title>140200428349200&#45;&gt;140200428352464+</title>\n",
       "<path fill=\"none\" stroke=\"black\" d=\"M629.78,-110.49C641.77,-108.76 653.15,-107.12 663.08,-105.68\"/>\n",
       "<polygon fill=\"black\" stroke=\"black\" points=\"663.86,-109.11 673.25,-104.22 662.86,-102.18 663.86,-109.11\"/>\n",
       "</g>\n",
       "<!-- 140200428349200* -->\n",
       "<g id=\"node8\" class=\"node\">\n",
       "<title>140200428349200*</title>\n",
       "<ellipse fill=\"none\" stroke=\"black\" cx=\"308\" cy=\"-128.5\" rx=\"27\" ry=\"18\"/>\n",
       "<text text-anchor=\"middle\" x=\"308\" y=\"-124.8\" font-family=\"Times,serif\" font-size=\"14.00\">*</text>\n",
       "</g>\n",
       "<!-- 140200428349200*&#45;&gt;140200428349200 -->\n",
       "<g id=\"edge3\" class=\"edge\">\n",
       "<title>140200428349200*&#45;&gt;140200428349200</title>\n",
       "<path fill=\"none\" stroke=\"black\" d=\"M335.16,-128.5C342.61,-128.5 351.28,-128.5 360.68,-128.5\"/>\n",
       "<polygon fill=\"black\" stroke=\"black\" points=\"360.73,-132 370.73,-128.5 360.73,-125 360.73,-132\"/>\n",
       "</g>\n",
       "<!-- 140200462915360 -->\n",
       "<g id=\"node9\" class=\"node\">\n",
       "<title>140200462915360</title>\n",
       "<polygon fill=\"none\" stroke=\"black\" points=\"0.5,-165.5 0.5,-201.5 244.5,-201.5 244.5,-165.5 0.5,-165.5\"/>\n",
       "<text text-anchor=\"middle\" x=\"19.5\" y=\"-179.8\" font-family=\"Times,serif\" font-size=\"14.00\">w2</text>\n",
       "<polyline fill=\"none\" stroke=\"black\" points=\"38.5,-165.5 38.5,-201.5 \"/>\n",
       "<text text-anchor=\"middle\" x=\"89.5\" y=\"-179.8\" font-family=\"Times,serif\" font-size=\"14.00\">data 0.2000</text>\n",
       "<polyline fill=\"none\" stroke=\"black\" points=\"140.5,-165.5 140.5,-201.5 \"/>\n",
       "<text text-anchor=\"middle\" x=\"192.5\" y=\"-179.8\" font-family=\"Times,serif\" font-size=\"14.00\">grad 0.0000</text>\n",
       "</g>\n",
       "<!-- 140200462915360&#45;&gt;140200428349200* -->\n",
       "<g id=\"edge9\" class=\"edge\">\n",
       "<title>140200462915360&#45;&gt;140200428349200*</title>\n",
       "<path fill=\"none\" stroke=\"black\" d=\"M214.3,-165.48C224.74,-162.77 235.16,-159.78 245,-156.5 255.7,-152.94 267.04,-148.14 277.06,-143.52\"/>\n",
       "<polygon fill=\"black\" stroke=\"black\" points=\"278.66,-146.63 286.2,-139.19 275.66,-140.31 278.66,-146.63\"/>\n",
       "</g>\n",
       "<!-- 140200462919056 -->\n",
       "<g id=\"node10\" class=\"node\">\n",
       "<title>140200462919056</title>\n",
       "<polygon fill=\"none\" stroke=\"black\" points=\"0.5,-0.5 0.5,-36.5 244.5,-36.5 244.5,-0.5 0.5,-0.5\"/>\n",
       "<text text-anchor=\"middle\" x=\"19.5\" y=\"-14.8\" font-family=\"Times,serif\" font-size=\"14.00\">w1</text>\n",
       "<polyline fill=\"none\" stroke=\"black\" points=\"38.5,-0.5 38.5,-36.5 \"/>\n",
       "<text text-anchor=\"middle\" x=\"89.5\" y=\"-14.8\" font-family=\"Times,serif\" font-size=\"14.00\">data 0.0100</text>\n",
       "<polyline fill=\"none\" stroke=\"black\" points=\"140.5,-0.5 140.5,-36.5 \"/>\n",
       "<text text-anchor=\"middle\" x=\"192.5\" y=\"-14.8\" font-family=\"Times,serif\" font-size=\"14.00\">grad 0.0000</text>\n",
       "</g>\n",
       "<!-- 140200462919056&#45;&gt;140200428350112* -->\n",
       "<g id=\"edge10\" class=\"edge\">\n",
       "<title>140200462919056&#45;&gt;140200428350112*</title>\n",
       "<path fill=\"none\" stroke=\"black\" d=\"M210.65,-36.53C222.29,-39.54 234,-42.87 245,-46.5 255.45,-49.95 266.56,-54.49 276.45,-58.87\"/>\n",
       "<polygon fill=\"black\" stroke=\"black\" points=\"275.31,-62.19 285.86,-63.14 278.2,-55.82 275.31,-62.19\"/>\n",
       "</g>\n",
       "<!-- 140200462923712 -->\n",
       "<g id=\"node11\" class=\"node\">\n",
       "<title>140200462923712</title>\n",
       "<polygon fill=\"none\" stroke=\"black\" points=\"0,-110.5 0,-146.5 245,-146.5 245,-110.5 0,-110.5\"/>\n",
       "<text text-anchor=\"middle\" x=\"17\" y=\"-124.8\" font-family=\"Times,serif\" font-size=\"14.00\">x2</text>\n",
       "<polyline fill=\"none\" stroke=\"black\" points=\"34,-110.5 34,-146.5 \"/>\n",
       "<text text-anchor=\"middle\" x=\"87.5\" y=\"-124.8\" font-family=\"Times,serif\" font-size=\"14.00\">data &#45;1.0000</text>\n",
       "<polyline fill=\"none\" stroke=\"black\" points=\"141,-110.5 141,-146.5 \"/>\n",
       "<text text-anchor=\"middle\" x=\"193\" y=\"-124.8\" font-family=\"Times,serif\" font-size=\"14.00\">grad 0.0000</text>\n",
       "</g>\n",
       "<!-- 140200462923712&#45;&gt;140200428349200* -->\n",
       "<g id=\"edge8\" class=\"edge\">\n",
       "<title>140200462923712&#45;&gt;140200428349200*</title>\n",
       "<path fill=\"none\" stroke=\"black\" d=\"M245.13,-128.5C254.26,-128.5 262.95,-128.5 270.78,-128.5\"/>\n",
       "<polygon fill=\"black\" stroke=\"black\" points=\"270.88,-132 280.88,-128.5 270.88,-125 270.88,-132\"/>\n",
       "</g>\n",
       "<!-- 140200428352464 -->\n",
       "<g id=\"node12\" class=\"node\">\n",
       "<title>140200428352464</title>\n",
       "<polygon fill=\"none\" stroke=\"black\" points=\"763,-82.5 763,-118.5 1088,-118.5 1088,-82.5 763,-82.5\"/>\n",
       "<text text-anchor=\"middle\" x=\"820\" y=\"-96.8\" font-family=\"Times,serif\" font-size=\"14.00\">w1x1 + w2x2</text>\n",
       "<polyline fill=\"none\" stroke=\"black\" points=\"877,-82.5 877,-118.5 \"/>\n",
       "<text text-anchor=\"middle\" x=\"930.5\" y=\"-96.8\" font-family=\"Times,serif\" font-size=\"14.00\">data &#45;0.1900</text>\n",
       "<polyline fill=\"none\" stroke=\"black\" points=\"984,-82.5 984,-118.5 \"/>\n",
       "<text text-anchor=\"middle\" x=\"1036\" y=\"-96.8\" font-family=\"Times,serif\" font-size=\"14.00\">grad 0.0000</text>\n",
       "</g>\n",
       "<!-- 140200428352464&#45;&gt;140200428354000+ -->\n",
       "<g id=\"edge6\" class=\"edge\">\n",
       "<title>140200428352464&#45;&gt;140200428354000+</title>\n",
       "<path fill=\"none\" stroke=\"black\" d=\"M1075.58,-118.51C1089.66,-120.21 1102.84,-121.8 1114.09,-123.16\"/>\n",
       "<polygon fill=\"black\" stroke=\"black\" points=\"1113.89,-126.66 1124.24,-124.39 1114.73,-119.71 1113.89,-126.66\"/>\n",
       "</g>\n",
       "<!-- 140200428352464+&#45;&gt;140200428352464 -->\n",
       "<g id=\"edge4\" class=\"edge\">\n",
       "<title>140200428352464+&#45;&gt;140200428352464</title>\n",
       "<path fill=\"none\" stroke=\"black\" d=\"M727.08,-100.5C734.51,-100.5 743.21,-100.5 752.74,-100.5\"/>\n",
       "<polygon fill=\"black\" stroke=\"black\" points=\"752.95,-104 762.95,-100.5 752.95,-97 752.95,-104\"/>\n",
       "</g>\n",
       "</g>\n",
       "</svg>\n"
      ],
      "text/plain": [
       "<graphviz.graphs.Digraph at 0x7f82f4b79b10>"
      ]
     },
     "execution_count": 70,
     "metadata": {},
     "output_type": "execute_result"
    }
   ],
   "source": [
    "# Draw the computational graph\n",
    "draw_dot(root = y)"
   ]
  },
  {
   "cell_type": "code",
   "execution_count": 71,
   "metadata": {
    "id": "35XgO42Rq_Qm"
   },
   "outputs": [],
   "source": [
    "# Take the grad\n",
    "y.backward()"
   ]
  },
  {
   "cell_type": "code",
   "execution_count": 72,
   "metadata": {
    "colab": {
     "base_uri": "https://localhost:8080/",
     "height": 301
    },
    "id": "jLuh-srvrce2",
    "outputId": "168e4142-d142-4e0e-b87a-4e670ce06a66"
   },
   "outputs": [
    {
     "data": {
      "image/svg+xml": [
       "<?xml version=\"1.0\" encoding=\"UTF-8\" standalone=\"no\"?>\n",
       "<!DOCTYPE svg PUBLIC \"-//W3C//DTD SVG 1.1//EN\"\n",
       " \"http://www.w3.org/Graphics/SVG/1.1/DTD/svg11.dtd\">\n",
       "<!-- Generated by graphviz version 2.43.0 (0)\n",
       " -->\n",
       "<!-- Title: %3 Pages: 1 -->\n",
       "<svg width=\"1456pt\" height=\"210pt\"\n",
       " viewBox=\"0.00 0.00 1456.00 210.00\" xmlns=\"http://www.w3.org/2000/svg\" xmlns:xlink=\"http://www.w3.org/1999/xlink\">\n",
       "<g id=\"graph0\" class=\"graph\" transform=\"scale(1 1) rotate(0) translate(4 206)\">\n",
       "<title>%3</title>\n",
       "<polygon fill=\"white\" stroke=\"transparent\" points=\"-4,4 -4,-206 1452,-206 1452,4 -4,4\"/>\n",
       "<!-- 140200428350112 -->\n",
       "<g id=\"node1\" class=\"node\">\n",
       "<title>140200428350112</title>\n",
       "<polygon fill=\"none\" stroke=\"black\" points=\"376.5,-55.5 376.5,-91.5 637.5,-91.5 637.5,-55.5 376.5,-55.5\"/>\n",
       "<text text-anchor=\"middle\" x=\"404\" y=\"-69.8\" font-family=\"Times,serif\" font-size=\"14.00\">w1x1</text>\n",
       "<polyline fill=\"none\" stroke=\"black\" points=\"431.5,-55.5 431.5,-91.5 \"/>\n",
       "<text text-anchor=\"middle\" x=\"482.5\" y=\"-69.8\" font-family=\"Times,serif\" font-size=\"14.00\">data 0.0100</text>\n",
       "<polyline fill=\"none\" stroke=\"black\" points=\"533.5,-55.5 533.5,-91.5 \"/>\n",
       "<text text-anchor=\"middle\" x=\"585.5\" y=\"-69.8\" font-family=\"Times,serif\" font-size=\"14.00\">grad 1.0000</text>\n",
       "</g>\n",
       "<!-- 140200428352464+ -->\n",
       "<g id=\"node13\" class=\"node\">\n",
       "<title>140200428352464+</title>\n",
       "<ellipse fill=\"none\" stroke=\"black\" cx=\"703\" cy=\"-100.5\" rx=\"27\" ry=\"18\"/>\n",
       "<text text-anchor=\"middle\" x=\"703\" y=\"-96.8\" font-family=\"Times,serif\" font-size=\"14.00\">+</text>\n",
       "</g>\n",
       "<!-- 140200428350112&#45;&gt;140200428352464+ -->\n",
       "<g id=\"edge5\" class=\"edge\">\n",
       "<title>140200428350112&#45;&gt;140200428352464+</title>\n",
       "<path fill=\"none\" stroke=\"black\" d=\"M637.4,-91.51C647.78,-92.95 657.6,-94.32 666.3,-95.53\"/>\n",
       "<polygon fill=\"black\" stroke=\"black\" points=\"665.94,-99.01 676.32,-96.93 666.9,-92.08 665.94,-99.01\"/>\n",
       "</g>\n",
       "<!-- 140200428350112* -->\n",
       "<g id=\"node2\" class=\"node\">\n",
       "<title>140200428350112*</title>\n",
       "<ellipse fill=\"none\" stroke=\"black\" cx=\"311\" cy=\"-73.5\" rx=\"27\" ry=\"18\"/>\n",
       "<text text-anchor=\"middle\" x=\"311\" y=\"-69.8\" font-family=\"Times,serif\" font-size=\"14.00\">*</text>\n",
       "</g>\n",
       "<!-- 140200428350112*&#45;&gt;140200428350112 -->\n",
       "<g id=\"edge1\" class=\"edge\">\n",
       "<title>140200428350112*&#45;&gt;140200428350112</title>\n",
       "<path fill=\"none\" stroke=\"black\" d=\"M338.16,-73.5C346.24,-73.5 355.75,-73.5 366.07,-73.5\"/>\n",
       "<polygon fill=\"black\" stroke=\"black\" points=\"366.2,-77 376.2,-73.5 366.2,-70 366.2,-77\"/>\n",
       "</g>\n",
       "<!-- 140200462919344 -->\n",
       "<g id=\"node3\" class=\"node\">\n",
       "<title>140200462919344</title>\n",
       "<polygon fill=\"none\" stroke=\"black\" points=\"4,-55.5 4,-91.5 244,-91.5 244,-55.5 4,-55.5\"/>\n",
       "<text text-anchor=\"middle\" x=\"21\" y=\"-69.8\" font-family=\"Times,serif\" font-size=\"14.00\">x1</text>\n",
       "<polyline fill=\"none\" stroke=\"black\" points=\"38,-55.5 38,-91.5 \"/>\n",
       "<text text-anchor=\"middle\" x=\"89\" y=\"-69.8\" font-family=\"Times,serif\" font-size=\"14.00\">data 1.0000</text>\n",
       "<polyline fill=\"none\" stroke=\"black\" points=\"140,-55.5 140,-91.5 \"/>\n",
       "<text text-anchor=\"middle\" x=\"192\" y=\"-69.8\" font-family=\"Times,serif\" font-size=\"14.00\">grad 0.0100</text>\n",
       "</g>\n",
       "<!-- 140200462919344&#45;&gt;140200428350112* -->\n",
       "<g id=\"edge12\" class=\"edge\">\n",
       "<title>140200462919344&#45;&gt;140200428350112*</title>\n",
       "<path fill=\"none\" stroke=\"black\" d=\"M244.26,-73.5C254.69,-73.5 264.63,-73.5 273.48,-73.5\"/>\n",
       "<polygon fill=\"black\" stroke=\"black\" points=\"273.69,-77 283.69,-73.5 273.69,-70 273.69,-77\"/>\n",
       "</g>\n",
       "<!-- 140200428354000 -->\n",
       "<g id=\"node4\" class=\"node\">\n",
       "<title>140200428354000</title>\n",
       "<polygon fill=\"none\" stroke=\"black\" points=\"1217,-109.5 1217,-145.5 1448,-145.5 1448,-109.5 1217,-109.5\"/>\n",
       "<text text-anchor=\"middle\" x=\"1229.5\" y=\"-123.8\" font-family=\"Times,serif\" font-size=\"14.00\">y</text>\n",
       "<polyline fill=\"none\" stroke=\"black\" points=\"1242,-109.5 1242,-145.5 \"/>\n",
       "<text text-anchor=\"middle\" x=\"1293\" y=\"-123.8\" font-family=\"Times,serif\" font-size=\"14.00\">data 0.7100</text>\n",
       "<polyline fill=\"none\" stroke=\"black\" points=\"1344,-109.5 1344,-145.5 \"/>\n",
       "<text text-anchor=\"middle\" x=\"1396\" y=\"-123.8\" font-family=\"Times,serif\" font-size=\"14.00\">grad 1.0000</text>\n",
       "</g>\n",
       "<!-- 140200428354000+ -->\n",
       "<g id=\"node5\" class=\"node\">\n",
       "<title>140200428354000+</title>\n",
       "<ellipse fill=\"none\" stroke=\"black\" cx=\"1154\" cy=\"-127.5\" rx=\"27\" ry=\"18\"/>\n",
       "<text text-anchor=\"middle\" x=\"1154\" y=\"-123.8\" font-family=\"Times,serif\" font-size=\"14.00\">+</text>\n",
       "</g>\n",
       "<!-- 140200428354000+&#45;&gt;140200428354000 -->\n",
       "<g id=\"edge2\" class=\"edge\">\n",
       "<title>140200428354000+&#45;&gt;140200428354000</title>\n",
       "<path fill=\"none\" stroke=\"black\" d=\"M1181.04,-127.5C1188.59,-127.5 1197.37,-127.5 1206.82,-127.5\"/>\n",
       "<polygon fill=\"black\" stroke=\"black\" points=\"1206.89,-131 1216.89,-127.5 1206.89,-124 1206.89,-131\"/>\n",
       "</g>\n",
       "<!-- 140200462917376 -->\n",
       "<g id=\"node6\" class=\"node\">\n",
       "<title>140200462917376</title>\n",
       "<polygon fill=\"none\" stroke=\"black\" points=\"806.5,-137.5 806.5,-173.5 1050.5,-173.5 1050.5,-137.5 806.5,-137.5\"/>\n",
       "<text text-anchor=\"middle\" x=\"825.5\" y=\"-151.8\" font-family=\"Times,serif\" font-size=\"14.00\">w0</text>\n",
       "<polyline fill=\"none\" stroke=\"black\" points=\"844.5,-137.5 844.5,-173.5 \"/>\n",
       "<text text-anchor=\"middle\" x=\"895.5\" y=\"-151.8\" font-family=\"Times,serif\" font-size=\"14.00\">data 0.9000</text>\n",
       "<polyline fill=\"none\" stroke=\"black\" points=\"946.5,-137.5 946.5,-173.5 \"/>\n",
       "<text text-anchor=\"middle\" x=\"998.5\" y=\"-151.8\" font-family=\"Times,serif\" font-size=\"14.00\">grad 1.0000</text>\n",
       "</g>\n",
       "<!-- 140200462917376&#45;&gt;140200428354000+ -->\n",
       "<g id=\"edge7\" class=\"edge\">\n",
       "<title>140200462917376&#45;&gt;140200428354000+</title>\n",
       "<path fill=\"none\" stroke=\"black\" d=\"M1050.73,-140.31C1075.04,-137.27 1098.74,-134.3 1117.2,-131.99\"/>\n",
       "<polygon fill=\"black\" stroke=\"black\" points=\"1117.66,-135.45 1127.15,-130.74 1116.79,-128.51 1117.66,-135.45\"/>\n",
       "</g>\n",
       "<!-- 140200428349200 -->\n",
       "<g id=\"node7\" class=\"node\">\n",
       "<title>140200428349200</title>\n",
       "<polygon fill=\"none\" stroke=\"black\" points=\"374,-110.5 374,-146.5 640,-146.5 640,-110.5 374,-110.5\"/>\n",
       "<text text-anchor=\"middle\" x=\"401.5\" y=\"-124.8\" font-family=\"Times,serif\" font-size=\"14.00\">w2x2</text>\n",
       "<polyline fill=\"none\" stroke=\"black\" points=\"429,-110.5 429,-146.5 \"/>\n",
       "<text text-anchor=\"middle\" x=\"482.5\" y=\"-124.8\" font-family=\"Times,serif\" font-size=\"14.00\">data &#45;0.2000</text>\n",
       "<polyline fill=\"none\" stroke=\"black\" points=\"536,-110.5 536,-146.5 \"/>\n",
       "<text text-anchor=\"middle\" x=\"588\" y=\"-124.8\" font-family=\"Times,serif\" font-size=\"14.00\">grad 1.0000</text>\n",
       "</g>\n",
       "<!-- 140200428349200&#45;&gt;140200428352464+ -->\n",
       "<g id=\"edge11\" class=\"edge\">\n",
       "<title>140200428349200&#45;&gt;140200428352464+</title>\n",
       "<path fill=\"none\" stroke=\"black\" d=\"M632.78,-110.49C644.77,-108.76 656.15,-107.12 666.08,-105.68\"/>\n",
       "<polygon fill=\"black\" stroke=\"black\" points=\"666.86,-109.11 676.25,-104.22 665.86,-102.18 666.86,-109.11\"/>\n",
       "</g>\n",
       "<!-- 140200428349200* -->\n",
       "<g id=\"node8\" class=\"node\">\n",
       "<title>140200428349200*</title>\n",
       "<ellipse fill=\"none\" stroke=\"black\" cx=\"311\" cy=\"-128.5\" rx=\"27\" ry=\"18\"/>\n",
       "<text text-anchor=\"middle\" x=\"311\" y=\"-124.8\" font-family=\"Times,serif\" font-size=\"14.00\">*</text>\n",
       "</g>\n",
       "<!-- 140200428349200*&#45;&gt;140200428349200 -->\n",
       "<g id=\"edge3\" class=\"edge\">\n",
       "<title>140200428349200*&#45;&gt;140200428349200</title>\n",
       "<path fill=\"none\" stroke=\"black\" d=\"M338.16,-128.5C345.61,-128.5 354.28,-128.5 363.68,-128.5\"/>\n",
       "<polygon fill=\"black\" stroke=\"black\" points=\"363.73,-132 373.73,-128.5 363.73,-125 363.73,-132\"/>\n",
       "</g>\n",
       "<!-- 140200462915360 -->\n",
       "<g id=\"node9\" class=\"node\">\n",
       "<title>140200462915360</title>\n",
       "<polygon fill=\"none\" stroke=\"black\" points=\"0,-165.5 0,-201.5 248,-201.5 248,-165.5 0,-165.5\"/>\n",
       "<text text-anchor=\"middle\" x=\"19\" y=\"-179.8\" font-family=\"Times,serif\" font-size=\"14.00\">w2</text>\n",
       "<polyline fill=\"none\" stroke=\"black\" points=\"38,-165.5 38,-201.5 \"/>\n",
       "<text text-anchor=\"middle\" x=\"89\" y=\"-179.8\" font-family=\"Times,serif\" font-size=\"14.00\">data 0.2000</text>\n",
       "<polyline fill=\"none\" stroke=\"black\" points=\"140,-165.5 140,-201.5 \"/>\n",
       "<text text-anchor=\"middle\" x=\"194\" y=\"-179.8\" font-family=\"Times,serif\" font-size=\"14.00\">grad &#45;1.0000</text>\n",
       "</g>\n",
       "<!-- 140200462915360&#45;&gt;140200428349200* -->\n",
       "<g id=\"edge9\" class=\"edge\">\n",
       "<title>140200462915360&#45;&gt;140200428349200*</title>\n",
       "<path fill=\"none\" stroke=\"black\" d=\"M217.25,-165.45C227.71,-162.75 238.14,-159.77 248,-156.5 258.7,-152.95 270.05,-148.15 280.07,-143.53\"/>\n",
       "<polygon fill=\"black\" stroke=\"black\" points=\"281.66,-146.65 289.2,-139.21 278.67,-140.33 281.66,-146.65\"/>\n",
       "</g>\n",
       "<!-- 140200462919056 -->\n",
       "<g id=\"node10\" class=\"node\">\n",
       "<title>140200462919056</title>\n",
       "<polygon fill=\"none\" stroke=\"black\" points=\"2,-0.5 2,-36.5 246,-36.5 246,-0.5 2,-0.5\"/>\n",
       "<text text-anchor=\"middle\" x=\"21\" y=\"-14.8\" font-family=\"Times,serif\" font-size=\"14.00\">w1</text>\n",
       "<polyline fill=\"none\" stroke=\"black\" points=\"40,-0.5 40,-36.5 \"/>\n",
       "<text text-anchor=\"middle\" x=\"91\" y=\"-14.8\" font-family=\"Times,serif\" font-size=\"14.00\">data 0.0100</text>\n",
       "<polyline fill=\"none\" stroke=\"black\" points=\"142,-0.5 142,-36.5 \"/>\n",
       "<text text-anchor=\"middle\" x=\"194\" y=\"-14.8\" font-family=\"Times,serif\" font-size=\"14.00\">grad 1.0000</text>\n",
       "</g>\n",
       "<!-- 140200462919056&#45;&gt;140200428350112* -->\n",
       "<g id=\"edge10\" class=\"edge\">\n",
       "<title>140200462919056&#45;&gt;140200428350112*</title>\n",
       "<path fill=\"none\" stroke=\"black\" d=\"M213.56,-36.57C225.24,-39.56 236.97,-42.88 248,-46.5 258.46,-49.93 269.57,-54.47 279.46,-58.85\"/>\n",
       "<polygon fill=\"black\" stroke=\"black\" points=\"278.31,-62.17 288.86,-63.12 281.21,-55.8 278.31,-62.17\"/>\n",
       "</g>\n",
       "<!-- 140200462923712 -->\n",
       "<g id=\"node11\" class=\"node\">\n",
       "<title>140200462923712</title>\n",
       "<polygon fill=\"none\" stroke=\"black\" points=\"1.5,-110.5 1.5,-146.5 246.5,-146.5 246.5,-110.5 1.5,-110.5\"/>\n",
       "<text text-anchor=\"middle\" x=\"18.5\" y=\"-124.8\" font-family=\"Times,serif\" font-size=\"14.00\">x2</text>\n",
       "<polyline fill=\"none\" stroke=\"black\" points=\"35.5,-110.5 35.5,-146.5 \"/>\n",
       "<text text-anchor=\"middle\" x=\"89\" y=\"-124.8\" font-family=\"Times,serif\" font-size=\"14.00\">data &#45;1.0000</text>\n",
       "<polyline fill=\"none\" stroke=\"black\" points=\"142.5,-110.5 142.5,-146.5 \"/>\n",
       "<text text-anchor=\"middle\" x=\"194.5\" y=\"-124.8\" font-family=\"Times,serif\" font-size=\"14.00\">grad 0.2000</text>\n",
       "</g>\n",
       "<!-- 140200462923712&#45;&gt;140200428349200* -->\n",
       "<g id=\"edge8\" class=\"edge\">\n",
       "<title>140200462923712&#45;&gt;140200428349200*</title>\n",
       "<path fill=\"none\" stroke=\"black\" d=\"M246.59,-128.5C256.22,-128.5 265.38,-128.5 273.59,-128.5\"/>\n",
       "<polygon fill=\"black\" stroke=\"black\" points=\"273.8,-132 283.8,-128.5 273.8,-125 273.8,-132\"/>\n",
       "</g>\n",
       "<!-- 140200428352464 -->\n",
       "<g id=\"node12\" class=\"node\">\n",
       "<title>140200428352464</title>\n",
       "<polygon fill=\"none\" stroke=\"black\" points=\"766,-82.5 766,-118.5 1091,-118.5 1091,-82.5 766,-82.5\"/>\n",
       "<text text-anchor=\"middle\" x=\"823\" y=\"-96.8\" font-family=\"Times,serif\" font-size=\"14.00\">w1x1 + w2x2</text>\n",
       "<polyline fill=\"none\" stroke=\"black\" points=\"880,-82.5 880,-118.5 \"/>\n",
       "<text text-anchor=\"middle\" x=\"933.5\" y=\"-96.8\" font-family=\"Times,serif\" font-size=\"14.00\">data &#45;0.1900</text>\n",
       "<polyline fill=\"none\" stroke=\"black\" points=\"987,-82.5 987,-118.5 \"/>\n",
       "<text text-anchor=\"middle\" x=\"1039\" y=\"-96.8\" font-family=\"Times,serif\" font-size=\"14.00\">grad 1.0000</text>\n",
       "</g>\n",
       "<!-- 140200428352464&#45;&gt;140200428354000+ -->\n",
       "<g id=\"edge6\" class=\"edge\">\n",
       "<title>140200428352464&#45;&gt;140200428354000+</title>\n",
       "<path fill=\"none\" stroke=\"black\" d=\"M1078.58,-118.51C1092.66,-120.21 1105.84,-121.8 1117.09,-123.16\"/>\n",
       "<polygon fill=\"black\" stroke=\"black\" points=\"1116.89,-126.66 1127.24,-124.39 1117.73,-119.71 1116.89,-126.66\"/>\n",
       "</g>\n",
       "<!-- 140200428352464+&#45;&gt;140200428352464 -->\n",
       "<g id=\"edge4\" class=\"edge\">\n",
       "<title>140200428352464+&#45;&gt;140200428352464</title>\n",
       "<path fill=\"none\" stroke=\"black\" d=\"M730.08,-100.5C737.51,-100.5 746.21,-100.5 755.74,-100.5\"/>\n",
       "<polygon fill=\"black\" stroke=\"black\" points=\"755.95,-104 765.95,-100.5 755.95,-97 755.95,-104\"/>\n",
       "</g>\n",
       "</g>\n",
       "</svg>\n"
      ],
      "text/plain": [
       "<graphviz.graphs.Digraph at 0x7f82f4baab60>"
      ]
     },
     "execution_count": 72,
     "metadata": {},
     "output_type": "execute_result"
    }
   ],
   "source": [
    "# Draw the computational graph\n",
    "draw_dot(root = y)"
   ]
  }
 ],
 "metadata": {
  "colab": {
   "provenance": []
  },
  "kernelspec": {
   "display_name": ".venv",
   "language": "python",
   "name": "python3"
  },
  "language_info": {
   "codemirror_mode": {
    "name": "ipython",
    "version": 3
   },
   "file_extension": ".py",
   "mimetype": "text/x-python",
   "name": "python",
   "nbconvert_exporter": "python",
   "pygments_lexer": "ipython3",
   "version": "3.10.14"
  }
 },
 "nbformat": 4,
 "nbformat_minor": 1
}
