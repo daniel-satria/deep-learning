{
 "cells": [
  {
   "cell_type": "markdown",
   "metadata": {
    "id": "lyyYWRoddhWd"
   },
   "source": [
    "# **4. Neural Network for Multiclass Classification & Optimization Strategy**\n",
    "---"
   ]
  },
  {
   "cell_type": "code",
   "execution_count": 1,
   "metadata": {
    "id": "6Vb0hUB2WcGl"
   },
   "outputs": [],
   "source": [
    "import math\n",
    "import random\n",
    "import numpy as np\n",
    "import matplotlib.pyplot as plt\n",
    "\n",
    "import copy\n",
    "import time\n",
    "\n",
    "import torch"
   ]
  },
  {
   "cell_type": "markdown",
   "metadata": {
    "id": "l2xyABznyD5E"
   },
   "source": [
    "We're going to build a Neural Network for MultiClass Classification using `PyTorch` & Optimization Strategy"
   ]
  },
  {
   "cell_type": "code",
   "execution_count": 2,
   "metadata": {
    "id": "TIOjdXbUJ4zL"
   },
   "outputs": [],
   "source": [
    "# For pre-activation layer (including linear activation function)\n",
    "class Linear:\n",
    "    \"\"\"Layer of linear operation\"\"\"\n",
    "    def __init__(self, feature_in, feature_out, bias=True):\n",
    "        \"\"\"Generate model parameter in linear layer\"\"\"\n",
    "        # Generate random weight & biases\n",
    "        self.weight = torch.rand((feature_in, feature_out)).double()\n",
    "        if bias:\n",
    "            self.bias = torch.zeros(feature_out).double()\n",
    "        else:\n",
    "            self.bias = None\n",
    "\n",
    "    def __call__(self, x):\n",
    "        \"\"\"Return the weighted sum between model param & imputed value\"\"\"\n",
    "        weighted_sum = x @ self.weight\n",
    "        if self.bias is not None:\n",
    "            self.out = weighted_sum + self.bias\n",
    "        else:\n",
    "            self.out = weighted_sum\n",
    "\n",
    "        return self.out\n",
    "\n",
    "    def parameters(self):\n",
    "        \"\"\"Collect all parameters in a list\"\"\"\n",
    "        return [self.weight] + ([] if self.bias is None else [self.bias])\n",
    "\n",
    "# For sigmoid layer\n",
    "class Sigmoid:\n",
    "    \"\"\"Sigmoid operation\"\"\"\n",
    "    def __call__(self, x):\n",
    "        self.out = torch.sigmoid(x)\n",
    "        return self.out\n",
    "\n",
    "    def parameters(self):\n",
    "        # no parameter included\n",
    "        return []\n",
    "\n",
    "# For ReLU layer\n",
    "class ReLU:\n",
    "    \"\"\"ReLU operation\"\"\"\n",
    "    def __call__(self, x):\n",
    "        self.out = torch.relu(x)\n",
    "        return self.out\n",
    "\n",
    "    def parameters(self):\n",
    "        # no parameter included\n",
    "        return []\n",
    "\n",
    "# For TanH layer\n",
    "class Tanh:\n",
    "    \"\"\"TanH operation\"\"\"\n",
    "    def __call__(self, x):\n",
    "        self.out = torch.tanh(x)\n",
    "        return self.out\n",
    "\n",
    "    def parameters(self):\n",
    "        # no parameter included\n",
    "        return []\n"
   ]
  },
  {
   "cell_type": "code",
   "execution_count": 3,
   "metadata": {
    "id": "7nRrBvCwJ_9w"
   },
   "outputs": [],
   "source": [
    "# For building a sequential MLP\n",
    "class Sequential:\n",
    "    \"\"\"Create a sequential procedures to build a neural network\"\"\"\n",
    "    def __init__(self, layers):\n",
    "        self.layers = layers\n",
    "\n",
    "    def __call__(self, x):\n",
    "        x = copy.deepcopy(x)\n",
    "\n",
    "        # Iterate on given layers\n",
    "        for layer in self.layers:\n",
    "            x = layer(x)\n",
    "        self.out = x\n",
    "        return self.out\n",
    "\n",
    "    def parameters(self):\n",
    "        return [p for layer in self.layers for p in layer.parameters()]\n"
   ]
  },
  {
   "cell_type": "code",
   "execution_count": 4,
   "metadata": {
    "id": "Y0LWOtVCJo6m"
   },
   "outputs": [],
   "source": [
    "# Load the previous Loss functions\n",
    "def mse_loss(input, target):\n",
    "    \"\"\"\n",
    "    Mean squared error loss\n",
    "\n",
    "    Parameters\n",
    "    ----------\n",
    "    input : torch.Tensor\n",
    "        The predicted value\n",
    "\n",
    "    target : torch.Tensor\n",
    "        The ground truth\n",
    "    \"\"\"\n",
    "    return torch.mean((target-input)**2)\n",
    "\n",
    "def bce_loss(input, target):\n",
    "    \"\"\"\n",
    "    Binary cross-entropy loss\n",
    "\n",
    "    Parameters\n",
    "    ----------\n",
    "    input : torch.Tensor\n",
    "        The predicted value (unnormalized logits)\n",
    "\n",
    "    target : torch.Tensor\n",
    "        The ground truth. Only 0 or 1\n",
    "    \"\"\"\n",
    "    return -torch.mean(target*torch.log(input+1e-16) + (1-target)*torch.log(1-(input+1e-16)))\n"
   ]
  },
  {
   "cell_type": "markdown",
   "metadata": {
    "id": "9DYU5y0phQgc"
   },
   "source": [
    "## **Task 1**\n",
    "---"
   ]
  },
  {
   "cell_type": "markdown",
   "metadata": {
    "id": "JF8gIcZ5hXUt"
   },
   "source": [
    "- For a multiclass classification, create a class to represent the softmax activation function called `Softmax`.\n",
    "- Each class has\n",
    "  - `__call__` method that return the activation function value.\n",
    "  - `parameters` method that return the model parameters."
   ]
  },
  {
   "cell_type": "markdown",
   "metadata": {
    "id": "mwBduZoxhrXQ"
   },
   "source": [
    "The Softmax function\n",
    "\n",
    "$$\n",
    "\\text{softmax}(\\mathbf{x})_{i}\n",
    "=\n",
    "\\cfrac{e^{x_{i}}}\n",
    "{\\sum_{j=1}^{n} e^{x_{j}}}\n",
    "$$"
   ]
  },
  {
   "cell_type": "code",
   "execution_count": 5,
   "metadata": {
    "id": "fPu8F9VYxEFd"
   },
   "outputs": [],
   "source": [
    "# Write your code in here\n",
    "class Softmax:\n",
    "    \"\"\"Softmax operation\"\"\"\n",
    "    def __call__(self, x):\n",
    "        # From scratch\n",
    "        #e_x = torch.exp(x)\n",
    "        #s_x = e_x / torch.sum(e_x, axis=1).reshape(-1, 1)      # The softmax\n",
    "\n",
    "        # with torch\n",
    "        s_x = torch.softmax(input = x,\n",
    "                            dim=1)\n",
    "\n",
    "        self.out = s_x\n",
    "        return self.out\n",
    "\n",
    "    def parameters(self):\n",
    "        # no parameter included\n",
    "        return []\n"
   ]
  },
  {
   "cell_type": "markdown",
   "metadata": {
    "id": "l8hsZEL3idXM"
   },
   "source": [
    "Let's test it!"
   ]
  },
  {
   "cell_type": "code",
   "execution_count": 6,
   "metadata": {
    "colab": {
     "base_uri": "https://localhost:8080/"
    },
    "id": "sqRxcbilNAdn",
    "outputId": "7b616923-dff4-4059-f857-efa35d074128"
   },
   "outputs": [
    {
     "name": "stdout",
     "output_type": "stream",
     "text": [
      "<__main__.Sequential object at 0x7f32a0744460>\n"
     ]
    }
   ],
   "source": [
    "# Say you want to create\n",
    "# A neural network with\n",
    "#  - 5 input\n",
    "#  - 1 output layer (with 3 output)\n",
    "torch.manual_seed(123)\n",
    "\n",
    "# Create layer\n",
    "layers = [\n",
    "    Linear(feature_in=5, feature_out=3), Softmax()\n",
    "]\n",
    "\n",
    "# Create sequential model\n",
    "mdl = Sequential(layers = layers)\n",
    "\n",
    "print(mdl)"
   ]
  },
  {
   "cell_type": "code",
   "execution_count": 7,
   "metadata": {
    "colab": {
     "base_uri": "https://localhost:8080/"
    },
    "id": "Jkz0uPv_NIAo",
    "outputId": "eacb5482-ec0e-4984-ee61-9e83cb639ef1"
   },
   "outputs": [
    {
     "name": "stdout",
     "output_type": "stream",
     "text": [
      "Layer object : <__main__.Sequential object at 0x7f32a0744460>\n",
      "Layer param  :\n",
      " [tensor([[0.2961, 0.5166, 0.2517],\n",
      "        [0.6886, 0.0740, 0.8665],\n",
      "        [0.1366, 0.1025, 0.1841],\n",
      "        [0.7264, 0.3153, 0.6871],\n",
      "        [0.0756, 0.1966, 0.3164]], dtype=torch.float64), tensor([0., 0., 0.], dtype=torch.float64)]\n",
      "Called param : tensor([[0.1786, 0.0208, 0.8006],\n",
      "        [0.2901, 0.0600, 0.6499]], dtype=torch.float64)\n"
     ]
    }
   ],
   "source": [
    "# Pred\n",
    "xs = torch.tensor([[1., 2., 3., 4., 5.],\n",
    "                   [4., 3., 1., 2., 2.]]).double()\n",
    "ys = mdl(xs)\n",
    "\n",
    "print('Layer object :', mdl)\n",
    "print('Layer param  :\\n', mdl.parameters())\n",
    "print('Called param :', ys)"
   ]
  },
  {
   "cell_type": "markdown",
   "metadata": {
    "id": "HLWniS-Rit4a"
   },
   "source": [
    "Let's validate"
   ]
  },
  {
   "cell_type": "code",
   "execution_count": 8,
   "metadata": {
    "colab": {
     "base_uri": "https://localhost:8080/"
    },
    "id": "T0gOqEtpixE7",
    "outputId": "3db57459-80f4-4a77-a40e-c82899f4aa37"
   },
   "outputs": [
    {
     "name": "stdout",
     "output_type": "stream",
     "text": [
      "Pre activation value    : tensor([[5.3669, 3.2162, 6.8674],\n",
      "        [4.9909, 3.4144, 5.7973]], dtype=torch.float64)\n",
      "Activation value        : tensor([[0.1786, 0.0208, 0.8006],\n",
      "        [0.2901, 0.0600, 0.6499]], dtype=torch.float64)\n",
      "Sum of activation value : tensor(2., dtype=torch.float64)\n"
     ]
    }
   ],
   "source": [
    "# From the given weights\n",
    "w = mdl.parameters()[0]\n",
    "b = mdl.parameters()[1]\n",
    "\n",
    "# Do the feed forward\n",
    "pre_act = xs @ w + b\n",
    "print('Pre activation value    :', pre_act)\n",
    "\n",
    "# Get the activation value\n",
    "e_x = torch.exp(pre_act)\n",
    "soft_x = e_x / torch.sum(e_x, axis=1).reshape(-1, 1)\n",
    "print('Activation value        :', soft_x)\n",
    "print('Sum of activation value :', torch.sum(soft_x))\n"
   ]
  },
  {
   "cell_type": "markdown",
   "metadata": {
    "id": "4d-mcDDNqoCO"
   },
   "source": [
    "Nice!"
   ]
  },
  {
   "cell_type": "markdown",
   "metadata": {
    "id": "03lc_jDzqmZu"
   },
   "source": [
    "## **Task 2**\n",
    "---"
   ]
  },
  {
   "cell_type": "markdown",
   "metadata": {
    "id": "9Sv0QRgeqmZx"
   },
   "source": [
    "- Before training, we need to define the loss function.\n",
    "- The softmax loss function is called by **cross-entropy loss**\n",
    "\n",
    "$$\n",
    "\\mathcal{L} =\n",
    "\\cfrac{1}{n}\n",
    "\\sum_{i=1}^{n}\n",
    "\\sum_{j=1}^{h}\n",
    "-y_{j}^{[i]}\n",
    "\\log \\left (\n",
    "a_{j}^{[i]}\n",
    "\\right )\n",
    "$$"
   ]
  },
  {
   "cell_type": "code",
   "execution_count": 9,
   "metadata": {
    "id": "5ld5iBCIxYwU"
   },
   "outputs": [],
   "source": [
    "# Write your code here\n",
    "def cross_entropy_loss(target, input):\n",
    "    \"\"\"\n",
    "    Cross entropy loss\n",
    "\n",
    "    Parameters\n",
    "    ----------\n",
    "    input : torch.Tensor\n",
    "        The predicted value (normalized logits or softmax)\n",
    "\n",
    "    target : torch.Tensor\n",
    "        The ground truth (OHE). Only 0 or 1\n",
    "    \"\"\"\n",
    "    return -torch.mean(torch.sum(target * torch.log(input+1e-16), axis=1))\n"
   ]
  },
  {
   "cell_type": "markdown",
   "metadata": {
    "id": "J-6i1HKuq1oJ"
   },
   "source": [
    "Let's calculate it"
   ]
  },
  {
   "cell_type": "code",
   "execution_count": 10,
   "metadata": {
    "colab": {
     "base_uri": "https://localhost:8080/"
    },
    "id": "dnL2hYViq34B",
    "outputId": "aef87005-fee2-46b3-d258-a4073c7af092"
   },
   "outputs": [
    {
     "data": {
      "text/plain": [
       "tensor(0.7892, dtype=torch.float64)"
      ]
     },
     "execution_count": 10,
     "metadata": {},
     "output_type": "execute_result"
    }
   ],
   "source": [
    "# Define the ground thruth (OHE of the output)\n",
    "y = torch.tensor([\n",
    "    [1, 0, 0],\n",
    "    [0, 1, 0],\n",
    "    [0, 0, 1]\n",
    "]).double()\n",
    "\n",
    "# Define the predicted logits\n",
    "ylogit = torch.tensor([\n",
    "    [0.8, 0.4, 0.1],\n",
    "    [0.4, 0.8, 0.2],\n",
    "    [0.2, 0.4, 0.8]\n",
    "]).double()\n",
    "\n",
    "# Define the predicted softmax\n",
    "ysoftmax = torch.exp(ylogit) / torch.sum(torch.exp(ylogit), axis=1).reshape(-1, 1)\n",
    "\n",
    "# Calculate the cross-entropy loss\n",
    "loss = cross_entropy_loss(input=ysoftmax, target=y)\n",
    "loss"
   ]
  },
  {
   "cell_type": "markdown",
   "metadata": {
    "id": "lXd2H7XvrwJe"
   },
   "source": [
    "Now let's validate"
   ]
  },
  {
   "cell_type": "code",
   "execution_count": 11,
   "metadata": {
    "colab": {
     "base_uri": "https://localhost:8080/"
    },
    "id": "EU_vS1kgrxb9",
    "outputId": "76e9cf05-c60a-45f3-fb47-d47ed6f3d4bf"
   },
   "outputs": [
    {
     "data": {
      "text/plain": [
       "tensor(0.7892, dtype=torch.float64)"
      ]
     },
     "execution_count": 11,
     "metadata": {},
     "output_type": "execute_result"
    }
   ],
   "source": [
    "import torch.nn.functional as F\n",
    "\n",
    "loss_torch = F.cross_entropy(input=ylogit, target=y)\n",
    "loss_torch"
   ]
  },
  {
   "cell_type": "markdown",
   "metadata": {
    "id": "BY51kq-wr9Hx"
   },
   "source": [
    "Nice! The result is similar despite different input"
   ]
  },
  {
   "cell_type": "markdown",
   "metadata": {
    "id": "yRGZci4MyDuD"
   },
   "source": [
    "## **Task 3**\n",
    "---"
   ]
  },
  {
   "cell_type": "markdown",
   "metadata": {
    "id": "fwoaITfRstnN"
   },
   "source": [
    "- Now, create a Neural Network to perform a multiclass classification"
   ]
  },
  {
   "cell_type": "markdown",
   "metadata": {
    "id": "8fI8lj8Fst0x"
   },
   "source": [
    "*Load Library*"
   ]
  },
  {
   "cell_type": "code",
   "execution_count": 12,
   "metadata": {
    "id": "oHA8U1S5st0y"
   },
   "outputs": [],
   "source": [
    "# Load library\n",
    "from sklearn.datasets import load_iris"
   ]
  },
  {
   "cell_type": "markdown",
   "metadata": {
    "id": "oJcrVM0lst0y"
   },
   "source": [
    "*Prepare data*"
   ]
  },
  {
   "cell_type": "code",
   "execution_count": 13,
   "metadata": {
    "id": "1w9Ax9CAst0y"
   },
   "outputs": [],
   "source": [
    "# Load data\n",
    "X, y = load_iris(return_X_y=True)"
   ]
  },
  {
   "cell_type": "code",
   "execution_count": 14,
   "metadata": {
    "colab": {
     "base_uri": "https://localhost:8080/"
    },
    "id": "xOyS2HH3st0z",
    "outputId": "29de7650-082b-4d07-9d3a-954f3a4ea6e7"
   },
   "outputs": [
    {
     "data": {
      "text/plain": [
       "((120, 4), (15, 4), (15, 4))"
      ]
     },
     "execution_count": 14,
     "metadata": {},
     "output_type": "execute_result"
    }
   ],
   "source": [
    "from sklearn.model_selection import train_test_split\n",
    "\n",
    "# Split data\n",
    "X_train, X_test, y_train, y_test = train_test_split(X, y,\n",
    "                                                    test_size = 0.2,\n",
    "                                                    random_state=42)\n",
    "X_valid, X_test, y_valid, y_test = train_test_split(X_test, y_test,\n",
    "                                                    test_size = 0.5,\n",
    "                                                    random_state = 42)\n",
    "\n",
    "X_train.shape, X_valid.shape, X_test.shape"
   ]
  },
  {
   "cell_type": "code",
   "execution_count": 15,
   "metadata": {
    "colab": {
     "base_uri": "https://localhost:8080/",
     "height": 74
    },
    "id": "ORLI4uMVst0z",
    "outputId": "e85ce8d6-3204-464c-d8e0-90e1e109b013"
   },
   "outputs": [
    {
     "data": {
      "text/html": [
       "<style>#sk-container-id-1 {\n",
       "  /* Definition of color scheme common for light and dark mode */\n",
       "  --sklearn-color-text: black;\n",
       "  --sklearn-color-line: gray;\n",
       "  /* Definition of color scheme for unfitted estimators */\n",
       "  --sklearn-color-unfitted-level-0: #fff5e6;\n",
       "  --sklearn-color-unfitted-level-1: #f6e4d2;\n",
       "  --sklearn-color-unfitted-level-2: #ffe0b3;\n",
       "  --sklearn-color-unfitted-level-3: chocolate;\n",
       "  /* Definition of color scheme for fitted estimators */\n",
       "  --sklearn-color-fitted-level-0: #f0f8ff;\n",
       "  --sklearn-color-fitted-level-1: #d4ebff;\n",
       "  --sklearn-color-fitted-level-2: #b3dbfd;\n",
       "  --sklearn-color-fitted-level-3: cornflowerblue;\n",
       "\n",
       "  /* Specific color for light theme */\n",
       "  --sklearn-color-text-on-default-background: var(--sg-text-color, var(--theme-code-foreground, var(--jp-content-font-color1, black)));\n",
       "  --sklearn-color-background: var(--sg-background-color, var(--theme-background, var(--jp-layout-color0, white)));\n",
       "  --sklearn-color-border-box: var(--sg-text-color, var(--theme-code-foreground, var(--jp-content-font-color1, black)));\n",
       "  --sklearn-color-icon: #696969;\n",
       "\n",
       "  @media (prefers-color-scheme: dark) {\n",
       "    /* Redefinition of color scheme for dark theme */\n",
       "    --sklearn-color-text-on-default-background: var(--sg-text-color, var(--theme-code-foreground, var(--jp-content-font-color1, white)));\n",
       "    --sklearn-color-background: var(--sg-background-color, var(--theme-background, var(--jp-layout-color0, #111)));\n",
       "    --sklearn-color-border-box: var(--sg-text-color, var(--theme-code-foreground, var(--jp-content-font-color1, white)));\n",
       "    --sklearn-color-icon: #878787;\n",
       "  }\n",
       "}\n",
       "\n",
       "#sk-container-id-1 {\n",
       "  color: var(--sklearn-color-text);\n",
       "}\n",
       "\n",
       "#sk-container-id-1 pre {\n",
       "  padding: 0;\n",
       "}\n",
       "\n",
       "#sk-container-id-1 input.sk-hidden--visually {\n",
       "  border: 0;\n",
       "  clip: rect(1px 1px 1px 1px);\n",
       "  clip: rect(1px, 1px, 1px, 1px);\n",
       "  height: 1px;\n",
       "  margin: -1px;\n",
       "  overflow: hidden;\n",
       "  padding: 0;\n",
       "  position: absolute;\n",
       "  width: 1px;\n",
       "}\n",
       "\n",
       "#sk-container-id-1 div.sk-dashed-wrapped {\n",
       "  border: 1px dashed var(--sklearn-color-line);\n",
       "  margin: 0 0.4em 0.5em 0.4em;\n",
       "  box-sizing: border-box;\n",
       "  padding-bottom: 0.4em;\n",
       "  background-color: var(--sklearn-color-background);\n",
       "}\n",
       "\n",
       "#sk-container-id-1 div.sk-container {\n",
       "  /* jupyter's `normalize.less` sets `[hidden] { display: none; }`\n",
       "     but bootstrap.min.css set `[hidden] { display: none !important; }`\n",
       "     so we also need the `!important` here to be able to override the\n",
       "     default hidden behavior on the sphinx rendered scikit-learn.org.\n",
       "     See: https://github.com/scikit-learn/scikit-learn/issues/21755 */\n",
       "  display: inline-block !important;\n",
       "  position: relative;\n",
       "}\n",
       "\n",
       "#sk-container-id-1 div.sk-text-repr-fallback {\n",
       "  display: none;\n",
       "}\n",
       "\n",
       "div.sk-parallel-item,\n",
       "div.sk-serial,\n",
       "div.sk-item {\n",
       "  /* draw centered vertical line to link estimators */\n",
       "  background-image: linear-gradient(var(--sklearn-color-text-on-default-background), var(--sklearn-color-text-on-default-background));\n",
       "  background-size: 2px 100%;\n",
       "  background-repeat: no-repeat;\n",
       "  background-position: center center;\n",
       "}\n",
       "\n",
       "/* Parallel-specific style estimator block */\n",
       "\n",
       "#sk-container-id-1 div.sk-parallel-item::after {\n",
       "  content: \"\";\n",
       "  width: 100%;\n",
       "  border-bottom: 2px solid var(--sklearn-color-text-on-default-background);\n",
       "  flex-grow: 1;\n",
       "}\n",
       "\n",
       "#sk-container-id-1 div.sk-parallel {\n",
       "  display: flex;\n",
       "  align-items: stretch;\n",
       "  justify-content: center;\n",
       "  background-color: var(--sklearn-color-background);\n",
       "  position: relative;\n",
       "}\n",
       "\n",
       "#sk-container-id-1 div.sk-parallel-item {\n",
       "  display: flex;\n",
       "  flex-direction: column;\n",
       "}\n",
       "\n",
       "#sk-container-id-1 div.sk-parallel-item:first-child::after {\n",
       "  align-self: flex-end;\n",
       "  width: 50%;\n",
       "}\n",
       "\n",
       "#sk-container-id-1 div.sk-parallel-item:last-child::after {\n",
       "  align-self: flex-start;\n",
       "  width: 50%;\n",
       "}\n",
       "\n",
       "#sk-container-id-1 div.sk-parallel-item:only-child::after {\n",
       "  width: 0;\n",
       "}\n",
       "\n",
       "/* Serial-specific style estimator block */\n",
       "\n",
       "#sk-container-id-1 div.sk-serial {\n",
       "  display: flex;\n",
       "  flex-direction: column;\n",
       "  align-items: center;\n",
       "  background-color: var(--sklearn-color-background);\n",
       "  padding-right: 1em;\n",
       "  padding-left: 1em;\n",
       "}\n",
       "\n",
       "\n",
       "/* Toggleable style: style used for estimator/Pipeline/ColumnTransformer box that is\n",
       "clickable and can be expanded/collapsed.\n",
       "- Pipeline and ColumnTransformer use this feature and define the default style\n",
       "- Estimators will overwrite some part of the style using the `sk-estimator` class\n",
       "*/\n",
       "\n",
       "/* Pipeline and ColumnTransformer style (default) */\n",
       "\n",
       "#sk-container-id-1 div.sk-toggleable {\n",
       "  /* Default theme specific background. It is overwritten whether we have a\n",
       "  specific estimator or a Pipeline/ColumnTransformer */\n",
       "  background-color: var(--sklearn-color-background);\n",
       "}\n",
       "\n",
       "/* Toggleable label */\n",
       "#sk-container-id-1 label.sk-toggleable__label {\n",
       "  cursor: pointer;\n",
       "  display: block;\n",
       "  width: 100%;\n",
       "  margin-bottom: 0;\n",
       "  padding: 0.5em;\n",
       "  box-sizing: border-box;\n",
       "  text-align: center;\n",
       "}\n",
       "\n",
       "#sk-container-id-1 label.sk-toggleable__label-arrow:before {\n",
       "  /* Arrow on the left of the label */\n",
       "  content: \"▸\";\n",
       "  float: left;\n",
       "  margin-right: 0.25em;\n",
       "  color: var(--sklearn-color-icon);\n",
       "}\n",
       "\n",
       "#sk-container-id-1 label.sk-toggleable__label-arrow:hover:before {\n",
       "  color: var(--sklearn-color-text);\n",
       "}\n",
       "\n",
       "/* Toggleable content - dropdown */\n",
       "\n",
       "#sk-container-id-1 div.sk-toggleable__content {\n",
       "  max-height: 0;\n",
       "  max-width: 0;\n",
       "  overflow: hidden;\n",
       "  text-align: left;\n",
       "  /* unfitted */\n",
       "  background-color: var(--sklearn-color-unfitted-level-0);\n",
       "}\n",
       "\n",
       "#sk-container-id-1 div.sk-toggleable__content.fitted {\n",
       "  /* fitted */\n",
       "  background-color: var(--sklearn-color-fitted-level-0);\n",
       "}\n",
       "\n",
       "#sk-container-id-1 div.sk-toggleable__content pre {\n",
       "  margin: 0.2em;\n",
       "  border-radius: 0.25em;\n",
       "  color: var(--sklearn-color-text);\n",
       "  /* unfitted */\n",
       "  background-color: var(--sklearn-color-unfitted-level-0);\n",
       "}\n",
       "\n",
       "#sk-container-id-1 div.sk-toggleable__content.fitted pre {\n",
       "  /* unfitted */\n",
       "  background-color: var(--sklearn-color-fitted-level-0);\n",
       "}\n",
       "\n",
       "#sk-container-id-1 input.sk-toggleable__control:checked~div.sk-toggleable__content {\n",
       "  /* Expand drop-down */\n",
       "  max-height: 200px;\n",
       "  max-width: 100%;\n",
       "  overflow: auto;\n",
       "}\n",
       "\n",
       "#sk-container-id-1 input.sk-toggleable__control:checked~label.sk-toggleable__label-arrow:before {\n",
       "  content: \"▾\";\n",
       "}\n",
       "\n",
       "/* Pipeline/ColumnTransformer-specific style */\n",
       "\n",
       "#sk-container-id-1 div.sk-label input.sk-toggleable__control:checked~label.sk-toggleable__label {\n",
       "  color: var(--sklearn-color-text);\n",
       "  background-color: var(--sklearn-color-unfitted-level-2);\n",
       "}\n",
       "\n",
       "#sk-container-id-1 div.sk-label.fitted input.sk-toggleable__control:checked~label.sk-toggleable__label {\n",
       "  background-color: var(--sklearn-color-fitted-level-2);\n",
       "}\n",
       "\n",
       "/* Estimator-specific style */\n",
       "\n",
       "/* Colorize estimator box */\n",
       "#sk-container-id-1 div.sk-estimator input.sk-toggleable__control:checked~label.sk-toggleable__label {\n",
       "  /* unfitted */\n",
       "  background-color: var(--sklearn-color-unfitted-level-2);\n",
       "}\n",
       "\n",
       "#sk-container-id-1 div.sk-estimator.fitted input.sk-toggleable__control:checked~label.sk-toggleable__label {\n",
       "  /* fitted */\n",
       "  background-color: var(--sklearn-color-fitted-level-2);\n",
       "}\n",
       "\n",
       "#sk-container-id-1 div.sk-label label.sk-toggleable__label,\n",
       "#sk-container-id-1 div.sk-label label {\n",
       "  /* The background is the default theme color */\n",
       "  color: var(--sklearn-color-text-on-default-background);\n",
       "}\n",
       "\n",
       "/* On hover, darken the color of the background */\n",
       "#sk-container-id-1 div.sk-label:hover label.sk-toggleable__label {\n",
       "  color: var(--sklearn-color-text);\n",
       "  background-color: var(--sklearn-color-unfitted-level-2);\n",
       "}\n",
       "\n",
       "/* Label box, darken color on hover, fitted */\n",
       "#sk-container-id-1 div.sk-label.fitted:hover label.sk-toggleable__label.fitted {\n",
       "  color: var(--sklearn-color-text);\n",
       "  background-color: var(--sklearn-color-fitted-level-2);\n",
       "}\n",
       "\n",
       "/* Estimator label */\n",
       "\n",
       "#sk-container-id-1 div.sk-label label {\n",
       "  font-family: monospace;\n",
       "  font-weight: bold;\n",
       "  display: inline-block;\n",
       "  line-height: 1.2em;\n",
       "}\n",
       "\n",
       "#sk-container-id-1 div.sk-label-container {\n",
       "  text-align: center;\n",
       "}\n",
       "\n",
       "/* Estimator-specific */\n",
       "#sk-container-id-1 div.sk-estimator {\n",
       "  font-family: monospace;\n",
       "  border: 1px dotted var(--sklearn-color-border-box);\n",
       "  border-radius: 0.25em;\n",
       "  box-sizing: border-box;\n",
       "  margin-bottom: 0.5em;\n",
       "  /* unfitted */\n",
       "  background-color: var(--sklearn-color-unfitted-level-0);\n",
       "}\n",
       "\n",
       "#sk-container-id-1 div.sk-estimator.fitted {\n",
       "  /* fitted */\n",
       "  background-color: var(--sklearn-color-fitted-level-0);\n",
       "}\n",
       "\n",
       "/* on hover */\n",
       "#sk-container-id-1 div.sk-estimator:hover {\n",
       "  /* unfitted */\n",
       "  background-color: var(--sklearn-color-unfitted-level-2);\n",
       "}\n",
       "\n",
       "#sk-container-id-1 div.sk-estimator.fitted:hover {\n",
       "  /* fitted */\n",
       "  background-color: var(--sklearn-color-fitted-level-2);\n",
       "}\n",
       "\n",
       "/* Specification for estimator info (e.g. \"i\" and \"?\") */\n",
       "\n",
       "/* Common style for \"i\" and \"?\" */\n",
       "\n",
       ".sk-estimator-doc-link,\n",
       "a:link.sk-estimator-doc-link,\n",
       "a:visited.sk-estimator-doc-link {\n",
       "  float: right;\n",
       "  font-size: smaller;\n",
       "  line-height: 1em;\n",
       "  font-family: monospace;\n",
       "  background-color: var(--sklearn-color-background);\n",
       "  border-radius: 1em;\n",
       "  height: 1em;\n",
       "  width: 1em;\n",
       "  text-decoration: none !important;\n",
       "  margin-left: 1ex;\n",
       "  /* unfitted */\n",
       "  border: var(--sklearn-color-unfitted-level-1) 1pt solid;\n",
       "  color: var(--sklearn-color-unfitted-level-1);\n",
       "}\n",
       "\n",
       ".sk-estimator-doc-link.fitted,\n",
       "a:link.sk-estimator-doc-link.fitted,\n",
       "a:visited.sk-estimator-doc-link.fitted {\n",
       "  /* fitted */\n",
       "  border: var(--sklearn-color-fitted-level-1) 1pt solid;\n",
       "  color: var(--sklearn-color-fitted-level-1);\n",
       "}\n",
       "\n",
       "/* On hover */\n",
       "div.sk-estimator:hover .sk-estimator-doc-link:hover,\n",
       ".sk-estimator-doc-link:hover,\n",
       "div.sk-label-container:hover .sk-estimator-doc-link:hover,\n",
       ".sk-estimator-doc-link:hover {\n",
       "  /* unfitted */\n",
       "  background-color: var(--sklearn-color-unfitted-level-3);\n",
       "  color: var(--sklearn-color-background);\n",
       "  text-decoration: none;\n",
       "}\n",
       "\n",
       "div.sk-estimator.fitted:hover .sk-estimator-doc-link.fitted:hover,\n",
       ".sk-estimator-doc-link.fitted:hover,\n",
       "div.sk-label-container:hover .sk-estimator-doc-link.fitted:hover,\n",
       ".sk-estimator-doc-link.fitted:hover {\n",
       "  /* fitted */\n",
       "  background-color: var(--sklearn-color-fitted-level-3);\n",
       "  color: var(--sklearn-color-background);\n",
       "  text-decoration: none;\n",
       "}\n",
       "\n",
       "/* Span, style for the box shown on hovering the info icon */\n",
       ".sk-estimator-doc-link span {\n",
       "  display: none;\n",
       "  z-index: 9999;\n",
       "  position: relative;\n",
       "  font-weight: normal;\n",
       "  right: .2ex;\n",
       "  padding: .5ex;\n",
       "  margin: .5ex;\n",
       "  width: min-content;\n",
       "  min-width: 20ex;\n",
       "  max-width: 50ex;\n",
       "  color: var(--sklearn-color-text);\n",
       "  box-shadow: 2pt 2pt 4pt #999;\n",
       "  /* unfitted */\n",
       "  background: var(--sklearn-color-unfitted-level-0);\n",
       "  border: .5pt solid var(--sklearn-color-unfitted-level-3);\n",
       "}\n",
       "\n",
       ".sk-estimator-doc-link.fitted span {\n",
       "  /* fitted */\n",
       "  background: var(--sklearn-color-fitted-level-0);\n",
       "  border: var(--sklearn-color-fitted-level-3);\n",
       "}\n",
       "\n",
       ".sk-estimator-doc-link:hover span {\n",
       "  display: block;\n",
       "}\n",
       "\n",
       "/* \"?\"-specific style due to the `<a>` HTML tag */\n",
       "\n",
       "#sk-container-id-1 a.estimator_doc_link {\n",
       "  float: right;\n",
       "  font-size: 1rem;\n",
       "  line-height: 1em;\n",
       "  font-family: monospace;\n",
       "  background-color: var(--sklearn-color-background);\n",
       "  border-radius: 1rem;\n",
       "  height: 1rem;\n",
       "  width: 1rem;\n",
       "  text-decoration: none;\n",
       "  /* unfitted */\n",
       "  color: var(--sklearn-color-unfitted-level-1);\n",
       "  border: var(--sklearn-color-unfitted-level-1) 1pt solid;\n",
       "}\n",
       "\n",
       "#sk-container-id-1 a.estimator_doc_link.fitted {\n",
       "  /* fitted */\n",
       "  border: var(--sklearn-color-fitted-level-1) 1pt solid;\n",
       "  color: var(--sklearn-color-fitted-level-1);\n",
       "}\n",
       "\n",
       "/* On hover */\n",
       "#sk-container-id-1 a.estimator_doc_link:hover {\n",
       "  /* unfitted */\n",
       "  background-color: var(--sklearn-color-unfitted-level-3);\n",
       "  color: var(--sklearn-color-background);\n",
       "  text-decoration: none;\n",
       "}\n",
       "\n",
       "#sk-container-id-1 a.estimator_doc_link.fitted:hover {\n",
       "  /* fitted */\n",
       "  background-color: var(--sklearn-color-fitted-level-3);\n",
       "}\n",
       "</style><div id=\"sk-container-id-1\" class=\"sk-top-container\"><div class=\"sk-text-repr-fallback\"><pre>StandardScaler()</pre><b>In a Jupyter environment, please rerun this cell to show the HTML representation or trust the notebook. <br />On GitHub, the HTML representation is unable to render, please try loading this page with nbviewer.org.</b></div><div class=\"sk-container\" hidden><div class=\"sk-item\"><div class=\"sk-estimator fitted sk-toggleable\"><input class=\"sk-toggleable__control sk-hidden--visually\" id=\"sk-estimator-id-1\" type=\"checkbox\" checked><label for=\"sk-estimator-id-1\" class=\"sk-toggleable__label fitted sk-toggleable__label-arrow fitted\">&nbsp;&nbsp;StandardScaler<a class=\"sk-estimator-doc-link fitted\" rel=\"noreferrer\" target=\"_blank\" href=\"https://scikit-learn.org/1.5/modules/generated/sklearn.preprocessing.StandardScaler.html\">?<span>Documentation for StandardScaler</span></a><span class=\"sk-estimator-doc-link fitted\">i<span>Fitted</span></span></label><div class=\"sk-toggleable__content fitted\"><pre>StandardScaler()</pre></div> </div></div></div></div>"
      ],
      "text/plain": [
       "StandardScaler()"
      ]
     },
     "execution_count": 15,
     "metadata": {},
     "output_type": "execute_result"
    }
   ],
   "source": [
    "from sklearn.preprocessing import StandardScaler\n",
    "\n",
    "# Fit a scaler\n",
    "scaler = StandardScaler()\n",
    "scaler.fit(X_train)"
   ]
  },
  {
   "cell_type": "code",
   "execution_count": 16,
   "metadata": {
    "id": "HkCzpwAtst0z"
   },
   "outputs": [],
   "source": [
    "# Transform data with scaler\n",
    "X_train_clean = scaler.transform(X_train)\n",
    "X_valid_clean = scaler.transform(X_valid)\n",
    "X_test_clean = scaler.transform(X_test)"
   ]
  },
  {
   "cell_type": "markdown",
   "metadata": {
    "id": "egMOdz1ytNzP"
   },
   "source": [
    "*Now, let's OHE the y data*"
   ]
  },
  {
   "cell_type": "code",
   "execution_count": 17,
   "metadata": {
    "colab": {
     "base_uri": "https://localhost:8080/",
     "height": 74
    },
    "id": "8TeHHpJ_tTPp",
    "outputId": "7f6aaad1-e971-4735-dd5e-67d49cfce6a1"
   },
   "outputs": [
    {
     "data": {
      "text/html": [
       "<style>#sk-container-id-2 {\n",
       "  /* Definition of color scheme common for light and dark mode */\n",
       "  --sklearn-color-text: black;\n",
       "  --sklearn-color-line: gray;\n",
       "  /* Definition of color scheme for unfitted estimators */\n",
       "  --sklearn-color-unfitted-level-0: #fff5e6;\n",
       "  --sklearn-color-unfitted-level-1: #f6e4d2;\n",
       "  --sklearn-color-unfitted-level-2: #ffe0b3;\n",
       "  --sklearn-color-unfitted-level-3: chocolate;\n",
       "  /* Definition of color scheme for fitted estimators */\n",
       "  --sklearn-color-fitted-level-0: #f0f8ff;\n",
       "  --sklearn-color-fitted-level-1: #d4ebff;\n",
       "  --sklearn-color-fitted-level-2: #b3dbfd;\n",
       "  --sklearn-color-fitted-level-3: cornflowerblue;\n",
       "\n",
       "  /* Specific color for light theme */\n",
       "  --sklearn-color-text-on-default-background: var(--sg-text-color, var(--theme-code-foreground, var(--jp-content-font-color1, black)));\n",
       "  --sklearn-color-background: var(--sg-background-color, var(--theme-background, var(--jp-layout-color0, white)));\n",
       "  --sklearn-color-border-box: var(--sg-text-color, var(--theme-code-foreground, var(--jp-content-font-color1, black)));\n",
       "  --sklearn-color-icon: #696969;\n",
       "\n",
       "  @media (prefers-color-scheme: dark) {\n",
       "    /* Redefinition of color scheme for dark theme */\n",
       "    --sklearn-color-text-on-default-background: var(--sg-text-color, var(--theme-code-foreground, var(--jp-content-font-color1, white)));\n",
       "    --sklearn-color-background: var(--sg-background-color, var(--theme-background, var(--jp-layout-color0, #111)));\n",
       "    --sklearn-color-border-box: var(--sg-text-color, var(--theme-code-foreground, var(--jp-content-font-color1, white)));\n",
       "    --sklearn-color-icon: #878787;\n",
       "  }\n",
       "}\n",
       "\n",
       "#sk-container-id-2 {\n",
       "  color: var(--sklearn-color-text);\n",
       "}\n",
       "\n",
       "#sk-container-id-2 pre {\n",
       "  padding: 0;\n",
       "}\n",
       "\n",
       "#sk-container-id-2 input.sk-hidden--visually {\n",
       "  border: 0;\n",
       "  clip: rect(1px 1px 1px 1px);\n",
       "  clip: rect(1px, 1px, 1px, 1px);\n",
       "  height: 1px;\n",
       "  margin: -1px;\n",
       "  overflow: hidden;\n",
       "  padding: 0;\n",
       "  position: absolute;\n",
       "  width: 1px;\n",
       "}\n",
       "\n",
       "#sk-container-id-2 div.sk-dashed-wrapped {\n",
       "  border: 1px dashed var(--sklearn-color-line);\n",
       "  margin: 0 0.4em 0.5em 0.4em;\n",
       "  box-sizing: border-box;\n",
       "  padding-bottom: 0.4em;\n",
       "  background-color: var(--sklearn-color-background);\n",
       "}\n",
       "\n",
       "#sk-container-id-2 div.sk-container {\n",
       "  /* jupyter's `normalize.less` sets `[hidden] { display: none; }`\n",
       "     but bootstrap.min.css set `[hidden] { display: none !important; }`\n",
       "     so we also need the `!important` here to be able to override the\n",
       "     default hidden behavior on the sphinx rendered scikit-learn.org.\n",
       "     See: https://github.com/scikit-learn/scikit-learn/issues/21755 */\n",
       "  display: inline-block !important;\n",
       "  position: relative;\n",
       "}\n",
       "\n",
       "#sk-container-id-2 div.sk-text-repr-fallback {\n",
       "  display: none;\n",
       "}\n",
       "\n",
       "div.sk-parallel-item,\n",
       "div.sk-serial,\n",
       "div.sk-item {\n",
       "  /* draw centered vertical line to link estimators */\n",
       "  background-image: linear-gradient(var(--sklearn-color-text-on-default-background), var(--sklearn-color-text-on-default-background));\n",
       "  background-size: 2px 100%;\n",
       "  background-repeat: no-repeat;\n",
       "  background-position: center center;\n",
       "}\n",
       "\n",
       "/* Parallel-specific style estimator block */\n",
       "\n",
       "#sk-container-id-2 div.sk-parallel-item::after {\n",
       "  content: \"\";\n",
       "  width: 100%;\n",
       "  border-bottom: 2px solid var(--sklearn-color-text-on-default-background);\n",
       "  flex-grow: 1;\n",
       "}\n",
       "\n",
       "#sk-container-id-2 div.sk-parallel {\n",
       "  display: flex;\n",
       "  align-items: stretch;\n",
       "  justify-content: center;\n",
       "  background-color: var(--sklearn-color-background);\n",
       "  position: relative;\n",
       "}\n",
       "\n",
       "#sk-container-id-2 div.sk-parallel-item {\n",
       "  display: flex;\n",
       "  flex-direction: column;\n",
       "}\n",
       "\n",
       "#sk-container-id-2 div.sk-parallel-item:first-child::after {\n",
       "  align-self: flex-end;\n",
       "  width: 50%;\n",
       "}\n",
       "\n",
       "#sk-container-id-2 div.sk-parallel-item:last-child::after {\n",
       "  align-self: flex-start;\n",
       "  width: 50%;\n",
       "}\n",
       "\n",
       "#sk-container-id-2 div.sk-parallel-item:only-child::after {\n",
       "  width: 0;\n",
       "}\n",
       "\n",
       "/* Serial-specific style estimator block */\n",
       "\n",
       "#sk-container-id-2 div.sk-serial {\n",
       "  display: flex;\n",
       "  flex-direction: column;\n",
       "  align-items: center;\n",
       "  background-color: var(--sklearn-color-background);\n",
       "  padding-right: 1em;\n",
       "  padding-left: 1em;\n",
       "}\n",
       "\n",
       "\n",
       "/* Toggleable style: style used for estimator/Pipeline/ColumnTransformer box that is\n",
       "clickable and can be expanded/collapsed.\n",
       "- Pipeline and ColumnTransformer use this feature and define the default style\n",
       "- Estimators will overwrite some part of the style using the `sk-estimator` class\n",
       "*/\n",
       "\n",
       "/* Pipeline and ColumnTransformer style (default) */\n",
       "\n",
       "#sk-container-id-2 div.sk-toggleable {\n",
       "  /* Default theme specific background. It is overwritten whether we have a\n",
       "  specific estimator or a Pipeline/ColumnTransformer */\n",
       "  background-color: var(--sklearn-color-background);\n",
       "}\n",
       "\n",
       "/* Toggleable label */\n",
       "#sk-container-id-2 label.sk-toggleable__label {\n",
       "  cursor: pointer;\n",
       "  display: block;\n",
       "  width: 100%;\n",
       "  margin-bottom: 0;\n",
       "  padding: 0.5em;\n",
       "  box-sizing: border-box;\n",
       "  text-align: center;\n",
       "}\n",
       "\n",
       "#sk-container-id-2 label.sk-toggleable__label-arrow:before {\n",
       "  /* Arrow on the left of the label */\n",
       "  content: \"▸\";\n",
       "  float: left;\n",
       "  margin-right: 0.25em;\n",
       "  color: var(--sklearn-color-icon);\n",
       "}\n",
       "\n",
       "#sk-container-id-2 label.sk-toggleable__label-arrow:hover:before {\n",
       "  color: var(--sklearn-color-text);\n",
       "}\n",
       "\n",
       "/* Toggleable content - dropdown */\n",
       "\n",
       "#sk-container-id-2 div.sk-toggleable__content {\n",
       "  max-height: 0;\n",
       "  max-width: 0;\n",
       "  overflow: hidden;\n",
       "  text-align: left;\n",
       "  /* unfitted */\n",
       "  background-color: var(--sklearn-color-unfitted-level-0);\n",
       "}\n",
       "\n",
       "#sk-container-id-2 div.sk-toggleable__content.fitted {\n",
       "  /* fitted */\n",
       "  background-color: var(--sklearn-color-fitted-level-0);\n",
       "}\n",
       "\n",
       "#sk-container-id-2 div.sk-toggleable__content pre {\n",
       "  margin: 0.2em;\n",
       "  border-radius: 0.25em;\n",
       "  color: var(--sklearn-color-text);\n",
       "  /* unfitted */\n",
       "  background-color: var(--sklearn-color-unfitted-level-0);\n",
       "}\n",
       "\n",
       "#sk-container-id-2 div.sk-toggleable__content.fitted pre {\n",
       "  /* unfitted */\n",
       "  background-color: var(--sklearn-color-fitted-level-0);\n",
       "}\n",
       "\n",
       "#sk-container-id-2 input.sk-toggleable__control:checked~div.sk-toggleable__content {\n",
       "  /* Expand drop-down */\n",
       "  max-height: 200px;\n",
       "  max-width: 100%;\n",
       "  overflow: auto;\n",
       "}\n",
       "\n",
       "#sk-container-id-2 input.sk-toggleable__control:checked~label.sk-toggleable__label-arrow:before {\n",
       "  content: \"▾\";\n",
       "}\n",
       "\n",
       "/* Pipeline/ColumnTransformer-specific style */\n",
       "\n",
       "#sk-container-id-2 div.sk-label input.sk-toggleable__control:checked~label.sk-toggleable__label {\n",
       "  color: var(--sklearn-color-text);\n",
       "  background-color: var(--sklearn-color-unfitted-level-2);\n",
       "}\n",
       "\n",
       "#sk-container-id-2 div.sk-label.fitted input.sk-toggleable__control:checked~label.sk-toggleable__label {\n",
       "  background-color: var(--sklearn-color-fitted-level-2);\n",
       "}\n",
       "\n",
       "/* Estimator-specific style */\n",
       "\n",
       "/* Colorize estimator box */\n",
       "#sk-container-id-2 div.sk-estimator input.sk-toggleable__control:checked~label.sk-toggleable__label {\n",
       "  /* unfitted */\n",
       "  background-color: var(--sklearn-color-unfitted-level-2);\n",
       "}\n",
       "\n",
       "#sk-container-id-2 div.sk-estimator.fitted input.sk-toggleable__control:checked~label.sk-toggleable__label {\n",
       "  /* fitted */\n",
       "  background-color: var(--sklearn-color-fitted-level-2);\n",
       "}\n",
       "\n",
       "#sk-container-id-2 div.sk-label label.sk-toggleable__label,\n",
       "#sk-container-id-2 div.sk-label label {\n",
       "  /* The background is the default theme color */\n",
       "  color: var(--sklearn-color-text-on-default-background);\n",
       "}\n",
       "\n",
       "/* On hover, darken the color of the background */\n",
       "#sk-container-id-2 div.sk-label:hover label.sk-toggleable__label {\n",
       "  color: var(--sklearn-color-text);\n",
       "  background-color: var(--sklearn-color-unfitted-level-2);\n",
       "}\n",
       "\n",
       "/* Label box, darken color on hover, fitted */\n",
       "#sk-container-id-2 div.sk-label.fitted:hover label.sk-toggleable__label.fitted {\n",
       "  color: var(--sklearn-color-text);\n",
       "  background-color: var(--sklearn-color-fitted-level-2);\n",
       "}\n",
       "\n",
       "/* Estimator label */\n",
       "\n",
       "#sk-container-id-2 div.sk-label label {\n",
       "  font-family: monospace;\n",
       "  font-weight: bold;\n",
       "  display: inline-block;\n",
       "  line-height: 1.2em;\n",
       "}\n",
       "\n",
       "#sk-container-id-2 div.sk-label-container {\n",
       "  text-align: center;\n",
       "}\n",
       "\n",
       "/* Estimator-specific */\n",
       "#sk-container-id-2 div.sk-estimator {\n",
       "  font-family: monospace;\n",
       "  border: 1px dotted var(--sklearn-color-border-box);\n",
       "  border-radius: 0.25em;\n",
       "  box-sizing: border-box;\n",
       "  margin-bottom: 0.5em;\n",
       "  /* unfitted */\n",
       "  background-color: var(--sklearn-color-unfitted-level-0);\n",
       "}\n",
       "\n",
       "#sk-container-id-2 div.sk-estimator.fitted {\n",
       "  /* fitted */\n",
       "  background-color: var(--sklearn-color-fitted-level-0);\n",
       "}\n",
       "\n",
       "/* on hover */\n",
       "#sk-container-id-2 div.sk-estimator:hover {\n",
       "  /* unfitted */\n",
       "  background-color: var(--sklearn-color-unfitted-level-2);\n",
       "}\n",
       "\n",
       "#sk-container-id-2 div.sk-estimator.fitted:hover {\n",
       "  /* fitted */\n",
       "  background-color: var(--sklearn-color-fitted-level-2);\n",
       "}\n",
       "\n",
       "/* Specification for estimator info (e.g. \"i\" and \"?\") */\n",
       "\n",
       "/* Common style for \"i\" and \"?\" */\n",
       "\n",
       ".sk-estimator-doc-link,\n",
       "a:link.sk-estimator-doc-link,\n",
       "a:visited.sk-estimator-doc-link {\n",
       "  float: right;\n",
       "  font-size: smaller;\n",
       "  line-height: 1em;\n",
       "  font-family: monospace;\n",
       "  background-color: var(--sklearn-color-background);\n",
       "  border-radius: 1em;\n",
       "  height: 1em;\n",
       "  width: 1em;\n",
       "  text-decoration: none !important;\n",
       "  margin-left: 1ex;\n",
       "  /* unfitted */\n",
       "  border: var(--sklearn-color-unfitted-level-1) 1pt solid;\n",
       "  color: var(--sklearn-color-unfitted-level-1);\n",
       "}\n",
       "\n",
       ".sk-estimator-doc-link.fitted,\n",
       "a:link.sk-estimator-doc-link.fitted,\n",
       "a:visited.sk-estimator-doc-link.fitted {\n",
       "  /* fitted */\n",
       "  border: var(--sklearn-color-fitted-level-1) 1pt solid;\n",
       "  color: var(--sklearn-color-fitted-level-1);\n",
       "}\n",
       "\n",
       "/* On hover */\n",
       "div.sk-estimator:hover .sk-estimator-doc-link:hover,\n",
       ".sk-estimator-doc-link:hover,\n",
       "div.sk-label-container:hover .sk-estimator-doc-link:hover,\n",
       ".sk-estimator-doc-link:hover {\n",
       "  /* unfitted */\n",
       "  background-color: var(--sklearn-color-unfitted-level-3);\n",
       "  color: var(--sklearn-color-background);\n",
       "  text-decoration: none;\n",
       "}\n",
       "\n",
       "div.sk-estimator.fitted:hover .sk-estimator-doc-link.fitted:hover,\n",
       ".sk-estimator-doc-link.fitted:hover,\n",
       "div.sk-label-container:hover .sk-estimator-doc-link.fitted:hover,\n",
       ".sk-estimator-doc-link.fitted:hover {\n",
       "  /* fitted */\n",
       "  background-color: var(--sklearn-color-fitted-level-3);\n",
       "  color: var(--sklearn-color-background);\n",
       "  text-decoration: none;\n",
       "}\n",
       "\n",
       "/* Span, style for the box shown on hovering the info icon */\n",
       ".sk-estimator-doc-link span {\n",
       "  display: none;\n",
       "  z-index: 9999;\n",
       "  position: relative;\n",
       "  font-weight: normal;\n",
       "  right: .2ex;\n",
       "  padding: .5ex;\n",
       "  margin: .5ex;\n",
       "  width: min-content;\n",
       "  min-width: 20ex;\n",
       "  max-width: 50ex;\n",
       "  color: var(--sklearn-color-text);\n",
       "  box-shadow: 2pt 2pt 4pt #999;\n",
       "  /* unfitted */\n",
       "  background: var(--sklearn-color-unfitted-level-0);\n",
       "  border: .5pt solid var(--sklearn-color-unfitted-level-3);\n",
       "}\n",
       "\n",
       ".sk-estimator-doc-link.fitted span {\n",
       "  /* fitted */\n",
       "  background: var(--sklearn-color-fitted-level-0);\n",
       "  border: var(--sklearn-color-fitted-level-3);\n",
       "}\n",
       "\n",
       ".sk-estimator-doc-link:hover span {\n",
       "  display: block;\n",
       "}\n",
       "\n",
       "/* \"?\"-specific style due to the `<a>` HTML tag */\n",
       "\n",
       "#sk-container-id-2 a.estimator_doc_link {\n",
       "  float: right;\n",
       "  font-size: 1rem;\n",
       "  line-height: 1em;\n",
       "  font-family: monospace;\n",
       "  background-color: var(--sklearn-color-background);\n",
       "  border-radius: 1rem;\n",
       "  height: 1rem;\n",
       "  width: 1rem;\n",
       "  text-decoration: none;\n",
       "  /* unfitted */\n",
       "  color: var(--sklearn-color-unfitted-level-1);\n",
       "  border: var(--sklearn-color-unfitted-level-1) 1pt solid;\n",
       "}\n",
       "\n",
       "#sk-container-id-2 a.estimator_doc_link.fitted {\n",
       "  /* fitted */\n",
       "  border: var(--sklearn-color-fitted-level-1) 1pt solid;\n",
       "  color: var(--sklearn-color-fitted-level-1);\n",
       "}\n",
       "\n",
       "/* On hover */\n",
       "#sk-container-id-2 a.estimator_doc_link:hover {\n",
       "  /* unfitted */\n",
       "  background-color: var(--sklearn-color-unfitted-level-3);\n",
       "  color: var(--sklearn-color-background);\n",
       "  text-decoration: none;\n",
       "}\n",
       "\n",
       "#sk-container-id-2 a.estimator_doc_link.fitted:hover {\n",
       "  /* fitted */\n",
       "  background-color: var(--sklearn-color-fitted-level-3);\n",
       "}\n",
       "</style><div id=\"sk-container-id-2\" class=\"sk-top-container\"><div class=\"sk-text-repr-fallback\"><pre>OneHotEncoder()</pre><b>In a Jupyter environment, please rerun this cell to show the HTML representation or trust the notebook. <br />On GitHub, the HTML representation is unable to render, please try loading this page with nbviewer.org.</b></div><div class=\"sk-container\" hidden><div class=\"sk-item\"><div class=\"sk-estimator fitted sk-toggleable\"><input class=\"sk-toggleable__control sk-hidden--visually\" id=\"sk-estimator-id-2\" type=\"checkbox\" checked><label for=\"sk-estimator-id-2\" class=\"sk-toggleable__label fitted sk-toggleable__label-arrow fitted\">&nbsp;&nbsp;OneHotEncoder<a class=\"sk-estimator-doc-link fitted\" rel=\"noreferrer\" target=\"_blank\" href=\"https://scikit-learn.org/1.5/modules/generated/sklearn.preprocessing.OneHotEncoder.html\">?<span>Documentation for OneHotEncoder</span></a><span class=\"sk-estimator-doc-link fitted\">i<span>Fitted</span></span></label><div class=\"sk-toggleable__content fitted\"><pre>OneHotEncoder()</pre></div> </div></div></div></div>"
      ],
      "text/plain": [
       "OneHotEncoder()"
      ]
     },
     "execution_count": 17,
     "metadata": {},
     "output_type": "execute_result"
    }
   ],
   "source": [
    "from sklearn.preprocessing import OneHotEncoder\n",
    "\n",
    "# Fit an encoder\n",
    "ohe_target = OneHotEncoder()\n",
    "ohe_target.fit(y_train.reshape(-1, 1))"
   ]
  },
  {
   "cell_type": "code",
   "execution_count": 18,
   "metadata": {
    "colab": {
     "base_uri": "https://localhost:8080/"
    },
    "id": "v3kBf9kutuXc",
    "outputId": "d0180e2f-28d4-4a29-bf6a-b45069b7fc75"
   },
   "outputs": [
    {
     "data": {
      "text/plain": [
       "(array([0, 0, 1, 0, 0]),\n",
       " array([[1., 0., 0.],\n",
       "        [1., 0., 0.],\n",
       "        [0., 1., 0.],\n",
       "        [1., 0., 0.],\n",
       "        [1., 0., 0.]]))"
      ]
     },
     "execution_count": 18,
     "metadata": {},
     "output_type": "execute_result"
    }
   ],
   "source": [
    "# Encode the target\n",
    "y_train_ohe = ohe_target.transform(y_train.reshape(-1, 1)).toarray()\n",
    "y_valid_ohe = ohe_target.transform(y_valid.reshape(-1, 1)).toarray()\n",
    "y_test_ohe = ohe_target.transform(y_test.reshape(-1, 1)).toarray()\n",
    "\n",
    "# validate\n",
    "y_train[:5], y_train_ohe[:5]"
   ]
  },
  {
   "cell_type": "code",
   "execution_count": 19,
   "metadata": {
    "colab": {
     "base_uri": "https://localhost:8080/"
    },
    "id": "v3BFkFNj7EMR",
    "outputId": "662d3bc5-6d95-409f-d140-9244fb6aedbe"
   },
   "outputs": [
    {
     "data": {
      "text/plain": [
       "array([0, 0, 1, 0, 0, 2, 1, 0, 0, 0, 2, 1, 1, 0, 0, 1, 2, 2, 1, 2, 1, 2,\n",
       "       1, 0, 2, 1, 0, 0, 0, 1, 2, 0, 0, 0, 1, 0, 1, 2, 0, 1, 2, 0, 2, 2,\n",
       "       1, 1, 2, 1, 0, 1, 2, 0, 0, 1, 1, 0, 2, 0, 0, 1, 1, 2, 1, 2, 2, 1,\n",
       "       0, 0, 2, 2, 0, 0, 0, 1, 2, 0, 2, 2, 0, 1, 1, 2, 1, 2, 0, 2, 1, 2,\n",
       "       1, 1, 1, 0, 1, 1, 0, 1, 2, 2, 0, 1, 2, 2, 0, 2, 0, 1, 2, 2, 1, 2,\n",
       "       1, 1, 2, 2, 0, 1, 2, 0, 1, 2])"
      ]
     },
     "execution_count": 19,
     "metadata": {},
     "output_type": "execute_result"
    }
   ],
   "source": [
    "y_train"
   ]
  },
  {
   "cell_type": "code",
   "execution_count": 20,
   "metadata": {
    "id": "Uy9d5324st00"
   },
   "outputs": [],
   "source": [
    "# Transform data to torch.tensor format\n",
    "Xs_train = torch.tensor(X_train_clean)\n",
    "Xs_valid = torch.tensor(X_valid_clean)\n",
    "Xs_test = torch.tensor(X_test_clean)\n",
    "\n",
    "ys_train = torch.tensor(y_train_ohe)\n",
    "ys_valid = torch.tensor(y_valid_ohe)\n",
    "ys_test = torch.tensor(y_test_ohe)"
   ]
  },
  {
   "cell_type": "markdown",
   "metadata": {
    "id": "ARkKZIfjst00"
   },
   "source": [
    "*Create baseline model*"
   ]
  },
  {
   "cell_type": "code",
   "execution_count": 21,
   "metadata": {
    "id": "_fNyrlXmst00"
   },
   "outputs": [],
   "source": [
    "from sklearn.dummy import DummyClassifier"
   ]
  },
  {
   "cell_type": "code",
   "execution_count": 22,
   "metadata": {
    "colab": {
     "base_uri": "https://localhost:8080/"
    },
    "id": "mRYElFnFst00",
    "outputId": "ac28ffc2-2bb5-4a2e-fd15-251de6d87eb6"
   },
   "outputs": [
    {
     "name": "stdout",
     "output_type": "stream",
     "text": [
      "Baseline CEL score - Train : 24.25389631287062\n",
      "Baseline CEL score - Valid : 29.473089190323783\n"
     ]
    }
   ],
   "source": [
    "# Create object\n",
    "mdl_baseline = DummyClassifier(strategy='most_frequent')\n",
    "\n",
    "# Fit object\n",
    "mdl_baseline.fit(Xs_train, y_train)\n",
    "\n",
    "# Predict\n",
    "y_train_pred = mdl_baseline.predict_proba(Xs_train)\n",
    "y_valid_pred = mdl_baseline.predict_proba(Xs_valid)\n",
    "\n",
    "# Convert result to torch tensor\n",
    "ys_train_pred = torch.tensor(y_train_pred)\n",
    "ys_valid_pred = torch.tensor(y_valid_pred)\n",
    "\n",
    "# Show scores\n",
    "bce_train_baseline = cross_entropy_loss(ys_train_pred, ys_train)\n",
    "bce_valid_baseline = cross_entropy_loss(ys_valid_pred, ys_valid)\n",
    "\n",
    "print('Baseline CEL score - Train :', bce_train_baseline.item())\n",
    "print('Baseline CEL score - Valid :', bce_valid_baseline.item())"
   ]
  },
  {
   "cell_type": "markdown",
   "metadata": {
    "id": "FwjjrJE2st01"
   },
   "source": [
    "*Great! Now let's create a Neuron model*"
   ]
  },
  {
   "cell_type": "code",
   "execution_count": 23,
   "metadata": {
    "id": "zarUDUTFst01"
   },
   "outputs": [],
   "source": [
    "torch.manual_seed(123)\n",
    "\n",
    "# NN model\n",
    "layers = [\n",
    "    Linear(feature_in=4, feature_out=3, bias=True), Softmax()\n",
    "]\n",
    "\n",
    "# Create the model\n",
    "mdl_nn = Sequential(layers = layers)\n",
    "\n",
    "# Activate the computational graph gradient\n",
    "parameters = mdl_nn.parameters()\n",
    "for p in parameters:\n",
    "    p.requires_grad = True"
   ]
  },
  {
   "cell_type": "code",
   "execution_count": 24,
   "metadata": {
    "colab": {
     "base_uri": "https://localhost:8080/"
    },
    "id": "rS146ZrDst01",
    "outputId": "251ed7cf-1df6-4d68-ccc4-87e5a984b1fb"
   },
   "outputs": [
    {
     "name": "stdout",
     "output_type": "stream",
     "text": [
      "iter: 1 | loss: 1.0475\n",
      "iter: 101 | loss: 0.3352\n",
      "iter: 201 | loss: 0.2692\n",
      "iter: 301 | loss: 0.2291\n",
      "iter: 401 | loss: 0.2014\n",
      "iter: 501 | loss: 0.1812\n",
      "iter: 601 | loss: 0.1658\n",
      "iter: 701 | loss: 0.1537\n",
      "iter: 801 | loss: 0.1439\n",
      "iter: 901 | loss: 0.1359\n",
      "iter: 1000 | loss: 0.1292\n",
      "iter: 1001 | loss: 0.1291\n",
      "iter: 1101 | loss: 0.1234\n",
      "iter: 1201 | loss: 0.1184\n",
      "iter: 1301 | loss: 0.1141\n",
      "iter: 1401 | loss: 0.1104\n",
      "iter: 1501 | loss: 0.1070\n",
      "iter: 1601 | loss: 0.1040\n",
      "iter: 1701 | loss: 0.1013\n",
      "iter: 1801 | loss: 0.0989\n",
      "iter: 1901 | loss: 0.0967\n",
      "iter: 2001 | loss: 0.0946\n",
      "iter: 2101 | loss: 0.0928\n",
      "iter: 2201 | loss: 0.0911\n",
      "iter: 2301 | loss: 0.0895\n",
      "iter: 2401 | loss: 0.0880\n",
      "iter: 2501 | loss: 0.0867\n",
      "iter: 2601 | loss: 0.0854\n",
      "iter: 2701 | loss: 0.0842\n",
      "iter: 2801 | loss: 0.0831\n",
      "iter: 2901 | loss: 0.0821\n",
      "iter: 3001 | loss: 0.0811\n",
      "iter: 3101 | loss: 0.0802\n",
      "iter: 3201 | loss: 0.0793\n",
      "iter: 3301 | loss: 0.0785\n",
      "iter: 3401 | loss: 0.0777\n",
      "iter: 3501 | loss: 0.0769\n",
      "iter: 3601 | loss: 0.0762\n",
      "iter: 3701 | loss: 0.0755\n",
      "iter: 3801 | loss: 0.0749\n",
      "iter: 3901 | loss: 0.0743\n",
      "iter: 4001 | loss: 0.0737\n",
      "iter: 4101 | loss: 0.0731\n",
      "iter: 4201 | loss: 0.0726\n",
      "iter: 4301 | loss: 0.0721\n",
      "iter: 4401 | loss: 0.0716\n",
      "iter: 4501 | loss: 0.0711\n",
      "iter: 4601 | loss: 0.0706\n",
      "iter: 4701 | loss: 0.0702\n",
      "iter: 4801 | loss: 0.0698\n",
      "iter: 4901 | loss: 0.0694\n",
      "Neuron CEL score - Train : 0.06895822280020077\n",
      "Neuron CEL score - Valid : 0.043719142224225446\n"
     ]
    }
   ],
   "source": [
    "# Now, let's perform the Gradient Descent\n",
    "for k in range(5_000):\n",
    "    # Do the forward pass to get prediction & loss\n",
    "    y_pred = mdl_nn(Xs_train)\n",
    "    loss = cross_entropy_loss(input=y_pred, target=ys_train)\n",
    "\n",
    "    # Do the backpropagation\n",
    "    # Always reset the parameter gradient every iterations\n",
    "    for p in parameters:\n",
    "        p.grad = None\n",
    "\n",
    "    # Then, do the backpropagation\n",
    "    loss.backward()\n",
    "\n",
    "    # Now, let's update the model\n",
    "    for p in parameters:\n",
    "        p.data += -0.1 * p.grad\n",
    "\n",
    "    # Print\n",
    "    if k==0 or k==999 or k%100==0:\n",
    "        print(f'iter: {k+1} | loss: {loss.item():.4f}')\n",
    "\n",
    "\n",
    "# Show final scores\n",
    "ys_train_pred = mdl_nn(Xs_train)\n",
    "ys_valid_pred = mdl_nn(Xs_valid)\n",
    "\n",
    "print('Neuron CEL score - Train :', cross_entropy_loss(input=ys_train_pred, target=ys_train).item())\n",
    "print('Neuron CEL score - Valid :', cross_entropy_loss(input=ys_valid_pred, target=ys_valid).item())"
   ]
  },
  {
   "cell_type": "markdown",
   "metadata": {
    "id": "Mnqb0cRlst02"
   },
   "source": [
    "*Nice! There is a huge improvement in train & valid dataset*"
   ]
  },
  {
   "cell_type": "code",
   "execution_count": 25,
   "metadata": {
    "colab": {
     "base_uri": "https://localhost:8080/"
    },
    "id": "Ucbm8kmyst02",
    "outputId": "5fd60eca-af3b-4c14-f52c-45a939def4aa"
   },
   "outputs": [
    {
     "name": "stdout",
     "output_type": "stream",
     "text": [
      "tensor([[-1.6248,  1.6322,  1.0569],\n",
      "        [ 2.5874,  0.2572, -1.2156],\n",
      "        [-3.3408, -0.7476,  4.5115],\n",
      "        [-2.5570, -0.7995,  5.0853]], dtype=torch.float64, requires_grad=True)\n",
      "tensor([-0.4120,  3.9625, -3.5505], dtype=torch.float64, requires_grad=True)\n"
     ]
    }
   ],
   "source": [
    "# parameters\n",
    "for p in parameters:\n",
    "    print(p)"
   ]
  },
  {
   "cell_type": "markdown",
   "metadata": {
    "id": "UBg3MYv8st02"
   },
   "source": [
    "*Let's validate it with a Multinomial Logistic Regression*"
   ]
  },
  {
   "cell_type": "code",
   "execution_count": 26,
   "metadata": {
    "colab": {
     "base_uri": "https://localhost:8080/"
    },
    "id": "66JE-XCSst02",
    "outputId": "7bf9ffd6-e289-4290-c213-756a5c21b7fc"
   },
   "outputs": [
    {
     "name": "stdout",
     "output_type": "stream",
     "text": [
      "LR CEL score - Train : 0.14541381909980972\n",
      "LR CEL score - Valid : 0.11312517405524898\n",
      "Model parameters:\n",
      "[[-1.00316587  1.14487318 -1.8113482  -1.69251025]\n",
      " [ 0.52799044 -0.28319987 -0.34060665 -0.72013959]\n",
      " [ 0.47517543 -0.86167331  2.15195485  2.41264984]] [-0.13377225  1.98264649 -1.84887424]\n"
     ]
    }
   ],
   "source": [
    "from sklearn.linear_model import LogisticRegression\n",
    "from sklearn.metrics import log_loss\n",
    "\n",
    "mdl_lr = LogisticRegression()\n",
    "mdl_lr.fit(Xs_train, y_train)\n",
    "\n",
    "lr_train_score = log_loss(y_train, mdl_lr.predict_proba(Xs_train))\n",
    "lr_valid_score = log_loss(y_valid, mdl_lr.predict_proba(Xs_valid))\n",
    "\n",
    "print('LR CEL score - Train :', lr_train_score)\n",
    "print('LR CEL score - Valid :', lr_valid_score)\n",
    "print('Model parameters:')\n",
    "print(mdl_lr.coef_, mdl_lr.intercept_)"
   ]
  },
  {
   "cell_type": "markdown",
   "metadata": {
    "id": "Bo5okqo1yyrN"
   },
   "source": [
    "*Compare the prediction in validation data*"
   ]
  },
  {
   "cell_type": "code",
   "execution_count": 27,
   "metadata": {
    "colab": {
     "base_uri": "https://localhost:8080/"
    },
    "id": "9ucWlynMyuo6",
    "outputId": "07539258-4da2-4ddc-8e27-cb844e108cea"
   },
   "outputs": [
    {
     "name": "stdout",
     "output_type": "stream",
     "text": [
      "Neural Network prediction      : tensor([0, 0, 2, 2, 1, 2, 2, 1, 0, 0, 2, 2, 0, 2, 1])\n",
      "Logistic Regression prediction : [0 0 2 2 1 2 2 1 0 0 2 2 0 2 1]\n"
     ]
    }
   ],
   "source": [
    "y_valid_pred_nn = torch.argmax(mdl_nn(Xs_valid), axis=1)\n",
    "y_valid_pred_lr = mdl_lr.predict(Xs_valid)\n",
    "\n",
    "print('Neural Network prediction      :', y_valid_pred_nn)\n",
    "print('Logistic Regression prediction :', y_valid_pred_lr)"
   ]
  },
  {
   "cell_type": "markdown",
   "metadata": {
    "id": "cDGfGucjz3rI"
   },
   "source": [
    "## **Load a new data**\n",
    "---"
   ]
  },
  {
   "cell_type": "markdown",
   "metadata": {
    "id": "Dw2wD3x0z3rL"
   },
   "source": [
    "- Let's perform a digit classification using Neural Network\n",
    "- Optimize your model parameter using Gradient Descent"
   ]
  },
  {
   "cell_type": "markdown",
   "metadata": {
    "id": "Vsf0htin1MVW"
   },
   "source": [
    "*Load Library*"
   ]
  },
  {
   "cell_type": "code",
   "execution_count": 28,
   "metadata": {
    "id": "AGDUYH_k0HuD"
   },
   "outputs": [],
   "source": [
    "# Load library\n",
    "from sklearn.datasets import load_digits"
   ]
  },
  {
   "cell_type": "markdown",
   "metadata": {
    "id": "3gogjc741N74"
   },
   "source": [
    "*Prepare data*"
   ]
  },
  {
   "cell_type": "code",
   "execution_count": 29,
   "metadata": {
    "colab": {
     "base_uri": "https://localhost:8080/",
     "height": 136
    },
    "id": "IcsoGpV29_Uf",
    "outputId": "12b20a8c-4612-449e-cb4d-35864caca90b"
   },
   "outputs": [
    {
     "data": {
      "image/png": "[encoded data removed]",
      "text/plain": [
       "<Figure size 1000x100 with 5 Axes>"
      ]
     },
     "metadata": {},
     "output_type": "display_data"
    }
   ],
   "source": [
    "# load data\n",
    "X, y = load_digits(return_X_y=True)\n",
    "\n",
    "# plot\n",
    "fig, axes = plt.subplots(nrows=1, ncols=5, figsize=(10, 1))\n",
    "for ax, img, target in zip(axes, X, y):\n",
    "    ax.set_axis_off()\n",
    "    ax.imshow(img.reshape(8, 8), cmap=plt.cm.gray_r, interpolation='nearest')\n",
    "    ax.set_title(f'Training: {target}')"
   ]
  },
  {
   "cell_type": "code",
   "execution_count": 30,
   "metadata": {
    "colab": {
     "base_uri": "https://localhost:8080/"
    },
    "id": "tVtyZpAZ0p4O",
    "outputId": "e096c6fc-0bab-4b54-96c8-b90ed82cb7d7"
   },
   "outputs": [
    {
     "data": {
      "text/plain": [
       "((1437, 64), (180, 64), (180, 64))"
      ]
     },
     "execution_count": 30,
     "metadata": {},
     "output_type": "execute_result"
    }
   ],
   "source": [
    "# Split data\n",
    "X_train, X_test, y_train, y_test = train_test_split(X, y,\n",
    "                                                    test_size = 0.2,\n",
    "                                                    random_state=42)\n",
    "X_valid, X_test, y_valid, y_test = train_test_split(X_test, y_test,\n",
    "                                                    test_size = 0.5,\n",
    "                                                    random_state = 42)\n",
    "\n",
    "X_train.shape, X_valid.shape, X_test.shape"
   ]
  },
  {
   "cell_type": "markdown",
   "metadata": {
    "id": "l3q0CKKZ_dxH"
   },
   "source": [
    "*Now, let's OHE the y data*"
   ]
  },
  {
   "cell_type": "code",
   "execution_count": 31,
   "metadata": {
    "colab": {
     "base_uri": "https://localhost:8080/",
     "height": 74
    },
    "id": "kcqISd9x_dxI",
    "outputId": "b1b7284b-dca3-4bd8-b8d0-85b62554794c"
   },
   "outputs": [
    {
     "data": {
      "text/html": [
       "<style>#sk-container-id-3 {\n",
       "  /* Definition of color scheme common for light and dark mode */\n",
       "  --sklearn-color-text: black;\n",
       "  --sklearn-color-line: gray;\n",
       "  /* Definition of color scheme for unfitted estimators */\n",
       "  --sklearn-color-unfitted-level-0: #fff5e6;\n",
       "  --sklearn-color-unfitted-level-1: #f6e4d2;\n",
       "  --sklearn-color-unfitted-level-2: #ffe0b3;\n",
       "  --sklearn-color-unfitted-level-3: chocolate;\n",
       "  /* Definition of color scheme for fitted estimators */\n",
       "  --sklearn-color-fitted-level-0: #f0f8ff;\n",
       "  --sklearn-color-fitted-level-1: #d4ebff;\n",
       "  --sklearn-color-fitted-level-2: #b3dbfd;\n",
       "  --sklearn-color-fitted-level-3: cornflowerblue;\n",
       "\n",
       "  /* Specific color for light theme */\n",
       "  --sklearn-color-text-on-default-background: var(--sg-text-color, var(--theme-code-foreground, var(--jp-content-font-color1, black)));\n",
       "  --sklearn-color-background: var(--sg-background-color, var(--theme-background, var(--jp-layout-color0, white)));\n",
       "  --sklearn-color-border-box: var(--sg-text-color, var(--theme-code-foreground, var(--jp-content-font-color1, black)));\n",
       "  --sklearn-color-icon: #696969;\n",
       "\n",
       "  @media (prefers-color-scheme: dark) {\n",
       "    /* Redefinition of color scheme for dark theme */\n",
       "    --sklearn-color-text-on-default-background: var(--sg-text-color, var(--theme-code-foreground, var(--jp-content-font-color1, white)));\n",
       "    --sklearn-color-background: var(--sg-background-color, var(--theme-background, var(--jp-layout-color0, #111)));\n",
       "    --sklearn-color-border-box: var(--sg-text-color, var(--theme-code-foreground, var(--jp-content-font-color1, white)));\n",
       "    --sklearn-color-icon: #878787;\n",
       "  }\n",
       "}\n",
       "\n",
       "#sk-container-id-3 {\n",
       "  color: var(--sklearn-color-text);\n",
       "}\n",
       "\n",
       "#sk-container-id-3 pre {\n",
       "  padding: 0;\n",
       "}\n",
       "\n",
       "#sk-container-id-3 input.sk-hidden--visually {\n",
       "  border: 0;\n",
       "  clip: rect(1px 1px 1px 1px);\n",
       "  clip: rect(1px, 1px, 1px, 1px);\n",
       "  height: 1px;\n",
       "  margin: -1px;\n",
       "  overflow: hidden;\n",
       "  padding: 0;\n",
       "  position: absolute;\n",
       "  width: 1px;\n",
       "}\n",
       "\n",
       "#sk-container-id-3 div.sk-dashed-wrapped {\n",
       "  border: 1px dashed var(--sklearn-color-line);\n",
       "  margin: 0 0.4em 0.5em 0.4em;\n",
       "  box-sizing: border-box;\n",
       "  padding-bottom: 0.4em;\n",
       "  background-color: var(--sklearn-color-background);\n",
       "}\n",
       "\n",
       "#sk-container-id-3 div.sk-container {\n",
       "  /* jupyter's `normalize.less` sets `[hidden] { display: none; }`\n",
       "     but bootstrap.min.css set `[hidden] { display: none !important; }`\n",
       "     so we also need the `!important` here to be able to override the\n",
       "     default hidden behavior on the sphinx rendered scikit-learn.org.\n",
       "     See: https://github.com/scikit-learn/scikit-learn/issues/21755 */\n",
       "  display: inline-block !important;\n",
       "  position: relative;\n",
       "}\n",
       "\n",
       "#sk-container-id-3 div.sk-text-repr-fallback {\n",
       "  display: none;\n",
       "}\n",
       "\n",
       "div.sk-parallel-item,\n",
       "div.sk-serial,\n",
       "div.sk-item {\n",
       "  /* draw centered vertical line to link estimators */\n",
       "  background-image: linear-gradient(var(--sklearn-color-text-on-default-background), var(--sklearn-color-text-on-default-background));\n",
       "  background-size: 2px 100%;\n",
       "  background-repeat: no-repeat;\n",
       "  background-position: center center;\n",
       "}\n",
       "\n",
       "/* Parallel-specific style estimator block */\n",
       "\n",
       "#sk-container-id-3 div.sk-parallel-item::after {\n",
       "  content: \"\";\n",
       "  width: 100%;\n",
       "  border-bottom: 2px solid var(--sklearn-color-text-on-default-background);\n",
       "  flex-grow: 1;\n",
       "}\n",
       "\n",
       "#sk-container-id-3 div.sk-parallel {\n",
       "  display: flex;\n",
       "  align-items: stretch;\n",
       "  justify-content: center;\n",
       "  background-color: var(--sklearn-color-background);\n",
       "  position: relative;\n",
       "}\n",
       "\n",
       "#sk-container-id-3 div.sk-parallel-item {\n",
       "  display: flex;\n",
       "  flex-direction: column;\n",
       "}\n",
       "\n",
       "#sk-container-id-3 div.sk-parallel-item:first-child::after {\n",
       "  align-self: flex-end;\n",
       "  width: 50%;\n",
       "}\n",
       "\n",
       "#sk-container-id-3 div.sk-parallel-item:last-child::after {\n",
       "  align-self: flex-start;\n",
       "  width: 50%;\n",
       "}\n",
       "\n",
       "#sk-container-id-3 div.sk-parallel-item:only-child::after {\n",
       "  width: 0;\n",
       "}\n",
       "\n",
       "/* Serial-specific style estimator block */\n",
       "\n",
       "#sk-container-id-3 div.sk-serial {\n",
       "  display: flex;\n",
       "  flex-direction: column;\n",
       "  align-items: center;\n",
       "  background-color: var(--sklearn-color-background);\n",
       "  padding-right: 1em;\n",
       "  padding-left: 1em;\n",
       "}\n",
       "\n",
       "\n",
       "/* Toggleable style: style used for estimator/Pipeline/ColumnTransformer box that is\n",
       "clickable and can be expanded/collapsed.\n",
       "- Pipeline and ColumnTransformer use this feature and define the default style\n",
       "- Estimators will overwrite some part of the style using the `sk-estimator` class\n",
       "*/\n",
       "\n",
       "/* Pipeline and ColumnTransformer style (default) */\n",
       "\n",
       "#sk-container-id-3 div.sk-toggleable {\n",
       "  /* Default theme specific background. It is overwritten whether we have a\n",
       "  specific estimator or a Pipeline/ColumnTransformer */\n",
       "  background-color: var(--sklearn-color-background);\n",
       "}\n",
       "\n",
       "/* Toggleable label */\n",
       "#sk-container-id-3 label.sk-toggleable__label {\n",
       "  cursor: pointer;\n",
       "  display: block;\n",
       "  width: 100%;\n",
       "  margin-bottom: 0;\n",
       "  padding: 0.5em;\n",
       "  box-sizing: border-box;\n",
       "  text-align: center;\n",
       "}\n",
       "\n",
       "#sk-container-id-3 label.sk-toggleable__label-arrow:before {\n",
       "  /* Arrow on the left of the label */\n",
       "  content: \"▸\";\n",
       "  float: left;\n",
       "  margin-right: 0.25em;\n",
       "  color: var(--sklearn-color-icon);\n",
       "}\n",
       "\n",
       "#sk-container-id-3 label.sk-toggleable__label-arrow:hover:before {\n",
       "  color: var(--sklearn-color-text);\n",
       "}\n",
       "\n",
       "/* Toggleable content - dropdown */\n",
       "\n",
       "#sk-container-id-3 div.sk-toggleable__content {\n",
       "  max-height: 0;\n",
       "  max-width: 0;\n",
       "  overflow: hidden;\n",
       "  text-align: left;\n",
       "  /* unfitted */\n",
       "  background-color: var(--sklearn-color-unfitted-level-0);\n",
       "}\n",
       "\n",
       "#sk-container-id-3 div.sk-toggleable__content.fitted {\n",
       "  /* fitted */\n",
       "  background-color: var(--sklearn-color-fitted-level-0);\n",
       "}\n",
       "\n",
       "#sk-container-id-3 div.sk-toggleable__content pre {\n",
       "  margin: 0.2em;\n",
       "  border-radius: 0.25em;\n",
       "  color: var(--sklearn-color-text);\n",
       "  /* unfitted */\n",
       "  background-color: var(--sklearn-color-unfitted-level-0);\n",
       "}\n",
       "\n",
       "#sk-container-id-3 div.sk-toggleable__content.fitted pre {\n",
       "  /* unfitted */\n",
       "  background-color: var(--sklearn-color-fitted-level-0);\n",
       "}\n",
       "\n",
       "#sk-container-id-3 input.sk-toggleable__control:checked~div.sk-toggleable__content {\n",
       "  /* Expand drop-down */\n",
       "  max-height: 200px;\n",
       "  max-width: 100%;\n",
       "  overflow: auto;\n",
       "}\n",
       "\n",
       "#sk-container-id-3 input.sk-toggleable__control:checked~label.sk-toggleable__label-arrow:before {\n",
       "  content: \"▾\";\n",
       "}\n",
       "\n",
       "/* Pipeline/ColumnTransformer-specific style */\n",
       "\n",
       "#sk-container-id-3 div.sk-label input.sk-toggleable__control:checked~label.sk-toggleable__label {\n",
       "  color: var(--sklearn-color-text);\n",
       "  background-color: var(--sklearn-color-unfitted-level-2);\n",
       "}\n",
       "\n",
       "#sk-container-id-3 div.sk-label.fitted input.sk-toggleable__control:checked~label.sk-toggleable__label {\n",
       "  background-color: var(--sklearn-color-fitted-level-2);\n",
       "}\n",
       "\n",
       "/* Estimator-specific style */\n",
       "\n",
       "/* Colorize estimator box */\n",
       "#sk-container-id-3 div.sk-estimator input.sk-toggleable__control:checked~label.sk-toggleable__label {\n",
       "  /* unfitted */\n",
       "  background-color: var(--sklearn-color-unfitted-level-2);\n",
       "}\n",
       "\n",
       "#sk-container-id-3 div.sk-estimator.fitted input.sk-toggleable__control:checked~label.sk-toggleable__label {\n",
       "  /* fitted */\n",
       "  background-color: var(--sklearn-color-fitted-level-2);\n",
       "}\n",
       "\n",
       "#sk-container-id-3 div.sk-label label.sk-toggleable__label,\n",
       "#sk-container-id-3 div.sk-label label {\n",
       "  /* The background is the default theme color */\n",
       "  color: var(--sklearn-color-text-on-default-background);\n",
       "}\n",
       "\n",
       "/* On hover, darken the color of the background */\n",
       "#sk-container-id-3 div.sk-label:hover label.sk-toggleable__label {\n",
       "  color: var(--sklearn-color-text);\n",
       "  background-color: var(--sklearn-color-unfitted-level-2);\n",
       "}\n",
       "\n",
       "/* Label box, darken color on hover, fitted */\n",
       "#sk-container-id-3 div.sk-label.fitted:hover label.sk-toggleable__label.fitted {\n",
       "  color: var(--sklearn-color-text);\n",
       "  background-color: var(--sklearn-color-fitted-level-2);\n",
       "}\n",
       "\n",
       "/* Estimator label */\n",
       "\n",
       "#sk-container-id-3 div.sk-label label {\n",
       "  font-family: monospace;\n",
       "  font-weight: bold;\n",
       "  display: inline-block;\n",
       "  line-height: 1.2em;\n",
       "}\n",
       "\n",
       "#sk-container-id-3 div.sk-label-container {\n",
       "  text-align: center;\n",
       "}\n",
       "\n",
       "/* Estimator-specific */\n",
       "#sk-container-id-3 div.sk-estimator {\n",
       "  font-family: monospace;\n",
       "  border: 1px dotted var(--sklearn-color-border-box);\n",
       "  border-radius: 0.25em;\n",
       "  box-sizing: border-box;\n",
       "  margin-bottom: 0.5em;\n",
       "  /* unfitted */\n",
       "  background-color: var(--sklearn-color-unfitted-level-0);\n",
       "}\n",
       "\n",
       "#sk-container-id-3 div.sk-estimator.fitted {\n",
       "  /* fitted */\n",
       "  background-color: var(--sklearn-color-fitted-level-0);\n",
       "}\n",
       "\n",
       "/* on hover */\n",
       "#sk-container-id-3 div.sk-estimator:hover {\n",
       "  /* unfitted */\n",
       "  background-color: var(--sklearn-color-unfitted-level-2);\n",
       "}\n",
       "\n",
       "#sk-container-id-3 div.sk-estimator.fitted:hover {\n",
       "  /* fitted */\n",
       "  background-color: var(--sklearn-color-fitted-level-2);\n",
       "}\n",
       "\n",
       "/* Specification for estimator info (e.g. \"i\" and \"?\") */\n",
       "\n",
       "/* Common style for \"i\" and \"?\" */\n",
       "\n",
       ".sk-estimator-doc-link,\n",
       "a:link.sk-estimator-doc-link,\n",
       "a:visited.sk-estimator-doc-link {\n",
       "  float: right;\n",
       "  font-size: smaller;\n",
       "  line-height: 1em;\n",
       "  font-family: monospace;\n",
       "  background-color: var(--sklearn-color-background);\n",
       "  border-radius: 1em;\n",
       "  height: 1em;\n",
       "  width: 1em;\n",
       "  text-decoration: none !important;\n",
       "  margin-left: 1ex;\n",
       "  /* unfitted */\n",
       "  border: var(--sklearn-color-unfitted-level-1) 1pt solid;\n",
       "  color: var(--sklearn-color-unfitted-level-1);\n",
       "}\n",
       "\n",
       ".sk-estimator-doc-link.fitted,\n",
       "a:link.sk-estimator-doc-link.fitted,\n",
       "a:visited.sk-estimator-doc-link.fitted {\n",
       "  /* fitted */\n",
       "  border: var(--sklearn-color-fitted-level-1) 1pt solid;\n",
       "  color: var(--sklearn-color-fitted-level-1);\n",
       "}\n",
       "\n",
       "/* On hover */\n",
       "div.sk-estimator:hover .sk-estimator-doc-link:hover,\n",
       ".sk-estimator-doc-link:hover,\n",
       "div.sk-label-container:hover .sk-estimator-doc-link:hover,\n",
       ".sk-estimator-doc-link:hover {\n",
       "  /* unfitted */\n",
       "  background-color: var(--sklearn-color-unfitted-level-3);\n",
       "  color: var(--sklearn-color-background);\n",
       "  text-decoration: none;\n",
       "}\n",
       "\n",
       "div.sk-estimator.fitted:hover .sk-estimator-doc-link.fitted:hover,\n",
       ".sk-estimator-doc-link.fitted:hover,\n",
       "div.sk-label-container:hover .sk-estimator-doc-link.fitted:hover,\n",
       ".sk-estimator-doc-link.fitted:hover {\n",
       "  /* fitted */\n",
       "  background-color: var(--sklearn-color-fitted-level-3);\n",
       "  color: var(--sklearn-color-background);\n",
       "  text-decoration: none;\n",
       "}\n",
       "\n",
       "/* Span, style for the box shown on hovering the info icon */\n",
       ".sk-estimator-doc-link span {\n",
       "  display: none;\n",
       "  z-index: 9999;\n",
       "  position: relative;\n",
       "  font-weight: normal;\n",
       "  right: .2ex;\n",
       "  padding: .5ex;\n",
       "  margin: .5ex;\n",
       "  width: min-content;\n",
       "  min-width: 20ex;\n",
       "  max-width: 50ex;\n",
       "  color: var(--sklearn-color-text);\n",
       "  box-shadow: 2pt 2pt 4pt #999;\n",
       "  /* unfitted */\n",
       "  background: var(--sklearn-color-unfitted-level-0);\n",
       "  border: .5pt solid var(--sklearn-color-unfitted-level-3);\n",
       "}\n",
       "\n",
       ".sk-estimator-doc-link.fitted span {\n",
       "  /* fitted */\n",
       "  background: var(--sklearn-color-fitted-level-0);\n",
       "  border: var(--sklearn-color-fitted-level-3);\n",
       "}\n",
       "\n",
       ".sk-estimator-doc-link:hover span {\n",
       "  display: block;\n",
       "}\n",
       "\n",
       "/* \"?\"-specific style due to the `<a>` HTML tag */\n",
       "\n",
       "#sk-container-id-3 a.estimator_doc_link {\n",
       "  float: right;\n",
       "  font-size: 1rem;\n",
       "  line-height: 1em;\n",
       "  font-family: monospace;\n",
       "  background-color: var(--sklearn-color-background);\n",
       "  border-radius: 1rem;\n",
       "  height: 1rem;\n",
       "  width: 1rem;\n",
       "  text-decoration: none;\n",
       "  /* unfitted */\n",
       "  color: var(--sklearn-color-unfitted-level-1);\n",
       "  border: var(--sklearn-color-unfitted-level-1) 1pt solid;\n",
       "}\n",
       "\n",
       "#sk-container-id-3 a.estimator_doc_link.fitted {\n",
       "  /* fitted */\n",
       "  border: var(--sklearn-color-fitted-level-1) 1pt solid;\n",
       "  color: var(--sklearn-color-fitted-level-1);\n",
       "}\n",
       "\n",
       "/* On hover */\n",
       "#sk-container-id-3 a.estimator_doc_link:hover {\n",
       "  /* unfitted */\n",
       "  background-color: var(--sklearn-color-unfitted-level-3);\n",
       "  color: var(--sklearn-color-background);\n",
       "  text-decoration: none;\n",
       "}\n",
       "\n",
       "#sk-container-id-3 a.estimator_doc_link.fitted:hover {\n",
       "  /* fitted */\n",
       "  background-color: var(--sklearn-color-fitted-level-3);\n",
       "}\n",
       "</style><div id=\"sk-container-id-3\" class=\"sk-top-container\"><div class=\"sk-text-repr-fallback\"><pre>OneHotEncoder()</pre><b>In a Jupyter environment, please rerun this cell to show the HTML representation or trust the notebook. <br />On GitHub, the HTML representation is unable to render, please try loading this page with nbviewer.org.</b></div><div class=\"sk-container\" hidden><div class=\"sk-item\"><div class=\"sk-estimator fitted sk-toggleable\"><input class=\"sk-toggleable__control sk-hidden--visually\" id=\"sk-estimator-id-3\" type=\"checkbox\" checked><label for=\"sk-estimator-id-3\" class=\"sk-toggleable__label fitted sk-toggleable__label-arrow fitted\">&nbsp;&nbsp;OneHotEncoder<a class=\"sk-estimator-doc-link fitted\" rel=\"noreferrer\" target=\"_blank\" href=\"https://scikit-learn.org/1.5/modules/generated/sklearn.preprocessing.OneHotEncoder.html\">?<span>Documentation for OneHotEncoder</span></a><span class=\"sk-estimator-doc-link fitted\">i<span>Fitted</span></span></label><div class=\"sk-toggleable__content fitted\"><pre>OneHotEncoder()</pre></div> </div></div></div></div>"
      ],
      "text/plain": [
       "OneHotEncoder()"
      ]
     },
     "execution_count": 31,
     "metadata": {},
     "output_type": "execute_result"
    }
   ],
   "source": [
    "from sklearn.preprocessing import OneHotEncoder\n",
    "\n",
    "# Fit an encoder\n",
    "ohe_target = OneHotEncoder()\n",
    "ohe_target.fit(y_train.reshape(-1, 1))"
   ]
  },
  {
   "cell_type": "code",
   "execution_count": 32,
   "metadata": {
    "colab": {
     "base_uri": "https://localhost:8080/"
    },
    "id": "wFVWyeF2_dxI",
    "outputId": "03196a52-9e6f-43d1-c3d4-760a4e5055d8"
   },
   "outputs": [
    {
     "data": {
      "text/plain": [
       "(array([6, 0, 0, 3, 0]),\n",
       " array([[0., 0., 0., 0., 0., 0., 1., 0., 0., 0.],\n",
       "        [1., 0., 0., 0., 0., 0., 0., 0., 0., 0.],\n",
       "        [1., 0., 0., 0., 0., 0., 0., 0., 0., 0.],\n",
       "        [0., 0., 0., 1., 0., 0., 0., 0., 0., 0.],\n",
       "        [1., 0., 0., 0., 0., 0., 0., 0., 0., 0.]]))"
      ]
     },
     "execution_count": 32,
     "metadata": {},
     "output_type": "execute_result"
    }
   ],
   "source": [
    "# Encode the target\n",
    "y_train_ohe = ohe_target.transform(y_train.reshape(-1, 1)).toarray()\n",
    "y_valid_ohe = ohe_target.transform(y_valid.reshape(-1, 1)).toarray()\n",
    "y_test_ohe = ohe_target.transform(y_test.reshape(-1, 1)).toarray()\n",
    "\n",
    "# validate\n",
    "y_train[:5], y_train_ohe[:5]"
   ]
  },
  {
   "cell_type": "markdown",
   "metadata": {
    "id": "wHGa4NKefO_E"
   },
   "source": [
    "*Scale the data*"
   ]
  },
  {
   "cell_type": "code",
   "execution_count": 33,
   "metadata": {
    "id": "bN8NUDb4dqiH"
   },
   "outputs": [],
   "source": [
    "from sklearn.preprocessing import StandardScaler\n",
    "\n",
    "scaler = StandardScaler()\n",
    "scaler.fit(X_train)\n",
    "\n",
    "X_train_clean = scaler.transform(X_train)\n",
    "X_valid_clean = scaler.transform(X_valid)\n",
    "X_test_clean = scaler.transform(X_test)"
   ]
  },
  {
   "cell_type": "code",
   "execution_count": 34,
   "metadata": {
    "id": "9hEmVdbp_dxI"
   },
   "outputs": [],
   "source": [
    "# Transform data to torch.tensor format\n",
    "Xs_train = torch.tensor(X_train_clean)\n",
    "Xs_valid = torch.tensor(X_valid_clean)\n",
    "Xs_test = torch.tensor(X_test_clean)\n",
    "\n",
    "ys_train = torch.tensor(y_train_ohe)\n",
    "ys_valid = torch.tensor(y_valid_ohe)\n",
    "ys_test = torch.tensor(y_test_ohe)"
   ]
  },
  {
   "cell_type": "markdown",
   "metadata": {
    "id": "p0bwbyfMUQuh"
   },
   "source": [
    "## **Task 4**\n",
    "---"
   ]
  },
  {
   "cell_type": "markdown",
   "metadata": {
    "id": "9qmlzHARUVyu"
   },
   "source": [
    "- Perform Batch, Minibatch, and Stochastic Gradient Descent"
   ]
  },
  {
   "cell_type": "markdown",
   "metadata": {
    "id": "KhdqrnQM_dxJ"
   },
   "source": [
    "*Create baseline model*"
   ]
  },
  {
   "cell_type": "code",
   "execution_count": 35,
   "metadata": {
    "colab": {
     "base_uri": "https://localhost:8080/"
    },
    "id": "XgTcz2yd_dxJ",
    "outputId": "0380e99a-513e-4e3e-981f-d6470c5e511f"
   },
   "outputs": [
    {
     "name": "stdout",
     "output_type": "stream",
     "text": [
      "Baseline CEL score - Train : 32.89315712524827\n",
      "Baseline CEL score - Valid : 33.77124803057934\n"
     ]
    }
   ],
   "source": [
    "# Create object\n",
    "mdl_baseline = DummyClassifier(strategy='most_frequent')\n",
    "\n",
    "# Fit object\n",
    "mdl_baseline.fit(Xs_train, y_train)\n",
    "\n",
    "# Predict\n",
    "y_train_pred = mdl_baseline.predict_proba(Xs_train)\n",
    "y_valid_pred = mdl_baseline.predict_proba(Xs_valid)\n",
    "\n",
    "# Convert result to torch tensor\n",
    "ys_train_pred = torch.tensor(y_train_pred)\n",
    "ys_valid_pred = torch.tensor(y_valid_pred)\n",
    "\n",
    "# Show scores\n",
    "bce_train_baseline = cross_entropy_loss(ys_train_pred, ys_train)\n",
    "bce_valid_baseline = cross_entropy_loss(ys_valid_pred, ys_valid)\n",
    "\n",
    "print('Baseline CEL score - Train :', bce_train_baseline.item())\n",
    "print('Baseline CEL score - Valid :', bce_valid_baseline.item())"
   ]
  },
  {
   "cell_type": "markdown",
   "metadata": {
    "id": "UBxI4yvG_dxK"
   },
   "source": [
    "*Great! Now let's create a Neural Network model*"
   ]
  },
  {
   "cell_type": "markdown",
   "metadata": {
    "id": "U4KKrCIUUhpp"
   },
   "source": [
    "*Batch modeling*"
   ]
  },
  {
   "cell_type": "code",
   "execution_count": 36,
   "metadata": {
    "id": "6hEkviRF_dxK"
   },
   "outputs": [],
   "source": [
    "torch.manual_seed(123)\n",
    "\n",
    "# Layer model\n",
    "layers = [\n",
    "    Linear(feature_in=64, feature_out=32, bias=True), Tanh(),\n",
    "    Linear(feature_in=32, feature_out=10, bias=True), Softmax()\n",
    "]\n",
    "\n",
    "# Create the model\n",
    "mdl_nn = Sequential(layers = layers)\n",
    "\n",
    "# Activate the computational graph gradient\n",
    "parameters = mdl_nn.parameters()\n",
    "for p in parameters:\n",
    "    p.requires_grad = True"
   ]
  },
  {
   "cell_type": "code",
   "execution_count": 37,
   "metadata": {
    "colab": {
     "base_uri": "https://localhost:8080/",
     "height": 594
    },
    "id": "U_rMl7OC_dxK",
    "outputId": "0964c4d8-b3ab-4d2c-f737-597f7b492e94"
   },
   "outputs": [
    {
     "data": {
      "image/png": "[encoded data removed]",
      "text/plain": [
       "<Figure size 1000x600 with 1 Axes>"
      ]
     },
     "metadata": {},
     "output_type": "display_data"
    },
    {
     "name": "stdout",
     "output_type": "stream",
     "text": [
      "NN CEL score - Train : 1.249296556748998\n",
      "NN CEL score - Valid : 1.155137498800989\n",
      "Training time (s)    : 1.1674580574035645\n"
     ]
    }
   ],
   "source": [
    "# Now, let's perform the Gradient Descent\n",
    "losses = []\n",
    "iters = []\n",
    "\n",
    "start_time = time.time()\n",
    "for k in range(1_000):\n",
    "    # Do the forward pass to get prediction & loss\n",
    "    y_pred = mdl_nn(Xs_train)\n",
    "    loss = cross_entropy_loss(input=y_pred, target=ys_train)\n",
    "\n",
    "    # Do the backpropagation\n",
    "    # Always reset the parameter gradient every iterations\n",
    "    for p in parameters:\n",
    "        p.grad = None\n",
    "\n",
    "    # Then, do the backpropagation\n",
    "    loss.backward()\n",
    "\n",
    "    # Now, let's update the model\n",
    "    for p in parameters:\n",
    "        p.data += -0.01 * p.grad\n",
    "\n",
    "    # Append\n",
    "    losses.append(loss.item())\n",
    "    iters.append(k)\n",
    "end_time = time.time()\n",
    "\n",
    "# Plot\n",
    "fig, ax = plt.subplots(nrows=1, ncols=1, figsize=(10, 6))\n",
    "ax.plot(iters, losses)\n",
    "ax.set_xlabel('Iterations (epochs)')\n",
    "ax.set_ylabel('Loss')\n",
    "plt.show()\n",
    "\n",
    "# Summarize\n",
    "print('NN CEL score - Train :', cross_entropy_loss(input=mdl_nn(Xs_train), target=ys_train).item())\n",
    "print('NN CEL score - Valid :', cross_entropy_loss(input=mdl_nn(Xs_valid), target=ys_valid).item())\n",
    "print('Training time (s)    :', end_time - start_time)"
   ]
  },
  {
   "cell_type": "markdown",
   "metadata": {
    "id": "A_B6PZYmSbS8"
   },
   "source": [
    "*Predict the digit*"
   ]
  },
  {
   "cell_type": "code",
   "execution_count": 38,
   "metadata": {
    "colab": {
     "base_uri": "https://localhost:8080/",
     "height": 131
    },
    "id": "nkRQnC5TSdQ1",
    "outputId": "40f9edc6-a9b8-435e-d8bc-522d59917d7d"
   },
   "outputs": [
    {
     "data": {
      "image/png": "[encoded data removed]",
      "text/plain": [
       "<Figure size 1500x100 with 5 Axes>"
      ]
     },
     "metadata": {},
     "output_type": "display_data"
    }
   ],
   "source": [
    "# Using the Batch GD\n",
    "y_valid_pred = torch.argmax(mdl_nn(Xs_valid), axis=1)\n",
    "\n",
    "# plot\n",
    "ix = torch.randint(0, Xs_valid.shape[0], (5,))\n",
    "fig, axes = plt.subplots(nrows=1, ncols=5, figsize=(15, 1))\n",
    "for ax, img, act, pred in zip(axes, X_valid[ix], y_valid[ix], y_valid_pred[ix]):\n",
    "    ax.set_axis_off()\n",
    "    ax.imshow(img.reshape(8, 8), cmap=plt.cm.gray_r, interpolation='nearest')\n",
    "    ax.set_title(f'Actual: {act}, Predicted: {pred}')"
   ]
  },
  {
   "cell_type": "markdown",
   "metadata": {
    "id": "zEX7f1h3VAX7"
   },
   "source": [
    "*Mini-Batch modeling*"
   ]
  },
  {
   "cell_type": "code",
   "execution_count": 39,
   "metadata": {
    "id": "OaMCxBcxVAX6"
   },
   "outputs": [],
   "source": [
    "torch.manual_seed(123)\n",
    "\n",
    "# Layer model\n",
    "layers = [\n",
    "    Linear(feature_in=64, feature_out=32, bias=True), Tanh(),\n",
    "    Linear(feature_in=32, feature_out=10, bias=True), Softmax()\n",
    "]\n",
    "\n",
    "# Create the model\n",
    "mdl_nn = Sequential(layers = layers)\n",
    "\n",
    "# Activate the computational graph gradient\n",
    "parameters = mdl_nn.parameters()\n",
    "for p in parameters:\n",
    "    p.requires_grad = True"
   ]
  },
  {
   "cell_type": "code",
   "execution_count": 40,
   "metadata": {
    "colab": {
     "base_uri": "https://localhost:8080/",
     "height": 594
    },
    "id": "SeIzWAOGVAX7",
    "outputId": "2bf0f08d-8e50-4838-c2a6-1be2b95848a1"
   },
   "outputs": [
    {
     "data": {
      "image/png": "[encoded data removed]",
      "text/plain": [
       "<Figure size 1000x600 with 1 Axes>"
      ]
     },
     "metadata": {},
     "output_type": "display_data"
    },
    {
     "name": "stdout",
     "output_type": "stream",
     "text": [
      "NN CEL score - Train : 1.2515523122499972\n",
      "NN CEL score - Valid : 1.1511507081834838\n",
      "Training time (s)    : 0.5443832874298096\n"
     ]
    }
   ],
   "source": [
    "torch.manual_seed(123)\n",
    "\n",
    "# Now, let's perform the Gradient Descent\n",
    "losses = []\n",
    "iters = []\n",
    "\n",
    "start_time = time.time()\n",
    "for k in range(1_000):\n",
    "    # Create a mini-batch\n",
    "    # Take 32 samples every iteration\n",
    "    ix = torch.randint(0, Xs_train.shape[0], (32,))\n",
    "\n",
    "    # Filter data\n",
    "    Xs_train_batch = Xs_train[ix]\n",
    "    ys_train_batch = ys_train[ix]\n",
    "\n",
    "    # Do the forward pass to get prediction & loss\n",
    "    y_pred = mdl_nn(Xs_train_batch)\n",
    "    loss = cross_entropy_loss(input=y_pred, target=ys_train_batch)\n",
    "\n",
    "    # Do the backpropagation\n",
    "    # Always reset the parameter gradient every iterations\n",
    "    for p in parameters:\n",
    "        p.grad = None\n",
    "\n",
    "    # Then, do the backpropagation\n",
    "    loss.backward()\n",
    "\n",
    "    # Now, let's update the model\n",
    "    for p in parameters:\n",
    "        p.data += -0.01 * p.grad\n",
    "\n",
    "    # Append\n",
    "    losses.append(loss.item())\n",
    "    iters.append(k)\n",
    "end_time = time.time()\n",
    "\n",
    "# Plot\n",
    "fig, ax = plt.subplots(nrows=1, ncols=1, figsize=(10, 6))\n",
    "ax.plot(iters, losses)\n",
    "ax.set_xlabel('Iterations (epochs)')\n",
    "ax.set_ylabel('Loss')\n",
    "plt.show()\n",
    "\n",
    "# Summarize\n",
    "print('NN CEL score - Train :', cross_entropy_loss(input=mdl_nn(Xs_train), target=ys_train).item())\n",
    "print('NN CEL score - Valid :', cross_entropy_loss(input=mdl_nn(Xs_valid), target=ys_valid).item())\n",
    "print('Training time (s)    :', end_time - start_time)"
   ]
  },
  {
   "cell_type": "markdown",
   "metadata": {
    "id": "6hf2rrL6Szdc"
   },
   "source": [
    "*Predict the digit*"
   ]
  },
  {
   "cell_type": "code",
   "execution_count": 41,
   "metadata": {
    "colab": {
     "base_uri": "https://localhost:8080/",
     "height": 131
    },
    "id": "0WsSbvCySzde",
    "outputId": "e6d8a4b5-c766-4ff7-9409-441564c80f4f"
   },
   "outputs": [
    {
     "data": {
      "image/png": "[encoded data removed]",
      "text/plain": [
       "<Figure size 1500x100 with 5 Axes>"
      ]
     },
     "metadata": {},
     "output_type": "display_data"
    }
   ],
   "source": [
    "# Using the Mini-Batch GD\n",
    "y_valid_pred = torch.argmax(mdl_nn(Xs_valid), axis=1)\n",
    "\n",
    "# plot\n",
    "ix = torch.randint(0, Xs_valid.shape[0], (5,))\n",
    "fig, axes = plt.subplots(nrows=1, ncols=5, figsize=(15, 1))\n",
    "for ax, img, act, pred in zip(axes, X_valid[ix], y_valid[ix], y_valid_pred[ix]):\n",
    "    ax.set_axis_off()\n",
    "    ax.imshow(img.reshape(8, 8), cmap=plt.cm.gray_r, interpolation='nearest')\n",
    "    ax.set_title(f'Actual: {act}, Predicted: {pred}')"
   ]
  },
  {
   "cell_type": "markdown",
   "metadata": {
    "id": "ngQQhqvzWSlP"
   },
   "source": [
    "*Stochastics modeling*"
   ]
  },
  {
   "cell_type": "code",
   "execution_count": 42,
   "metadata": {
    "id": "vGYp2a27WSlQ"
   },
   "outputs": [],
   "source": [
    "torch.manual_seed(123)\n",
    "\n",
    "# Layer model\n",
    "layers = [\n",
    "    Linear(feature_in=64, feature_out=32, bias=True), Tanh(),\n",
    "    Linear(feature_in=32, feature_out=10, bias=True), Softmax()\n",
    "]\n",
    "\n",
    "# Create the model\n",
    "mdl_nn = Sequential(layers = layers)\n",
    "\n",
    "# Activate the computational graph gradient\n",
    "parameters = mdl_nn.parameters()\n",
    "for p in parameters:\n",
    "    p.requires_grad = True"
   ]
  },
  {
   "cell_type": "code",
   "execution_count": 43,
   "metadata": {
    "colab": {
     "base_uri": "https://localhost:8080/",
     "height": 594
    },
    "id": "YCW7TR-6WSlQ",
    "outputId": "a90d067c-759a-442a-b97a-01c56d776acd"
   },
   "outputs": [
    {
     "data": {
      "image/png": "[encoded data removed]",
      "text/plain": [
       "<Figure size 1000x600 with 1 Axes>"
      ]
     },
     "metadata": {},
     "output_type": "display_data"
    },
    {
     "name": "stdout",
     "output_type": "stream",
     "text": [
      "NN CEL score - Train : 1.2961527918180362\n",
      "NN CEL score - Valid : 1.185971938552363\n",
      "Training time (s)    : 0.4549746513366699\n"
     ]
    }
   ],
   "source": [
    "torch.manual_seed(123)\n",
    "\n",
    "# Now, let's perform the Gradient Descent\n",
    "losses = []\n",
    "iters = []\n",
    "\n",
    "start_time = time.time()\n",
    "for k in range(1_000):\n",
    "    # Create a stochastics\n",
    "    # Take a sample every iteration\n",
    "    ix = torch.randint(0, Xs_train.shape[0], (1,))\n",
    "\n",
    "    # Filter data\n",
    "    Xs_train_batch = Xs_train[ix]\n",
    "    ys_train_batch = ys_train[ix]\n",
    "\n",
    "    # Do the forward pass to get prediction & loss\n",
    "    y_pred = mdl_nn(Xs_train_batch)\n",
    "    loss = cross_entropy_loss(input=y_pred, target=ys_train_batch)\n",
    "\n",
    "    # Do the backpropagation\n",
    "    # Always reset the parameter gradient every iterations\n",
    "    for p in parameters:\n",
    "        p.grad = None\n",
    "\n",
    "    # Then, do the backpropagation\n",
    "    loss.backward()\n",
    "\n",
    "    # Now, let's update the model\n",
    "    for p in parameters:\n",
    "        p.data += -0.01 * p.grad\n",
    "\n",
    "    # Append\n",
    "    losses.append(loss.item())\n",
    "    iters.append(k)\n",
    "end_time = time.time()\n",
    "\n",
    "# Plot\n",
    "fig, ax = plt.subplots(nrows=1, ncols=1, figsize=(10, 6))\n",
    "ax.plot(iters, losses)\n",
    "ax.set_xlabel('Iterations (epochs)')\n",
    "ax.set_ylabel('Loss')\n",
    "plt.show()\n",
    "\n",
    "# Summarize\n",
    "print('NN CEL score - Train :', cross_entropy_loss(input=mdl_nn(Xs_train), target=ys_train).item())\n",
    "print('NN CEL score - Valid :', cross_entropy_loss(input=mdl_nn(Xs_valid), target=ys_valid).item())\n",
    "print('Training time (s)    :', end_time - start_time)"
   ]
  },
  {
   "cell_type": "markdown",
   "metadata": {
    "id": "7K3kKWFuS_am"
   },
   "source": [
    "*Predict the digit*"
   ]
  },
  {
   "cell_type": "code",
   "execution_count": 44,
   "metadata": {
    "colab": {
     "base_uri": "https://localhost:8080/",
     "height": 131
    },
    "id": "fgB4ZvkVS_ap",
    "outputId": "26bf2027-4da1-432a-aac2-080d4e930060"
   },
   "outputs": [
    {
     "data": {
      "image/png": "[encoded data removed]",
      "text/plain": [
       "<Figure size 1500x100 with 5 Axes>"
      ]
     },
     "metadata": {},
     "output_type": "display_data"
    }
   ],
   "source": [
    "# Using the Stochastics GD\n",
    "y_valid_pred = torch.argmax(mdl_nn(Xs_valid), axis=1)\n",
    "\n",
    "# plot\n",
    "ix = torch.randint(0, Xs_valid.shape[0], (5,))\n",
    "fig, axes = plt.subplots(nrows=1, ncols=5, figsize=(15, 1))\n",
    "for ax, img, act, pred in zip(axes, X_valid[ix], y_valid[ix], y_valid_pred[ix]):\n",
    "    ax.set_axis_off()\n",
    "    ax.imshow(img.reshape(8, 8), cmap=plt.cm.gray_r, interpolation='nearest')\n",
    "    ax.set_title(f'Actual: {act}, Predicted: {pred}')"
   ]
  },
  {
   "cell_type": "markdown",
   "metadata": {
    "id": "pPXGYF29aCSF"
   },
   "source": [
    "Summarize\n",
    "- At 1000 iterations (epochs) we get almost similar results.\n",
    "- Model performance: Batch GD > mini batch GD > stochastics GD\n",
    "- Time performance: Stochastics GD > mini batch GD > Batch GD\n",
    "- Smoothness results performance: Batch GD > mini batch GD > stochastics GD"
   ]
  },
  {
   "cell_type": "markdown",
   "metadata": {
    "id": "uoGp2mQj8fMt"
   },
   "source": [
    "## **Task 5**\n",
    "---"
   ]
  },
  {
   "cell_type": "markdown",
   "metadata": {
    "id": "yLYh5txL8fNz"
   },
   "source": [
    "- Your task is to choose the proper learning rate for the current task.\n",
    "- Use the LR Range test [(see ref)](https://brandonmorris.dev/2018/06/24/mastering-the-learning-rate/)"
   ]
  },
  {
   "cell_type": "markdown",
   "metadata": {
    "id": "BbBfOj707Pga"
   },
   "source": [
    "*Now, let's create a Neural Network on Mini-Batch*\n",
    "\n",
    "*Small learning rate = 0.0001*"
   ]
  },
  {
   "cell_type": "code",
   "execution_count": 45,
   "metadata": {
    "id": "FfqqUxFQgF_D"
   },
   "outputs": [],
   "source": [
    "torch.manual_seed(123)\n",
    "\n",
    "# Layer model\n",
    "layers = [\n",
    "    Linear(feature_in=64, feature_out=32, bias=True), Tanh(),\n",
    "    Linear(feature_in=32, feature_out=10, bias=True), Softmax()\n",
    "]\n",
    "\n",
    "# Create the model\n",
    "mdl_nn = Sequential(layers = layers)\n",
    "\n",
    "# Activate the computational graph gradient\n",
    "parameters = mdl_nn.parameters()\n",
    "for p in parameters:\n",
    "    p.requires_grad = True"
   ]
  },
  {
   "cell_type": "code",
   "execution_count": 46,
   "metadata": {
    "colab": {
     "base_uri": "https://localhost:8080/",
     "height": 594
    },
    "id": "cWMsAqovgF_E",
    "outputId": "0a000fc4-11be-43f9-9965-47f153397cf0"
   },
   "outputs": [
    {
     "data": {
      "image/png": "[encoded data removed]",
      "text/plain": [
       "<Figure size 1000x600 with 1 Axes>"
      ]
     },
     "metadata": {},
     "output_type": "display_data"
    },
    {
     "name": "stdout",
     "output_type": "stream",
     "text": [
      "NN CEL score - Train : 3.2113914371864207\n",
      "NN CEL score - Valid : 2.948680498998396\n",
      "Training time (s)    : 0.04700040817260742\n"
     ]
    }
   ],
   "source": [
    "torch.manual_seed(123)\n",
    "\n",
    "# Now, let's perform the Gradient Descent\n",
    "losses = []\n",
    "iters = []\n",
    "\n",
    "start_time = time.time()\n",
    "for k in range(100):\n",
    "    # Create a mini-batch\n",
    "    # Take 32 samples every iteration\n",
    "    ix = torch.randint(0, Xs_train.shape[0], (1,))\n",
    "\n",
    "    # Filter data\n",
    "    Xs_train_batch = Xs_train[ix]\n",
    "    ys_train_batch = ys_train[ix]\n",
    "\n",
    "    # Do the forward pass to get prediction & loss\n",
    "    y_pred = mdl_nn(Xs_train_batch)\n",
    "    loss = cross_entropy_loss(input=y_pred, target=ys_train_batch)\n",
    "\n",
    "    # Do the backpropagation\n",
    "    # Always reset the parameter gradient every iterations\n",
    "    for p in parameters:\n",
    "        p.grad = None\n",
    "\n",
    "    # Then, do the backpropagation\n",
    "    loss.backward()\n",
    "\n",
    "    # Now, let's update the model\n",
    "    for p in parameters:\n",
    "        p.data += -0.0001 * p.grad\n",
    "\n",
    "    # Append\n",
    "    losses.append(loss.item())\n",
    "    iters.append(k)\n",
    "end_time = time.time()\n",
    "\n",
    "# Plot\n",
    "fig, ax = plt.subplots(nrows=1, ncols=1, figsize=(10, 6))\n",
    "ax.plot(iters, losses)\n",
    "ax.set_xlabel('Iterations (epochs)')\n",
    "ax.set_ylabel('Loss')\n",
    "plt.show()\n",
    "\n",
    "# Summarize\n",
    "print('NN CEL score - Train :', cross_entropy_loss(input=mdl_nn(Xs_train), target=ys_train).item())\n",
    "print('NN CEL score - Valid :', cross_entropy_loss(input=mdl_nn(Xs_valid), target=ys_valid).item())\n",
    "print('Training time (s)    :', end_time - start_time)"
   ]
  },
  {
   "cell_type": "markdown",
   "metadata": {
    "id": "-plac9qygNh4"
   },
   "source": [
    "*The loss decreases too slow*\n",
    "\n",
    "*Now let's try a bigger ones, i.e. 1.0*"
   ]
  },
  {
   "cell_type": "code",
   "execution_count": 47,
   "metadata": {
    "id": "HjUj4ab0guQP"
   },
   "outputs": [],
   "source": [
    "torch.manual_seed(123)\n",
    "\n",
    "# Layer model\n",
    "layers = [\n",
    "    Linear(feature_in=64, feature_out=32, bias=True), Tanh(),\n",
    "    Linear(feature_in=32, feature_out=10, bias=True), Softmax()\n",
    "]\n",
    "\n",
    "# Create the model\n",
    "mdl_nn = Sequential(layers = layers)\n",
    "\n",
    "# Activate the computational graph gradient\n",
    "parameters = mdl_nn.parameters()\n",
    "for p in parameters:\n",
    "    p.requires_grad = True"
   ]
  },
  {
   "cell_type": "code",
   "execution_count": 48,
   "metadata": {
    "colab": {
     "base_uri": "https://localhost:8080/",
     "height": 594
    },
    "id": "VbSGqDmRguQQ",
    "outputId": "761e2797-b96d-476d-fd5a-b6cec156682a"
   },
   "outputs": [
    {
     "data": {
      "image/png": "[encoded data removed]",
      "text/plain": [
       "<Figure size 1000x600 with 1 Axes>"
      ]
     },
     "metadata": {},
     "output_type": "display_data"
    },
    {
     "name": "stdout",
     "output_type": "stream",
     "text": [
      "NN CEL score - Train : 12.815369290237212\n",
      "NN CEL score - Valid : 10.915917780625778\n",
      "Training time (s)    : 0.04621267318725586\n"
     ]
    }
   ],
   "source": [
    "torch.manual_seed(123)\n",
    "\n",
    "# Now, let's perform the Gradient Descent\n",
    "losses = []\n",
    "iters = []\n",
    "\n",
    "start_time = time.time()\n",
    "for k in range(100):\n",
    "    # Create a mini-batch\n",
    "    # Take 32 samples every iteration\n",
    "    ix = torch.randint(0, Xs_train.shape[0], (1,))\n",
    "\n",
    "    # Filter data\n",
    "    Xs_train_batch = Xs_train[ix]\n",
    "    ys_train_batch = ys_train[ix]\n",
    "\n",
    "    # Do the forward pass to get prediction & loss\n",
    "    y_pred = mdl_nn(Xs_train_batch)\n",
    "    loss = cross_entropy_loss(input=y_pred, target=ys_train_batch)\n",
    "\n",
    "    # Do the backpropagation\n",
    "    # Always reset the parameter gradient every iterations\n",
    "    for p in parameters:\n",
    "        p.grad = None\n",
    "\n",
    "    # Then, do the backpropagation\n",
    "    loss.backward()\n",
    "\n",
    "    # Now, let's update the model\n",
    "    for p in parameters:\n",
    "        p.data += -1.0 * p.grad\n",
    "\n",
    "    # Append\n",
    "    losses.append(loss.item())\n",
    "    iters.append(k)\n",
    "end_time = time.time()\n",
    "\n",
    "# Plot\n",
    "fig, ax = plt.subplots(nrows=1, ncols=1, figsize=(10, 6))\n",
    "ax.plot(iters, losses)\n",
    "ax.set_xlabel('Iterations (epochs)')\n",
    "ax.set_ylabel('Loss')\n",
    "plt.show()\n",
    "\n",
    "# Summarize\n",
    "print('NN CEL score - Train :', cross_entropy_loss(input=mdl_nn(Xs_train), target=ys_train).item())\n",
    "print('NN CEL score - Valid :', cross_entropy_loss(input=mdl_nn(Xs_valid), target=ys_valid).item())\n",
    "print('Training time (s)    :', end_time - start_time)"
   ]
  },
  {
   "cell_type": "markdown",
   "metadata": {
    "id": "XdzsDDl2TWao"
   },
   "source": [
    "- We can see that the losses range is blown up, i.e. larger than 30 (baseline)\n",
    "- Also the losses are very fluctuative\n",
    "- This is due to the high learning rate"
   ]
  },
  {
   "cell_type": "markdown",
   "metadata": {
    "id": "ZYQvvQ2WhzGR"
   },
   "source": [
    "*We got our learning rate boundary. Let's try to use learning rates between 0.0001 - 1.0*"
   ]
  },
  {
   "cell_type": "code",
   "execution_count": 49,
   "metadata": {
    "id": "J7hNZQQxh5vv"
   },
   "outputs": [],
   "source": [
    "torch.manual_seed(123)\n",
    "\n",
    "# Layer model\n",
    "layers = [\n",
    "    Linear(feature_in=64, feature_out=32, bias=True), Tanh(),\n",
    "    Linear(feature_in=32, feature_out=10, bias=True), Softmax()\n",
    "]\n",
    "\n",
    "# Create the model\n",
    "mdl_nn = Sequential(layers = layers)\n",
    "\n",
    "# Activate the computational graph gradient\n",
    "parameters = mdl_nn.parameters()\n",
    "for p in parameters:\n",
    "    p.requires_grad = True"
   ]
  },
  {
   "cell_type": "code",
   "execution_count": 50,
   "metadata": {
    "id": "7p4fpDTvh61a"
   },
   "outputs": [],
   "source": [
    "lre = torch.linspace(-4, 0, 1000)\n",
    "lri = 10**lre"
   ]
  },
  {
   "cell_type": "code",
   "execution_count": 51,
   "metadata": {
    "colab": {
     "base_uri": "https://localhost:8080/",
     "height": 594
    },
    "id": "muuIEmbYh5vv",
    "outputId": "61b0a6c0-6aa1-4d69-dd58-6533e5ea240f"
   },
   "outputs": [
    {
     "data": {
      "image/png": "[encoded data removed]",
      "text/plain": [
       "<Figure size 1000x600 with 1 Axes>"
      ]
     },
     "metadata": {},
     "output_type": "display_data"
    },
    {
     "name": "stdout",
     "output_type": "stream",
     "text": [
      "NN CEL score - Train : 0.2659178482550813\n",
      "NN CEL score - Valid : 0.37273873350486264\n",
      "Training time (s)    : 0.5374641418457031\n"
     ]
    }
   ],
   "source": [
    "torch.manual_seed(123)\n",
    "\n",
    "# Now, let's perform the Gradient Descent\n",
    "losses = []\n",
    "iters = []\n",
    "\n",
    "start_time = time.time()\n",
    "for k in range(1_000):\n",
    "    # Create a mini-batch\n",
    "    # Take 32 samples every iteration\n",
    "    ix = torch.randint(0, Xs_train.shape[0], (32,))\n",
    "\n",
    "    # Filter data\n",
    "    Xs_train_batch = Xs_train[ix]\n",
    "    ys_train_batch = ys_train[ix]\n",
    "\n",
    "    # Do the forward pass to get prediction & loss\n",
    "    y_pred = mdl_nn(Xs_train_batch)\n",
    "    loss = cross_entropy_loss(input=y_pred, target=ys_train_batch)\n",
    "\n",
    "    # Do the backpropagation\n",
    "    # Always reset the parameter gradient every iterations\n",
    "    for p in parameters:\n",
    "        p.grad = None\n",
    "\n",
    "    # Then, do the backpropagation\n",
    "    loss.backward()\n",
    "\n",
    "    # Now, let's update the model\n",
    "    lr_k = lri[k]\n",
    "    for p in parameters:\n",
    "        p.data += -lr_k * p.grad\n",
    "\n",
    "    # Append\n",
    "    losses.append(loss.item())\n",
    "    iters.append(k)\n",
    "end_time = time.time()\n",
    "\n",
    "# Plot\n",
    "fig, ax = plt.subplots(nrows=1, ncols=1, figsize=(10, 6))\n",
    "ax.plot(iters, losses)\n",
    "ax.set_xlabel('Iterations (epochs)')\n",
    "ax.set_ylabel('Loss')\n",
    "plt.show()\n",
    "\n",
    "# Summarize\n",
    "print('NN CEL score - Train :', cross_entropy_loss(input=mdl_nn(Xs_train), target=ys_train).item())\n",
    "print('NN CEL score - Valid :', cross_entropy_loss(input=mdl_nn(Xs_valid), target=ys_valid).item())\n",
    "print('Training time (s)    :', end_time - start_time)"
   ]
  },
  {
   "cell_type": "code",
   "execution_count": 52,
   "metadata": {
    "colab": {
     "base_uri": "https://localhost:8080/",
     "height": 542
    },
    "id": "WFBeUjeBiJyM",
    "outputId": "5ea52bb5-cd5f-41c8-8c13-c00a9c6afedf"
   },
   "outputs": [
    {
     "data": {
      "image/png": "[encoded data removed]",
      "text/plain": [
       "<Figure size 1000x600 with 1 Axes>"
      ]
     },
     "metadata": {},
     "output_type": "display_data"
    }
   ],
   "source": [
    "# Plot the effect of learning rate to loss\n",
    "fig, ax = plt.subplots(nrows=1, ncols=1, figsize=(10, 6))\n",
    "ax.plot(lri, losses)\n",
    "ax.set_xlabel('Learning rate')\n",
    "ax.set_ylabel('Loss')\n",
    "plt.show()"
   ]
  },
  {
   "cell_type": "markdown",
   "metadata": {
    "id": "VRIDOHDliZOL"
   },
   "source": [
    "*We can set the optimum learning rate at $0.2$*"
   ]
  },
  {
   "cell_type": "code",
   "execution_count": 53,
   "metadata": {
    "id": "u3cvxbApinPX"
   },
   "outputs": [],
   "source": [
    "torch.manual_seed(123)\n",
    "\n",
    "# Layer model\n",
    "layers = [\n",
    "    Linear(feature_in=64, feature_out=32, bias=True), Tanh(),\n",
    "    Linear(feature_in=32, feature_out=10, bias=True), Softmax()\n",
    "]\n",
    "\n",
    "# Create the model\n",
    "mdl_nn = Sequential(layers = layers)\n",
    "\n",
    "# Activate the computational graph gradient\n",
    "parameters = mdl_nn.parameters()\n",
    "for p in parameters:\n",
    "    p.requires_grad = True"
   ]
  },
  {
   "cell_type": "code",
   "execution_count": 54,
   "metadata": {
    "colab": {
     "base_uri": "https://localhost:8080/",
     "height": 594
    },
    "id": "3XudOFIUinPY",
    "outputId": "ed937c33-1347-4c34-c24d-629a48b300f9"
   },
   "outputs": [
    {
     "data": {
      "image/png": "[encoded data removed]",
      "text/plain": [
       "<Figure size 1000x600 with 1 Axes>"
      ]
     },
     "metadata": {},
     "output_type": "display_data"
    },
    {
     "name": "stdout",
     "output_type": "stream",
     "text": [
      "NN CEL score - Train : 0.10602268114402363\n",
      "NN CEL score - Valid : 0.273371560254478\n",
      "Training time (s)    : 0.5160865783691406\n"
     ]
    }
   ],
   "source": [
    "torch.manual_seed(123)\n",
    "\n",
    "# Now, let's perform the Gradient Descent\n",
    "losses = []\n",
    "iters = []\n",
    "\n",
    "start_time = time.time()\n",
    "for k in range(1_000):\n",
    "    # Create a mini-batch\n",
    "    # Take 32 samples every iteration\n",
    "    ix = torch.randint(0, Xs_train.shape[0], (32,))\n",
    "\n",
    "    # Filter data\n",
    "    Xs_train_batch = Xs_train[ix]\n",
    "    ys_train_batch = ys_train[ix]\n",
    "\n",
    "    # Do the forward pass to get prediction & loss\n",
    "    y_pred = mdl_nn(Xs_train_batch)\n",
    "    loss = cross_entropy_loss(input=y_pred, target=ys_train_batch)\n",
    "\n",
    "    # Do the backpropagation\n",
    "    # Always reset the parameter gradient every iterations\n",
    "    for p in parameters:\n",
    "        p.grad = None\n",
    "\n",
    "    # Then, do the backpropagation\n",
    "    loss.backward()\n",
    "\n",
    "    # Now, let's update the model\n",
    "    lr_k = 0.2\n",
    "    for p in parameters:\n",
    "        p.data += -lr_k * p.grad\n",
    "\n",
    "    # Append\n",
    "    losses.append(loss.item())\n",
    "    iters.append(k)\n",
    "end_time = time.time()\n",
    "\n",
    "# Plot\n",
    "fig, ax = plt.subplots(nrows=1, ncols=1, figsize=(10, 6))\n",
    "ax.plot(iters, losses)\n",
    "ax.set_xlabel('Iterations (epochs)')\n",
    "ax.set_ylabel('Loss')\n",
    "plt.show()\n",
    "\n",
    "# Summarize\n",
    "print('NN CEL score - Train :', cross_entropy_loss(input=mdl_nn(Xs_train), target=ys_train).item())\n",
    "print('NN CEL score - Valid :', cross_entropy_loss(input=mdl_nn(Xs_valid), target=ys_valid).item())\n",
    "print('Training time (s)    :', end_time - start_time)"
   ]
  },
  {
   "cell_type": "markdown",
   "metadata": {
    "id": "q5d79I-NsM_N"
   },
   "source": [
    "*Predict the digit*"
   ]
  },
  {
   "cell_type": "code",
   "execution_count": 55,
   "metadata": {
    "id": "2L1M7iMdsM_N"
   },
   "outputs": [],
   "source": [
    "# Using the mini batch GD\n",
    "y_test_pred = torch.argmax(mdl_nn(Xs_test), axis=1)"
   ]
  },
  {
   "cell_type": "code",
   "execution_count": 56,
   "metadata": {
    "colab": {
     "base_uri": "https://localhost:8080/",
     "height": 136
    },
    "id": "GyZI2Ba9sSwL",
    "outputId": "ae18f518-ec26-4b7b-e2e1-ad5634d0dce0"
   },
   "outputs": [
    {
     "data": {
      "image/png": "[encoded data removed]",
      "text/plain": [
       "<Figure size 1500x100 with 5 Axes>"
      ]
     },
     "metadata": {},
     "output_type": "display_data"
    }
   ],
   "source": [
    "# plot\n",
    "ix = torch.randint(0, Xs_valid.shape[0], (5,))\n",
    "fig, axes = plt.subplots(nrows=1, ncols=5, figsize=(15, 1))\n",
    "for ax, img, act, pred in zip(axes, X_test[ix], y_test[ix], y_test_pred[ix]):\n",
    "    ax.set_axis_off()\n",
    "    ax.imshow(img.reshape(8, 8), cmap=plt.cm.gray_r, interpolation='nearest')\n",
    "    ax.set_title(f'Actual: {act}, Predicted: {pred}')"
   ]
  },
  {
   "cell_type": "markdown",
   "metadata": {
    "id": "63iiJrtk8xrZ"
   },
   "source": [
    "## **Additional**\n",
    "---"
   ]
  },
  {
   "cell_type": "markdown",
   "metadata": {
    "id": "AnzvMMu48xr-"
   },
   "source": [
    "- Instead of using a sequential model, you can create an MLP class with `torch.nn` module"
   ]
  },
  {
   "cell_type": "code",
   "execution_count": 57,
   "metadata": {
    "id": "sAtcndQdWeUO"
   },
   "outputs": [],
   "source": [
    "import torch.nn as nn\n",
    "from torch.nn import functional as F"
   ]
  },
  {
   "cell_type": "markdown",
   "metadata": {
    "id": "t9h8pwFVWkaG"
   },
   "source": [
    "- Create an MLP class (see more practical code from [here](https://github.com/karpathy/makemore/blob/master/makemore.py))"
   ]
  },
  {
   "cell_type": "code",
   "execution_count": 58,
   "metadata": {
    "id": "Q4-YzM6uWmJn"
   },
   "outputs": [],
   "source": [
    "class MLP(nn.Module):\n",
    "    def __init__(self):\n",
    "        super().__init__()\n",
    "        # Initialize the MLP\n",
    "        # We use similar architectures, i.e.\n",
    "        # - 64 dim input\n",
    "        # - 1 hidden layer (32)\n",
    "        # - 1 output layer (10)\n",
    "        self.mlp = nn.Sequential(\n",
    "            nn.Linear(in_features=64, out_features=32, bias=True), nn.Tanh(),\n",
    "            nn.Linear(in_features=32, out_features=10, bias=True)\n",
    "        )\n",
    "\n",
    "    def forward(self, x, targets=None):\n",
    "        \"\"\"Do the feed forward\"\"\"\n",
    "        # Find the logits (pre-activation function)\n",
    "        x = x.to(torch.float32)\n",
    "        logits = self.mlp(x)\n",
    "\n",
    "        # Calculate the loss\n",
    "        loss = None\n",
    "        if targets is not None:\n",
    "            loss = F.cross_entropy(input=logits, target=targets)\n",
    "\n",
    "        return logits, loss\n"
   ]
  },
  {
   "cell_type": "markdown",
   "metadata": {
    "id": "8RnLISYyaTU2"
   },
   "source": [
    "- Next, we initialize & train the model"
   ]
  },
  {
   "cell_type": "code",
   "execution_count": 59,
   "metadata": {
    "colab": {
     "base_uri": "https://localhost:8080/"
    },
    "id": "sjf2jSptaVsr",
    "outputId": "178684bf-27c7-473d-8e19-9ceb26950e0a"
   },
   "outputs": [
    {
     "name": "stdout",
     "output_type": "stream",
     "text": [
      "model #params: 2410\n",
      "step 0 | loss 2.4304 | step time 1.32ms\n",
      "step 100 | loss 0.3341 | step time 0.56ms\n",
      "step 200 | loss 0.0526 | step time 0.57ms\n",
      "step 300 | loss 0.0345 | step time 0.54ms\n",
      "step 400 | loss 0.0568 | step time 0.54ms\n",
      "step 500 | loss 0.0569 | step time 0.77ms\n",
      "step 600 | loss 0.0284 | step time 0.54ms\n",
      "step 700 | loss 0.0099 | step time 0.55ms\n",
      "step 800 | loss 0.0191 | step time 0.60ms\n",
      "step 900 | loss 0.0397 | step time 0.53ms\n",
      "step 1000 | loss 0.0141 | step time 0.54ms\n"
     ]
    }
   ],
   "source": [
    "# initialize model\n",
    "model = MLP()\n",
    "print(f'model #params: {sum(p.numel() for p in model.parameters())}')\n",
    "\n",
    "# Initialize the optimizer (stochastic GD)\n",
    "optimizer = torch.optim.SGD(model.parameters(),\n",
    "                            lr=0.2)\n",
    "\n",
    "# Training loop\n",
    "torch.manual_seed(123)\n",
    "step = 0\n",
    "while True:\n",
    "    t0 = time.time()\n",
    "\n",
    "    # Create batch\n",
    "    ix = torch.randint(0, Xs_train.shape[0], (32,))\n",
    "    Xs_train_batch = Xs_train[ix]\n",
    "    ys_train_batch = ys_train[ix]\n",
    "\n",
    "    # feed into the model\n",
    "    logits, loss = model.forward(Xs_train_batch, ys_train_batch)\n",
    "\n",
    "    # Calculate the gradient, update the weights\n",
    "    model.zero_grad(set_to_none=True)\n",
    "    loss.backward()\n",
    "    optimizer.step()\n",
    "\n",
    "    t1 = time.time()\n",
    "\n",
    "    # Logging\n",
    "    if step % 100 == 0:\n",
    "        print(f'step {step} | loss {loss.item():.4f} | step time {(t1-t0)*1000:.2f}ms')\n",
    "\n",
    "    # Termination conditions\n",
    "    step += 1\n",
    "    if step >= 1000:\n",
    "        print(f'step {step} | loss {loss.item():.4f} | step time {(t1-t0)*1000:.2f}ms')\n",
    "        break"
   ]
  },
  {
   "cell_type": "markdown",
   "metadata": {
    "id": "gfbPaoE0hFT7"
   },
   "source": [
    "*Predict the digit*"
   ]
  },
  {
   "cell_type": "code",
   "execution_count": 60,
   "metadata": {
    "id": "rudNuDpmhFT8"
   },
   "outputs": [],
   "source": [
    "# Using the mini batch GD\n",
    "y_test_pred = torch.argmax(model.forward(Xs_test)[0].data, axis=1)"
   ]
  },
  {
   "cell_type": "code",
   "execution_count": 61,
   "metadata": {
    "colab": {
     "base_uri": "https://localhost:8080/",
     "height": 136
    },
    "id": "-IJcOkbMhFT8",
    "outputId": "23eeb93d-5928-4b67-95f1-01e76f2a2fcf"
   },
   "outputs": [
    {
     "data": {
      "image/png": "[encoded data removed]",
      "text/plain": [
       "<Figure size 1500x100 with 5 Axes>"
      ]
     },
     "metadata": {},
     "output_type": "display_data"
    }
   ],
   "source": [
    "# plot\n",
    "ix = torch.randint(0, Xs_valid.shape[0], (5,))\n",
    "fig, axes = plt.subplots(nrows=1, ncols=5, figsize=(15, 1))\n",
    "for ax, img, act, pred in zip(axes, X_test[ix], y_test[ix], y_test_pred[ix]):\n",
    "    ax.set_axis_off()\n",
    "    ax.imshow(img.reshape(8, 8), cmap=plt.cm.gray_r, interpolation='nearest')\n",
    "    ax.set_title(f'Actual: {act}, Predicted: {pred}')"
   ]
  }
 ],
 "metadata": {
  "colab": {
   "collapsed_sections": [
    "9DYU5y0phQgc",
    "03lc_jDzqmZu",
    "yRGZci4MyDuD",
    "cDGfGucjz3rI",
    "p0bwbyfMUQuh",
    "uoGp2mQj8fMt",
    "63iiJrtk8xrZ"
   ],
   "provenance": []
  },
  "kernelspec": {
   "display_name": "Python 3 (ipykernel)",
   "language": "python",
   "name": "python3"
  },
  "language_info": {
   "codemirror_mode": {
    "name": "ipython",
    "version": 3
   },
   "file_extension": ".py",
   "mimetype": "text/x-python",
   "name": "python",
   "nbconvert_exporter": "python",
   "pygments_lexer": "ipython3",
   "version": "3.10.14"
  }
 },
 "nbformat": 4,
 "nbformat_minor": 1
}
