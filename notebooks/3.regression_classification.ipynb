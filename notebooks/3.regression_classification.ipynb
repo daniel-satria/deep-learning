{
 "cells": [
  {
   "cell_type": "markdown",
   "metadata": {
    "id": "lyyYWRoddhWd"
   },
   "source": [
    "# **3. Neural Network for Regression & Binary Classification**"
   ]
  },
  {
   "cell_type": "code",
   "execution_count": 1,
   "metadata": {
    "id": "6Vb0hUB2WcGl"
   },
   "outputs": [],
   "source": [
    "import math\n",
    "import random\n",
    "import numpy as np\n",
    "import matplotlib.pyplot as plt\n",
    "\n",
    "import torch\n",
    "from torch.nn import functional as F"
   ]
  },
  {
   "cell_type": "markdown",
   "metadata": {
    "id": "l2xyABznyD5E"
   },
   "source": [
    "We're going to build a Neural Network Regression & Binary Classification using `PyTorch`"
   ]
  },
  {
   "cell_type": "markdown",
   "metadata": {
    "id": "32P_tHNDxF51"
   },
   "source": [
    "## **Task 1**\n",
    "---"
   ]
  },
  {
   "cell_type": "markdown",
   "metadata": {
    "id": "Bxu1p5ASxKP7"
   },
   "source": [
    "- Create an array & matrix using `torch`"
   ]
  },
  {
   "cell_type": "code",
   "execution_count": 2,
   "metadata": {
    "colab": {
     "base_uri": "https://localhost:8080/"
    },
    "id": "ZoPxoCe7xFV8",
    "outputId": "48e97cad-1231-4f8f-d5c1-2fcc4e41b261"
   },
   "outputs": [
    {
     "name": "stdout",
     "output_type": "stream",
     "text": [
      "data:\n",
      "tensor([0., 0., 0.])\n",
      "\n",
      "data type:\n",
      "<class 'torch.Tensor'>\n"
     ]
    }
   ],
   "source": [
    "# Create zeros vector\n",
    "bias = torch.zeros(3)\n",
    "\n",
    "print(\"data:\")\n",
    "print(bias)\n",
    "print(\"\")\n",
    "print(\"data type:\")\n",
    "print(type(bias))"
   ]
  },
  {
   "cell_type": "code",
   "execution_count": 3,
   "metadata": {
    "colab": {
     "base_uri": "https://localhost:8080/"
    },
    "id": "S2SgOrUExjl2",
    "outputId": "b7e0fb60-271a-4c20-8464-6f4d817c0a4f"
   },
   "outputs": [
    {
     "name": "stdout",
     "output_type": "stream",
     "text": [
      "data:\n",
      "tensor([[0.1654, 0.1174, 0.6379, 0.2167],\n",
      "        [0.3500, 0.6924, 0.9550, 0.5377],\n",
      "        [0.9486, 0.1076, 0.8509, 0.5690]])\n",
      "\n",
      "data type:\n",
      "<class 'torch.Tensor'>\n"
     ]
    }
   ],
   "source": [
    "# Create random matrix\n",
    "weight = torch.rand((3, 4))\n",
    "\n",
    "print(\"data:\")\n",
    "print(weight)\n",
    "print(\"\")\n",
    "print(\"data type:\")\n",
    "print(type(weight))"
   ]
  },
  {
   "cell_type": "code",
   "execution_count": 4,
   "metadata": {
    "colab": {
     "base_uri": "https://localhost:8080/"
    },
    "id": "JwzKepiNx1iH",
    "outputId": "66b5c688-4936-4bc8-e5b6-89d07c1ea0f1"
   },
   "outputs": [
    {
     "name": "stdout",
     "output_type": "stream",
     "text": [
      "data:\n",
      "tensor([[0.2961, 0.5166],\n",
      "        [0.2517, 0.6886],\n",
      "        [0.0740, 0.8665],\n",
      "        [0.1366, 0.1025],\n",
      "        [0.1841, 0.7264]])\n",
      "\n",
      "data type:\n",
      "<class 'torch.Tensor'>\n"
     ]
    }
   ],
   "source": [
    "# Create seed for random array/matrix in torch\n",
    "torch.manual_seed(123)\n",
    "\n",
    "weight = torch.rand((5, 2))\n",
    "\n",
    "print(\"data:\")\n",
    "print(weight)\n",
    "print(\"\")\n",
    "print(\"data type:\")\n",
    "print(type(weight))"
   ]
  },
  {
   "cell_type": "markdown",
   "metadata": {
    "id": "RNf-GyAlyQZ2"
   },
   "source": [
    "## **Task 2**\n",
    "---"
   ]
  },
  {
   "cell_type": "markdown",
   "metadata": {
    "id": "zRh0cq7tyQZ4"
   },
   "source": [
    "- Create a class to represent a pre-activation function\n",
    "\n",
    "- Create some classes to represent activation function\n",
    "  - For regression: `Linear`\n",
    "  - For binary classification: `Sigmoid`\n",
    "  - For hidden layer: `ReLu` and `TanH`\n",
    "\n",
    "- Each classes has\n",
    "  - `__init__` method that return the input needed for initialization (for `Linear` only)\n",
    "  - `__call__` method that return the activation function\n",
    "  - `parameters` method that return the model parameters"
   ]
  },
  {
   "cell_type": "code",
   "execution_count": 5,
   "metadata": {
    "id": "OOiMrlKrxi9B"
   },
   "outputs": [],
   "source": [
    "# For pre-activation layer (including linear activation function)\n",
    "class Linear:\n",
    "    \"\"\"Layer of linear operation\"\"\"\n",
    "    def __init__(self, feature_in, feature_out, bias=True):\n",
    "        \"\"\"Generate model parameter in linear layer\"\"\"\n",
    "        # Generate random weight & biases\n",
    "        self.weight = torch.rand((feature_in, feature_out)).double()\n",
    "        if bias:\n",
    "            self.bias = torch.zeros(feature_out).double()\n",
    "        else:\n",
    "            self.bias = None\n",
    "\n",
    "    def __call__(self, x):\n",
    "        \"\"\"Return the weighted sum between model param & imputed value\"\"\"\n",
    "        weighted_sum = x @ self.weight\n",
    "        if self.bias is not None:\n",
    "            self.out = weighted_sum + self.bias\n",
    "        else:\n",
    "            self.out = weighted_sum\n",
    "\n",
    "        return self.out\n",
    "\n",
    "    def parameters(self):\n",
    "        \"\"\"Collect all parameters in a list\"\"\"\n",
    "        return [self.weight] + ([] if self.bias is None else [self.bias])\n",
    "\n",
    "# For sigmoid layer\n",
    "class Sigmoid:\n",
    "    \"\"\"Sigmoid operation\"\"\"\n",
    "    def __call__(self, x):\n",
    "        self.out = torch.sigmoid(x)\n",
    "        return self.out\n",
    "\n",
    "    def parameters(self):\n",
    "        # no parameter included\n",
    "        return []\n",
    "\n",
    "# For ReLU layer\n",
    "class ReLU:\n",
    "    \"\"\"ReLU operation\"\"\"\n",
    "    def __call__(self, x):\n",
    "        self.out = torch.relu(x)\n",
    "        return self.out\n",
    "\n",
    "    def parameters(self):\n",
    "        # no parameter included\n",
    "        return []\n",
    "\n",
    "# For TanH layer\n",
    "class Tanh:\n",
    "    \"\"\"TanH operation\"\"\"\n",
    "    def __call__(self, x):\n",
    "        self.out = torch.tanh(x)\n",
    "        return self.out\n",
    "\n",
    "    def parameters(self):\n",
    "        # no parameter included\n",
    "        return []\n"
   ]
  },
  {
   "cell_type": "markdown",
   "metadata": {
    "id": "OV6BBCT31AGK"
   },
   "source": [
    "Let's validate"
   ]
  },
  {
   "cell_type": "code",
   "execution_count": 6,
   "metadata": {
    "colab": {
     "base_uri": "https://localhost:8080/"
    },
    "id": "fjDw3hVy0_oO",
    "outputId": "5a51b8f8-307b-4cbb-bb1d-9c1b135db946"
   },
   "outputs": [
    {
     "name": "stdout",
     "output_type": "stream",
     "text": [
      "Layer object : <__main__.Linear object at 0x7feadcd092d0>\n",
      "Layer param  :\n",
      " [tensor([[0.2961, 0.5166],\n",
      "        [0.2517, 0.6886],\n",
      "        [0.0740, 0.8665],\n",
      "        [0.1366, 0.1025],\n",
      "        [0.1841, 0.7264]], dtype=torch.float64), tensor([0., 0.], dtype=torch.float64)]\n",
      "Called param : tensor([2.4880, 8.5354], dtype=torch.float64)\n"
     ]
    }
   ],
   "source": [
    "# Set a random seed\n",
    "torch.manual_seed(123)\n",
    "\n",
    "# Generate a linear layer of 5 input with 1 output & bias\n",
    "lyr = Linear(feature_in=5, feature_out=2, bias=True)\n",
    "\n",
    "# Pred\n",
    "xs = torch.tensor([1., 2., 3., 4., 5.]).double()\n",
    "ys = lyr(xs)\n",
    "\n",
    "print('Layer object :', lyr)\n",
    "print('Layer param  :\\n', lyr.parameters())\n",
    "print('Called param :', ys)"
   ]
  },
  {
   "cell_type": "code",
   "execution_count": 7,
   "metadata": {
    "colab": {
     "base_uri": "https://localhost:8080/"
    },
    "id": "CXJGdsXv2CFI",
    "outputId": "83da2246-c2ad-4b08-fa6d-9ffa37bf596a"
   },
   "outputs": [
    {
     "name": "stdout",
     "output_type": "stream",
     "text": [
      "Layer object : <__main__.Tanh object at 0x7feaa4abd990>\n",
      "Layer param  : []\n",
      "Called param : tensor([0.9863, 1.0000], dtype=torch.float64)\n"
     ]
    }
   ],
   "source": [
    "# Next, let's do the TanH function given the previous Linear layer\n",
    "next_lyr = Tanh()\n",
    "\n",
    "# Return the output\n",
    "ys_tanh = next_lyr(ys)\n",
    "\n",
    "print('Layer object :', next_lyr)\n",
    "print('Layer param  :', next_lyr.parameters())\n",
    "print('Called param :', ys_tanh)"
   ]
  },
  {
   "cell_type": "markdown",
   "metadata": {
    "id": "4d-mcDDNqoCO"
   },
   "source": [
    "Nice!"
   ]
  },
  {
   "cell_type": "markdown",
   "metadata": {
    "id": "03lc_jDzqmZu"
   },
   "source": [
    "## **Task 3**\n",
    "---"
   ]
  },
  {
   "cell_type": "markdown",
   "metadata": {
    "id": "9Sv0QRgeqmZx"
   },
   "source": [
    "- From the previous tasks, we know that we can create a sequential operation to do a feed forward network.\n",
    "- Create a `Sequential` class to build a feed forward neural network where we can manually design the network architectures.\n",
    "- E.g.\n",
    "```python\n",
    "layers = [\n",
    "    Linear(3, 4), ReLU(),  # 1st layer, 3 inputs 4 neuron ReLU act. func.\n",
    "    Linear(4, 2), ReLU(),  # 2nd layer, 4 inputs 2 neurons ReLU\n",
    "    Linear(2, 1)           # Output layer, for Regression cases\n",
    "]\n",
    "```"
   ]
  },
  {
   "cell_type": "code",
   "execution_count": 8,
   "metadata": {
    "id": "tp8DMcFQuVI9"
   },
   "outputs": [],
   "source": [
    "import copy\n",
    "\n",
    "class Sequential:\n",
    "    \"\"\"Create a sequential procedures to build a neural network\"\"\"\n",
    "    def __init__(self, layers):\n",
    "        self.layers = layers\n",
    "\n",
    "    def __call__(self, x):\n",
    "        x = copy.deepcopy(x)\n",
    "\n",
    "        # Iterate on given layers\n",
    "        for layer in self.layers:\n",
    "            x = layer(x)\n",
    "        self.out = x\n",
    "        return self.out\n",
    "\n",
    "    def parameters(self):\n",
    "        return [p for layer in self.layers for p in layer.parameters()]\n"
   ]
  },
  {
   "cell_type": "markdown",
   "metadata": {
    "id": "ic0X1hCbuzx0"
   },
   "source": [
    "Let's validate"
   ]
  },
  {
   "cell_type": "code",
   "execution_count": 9,
   "metadata": {
    "colab": {
     "base_uri": "https://localhost:8080/"
    },
    "id": "n0aFuclAuzI2",
    "outputId": "8a80df22-5775-4942-9675-e2e0c591946c"
   },
   "outputs": [
    {
     "name": "stdout",
     "output_type": "stream",
     "text": [
      "<__main__.Sequential object at 0x7feaa4abc2e0>\n"
     ]
    }
   ],
   "source": [
    "# Say you want to create\n",
    "# A neural network with\n",
    "#  - 5 input\n",
    "#  - 3 hidden layer -> [4, 4, 3]\n",
    "#  - using TanH activation function in each layer\n",
    "#  - 1 output layer\n",
    "torch.manual_seed(123)\n",
    "\n",
    "# Create layer\n",
    "layers = [\n",
    "    Linear(feature_in=5, feature_out=4), Tanh(),\n",
    "    Linear(feature_in=4, feature_out=4), Tanh(),\n",
    "    Linear(feature_in=4, feature_out=3), Tanh(),\n",
    "    Linear(feature_in=3, feature_out=1)\n",
    "]\n",
    "\n",
    "# Create sequential model\n",
    "mdl = Sequential(layers = layers)\n",
    "\n",
    "print(mdl)"
   ]
  },
  {
   "cell_type": "code",
   "execution_count": 10,
   "metadata": {
    "colab": {
     "base_uri": "https://localhost:8080/"
    },
    "id": "FVq6040SvXc3",
    "outputId": "7e27b0b0-d8e0-4305-8f81-53682537a865"
   },
   "outputs": [
    {
     "name": "stdout",
     "output_type": "stream",
     "text": [
      "Layer object : <__main__.Sequential object at 0x7feaa4abc2e0>\n",
      "Layer param  :\n",
      " [tensor([[0.2961, 0.5166, 0.2517, 0.6886],\n",
      "        [0.0740, 0.8665, 0.1366, 0.1025],\n",
      "        [0.1841, 0.7264, 0.3153, 0.6871],\n",
      "        [0.0756, 0.1966, 0.3164, 0.4017],\n",
      "        [0.1186, 0.8274, 0.3821, 0.6605]], dtype=torch.float64), tensor([0., 0., 0., 0.], dtype=torch.float64), tensor([[0.8536, 0.5932, 0.6367, 0.9826],\n",
      "        [0.2745, 0.6584, 0.2775, 0.8573],\n",
      "        [0.8993, 0.0390, 0.9268, 0.7388],\n",
      "        [0.7179, 0.7058, 0.9156, 0.4340]], dtype=torch.float64), tensor([0., 0., 0., 0.], dtype=torch.float64), tensor([[0.0772, 0.3565, 0.1479],\n",
      "        [0.5331, 0.4066, 0.2318],\n",
      "        [0.4545, 0.9737, 0.4606],\n",
      "        [0.5159, 0.4220, 0.5786]], dtype=torch.float64), tensor([0., 0., 0.], dtype=torch.float64), tensor([[0.9455],\n",
      "        [0.8057],\n",
      "        [0.6775]], dtype=torch.float64), tensor([0.], dtype=torch.float64)]\n",
      "Called param : tensor([2.2478], dtype=torch.float64)\n"
     ]
    }
   ],
   "source": [
    "# Pred\n",
    "xs = torch.tensor([1., 2., 3., 4., 5.]).double()\n",
    "ys = mdl(xs)\n",
    "\n",
    "print('Layer object :', mdl)\n",
    "print('Layer param  :\\n', mdl.parameters())\n",
    "print('Called param :', ys)"
   ]
  },
  {
   "cell_type": "markdown",
   "metadata": {
    "id": "yRGZci4MyDuD"
   },
   "source": [
    "## **Task 4**\n",
    "---"
   ]
  },
  {
   "cell_type": "markdown",
   "metadata": {
    "id": "EeqyNud4yDuG"
   },
   "source": [
    "- Now, let's create a loss function.\n",
    "- In regression task, we define loss as a mean squared error\n",
    "\n",
    "$$\n",
    "MSE(\\mathbf{y}, \\hat{\\mathbf{y}})\n",
    "=\n",
    "\\cfrac{1}{N}\n",
    "\\sum_{i=1}^{N}\n",
    "(y_{i} - \\hat{y}_{i})^{2}\n",
    "$$\n",
    "\n",
    "- Named the function `mse`"
   ]
  },
  {
   "cell_type": "code",
   "execution_count": 11,
   "metadata": {
    "id": "cmmqj7M5yef0"
   },
   "outputs": [],
   "source": [
    "def mse_loss(target, input):\n",
    "    return torch.mean((target-input)**2)"
   ]
  },
  {
   "cell_type": "markdown",
   "metadata": {
    "id": "U0XE3lxAzo8N"
   },
   "source": [
    "Let's check"
   ]
  },
  {
   "cell_type": "code",
   "execution_count": 12,
   "metadata": {
    "colab": {
     "base_uri": "https://localhost:8080/"
    },
    "id": "WP3XI-W7zis7",
    "outputId": "eda6aa57-4f0f-42d2-f421-eca8464ed3ff"
   },
   "outputs": [
    {
     "data": {
      "text/plain": [
       "tensor(1.)"
      ]
     },
     "execution_count": 12,
     "metadata": {},
     "output_type": "execute_result"
    }
   ],
   "source": [
    "# The answer should be 1.\n",
    "mse_loss(target = torch.tensor([1., 1., 1., 1.]),\n",
    "         input = torch.tensor([0., 0., 0., 0.]))"
   ]
  },
  {
   "cell_type": "markdown",
   "metadata": {
    "id": "cDGfGucjz3rI"
   },
   "source": [
    "## **Task 5**\n",
    "---"
   ]
  },
  {
   "cell_type": "markdown",
   "metadata": {
    "id": "Dw2wD3x0z3rL"
   },
   "source": [
    "- Let's perform a prediction with a Neuron\n",
    "- Optimize your model parameter using Gradient Descent"
   ]
  },
  {
   "cell_type": "markdown",
   "metadata": {
    "id": "Vsf0htin1MVW"
   },
   "source": [
    "*Load Library*"
   ]
  },
  {
   "cell_type": "code",
   "execution_count": 13,
   "metadata": {
    "id": "AGDUYH_k0HuD"
   },
   "outputs": [],
   "source": [
    "# Load library\n",
    "from sklearn.datasets import load_diabetes\n",
    "from sklearn.model_selection import train_test_split\n",
    "from sklearn.preprocessing import StandardScaler"
   ]
  },
  {
   "cell_type": "markdown",
   "metadata": {
    "id": "3gogjc741N74"
   },
   "source": [
    "*Prepare data*"
   ]
  },
  {
   "cell_type": "code",
   "execution_count": 14,
   "metadata": {
    "id": "yH8EwfVN0m2t"
   },
   "outputs": [],
   "source": [
    "# Load data\n",
    "X, y = load_diabetes(return_X_y=True)"
   ]
  },
  {
   "cell_type": "code",
   "execution_count": 15,
   "metadata": {
    "colab": {
     "base_uri": "https://localhost:8080/"
    },
    "id": "tVtyZpAZ0p4O",
    "outputId": "a0248d55-09ee-4bfd-ab19-fb3d1b1fc9cd"
   },
   "outputs": [
    {
     "data": {
      "text/plain": [
       "((353, 10), (44, 10), (45, 10))"
      ]
     },
     "execution_count": 15,
     "metadata": {},
     "output_type": "execute_result"
    }
   ],
   "source": [
    "# Split data\n",
    "X_train, X_test, y_train, y_test = train_test_split(X, y,\n",
    "                                                    test_size = 0.2,\n",
    "                                                    random_state=42)\n",
    "X_valid, X_test, y_valid, y_test = train_test_split(X_test, y_test,\n",
    "                                                    test_size = 0.5,\n",
    "                                                    random_state = 42)\n",
    "\n",
    "X_train.shape, X_valid.shape, X_test.shape"
   ]
  },
  {
   "cell_type": "code",
   "execution_count": 16,
   "metadata": {
    "colab": {
     "base_uri": "https://localhost:8080/",
     "height": 75
    },
    "id": "FZx47NMU04EC",
    "outputId": "35ba2c50-e97e-45c6-d624-522edee2cf1a"
   },
   "outputs": [
    {
     "data": {
      "text/html": [
       "<style>#sk-container-id-1 {\n",
       "  /* Definition of color scheme common for light and dark mode */\n",
       "  --sklearn-color-text: black;\n",
       "  --sklearn-color-line: gray;\n",
       "  /* Definition of color scheme for unfitted estimators */\n",
       "  --sklearn-color-unfitted-level-0: #fff5e6;\n",
       "  --sklearn-color-unfitted-level-1: #f6e4d2;\n",
       "  --sklearn-color-unfitted-level-2: #ffe0b3;\n",
       "  --sklearn-color-unfitted-level-3: chocolate;\n",
       "  /* Definition of color scheme for fitted estimators */\n",
       "  --sklearn-color-fitted-level-0: #f0f8ff;\n",
       "  --sklearn-color-fitted-level-1: #d4ebff;\n",
       "  --sklearn-color-fitted-level-2: #b3dbfd;\n",
       "  --sklearn-color-fitted-level-3: cornflowerblue;\n",
       "\n",
       "  /* Specific color for light theme */\n",
       "  --sklearn-color-text-on-default-background: var(--sg-text-color, var(--theme-code-foreground, var(--jp-content-font-color1, black)));\n",
       "  --sklearn-color-background: var(--sg-background-color, var(--theme-background, var(--jp-layout-color0, white)));\n",
       "  --sklearn-color-border-box: var(--sg-text-color, var(--theme-code-foreground, var(--jp-content-font-color1, black)));\n",
       "  --sklearn-color-icon: #696969;\n",
       "\n",
       "  @media (prefers-color-scheme: dark) {\n",
       "    /* Redefinition of color scheme for dark theme */\n",
       "    --sklearn-color-text-on-default-background: var(--sg-text-color, var(--theme-code-foreground, var(--jp-content-font-color1, white)));\n",
       "    --sklearn-color-background: var(--sg-background-color, var(--theme-background, var(--jp-layout-color0, #111)));\n",
       "    --sklearn-color-border-box: var(--sg-text-color, var(--theme-code-foreground, var(--jp-content-font-color1, white)));\n",
       "    --sklearn-color-icon: #878787;\n",
       "  }\n",
       "}\n",
       "\n",
       "#sk-container-id-1 {\n",
       "  color: var(--sklearn-color-text);\n",
       "}\n",
       "\n",
       "#sk-container-id-1 pre {\n",
       "  padding: 0;\n",
       "}\n",
       "\n",
       "#sk-container-id-1 input.sk-hidden--visually {\n",
       "  border: 0;\n",
       "  clip: rect(1px 1px 1px 1px);\n",
       "  clip: rect(1px, 1px, 1px, 1px);\n",
       "  height: 1px;\n",
       "  margin: -1px;\n",
       "  overflow: hidden;\n",
       "  padding: 0;\n",
       "  position: absolute;\n",
       "  width: 1px;\n",
       "}\n",
       "\n",
       "#sk-container-id-1 div.sk-dashed-wrapped {\n",
       "  border: 1px dashed var(--sklearn-color-line);\n",
       "  margin: 0 0.4em 0.5em 0.4em;\n",
       "  box-sizing: border-box;\n",
       "  padding-bottom: 0.4em;\n",
       "  background-color: var(--sklearn-color-background);\n",
       "}\n",
       "\n",
       "#sk-container-id-1 div.sk-container {\n",
       "  /* jupyter's `normalize.less` sets `[hidden] { display: none; }`\n",
       "     but bootstrap.min.css set `[hidden] { display: none !important; }`\n",
       "     so we also need the `!important` here to be able to override the\n",
       "     default hidden behavior on the sphinx rendered scikit-learn.org.\n",
       "     See: https://github.com/scikit-learn/scikit-learn/issues/21755 */\n",
       "  display: inline-block !important;\n",
       "  position: relative;\n",
       "}\n",
       "\n",
       "#sk-container-id-1 div.sk-text-repr-fallback {\n",
       "  display: none;\n",
       "}\n",
       "\n",
       "div.sk-parallel-item,\n",
       "div.sk-serial,\n",
       "div.sk-item {\n",
       "  /* draw centered vertical line to link estimators */\n",
       "  background-image: linear-gradient(var(--sklearn-color-text-on-default-background), var(--sklearn-color-text-on-default-background));\n",
       "  background-size: 2px 100%;\n",
       "  background-repeat: no-repeat;\n",
       "  background-position: center center;\n",
       "}\n",
       "\n",
       "/* Parallel-specific style estimator block */\n",
       "\n",
       "#sk-container-id-1 div.sk-parallel-item::after {\n",
       "  content: \"\";\n",
       "  width: 100%;\n",
       "  border-bottom: 2px solid var(--sklearn-color-text-on-default-background);\n",
       "  flex-grow: 1;\n",
       "}\n",
       "\n",
       "#sk-container-id-1 div.sk-parallel {\n",
       "  display: flex;\n",
       "  align-items: stretch;\n",
       "  justify-content: center;\n",
       "  background-color: var(--sklearn-color-background);\n",
       "  position: relative;\n",
       "}\n",
       "\n",
       "#sk-container-id-1 div.sk-parallel-item {\n",
       "  display: flex;\n",
       "  flex-direction: column;\n",
       "}\n",
       "\n",
       "#sk-container-id-1 div.sk-parallel-item:first-child::after {\n",
       "  align-self: flex-end;\n",
       "  width: 50%;\n",
       "}\n",
       "\n",
       "#sk-container-id-1 div.sk-parallel-item:last-child::after {\n",
       "  align-self: flex-start;\n",
       "  width: 50%;\n",
       "}\n",
       "\n",
       "#sk-container-id-1 div.sk-parallel-item:only-child::after {\n",
       "  width: 0;\n",
       "}\n",
       "\n",
       "/* Serial-specific style estimator block */\n",
       "\n",
       "#sk-container-id-1 div.sk-serial {\n",
       "  display: flex;\n",
       "  flex-direction: column;\n",
       "  align-items: center;\n",
       "  background-color: var(--sklearn-color-background);\n",
       "  padding-right: 1em;\n",
       "  padding-left: 1em;\n",
       "}\n",
       "\n",
       "\n",
       "/* Toggleable style: style used for estimator/Pipeline/ColumnTransformer box that is\n",
       "clickable and can be expanded/collapsed.\n",
       "- Pipeline and ColumnTransformer use this feature and define the default style\n",
       "- Estimators will overwrite some part of the style using the `sk-estimator` class\n",
       "*/\n",
       "\n",
       "/* Pipeline and ColumnTransformer style (default) */\n",
       "\n",
       "#sk-container-id-1 div.sk-toggleable {\n",
       "  /* Default theme specific background. It is overwritten whether we have a\n",
       "  specific estimator or a Pipeline/ColumnTransformer */\n",
       "  background-color: var(--sklearn-color-background);\n",
       "}\n",
       "\n",
       "/* Toggleable label */\n",
       "#sk-container-id-1 label.sk-toggleable__label {\n",
       "  cursor: pointer;\n",
       "  display: block;\n",
       "  width: 100%;\n",
       "  margin-bottom: 0;\n",
       "  padding: 0.5em;\n",
       "  box-sizing: border-box;\n",
       "  text-align: center;\n",
       "}\n",
       "\n",
       "#sk-container-id-1 label.sk-toggleable__label-arrow:before {\n",
       "  /* Arrow on the left of the label */\n",
       "  content: \"▸\";\n",
       "  float: left;\n",
       "  margin-right: 0.25em;\n",
       "  color: var(--sklearn-color-icon);\n",
       "}\n",
       "\n",
       "#sk-container-id-1 label.sk-toggleable__label-arrow:hover:before {\n",
       "  color: var(--sklearn-color-text);\n",
       "}\n",
       "\n",
       "/* Toggleable content - dropdown */\n",
       "\n",
       "#sk-container-id-1 div.sk-toggleable__content {\n",
       "  max-height: 0;\n",
       "  max-width: 0;\n",
       "  overflow: hidden;\n",
       "  text-align: left;\n",
       "  /* unfitted */\n",
       "  background-color: var(--sklearn-color-unfitted-level-0);\n",
       "}\n",
       "\n",
       "#sk-container-id-1 div.sk-toggleable__content.fitted {\n",
       "  /* fitted */\n",
       "  background-color: var(--sklearn-color-fitted-level-0);\n",
       "}\n",
       "\n",
       "#sk-container-id-1 div.sk-toggleable__content pre {\n",
       "  margin: 0.2em;\n",
       "  border-radius: 0.25em;\n",
       "  color: var(--sklearn-color-text);\n",
       "  /* unfitted */\n",
       "  background-color: var(--sklearn-color-unfitted-level-0);\n",
       "}\n",
       "\n",
       "#sk-container-id-1 div.sk-toggleable__content.fitted pre {\n",
       "  /* unfitted */\n",
       "  background-color: var(--sklearn-color-fitted-level-0);\n",
       "}\n",
       "\n",
       "#sk-container-id-1 input.sk-toggleable__control:checked~div.sk-toggleable__content {\n",
       "  /* Expand drop-down */\n",
       "  max-height: 200px;\n",
       "  max-width: 100%;\n",
       "  overflow: auto;\n",
       "}\n",
       "\n",
       "#sk-container-id-1 input.sk-toggleable__control:checked~label.sk-toggleable__label-arrow:before {\n",
       "  content: \"▾\";\n",
       "}\n",
       "\n",
       "/* Pipeline/ColumnTransformer-specific style */\n",
       "\n",
       "#sk-container-id-1 div.sk-label input.sk-toggleable__control:checked~label.sk-toggleable__label {\n",
       "  color: var(--sklearn-color-text);\n",
       "  background-color: var(--sklearn-color-unfitted-level-2);\n",
       "}\n",
       "\n",
       "#sk-container-id-1 div.sk-label.fitted input.sk-toggleable__control:checked~label.sk-toggleable__label {\n",
       "  background-color: var(--sklearn-color-fitted-level-2);\n",
       "}\n",
       "\n",
       "/* Estimator-specific style */\n",
       "\n",
       "/* Colorize estimator box */\n",
       "#sk-container-id-1 div.sk-estimator input.sk-toggleable__control:checked~label.sk-toggleable__label {\n",
       "  /* unfitted */\n",
       "  background-color: var(--sklearn-color-unfitted-level-2);\n",
       "}\n",
       "\n",
       "#sk-container-id-1 div.sk-estimator.fitted input.sk-toggleable__control:checked~label.sk-toggleable__label {\n",
       "  /* fitted */\n",
       "  background-color: var(--sklearn-color-fitted-level-2);\n",
       "}\n",
       "\n",
       "#sk-container-id-1 div.sk-label label.sk-toggleable__label,\n",
       "#sk-container-id-1 div.sk-label label {\n",
       "  /* The background is the default theme color */\n",
       "  color: var(--sklearn-color-text-on-default-background);\n",
       "}\n",
       "\n",
       "/* On hover, darken the color of the background */\n",
       "#sk-container-id-1 div.sk-label:hover label.sk-toggleable__label {\n",
       "  color: var(--sklearn-color-text);\n",
       "  background-color: var(--sklearn-color-unfitted-level-2);\n",
       "}\n",
       "\n",
       "/* Label box, darken color on hover, fitted */\n",
       "#sk-container-id-1 div.sk-label.fitted:hover label.sk-toggleable__label.fitted {\n",
       "  color: var(--sklearn-color-text);\n",
       "  background-color: var(--sklearn-color-fitted-level-2);\n",
       "}\n",
       "\n",
       "/* Estimator label */\n",
       "\n",
       "#sk-container-id-1 div.sk-label label {\n",
       "  font-family: monospace;\n",
       "  font-weight: bold;\n",
       "  display: inline-block;\n",
       "  line-height: 1.2em;\n",
       "}\n",
       "\n",
       "#sk-container-id-1 div.sk-label-container {\n",
       "  text-align: center;\n",
       "}\n",
       "\n",
       "/* Estimator-specific */\n",
       "#sk-container-id-1 div.sk-estimator {\n",
       "  font-family: monospace;\n",
       "  border: 1px dotted var(--sklearn-color-border-box);\n",
       "  border-radius: 0.25em;\n",
       "  box-sizing: border-box;\n",
       "  margin-bottom: 0.5em;\n",
       "  /* unfitted */\n",
       "  background-color: var(--sklearn-color-unfitted-level-0);\n",
       "}\n",
       "\n",
       "#sk-container-id-1 div.sk-estimator.fitted {\n",
       "  /* fitted */\n",
       "  background-color: var(--sklearn-color-fitted-level-0);\n",
       "}\n",
       "\n",
       "/* on hover */\n",
       "#sk-container-id-1 div.sk-estimator:hover {\n",
       "  /* unfitted */\n",
       "  background-color: var(--sklearn-color-unfitted-level-2);\n",
       "}\n",
       "\n",
       "#sk-container-id-1 div.sk-estimator.fitted:hover {\n",
       "  /* fitted */\n",
       "  background-color: var(--sklearn-color-fitted-level-2);\n",
       "}\n",
       "\n",
       "/* Specification for estimator info (e.g. \"i\" and \"?\") */\n",
       "\n",
       "/* Common style for \"i\" and \"?\" */\n",
       "\n",
       ".sk-estimator-doc-link,\n",
       "a:link.sk-estimator-doc-link,\n",
       "a:visited.sk-estimator-doc-link {\n",
       "  float: right;\n",
       "  font-size: smaller;\n",
       "  line-height: 1em;\n",
       "  font-family: monospace;\n",
       "  background-color: var(--sklearn-color-background);\n",
       "  border-radius: 1em;\n",
       "  height: 1em;\n",
       "  width: 1em;\n",
       "  text-decoration: none !important;\n",
       "  margin-left: 1ex;\n",
       "  /* unfitted */\n",
       "  border: var(--sklearn-color-unfitted-level-1) 1pt solid;\n",
       "  color: var(--sklearn-color-unfitted-level-1);\n",
       "}\n",
       "\n",
       ".sk-estimator-doc-link.fitted,\n",
       "a:link.sk-estimator-doc-link.fitted,\n",
       "a:visited.sk-estimator-doc-link.fitted {\n",
       "  /* fitted */\n",
       "  border: var(--sklearn-color-fitted-level-1) 1pt solid;\n",
       "  color: var(--sklearn-color-fitted-level-1);\n",
       "}\n",
       "\n",
       "/* On hover */\n",
       "div.sk-estimator:hover .sk-estimator-doc-link:hover,\n",
       ".sk-estimator-doc-link:hover,\n",
       "div.sk-label-container:hover .sk-estimator-doc-link:hover,\n",
       ".sk-estimator-doc-link:hover {\n",
       "  /* unfitted */\n",
       "  background-color: var(--sklearn-color-unfitted-level-3);\n",
       "  color: var(--sklearn-color-background);\n",
       "  text-decoration: none;\n",
       "}\n",
       "\n",
       "div.sk-estimator.fitted:hover .sk-estimator-doc-link.fitted:hover,\n",
       ".sk-estimator-doc-link.fitted:hover,\n",
       "div.sk-label-container:hover .sk-estimator-doc-link.fitted:hover,\n",
       ".sk-estimator-doc-link.fitted:hover {\n",
       "  /* fitted */\n",
       "  background-color: var(--sklearn-color-fitted-level-3);\n",
       "  color: var(--sklearn-color-background);\n",
       "  text-decoration: none;\n",
       "}\n",
       "\n",
       "/* Span, style for the box shown on hovering the info icon */\n",
       ".sk-estimator-doc-link span {\n",
       "  display: none;\n",
       "  z-index: 9999;\n",
       "  position: relative;\n",
       "  font-weight: normal;\n",
       "  right: .2ex;\n",
       "  padding: .5ex;\n",
       "  margin: .5ex;\n",
       "  width: min-content;\n",
       "  min-width: 20ex;\n",
       "  max-width: 50ex;\n",
       "  color: var(--sklearn-color-text);\n",
       "  box-shadow: 2pt 2pt 4pt #999;\n",
       "  /* unfitted */\n",
       "  background: var(--sklearn-color-unfitted-level-0);\n",
       "  border: .5pt solid var(--sklearn-color-unfitted-level-3);\n",
       "}\n",
       "\n",
       ".sk-estimator-doc-link.fitted span {\n",
       "  /* fitted */\n",
       "  background: var(--sklearn-color-fitted-level-0);\n",
       "  border: var(--sklearn-color-fitted-level-3);\n",
       "}\n",
       "\n",
       ".sk-estimator-doc-link:hover span {\n",
       "  display: block;\n",
       "}\n",
       "\n",
       "/* \"?\"-specific style due to the `<a>` HTML tag */\n",
       "\n",
       "#sk-container-id-1 a.estimator_doc_link {\n",
       "  float: right;\n",
       "  font-size: 1rem;\n",
       "  line-height: 1em;\n",
       "  font-family: monospace;\n",
       "  background-color: var(--sklearn-color-background);\n",
       "  border-radius: 1rem;\n",
       "  height: 1rem;\n",
       "  width: 1rem;\n",
       "  text-decoration: none;\n",
       "  /* unfitted */\n",
       "  color: var(--sklearn-color-unfitted-level-1);\n",
       "  border: var(--sklearn-color-unfitted-level-1) 1pt solid;\n",
       "}\n",
       "\n",
       "#sk-container-id-1 a.estimator_doc_link.fitted {\n",
       "  /* fitted */\n",
       "  border: var(--sklearn-color-fitted-level-1) 1pt solid;\n",
       "  color: var(--sklearn-color-fitted-level-1);\n",
       "}\n",
       "\n",
       "/* On hover */\n",
       "#sk-container-id-1 a.estimator_doc_link:hover {\n",
       "  /* unfitted */\n",
       "  background-color: var(--sklearn-color-unfitted-level-3);\n",
       "  color: var(--sklearn-color-background);\n",
       "  text-decoration: none;\n",
       "}\n",
       "\n",
       "#sk-container-id-1 a.estimator_doc_link.fitted:hover {\n",
       "  /* fitted */\n",
       "  background-color: var(--sklearn-color-fitted-level-3);\n",
       "}\n",
       "</style><div id=\"sk-container-id-1\" class=\"sk-top-container\"><div class=\"sk-text-repr-fallback\"><pre>StandardScaler()</pre><b>In a Jupyter environment, please rerun this cell to show the HTML representation or trust the notebook. <br />On GitHub, the HTML representation is unable to render, please try loading this page with nbviewer.org.</b></div><div class=\"sk-container\" hidden><div class=\"sk-item\"><div class=\"sk-estimator fitted sk-toggleable\"><input class=\"sk-toggleable__control sk-hidden--visually\" id=\"sk-estimator-id-1\" type=\"checkbox\" checked><label for=\"sk-estimator-id-1\" class=\"sk-toggleable__label fitted sk-toggleable__label-arrow fitted\">&nbsp;&nbsp;StandardScaler<a class=\"sk-estimator-doc-link fitted\" rel=\"noreferrer\" target=\"_blank\" href=\"https://scikit-learn.org/1.5/modules/generated/sklearn.preprocessing.StandardScaler.html\">?<span>Documentation for StandardScaler</span></a><span class=\"sk-estimator-doc-link fitted\">i<span>Fitted</span></span></label><div class=\"sk-toggleable__content fitted\"><pre>StandardScaler()</pre></div> </div></div></div></div>"
      ],
      "text/plain": [
       "StandardScaler()"
      ]
     },
     "execution_count": 16,
     "metadata": {},
     "output_type": "execute_result"
    }
   ],
   "source": [
    "# Fit a scaler\n",
    "scaler = StandardScaler()\n",
    "scaler.fit(X_train)"
   ]
  },
  {
   "cell_type": "code",
   "execution_count": 17,
   "metadata": {
    "id": "-KSjbCSI1ATS"
   },
   "outputs": [],
   "source": [
    "# Transform data with scaler\n",
    "X_train_clean = scaler.transform(X_train)\n",
    "X_valid_clean = scaler.transform(X_valid)\n",
    "X_test_clean = scaler.transform(X_test)"
   ]
  },
  {
   "cell_type": "code",
   "execution_count": 18,
   "metadata": {
    "id": "EuP9SAvdKPuN"
   },
   "outputs": [],
   "source": [
    "# Transform data to torch.tensor format\n",
    "Xs_train = torch.tensor(X_train_clean)\n",
    "Xs_valid = torch.tensor(X_valid_clean)\n",
    "Xs_test = torch.tensor(X_test_clean)\n",
    "\n",
    "ys_train = torch.tensor(y_train).reshape(-1, 1)\n",
    "ys_valid = torch.tensor(y_valid).reshape(-1, 1)\n",
    "ys_test = torch.tensor(y_test).reshape(-1, 1)"
   ]
  },
  {
   "cell_type": "markdown",
   "metadata": {
    "id": "Box57N5s1Q0W"
   },
   "source": [
    "*Create baseline model*"
   ]
  },
  {
   "cell_type": "code",
   "execution_count": 19,
   "metadata": {
    "id": "ggTw1AEE1SfB"
   },
   "outputs": [],
   "source": [
    "from sklearn.dummy import DummyRegressor"
   ]
  },
  {
   "cell_type": "code",
   "execution_count": 20,
   "metadata": {
    "colab": {
     "base_uri": "https://localhost:8080/"
    },
    "id": "nyRDr_V61ade",
    "outputId": "77ccd05e-68fe-4cff-9b27-7485ec3bae5b"
   },
   "outputs": [
    {
     "name": "stdout",
     "output_type": "stream",
     "text": [
      "Baseline MSE score - Train : 6076.398012984616\n",
      "Baseline MSE score - Valid : 4977.640423791074\n"
     ]
    }
   ],
   "source": [
    "# Create object\n",
    "mdl_baseline = DummyRegressor(strategy='mean')\n",
    "\n",
    "# Fit object\n",
    "mdl_baseline.fit(Xs_train, ys_train)\n",
    "\n",
    "# Predict\n",
    "y_train_pred = mdl_baseline.predict(Xs_train)\n",
    "y_valid_pred = mdl_baseline.predict(Xs_valid)\n",
    "\n",
    "# Convert result to torch tensor\n",
    "ys_train_pred = torch.tensor(y_train_pred)\n",
    "ys_valid_pred = torch.tensor(y_valid_pred)\n",
    "\n",
    "# Show scores\n",
    "mse_train_baseline = mse_loss(ys_train_pred, ys_train)\n",
    "mse_valid_baseline = mse_loss(ys_valid_pred, ys_valid)\n",
    "\n",
    "print('Baseline MSE score - Train :', mse_train_baseline.item())\n",
    "print('Baseline MSE score - Valid :', mse_valid_baseline.item())"
   ]
  },
  {
   "cell_type": "markdown",
   "metadata": {
    "id": "9zoUDsR42iAM"
   },
   "source": [
    "*Great! Now let's create a Neuron model*"
   ]
  },
  {
   "cell_type": "code",
   "execution_count": 21,
   "metadata": {
    "id": "vPkAyMKm2mMO"
   },
   "outputs": [],
   "source": [
    "torch.manual_seed(123)\n",
    "\n",
    "# Neuron model\n",
    "layers = [\n",
    "    Linear(feature_in=10, feature_out=1, bias=True)\n",
    "]\n",
    "\n",
    "# Create the model\n",
    "mdl_neuron = Sequential(layers = layers)\n",
    "\n",
    "# Activate the computational graph gradient\n",
    "parameters = mdl_neuron.parameters()\n",
    "for p in parameters:\n",
    "    p.requires_grad = True"
   ]
  },
  {
   "cell_type": "code",
   "execution_count": 22,
   "metadata": {
    "colab": {
     "base_uri": "https://localhost:8080/"
    },
    "id": "jeJ4xZ3A287t",
    "outputId": "59905a5e-a21c-41b8-b045-03e5a2c1848f"
   },
   "outputs": [
    {
     "name": "stdout",
     "output_type": "stream",
     "text": [
      "iter: 1 | loss: 29553.3843\n",
      "iter: 101 | loss: 2889.9139\n",
      "iter: 201 | loss: 2883.3081\n",
      "iter: 301 | loss: 2878.7473\n",
      "iter: 401 | loss: 2875.5961\n",
      "iter: 501 | loss: 2873.4186\n",
      "iter: 601 | loss: 2871.9141\n",
      "iter: 701 | loss: 2870.8744\n",
      "iter: 801 | loss: 2870.1560\n",
      "iter: 901 | loss: 2869.6597\n",
      "iter: 1000 | loss: 2869.3195\n",
      "Neuron MSE score - Train : 2869.316661272341\n",
      "Neuron MSE score - Valid : 2755.8752244681864\n"
     ]
    }
   ],
   "source": [
    "# Now, let's perform the Gradient Descent\n",
    "for k in range(1000):\n",
    "    # Do the forward pass to get prediction & loss\n",
    "    y_pred = mdl_neuron(Xs_train)\n",
    "    loss = mse_loss(y_pred, ys_train)\n",
    "\n",
    "    # Do the backpropagation\n",
    "    # Always reset the parameter gradient every iterations\n",
    "    for p in parameters:\n",
    "        p.grad = None\n",
    "\n",
    "    # Then, do the backpropagation\n",
    "    loss.backward()\n",
    "\n",
    "    # Now, let's update the model\n",
    "    for p in parameters:\n",
    "        p.data += -0.1 * p.grad\n",
    "\n",
    "    # Print\n",
    "    if k==0 or k==999 or k%100==0:\n",
    "        print(f'iter: {k+1} | loss: {loss.item():.4f}')\n",
    "\n",
    "\n",
    "# Show final scores\n",
    "ys_train_pred = mdl_neuron(Xs_train)\n",
    "ys_valid_pred = mdl_neuron(Xs_valid)\n",
    "\n",
    "print('Neuron MSE score - Train :', mse_loss(ys_train_pred, ys_train).item())\n",
    "print('Neuron MSE score - Valid :', mse_loss(ys_valid_pred, ys_valid).item())"
   ]
  },
  {
   "cell_type": "markdown",
   "metadata": {
    "id": "FIZBDLzGK82e"
   },
   "source": [
    "*Nice! There is a huge improvement in train & valid dataset*"
   ]
  },
  {
   "cell_type": "code",
   "execution_count": 23,
   "metadata": {
    "colab": {
     "base_uri": "https://localhost:8080/"
    },
    "id": "FULapIIxG5XQ",
    "outputId": "feeef39b-60f9-4010-9879-775487f50c29"
   },
   "outputs": [
    {
     "name": "stdout",
     "output_type": "stream",
     "text": [
      "tensor([[  1.7891],\n",
      "        [-11.4982],\n",
      "        [ 25.7320],\n",
      "        [ 16.7887],\n",
      "        [-37.9602],\n",
      "        [ 19.5654],\n",
      "        [  4.8145],\n",
      "        [ 12.2476],\n",
      "        [ 32.6712],\n",
      "        [  2.3983]], dtype=torch.float64, requires_grad=True)\n",
      "tensor([153.7365], dtype=torch.float64, requires_grad=True)\n"
     ]
    }
   ],
   "source": [
    "# parameters\n",
    "for p in parameters:\n",
    "    print(p)"
   ]
  },
  {
   "cell_type": "markdown",
   "metadata": {
    "id": "Hx1vT9LzLncO"
   },
   "source": [
    "*Remember, 1 neuron = a linear regression model. Let's prove this*"
   ]
  },
  {
   "cell_type": "code",
   "execution_count": 24,
   "metadata": {
    "colab": {
     "base_uri": "https://localhost:8080/"
    },
    "id": "WXsNyqtRLmD1",
    "outputId": "ce08fa44-97ae-48cf-c2ea-76320420c337"
   },
   "outputs": [
    {
     "name": "stdout",
     "output_type": "stream",
     "text": [
      "LR MSE score - Train : 2868.5497028355776\n",
      "LR MSE score - Valid : 2765.853591002306\n",
      "Model parameters:\n",
      "[[  1.75375799 -11.51180908  25.60712144  16.82887167 -44.44885564\n",
      "   24.64095356   7.67697768  13.1387839   35.16119521   2.35136365]] [153.73654391]\n"
     ]
    }
   ],
   "source": [
    "from sklearn.linear_model import LinearRegression\n",
    "from sklearn.metrics import mean_squared_error\n",
    "\n",
    "mdl_lr = LinearRegression()\n",
    "mdl_lr.fit(Xs_train, ys_train)\n",
    "\n",
    "lr_train_score = mean_squared_error(mdl_lr.predict(Xs_train), ys_train)\n",
    "lr_valid_score = mean_squared_error(mdl_lr.predict(Xs_valid), ys_valid)\n",
    "\n",
    "print('LR MSE score - Train :', lr_train_score)\n",
    "print('LR MSE score - Valid :', lr_valid_score)\n",
    "print('Model parameters:')\n",
    "print(mdl_lr.coef_, mdl_lr.intercept_)"
   ]
  },
  {
   "cell_type": "markdown",
   "metadata": {
    "id": "uoGp2mQj8fMt"
   },
   "source": [
    "## **Task 6**\n",
    "---"
   ]
  },
  {
   "cell_type": "markdown",
   "metadata": {
    "id": "yLYh5txL8fNz"
   },
   "source": [
    "- Let's perform a prediction with a Neural Network\n",
    "- Optimize your model parameter using Gradient Descent"
   ]
  },
  {
   "cell_type": "markdown",
   "metadata": {
    "id": "BbBfOj707Pga"
   },
   "source": [
    "*Now, let's create a Neural Network*"
   ]
  },
  {
   "cell_type": "code",
   "execution_count": 25,
   "metadata": {
    "id": "FIrmNWXH7U2P"
   },
   "outputs": [],
   "source": [
    "torch.manual_seed(123)\n",
    "\n",
    "# Neural Network model\n",
    "# 1 hidden layer, 6 neuron, TanH activation function\n",
    "layers = [\n",
    "    Linear(feature_in=10, feature_out=6, bias=True), Tanh(),\n",
    "    Linear(feature_in=6, feature_out=1, bias=True)\n",
    "]\n",
    "\n",
    "# Create the model\n",
    "mdl_nn = Sequential(layers = layers)\n",
    "\n",
    "# Activate the computational graph gradient\n",
    "parameters = mdl_nn.parameters()\n",
    "for p in parameters:\n",
    "    p.requires_grad = True"
   ]
  },
  {
   "cell_type": "code",
   "execution_count": 26,
   "metadata": {
    "colab": {
     "base_uri": "https://localhost:8080/"
    },
    "id": "IfUuBYvC7U2y",
    "outputId": "badd27ef-5937-4775-b108-053a08f7a21b"
   },
   "outputs": [
    {
     "name": "stdout",
     "output_type": "stream",
     "text": [
      "iter: 1 | loss: 29539.4910\n",
      "iter: 101 | loss: 2602.0481\n",
      "iter: 201 | loss: 2541.6722\n",
      "iter: 301 | loss: 2421.2587\n",
      "iter: 401 | loss: 2303.6713\n",
      "iter: 501 | loss: 2272.7979\n",
      "iter: 601 | loss: 2145.6433\n",
      "iter: 701 | loss: 2175.0367\n",
      "iter: 801 | loss: 2152.4222\n",
      "iter: 901 | loss: 2136.7558\n",
      "iter: 1000 | loss: 2139.9310\n",
      "Neuron MSE score - Train : 2139.8312286466335\n",
      "Neuron MSE score - Valid : 2552.5605504870996\n"
     ]
    }
   ],
   "source": [
    "# Now, let's perform the Gradient Descent\n",
    "for k in range(1000):\n",
    "    # Do the forward pass to get prediction & loss\n",
    "    y_pred = mdl_nn(Xs_train)\n",
    "    loss = mse_loss(y_pred, ys_train)\n",
    "\n",
    "    # Do the backpropagation\n",
    "    # Always reset the parameter gradient every iterations\n",
    "    for p in parameters:\n",
    "        p.grad = None\n",
    "\n",
    "    # Then, do the backpropagation\n",
    "    loss.backward()\n",
    "\n",
    "    # Now, let's update the model\n",
    "    for p in parameters:\n",
    "        p.data += -0.1 * p.grad\n",
    "\n",
    "    # Print\n",
    "    if k==0 or k==999 or k%100==0:\n",
    "        print(f'iter: {k+1} | loss: {loss.item():.4f}')\n",
    "\n",
    "\n",
    "# Show final scores\n",
    "ys_train_pred = mdl_nn(Xs_train)\n",
    "ys_valid_pred = mdl_nn(Xs_valid)\n",
    "\n",
    "print('Neuron MSE score - Train :', mse_loss(ys_train_pred, ys_train).item())\n",
    "print('Neuron MSE score - Valid :', mse_loss(ys_valid_pred, ys_valid).item())"
   ]
  },
  {
   "cell_type": "markdown",
   "metadata": {
    "id": "MNQMlxS_8TYT"
   },
   "source": [
    "*Nice!, we have better train score, but beware of the model <u>overfit</u>*"
   ]
  },
  {
   "cell_type": "markdown",
   "metadata": {
    "id": "vOfwk0rP6706"
   },
   "source": [
    "## **Exercise**\n",
    "---\n",
    "\n",
    "- Build your own Neural Network Model\n",
    "- You can design your own architecture\n",
    "- Compare the results with your initial"
   ]
  },
  {
   "cell_type": "code",
   "execution_count": 27,
   "metadata": {
    "id": "ky1fF4wM7Eqa"
   },
   "outputs": [],
   "source": [
    "# Code here"
   ]
  },
  {
   "cell_type": "markdown",
   "metadata": {
    "id": "63iiJrtk8xrZ"
   },
   "source": [
    "## **Task 7**\n",
    "---"
   ]
  },
  {
   "cell_type": "markdown",
   "metadata": {
    "id": "AnzvMMu48xr-"
   },
   "source": [
    "- For the binary classification network, we need to build the loss function.\n",
    "- Remember, we can use the *binary crossentropy loss* or *negative log-likelihood*\n",
    "\n",
    "$$\n",
    "NLL = \\cfrac{1}{N}\n",
    "\\sum_{i=1}^{N}\n",
    "\\left[\n",
    "\\sum_{j=1}^{C}\n",
    "\\mathbf{1}_{y^{(i)}=c} \\cdot \\log (P(y^{(i)}=c|x^{(i)}))\n",
    "\\right]\n",
    "$$"
   ]
  },
  {
   "cell_type": "markdown",
   "metadata": {
    "id": "djAFjRjm9qaq"
   },
   "source": [
    "- Named the function as `bce_loss`"
   ]
  },
  {
   "cell_type": "code",
   "execution_count": 28,
   "metadata": {
    "id": "2gXFZapC8xsA"
   },
   "outputs": [],
   "source": [
    "def bce_loss(target, input):\n",
    "    return -torch.mean(input*torch.log(target+1e-16) + (1-input)*torch.log(1-(target+1e-16)))"
   ]
  },
  {
   "cell_type": "markdown",
   "metadata": {
    "id": "LYyOsL2A8xsC"
   },
   "source": [
    "Let's check"
   ]
  },
  {
   "cell_type": "code",
   "execution_count": 29,
   "metadata": {
    "colab": {
     "base_uri": "https://localhost:8080/"
    },
    "id": "bAb4IOvR8xsD",
    "outputId": "a4dbcfae-bb0b-4df5-dac5-a8aad9ff7be8"
   },
   "outputs": [
    {
     "data": {
      "text/plain": [
       "tensor(0.2523)"
      ]
     },
     "execution_count": 29,
     "metadata": {},
     "output_type": "execute_result"
    }
   ],
   "source": [
    "# The answer should be 0.2523\n",
    "bce_loss(target = torch.tensor([0.9, 0.5, 0.1, 0.1]),\n",
    "         input = torch.tensor([1, 1, 0, 0]))"
   ]
  },
  {
   "cell_type": "markdown",
   "metadata": {
    "id": "ELHAM8hD-kDD"
   },
   "source": [
    "## **Task 8**\n",
    "---"
   ]
  },
  {
   "cell_type": "markdown",
   "metadata": {
    "id": "iIivzKQp-kD-"
   },
   "source": [
    "- Let's perform a binary classification prediction with a Neuron\n",
    "- Optimize your model parameter using Gradient Descent"
   ]
  },
  {
   "cell_type": "markdown",
   "metadata": {
    "id": "8vuv5jBL-kEA"
   },
   "source": [
    "*Load Library*"
   ]
  },
  {
   "cell_type": "code",
   "execution_count": 30,
   "metadata": {
    "id": "PMPrY3o0-kEC"
   },
   "outputs": [],
   "source": [
    "# Load library\n",
    "from sklearn.datasets import load_iris"
   ]
  },
  {
   "cell_type": "markdown",
   "metadata": {
    "id": "FFZt5MJ7-kEE"
   },
   "source": [
    "*Prepare data*"
   ]
  },
  {
   "cell_type": "code",
   "execution_count": 31,
   "metadata": {
    "id": "H9TxmNn7-kEF"
   },
   "outputs": [],
   "source": [
    "# Load data\n",
    "X, y = load_iris(return_X_y=True)\n",
    "y = np.where(y==2, 1, 0)"
   ]
  },
  {
   "cell_type": "code",
   "execution_count": 32,
   "metadata": {
    "colab": {
     "base_uri": "https://localhost:8080/"
    },
    "id": "sb69AYP0-kEG",
    "outputId": "180de650-7802-4e7b-ae77-9aa65ffed185"
   },
   "outputs": [
    {
     "data": {
      "text/plain": [
       "((120, 4), (15, 4), (15, 4))"
      ]
     },
     "execution_count": 32,
     "metadata": {},
     "output_type": "execute_result"
    }
   ],
   "source": [
    "# Split data\n",
    "X_train, X_test, y_train, y_test = train_test_split(X, y,\n",
    "                                                    test_size = 0.2,\n",
    "                                                    random_state=42)\n",
    "X_valid, X_test, y_valid, y_test = train_test_split(X_test, y_test,\n",
    "                                                    test_size = 0.5,\n",
    "                                                    random_state = 42)\n",
    "\n",
    "X_train.shape, X_valid.shape, X_test.shape"
   ]
  },
  {
   "cell_type": "code",
   "execution_count": 33,
   "metadata": {
    "colab": {
     "base_uri": "https://localhost:8080/",
     "height": 75
    },
    "id": "r3FY_aZh-kEN",
    "outputId": "30b00391-f5c0-48cf-aea9-a81bc03025d5"
   },
   "outputs": [
    {
     "data": {
      "text/html": [
       "<style>#sk-container-id-2 {\n",
       "  /* Definition of color scheme common for light and dark mode */\n",
       "  --sklearn-color-text: black;\n",
       "  --sklearn-color-line: gray;\n",
       "  /* Definition of color scheme for unfitted estimators */\n",
       "  --sklearn-color-unfitted-level-0: #fff5e6;\n",
       "  --sklearn-color-unfitted-level-1: #f6e4d2;\n",
       "  --sklearn-color-unfitted-level-2: #ffe0b3;\n",
       "  --sklearn-color-unfitted-level-3: chocolate;\n",
       "  /* Definition of color scheme for fitted estimators */\n",
       "  --sklearn-color-fitted-level-0: #f0f8ff;\n",
       "  --sklearn-color-fitted-level-1: #d4ebff;\n",
       "  --sklearn-color-fitted-level-2: #b3dbfd;\n",
       "  --sklearn-color-fitted-level-3: cornflowerblue;\n",
       "\n",
       "  /* Specific color for light theme */\n",
       "  --sklearn-color-text-on-default-background: var(--sg-text-color, var(--theme-code-foreground, var(--jp-content-font-color1, black)));\n",
       "  --sklearn-color-background: var(--sg-background-color, var(--theme-background, var(--jp-layout-color0, white)));\n",
       "  --sklearn-color-border-box: var(--sg-text-color, var(--theme-code-foreground, var(--jp-content-font-color1, black)));\n",
       "  --sklearn-color-icon: #696969;\n",
       "\n",
       "  @media (prefers-color-scheme: dark) {\n",
       "    /* Redefinition of color scheme for dark theme */\n",
       "    --sklearn-color-text-on-default-background: var(--sg-text-color, var(--theme-code-foreground, var(--jp-content-font-color1, white)));\n",
       "    --sklearn-color-background: var(--sg-background-color, var(--theme-background, var(--jp-layout-color0, #111)));\n",
       "    --sklearn-color-border-box: var(--sg-text-color, var(--theme-code-foreground, var(--jp-content-font-color1, white)));\n",
       "    --sklearn-color-icon: #878787;\n",
       "  }\n",
       "}\n",
       "\n",
       "#sk-container-id-2 {\n",
       "  color: var(--sklearn-color-text);\n",
       "}\n",
       "\n",
       "#sk-container-id-2 pre {\n",
       "  padding: 0;\n",
       "}\n",
       "\n",
       "#sk-container-id-2 input.sk-hidden--visually {\n",
       "  border: 0;\n",
       "  clip: rect(1px 1px 1px 1px);\n",
       "  clip: rect(1px, 1px, 1px, 1px);\n",
       "  height: 1px;\n",
       "  margin: -1px;\n",
       "  overflow: hidden;\n",
       "  padding: 0;\n",
       "  position: absolute;\n",
       "  width: 1px;\n",
       "}\n",
       "\n",
       "#sk-container-id-2 div.sk-dashed-wrapped {\n",
       "  border: 1px dashed var(--sklearn-color-line);\n",
       "  margin: 0 0.4em 0.5em 0.4em;\n",
       "  box-sizing: border-box;\n",
       "  padding-bottom: 0.4em;\n",
       "  background-color: var(--sklearn-color-background);\n",
       "}\n",
       "\n",
       "#sk-container-id-2 div.sk-container {\n",
       "  /* jupyter's `normalize.less` sets `[hidden] { display: none; }`\n",
       "     but bootstrap.min.css set `[hidden] { display: none !important; }`\n",
       "     so we also need the `!important` here to be able to override the\n",
       "     default hidden behavior on the sphinx rendered scikit-learn.org.\n",
       "     See: https://github.com/scikit-learn/scikit-learn/issues/21755 */\n",
       "  display: inline-block !important;\n",
       "  position: relative;\n",
       "}\n",
       "\n",
       "#sk-container-id-2 div.sk-text-repr-fallback {\n",
       "  display: none;\n",
       "}\n",
       "\n",
       "div.sk-parallel-item,\n",
       "div.sk-serial,\n",
       "div.sk-item {\n",
       "  /* draw centered vertical line to link estimators */\n",
       "  background-image: linear-gradient(var(--sklearn-color-text-on-default-background), var(--sklearn-color-text-on-default-background));\n",
       "  background-size: 2px 100%;\n",
       "  background-repeat: no-repeat;\n",
       "  background-position: center center;\n",
       "}\n",
       "\n",
       "/* Parallel-specific style estimator block */\n",
       "\n",
       "#sk-container-id-2 div.sk-parallel-item::after {\n",
       "  content: \"\";\n",
       "  width: 100%;\n",
       "  border-bottom: 2px solid var(--sklearn-color-text-on-default-background);\n",
       "  flex-grow: 1;\n",
       "}\n",
       "\n",
       "#sk-container-id-2 div.sk-parallel {\n",
       "  display: flex;\n",
       "  align-items: stretch;\n",
       "  justify-content: center;\n",
       "  background-color: var(--sklearn-color-background);\n",
       "  position: relative;\n",
       "}\n",
       "\n",
       "#sk-container-id-2 div.sk-parallel-item {\n",
       "  display: flex;\n",
       "  flex-direction: column;\n",
       "}\n",
       "\n",
       "#sk-container-id-2 div.sk-parallel-item:first-child::after {\n",
       "  align-self: flex-end;\n",
       "  width: 50%;\n",
       "}\n",
       "\n",
       "#sk-container-id-2 div.sk-parallel-item:last-child::after {\n",
       "  align-self: flex-start;\n",
       "  width: 50%;\n",
       "}\n",
       "\n",
       "#sk-container-id-2 div.sk-parallel-item:only-child::after {\n",
       "  width: 0;\n",
       "}\n",
       "\n",
       "/* Serial-specific style estimator block */\n",
       "\n",
       "#sk-container-id-2 div.sk-serial {\n",
       "  display: flex;\n",
       "  flex-direction: column;\n",
       "  align-items: center;\n",
       "  background-color: var(--sklearn-color-background);\n",
       "  padding-right: 1em;\n",
       "  padding-left: 1em;\n",
       "}\n",
       "\n",
       "\n",
       "/* Toggleable style: style used for estimator/Pipeline/ColumnTransformer box that is\n",
       "clickable and can be expanded/collapsed.\n",
       "- Pipeline and ColumnTransformer use this feature and define the default style\n",
       "- Estimators will overwrite some part of the style using the `sk-estimator` class\n",
       "*/\n",
       "\n",
       "/* Pipeline and ColumnTransformer style (default) */\n",
       "\n",
       "#sk-container-id-2 div.sk-toggleable {\n",
       "  /* Default theme specific background. It is overwritten whether we have a\n",
       "  specific estimator or a Pipeline/ColumnTransformer */\n",
       "  background-color: var(--sklearn-color-background);\n",
       "}\n",
       "\n",
       "/* Toggleable label */\n",
       "#sk-container-id-2 label.sk-toggleable__label {\n",
       "  cursor: pointer;\n",
       "  display: block;\n",
       "  width: 100%;\n",
       "  margin-bottom: 0;\n",
       "  padding: 0.5em;\n",
       "  box-sizing: border-box;\n",
       "  text-align: center;\n",
       "}\n",
       "\n",
       "#sk-container-id-2 label.sk-toggleable__label-arrow:before {\n",
       "  /* Arrow on the left of the label */\n",
       "  content: \"▸\";\n",
       "  float: left;\n",
       "  margin-right: 0.25em;\n",
       "  color: var(--sklearn-color-icon);\n",
       "}\n",
       "\n",
       "#sk-container-id-2 label.sk-toggleable__label-arrow:hover:before {\n",
       "  color: var(--sklearn-color-text);\n",
       "}\n",
       "\n",
       "/* Toggleable content - dropdown */\n",
       "\n",
       "#sk-container-id-2 div.sk-toggleable__content {\n",
       "  max-height: 0;\n",
       "  max-width: 0;\n",
       "  overflow: hidden;\n",
       "  text-align: left;\n",
       "  /* unfitted */\n",
       "  background-color: var(--sklearn-color-unfitted-level-0);\n",
       "}\n",
       "\n",
       "#sk-container-id-2 div.sk-toggleable__content.fitted {\n",
       "  /* fitted */\n",
       "  background-color: var(--sklearn-color-fitted-level-0);\n",
       "}\n",
       "\n",
       "#sk-container-id-2 div.sk-toggleable__content pre {\n",
       "  margin: 0.2em;\n",
       "  border-radius: 0.25em;\n",
       "  color: var(--sklearn-color-text);\n",
       "  /* unfitted */\n",
       "  background-color: var(--sklearn-color-unfitted-level-0);\n",
       "}\n",
       "\n",
       "#sk-container-id-2 div.sk-toggleable__content.fitted pre {\n",
       "  /* unfitted */\n",
       "  background-color: var(--sklearn-color-fitted-level-0);\n",
       "}\n",
       "\n",
       "#sk-container-id-2 input.sk-toggleable__control:checked~div.sk-toggleable__content {\n",
       "  /* Expand drop-down */\n",
       "  max-height: 200px;\n",
       "  max-width: 100%;\n",
       "  overflow: auto;\n",
       "}\n",
       "\n",
       "#sk-container-id-2 input.sk-toggleable__control:checked~label.sk-toggleable__label-arrow:before {\n",
       "  content: \"▾\";\n",
       "}\n",
       "\n",
       "/* Pipeline/ColumnTransformer-specific style */\n",
       "\n",
       "#sk-container-id-2 div.sk-label input.sk-toggleable__control:checked~label.sk-toggleable__label {\n",
       "  color: var(--sklearn-color-text);\n",
       "  background-color: var(--sklearn-color-unfitted-level-2);\n",
       "}\n",
       "\n",
       "#sk-container-id-2 div.sk-label.fitted input.sk-toggleable__control:checked~label.sk-toggleable__label {\n",
       "  background-color: var(--sklearn-color-fitted-level-2);\n",
       "}\n",
       "\n",
       "/* Estimator-specific style */\n",
       "\n",
       "/* Colorize estimator box */\n",
       "#sk-container-id-2 div.sk-estimator input.sk-toggleable__control:checked~label.sk-toggleable__label {\n",
       "  /* unfitted */\n",
       "  background-color: var(--sklearn-color-unfitted-level-2);\n",
       "}\n",
       "\n",
       "#sk-container-id-2 div.sk-estimator.fitted input.sk-toggleable__control:checked~label.sk-toggleable__label {\n",
       "  /* fitted */\n",
       "  background-color: var(--sklearn-color-fitted-level-2);\n",
       "}\n",
       "\n",
       "#sk-container-id-2 div.sk-label label.sk-toggleable__label,\n",
       "#sk-container-id-2 div.sk-label label {\n",
       "  /* The background is the default theme color */\n",
       "  color: var(--sklearn-color-text-on-default-background);\n",
       "}\n",
       "\n",
       "/* On hover, darken the color of the background */\n",
       "#sk-container-id-2 div.sk-label:hover label.sk-toggleable__label {\n",
       "  color: var(--sklearn-color-text);\n",
       "  background-color: var(--sklearn-color-unfitted-level-2);\n",
       "}\n",
       "\n",
       "/* Label box, darken color on hover, fitted */\n",
       "#sk-container-id-2 div.sk-label.fitted:hover label.sk-toggleable__label.fitted {\n",
       "  color: var(--sklearn-color-text);\n",
       "  background-color: var(--sklearn-color-fitted-level-2);\n",
       "}\n",
       "\n",
       "/* Estimator label */\n",
       "\n",
       "#sk-container-id-2 div.sk-label label {\n",
       "  font-family: monospace;\n",
       "  font-weight: bold;\n",
       "  display: inline-block;\n",
       "  line-height: 1.2em;\n",
       "}\n",
       "\n",
       "#sk-container-id-2 div.sk-label-container {\n",
       "  text-align: center;\n",
       "}\n",
       "\n",
       "/* Estimator-specific */\n",
       "#sk-container-id-2 div.sk-estimator {\n",
       "  font-family: monospace;\n",
       "  border: 1px dotted var(--sklearn-color-border-box);\n",
       "  border-radius: 0.25em;\n",
       "  box-sizing: border-box;\n",
       "  margin-bottom: 0.5em;\n",
       "  /* unfitted */\n",
       "  background-color: var(--sklearn-color-unfitted-level-0);\n",
       "}\n",
       "\n",
       "#sk-container-id-2 div.sk-estimator.fitted {\n",
       "  /* fitted */\n",
       "  background-color: var(--sklearn-color-fitted-level-0);\n",
       "}\n",
       "\n",
       "/* on hover */\n",
       "#sk-container-id-2 div.sk-estimator:hover {\n",
       "  /* unfitted */\n",
       "  background-color: var(--sklearn-color-unfitted-level-2);\n",
       "}\n",
       "\n",
       "#sk-container-id-2 div.sk-estimator.fitted:hover {\n",
       "  /* fitted */\n",
       "  background-color: var(--sklearn-color-fitted-level-2);\n",
       "}\n",
       "\n",
       "/* Specification for estimator info (e.g. \"i\" and \"?\") */\n",
       "\n",
       "/* Common style for \"i\" and \"?\" */\n",
       "\n",
       ".sk-estimator-doc-link,\n",
       "a:link.sk-estimator-doc-link,\n",
       "a:visited.sk-estimator-doc-link {\n",
       "  float: right;\n",
       "  font-size: smaller;\n",
       "  line-height: 1em;\n",
       "  font-family: monospace;\n",
       "  background-color: var(--sklearn-color-background);\n",
       "  border-radius: 1em;\n",
       "  height: 1em;\n",
       "  width: 1em;\n",
       "  text-decoration: none !important;\n",
       "  margin-left: 1ex;\n",
       "  /* unfitted */\n",
       "  border: var(--sklearn-color-unfitted-level-1) 1pt solid;\n",
       "  color: var(--sklearn-color-unfitted-level-1);\n",
       "}\n",
       "\n",
       ".sk-estimator-doc-link.fitted,\n",
       "a:link.sk-estimator-doc-link.fitted,\n",
       "a:visited.sk-estimator-doc-link.fitted {\n",
       "  /* fitted */\n",
       "  border: var(--sklearn-color-fitted-level-1) 1pt solid;\n",
       "  color: var(--sklearn-color-fitted-level-1);\n",
       "}\n",
       "\n",
       "/* On hover */\n",
       "div.sk-estimator:hover .sk-estimator-doc-link:hover,\n",
       ".sk-estimator-doc-link:hover,\n",
       "div.sk-label-container:hover .sk-estimator-doc-link:hover,\n",
       ".sk-estimator-doc-link:hover {\n",
       "  /* unfitted */\n",
       "  background-color: var(--sklearn-color-unfitted-level-3);\n",
       "  color: var(--sklearn-color-background);\n",
       "  text-decoration: none;\n",
       "}\n",
       "\n",
       "div.sk-estimator.fitted:hover .sk-estimator-doc-link.fitted:hover,\n",
       ".sk-estimator-doc-link.fitted:hover,\n",
       "div.sk-label-container:hover .sk-estimator-doc-link.fitted:hover,\n",
       ".sk-estimator-doc-link.fitted:hover {\n",
       "  /* fitted */\n",
       "  background-color: var(--sklearn-color-fitted-level-3);\n",
       "  color: var(--sklearn-color-background);\n",
       "  text-decoration: none;\n",
       "}\n",
       "\n",
       "/* Span, style for the box shown on hovering the info icon */\n",
       ".sk-estimator-doc-link span {\n",
       "  display: none;\n",
       "  z-index: 9999;\n",
       "  position: relative;\n",
       "  font-weight: normal;\n",
       "  right: .2ex;\n",
       "  padding: .5ex;\n",
       "  margin: .5ex;\n",
       "  width: min-content;\n",
       "  min-width: 20ex;\n",
       "  max-width: 50ex;\n",
       "  color: var(--sklearn-color-text);\n",
       "  box-shadow: 2pt 2pt 4pt #999;\n",
       "  /* unfitted */\n",
       "  background: var(--sklearn-color-unfitted-level-0);\n",
       "  border: .5pt solid var(--sklearn-color-unfitted-level-3);\n",
       "}\n",
       "\n",
       ".sk-estimator-doc-link.fitted span {\n",
       "  /* fitted */\n",
       "  background: var(--sklearn-color-fitted-level-0);\n",
       "  border: var(--sklearn-color-fitted-level-3);\n",
       "}\n",
       "\n",
       ".sk-estimator-doc-link:hover span {\n",
       "  display: block;\n",
       "}\n",
       "\n",
       "/* \"?\"-specific style due to the `<a>` HTML tag */\n",
       "\n",
       "#sk-container-id-2 a.estimator_doc_link {\n",
       "  float: right;\n",
       "  font-size: 1rem;\n",
       "  line-height: 1em;\n",
       "  font-family: monospace;\n",
       "  background-color: var(--sklearn-color-background);\n",
       "  border-radius: 1rem;\n",
       "  height: 1rem;\n",
       "  width: 1rem;\n",
       "  text-decoration: none;\n",
       "  /* unfitted */\n",
       "  color: var(--sklearn-color-unfitted-level-1);\n",
       "  border: var(--sklearn-color-unfitted-level-1) 1pt solid;\n",
       "}\n",
       "\n",
       "#sk-container-id-2 a.estimator_doc_link.fitted {\n",
       "  /* fitted */\n",
       "  border: var(--sklearn-color-fitted-level-1) 1pt solid;\n",
       "  color: var(--sklearn-color-fitted-level-1);\n",
       "}\n",
       "\n",
       "/* On hover */\n",
       "#sk-container-id-2 a.estimator_doc_link:hover {\n",
       "  /* unfitted */\n",
       "  background-color: var(--sklearn-color-unfitted-level-3);\n",
       "  color: var(--sklearn-color-background);\n",
       "  text-decoration: none;\n",
       "}\n",
       "\n",
       "#sk-container-id-2 a.estimator_doc_link.fitted:hover {\n",
       "  /* fitted */\n",
       "  background-color: var(--sklearn-color-fitted-level-3);\n",
       "}\n",
       "</style><div id=\"sk-container-id-2\" class=\"sk-top-container\"><div class=\"sk-text-repr-fallback\"><pre>StandardScaler()</pre><b>In a Jupyter environment, please rerun this cell to show the HTML representation or trust the notebook. <br />On GitHub, the HTML representation is unable to render, please try loading this page with nbviewer.org.</b></div><div class=\"sk-container\" hidden><div class=\"sk-item\"><div class=\"sk-estimator fitted sk-toggleable\"><input class=\"sk-toggleable__control sk-hidden--visually\" id=\"sk-estimator-id-2\" type=\"checkbox\" checked><label for=\"sk-estimator-id-2\" class=\"sk-toggleable__label fitted sk-toggleable__label-arrow fitted\">&nbsp;&nbsp;StandardScaler<a class=\"sk-estimator-doc-link fitted\" rel=\"noreferrer\" target=\"_blank\" href=\"https://scikit-learn.org/1.5/modules/generated/sklearn.preprocessing.StandardScaler.html\">?<span>Documentation for StandardScaler</span></a><span class=\"sk-estimator-doc-link fitted\">i<span>Fitted</span></span></label><div class=\"sk-toggleable__content fitted\"><pre>StandardScaler()</pre></div> </div></div></div></div>"
      ],
      "text/plain": [
       "StandardScaler()"
      ]
     },
     "execution_count": 33,
     "metadata": {},
     "output_type": "execute_result"
    }
   ],
   "source": [
    "# Fit a scaler\n",
    "scaler = StandardScaler()\n",
    "scaler.fit(X_train)"
   ]
  },
  {
   "cell_type": "code",
   "execution_count": 34,
   "metadata": {
    "id": "sLz6USvh-kEV"
   },
   "outputs": [],
   "source": [
    "# Transform data with scaler\n",
    "X_train_clean = scaler.transform(X_train)\n",
    "X_valid_clean = scaler.transform(X_valid)\n",
    "X_test_clean = scaler.transform(X_test)"
   ]
  },
  {
   "cell_type": "code",
   "execution_count": 35,
   "metadata": {
    "id": "08bYVhjp-kEX"
   },
   "outputs": [],
   "source": [
    "# Transform data to torch.tensor format\n",
    "Xs_train = torch.tensor(X_train_clean)\n",
    "Xs_valid = torch.tensor(X_valid_clean)\n",
    "Xs_test = torch.tensor(X_test_clean)\n",
    "\n",
    "ys_train = torch.tensor(y_train).reshape(-1, 1)\n",
    "ys_valid = torch.tensor(y_valid).reshape(-1, 1)\n",
    "ys_test = torch.tensor(y_test).reshape(-1, 1)"
   ]
  },
  {
   "cell_type": "markdown",
   "metadata": {
    "id": "37POObIf-kEY"
   },
   "source": [
    "*Create baseline model*"
   ]
  },
  {
   "cell_type": "code",
   "execution_count": 36,
   "metadata": {
    "id": "-GRmkMP0-kEd"
   },
   "outputs": [],
   "source": [
    "from sklearn.dummy import DummyClassifier"
   ]
  },
  {
   "cell_type": "code",
   "execution_count": 37,
   "metadata": {
    "colab": {
     "base_uri": "https://localhost:8080/"
    },
    "id": "WsGif53H-kEf",
    "outputId": "b2ffa5e0-0be7-4004-f6ef-64a67715a864"
   },
   "outputs": [
    {
     "name": "stdout",
     "output_type": "stream",
     "text": [
      "Baseline BCE score - Train : 11.973442483569041\n",
      "Baseline BCE score - Valid : 17.192635361022212\n"
     ]
    }
   ],
   "source": [
    "# Create object\n",
    "mdl_baseline = DummyClassifier(strategy='most_frequent')\n",
    "\n",
    "# Fit object\n",
    "mdl_baseline.fit(Xs_train, ys_train)\n",
    "\n",
    "# Predict\n",
    "y_train_pred = mdl_baseline.predict_proba(Xs_train)[:, 1]\n",
    "y_valid_pred = mdl_baseline.predict_proba(Xs_valid)[:, 1]\n",
    "\n",
    "# Convert result to torch tensor\n",
    "ys_train_pred = torch.tensor(y_train_pred)\n",
    "ys_valid_pred = torch.tensor(y_valid_pred)\n",
    "\n",
    "# Show scores\n",
    "bce_train_baseline = bce_loss(ys_train_pred, ys_train)\n",
    "bce_valid_baseline = bce_loss(ys_valid_pred, ys_valid)\n",
    "\n",
    "print('Baseline BCE score - Train :', bce_train_baseline.item())\n",
    "print('Baseline BCE score - Valid :', bce_valid_baseline.item())"
   ]
  },
  {
   "cell_type": "markdown",
   "metadata": {
    "id": "mq8-6ACZ-kEh"
   },
   "source": [
    "*Great! Now let's create a Neuron model*"
   ]
  },
  {
   "cell_type": "code",
   "execution_count": 38,
   "metadata": {
    "id": "eIqxlQ11-kEi"
   },
   "outputs": [],
   "source": [
    "torch.manual_seed(123)\n",
    "\n",
    "# Neuron model\n",
    "layers = [\n",
    "    Linear(feature_in=4, feature_out=1, bias=True), Sigmoid()\n",
    "]\n",
    "\n",
    "# Create the model\n",
    "mdl_neuron = Sequential(layers = layers)\n",
    "\n",
    "# Activate the computational graph gradient\n",
    "parameters = mdl_neuron.parameters()\n",
    "for p in parameters:\n",
    "    p.requires_grad = True"
   ]
  },
  {
   "cell_type": "code",
   "execution_count": 39,
   "metadata": {
    "colab": {
     "base_uri": "https://localhost:8080/"
    },
    "id": "KfoXcRXs-kEj",
    "outputId": "e10aaf78-48ad-4af4-90cc-368c309522f9"
   },
   "outputs": [
    {
     "name": "stdout",
     "output_type": "stream",
     "text": [
      "iter: 1 | loss: 0.4592\n",
      "iter: 101 | loss: 0.2706\n",
      "iter: 201 | loss: 0.2305\n",
      "iter: 301 | loss: 0.2067\n",
      "iter: 401 | loss: 0.1894\n",
      "iter: 501 | loss: 0.1759\n",
      "iter: 601 | loss: 0.1649\n",
      "iter: 701 | loss: 0.1558\n",
      "iter: 801 | loss: 0.1480\n",
      "iter: 901 | loss: 0.1413\n",
      "iter: 1000 | loss: 0.1356\n",
      "Neuron BCE score - Train : 0.13554380159794732\n",
      "Neuron BCE score - Valid : 0.0917746138234917\n"
     ]
    }
   ],
   "source": [
    "# Now, let's perform the Gradient Descent\n",
    "for k in range(1000):\n",
    "    # Do the forward pass to get prediction & loss\n",
    "    y_pred = mdl_neuron(Xs_train)\n",
    "    loss = bce_loss(y_pred, ys_train)\n",
    "\n",
    "    # Do the backpropagation\n",
    "    # Always reset the parameter gradient every iterations\n",
    "    for p in parameters:\n",
    "        p.grad = None\n",
    "\n",
    "    # Then, do the backpropagation\n",
    "    loss.backward()\n",
    "\n",
    "    # Now, let's update the model\n",
    "    for p in parameters:\n",
    "        p.data += -0.1 * p.grad\n",
    "\n",
    "    # Print\n",
    "    if k==0 or k==999 or k%100==0:\n",
    "        print(f'iter: {k+1} | loss: {loss.item():.4f}')\n",
    "\n",
    "\n",
    "# Show final scores\n",
    "ys_train_pred = mdl_neuron(Xs_train)\n",
    "ys_valid_pred = mdl_neuron(Xs_valid)\n",
    "\n",
    "print('Neuron BCE score - Train :', bce_loss(ys_train_pred, ys_train).item())\n",
    "print('Neuron BCE score - Valid :', bce_loss(ys_valid_pred, ys_valid).item())"
   ]
  },
  {
   "cell_type": "markdown",
   "metadata": {
    "id": "hGvIiUKb-kEm"
   },
   "source": [
    "*Nice! There is a huge improvement in train & valid dataset*"
   ]
  },
  {
   "cell_type": "code",
   "execution_count": 40,
   "metadata": {
    "colab": {
     "base_uri": "https://localhost:8080/"
    },
    "id": "m2lfMiGe-kEn",
    "outputId": "be64cd76-8e89-4263-c7ef-85323effff6e"
   },
   "outputs": [
    {
     "name": "stdout",
     "output_type": "stream",
     "text": [
      "tensor([[-0.0157],\n",
      "        [-0.3597],\n",
      "        [ 2.0221],\n",
      "        [ 3.1525]], dtype=torch.float64, requires_grad=True)\n",
      "tensor([-3.2575], dtype=torch.float64, requires_grad=True)\n"
     ]
    }
   ],
   "source": [
    "# parameters\n",
    "for p in parameters:\n",
    "    print(p)"
   ]
  },
  {
   "cell_type": "markdown",
   "metadata": {
    "id": "5OdDszdd-kEr"
   },
   "source": [
    "*Remember, 1 neuron = a linear regression model. Let's prove this*"
   ]
  },
  {
   "cell_type": "code",
   "execution_count": 41,
   "metadata": {
    "colab": {
     "base_uri": "https://localhost:8080/"
    },
    "id": "xSO2v0Ic-kEv",
    "outputId": "0d123bcb-4369-45ad-e501-05ccaab49039"
   },
   "outputs": [
    {
     "name": "stdout",
     "output_type": "stream",
     "text": [
      "LR BCE score - Train : 0.1313614804724129\n",
      "LR BCE score - Valid : 0.10075098552648769\n",
      "Model parameters:\n",
      "[[ 0.17684949 -0.65831101  2.31951705  2.85735084]] [-3.71300588]\n"
     ]
    }
   ],
   "source": [
    "from sklearn.linear_model import LogisticRegression\n",
    "from sklearn.metrics import log_loss\n",
    "\n",
    "mdl_lr = LogisticRegression()\n",
    "mdl_lr.fit(Xs_train, ys_train.flatten())\n",
    "\n",
    "lr_train_score = log_loss(ys_train.flatten(), mdl_lr.predict_proba(Xs_train))\n",
    "lr_valid_score = log_loss(ys_valid.flatten(), mdl_lr.predict_proba(Xs_valid))\n",
    "\n",
    "print('LR BCE score - Train :', lr_train_score)\n",
    "print('LR BCE score - Valid :', lr_valid_score)\n",
    "print('Model parameters:')\n",
    "print(mdl_lr.coef_, mdl_lr.intercept_)"
   ]
  },
  {
   "cell_type": "markdown",
   "metadata": {
    "id": "asbSHvK-Jn7d"
   },
   "source": [
    "## **Task 9**\n",
    "---"
   ]
  },
  {
   "cell_type": "markdown",
   "metadata": {
    "id": "MgTkTK2pJn7e"
   },
   "source": [
    "- Let's perform a prediction with a Neural Network\n",
    "- Optimize your model parameter using Gradient Descent"
   ]
  },
  {
   "cell_type": "markdown",
   "metadata": {
    "id": "TYySgty5Jn7e"
   },
   "source": [
    "*Now, let's create a Neural Network*"
   ]
  },
  {
   "cell_type": "code",
   "execution_count": 42,
   "metadata": {
    "id": "6BvX08zoJn7f"
   },
   "outputs": [],
   "source": [
    "torch.manual_seed(123)\n",
    "\n",
    "# Neural Network model\n",
    "# 1 hidden layer, 6 neuron, TanH activation function\n",
    "layers = [\n",
    "    Linear(feature_in=4, feature_out=3, bias=True), Tanh(),\n",
    "    Linear(feature_in=3, feature_out=2, bias=True), Tanh(),\n",
    "    Linear(feature_in=2, feature_out=1, bias=True), Sigmoid()\n",
    "]\n",
    "\n",
    "# Create the model\n",
    "mdl_nn = Sequential(layers = layers)\n",
    "\n",
    "# Activate the computational graph gradient\n",
    "parameters = mdl_nn.parameters()\n",
    "for p in parameters:\n",
    "    p.requires_grad = True"
   ]
  },
  {
   "cell_type": "code",
   "execution_count": 43,
   "metadata": {
    "colab": {
     "base_uri": "https://localhost:8080/"
    },
    "id": "qu9BouS-Jn7f",
    "outputId": "dde65d2f-19fb-4f5b-dec7-16b1e78774a6"
   },
   "outputs": [
    {
     "name": "stdout",
     "output_type": "stream",
     "text": [
      "iter: 1 | loss: 0.5605\n",
      "iter: 101 | loss: 0.2672\n",
      "iter: 201 | loss: 0.1224\n",
      "iter: 301 | loss: 0.0854\n",
      "iter: 401 | loss: 0.0709\n",
      "iter: 501 | loss: 0.0634\n",
      "iter: 601 | loss: 0.0589\n",
      "iter: 701 | loss: 0.0561\n",
      "iter: 801 | loss: 0.0542\n",
      "iter: 901 | loss: 0.0529\n",
      "iter: 1000 | loss: 0.0519\n",
      "Neuron BCE score - Train : 0.051903866579838226\n",
      "Neuron BCE score - Valid : 0.026868168770742475\n"
     ]
    }
   ],
   "source": [
    "# Now, let's perform the Gradient Descent\n",
    "for k in range(1000):\n",
    "    # Do the forward pass to get prediction & loss\n",
    "    y_pred = mdl_nn(Xs_train)\n",
    "    loss = bce_loss(y_pred, ys_train)\n",
    "\n",
    "    # Do the backpropagation\n",
    "    # Always reset the parameter gradient every iterations\n",
    "    for p in parameters:\n",
    "        p.grad = None\n",
    "\n",
    "    # Then, do the backpropagation\n",
    "    loss.backward()\n",
    "\n",
    "    # Now, let's update the model\n",
    "    for p in parameters:\n",
    "        p.data += -0.1 * p.grad\n",
    "\n",
    "    # Print\n",
    "    if k==0 or k==999 or k%100==0:\n",
    "        print(f'iter: {k+1} | loss: {loss.item():.4f}')\n",
    "\n",
    "\n",
    "# Show final scores\n",
    "ys_train_pred = mdl_nn(Xs_train)\n",
    "ys_valid_pred = mdl_nn(Xs_valid)\n",
    "\n",
    "print('Neuron BCE score - Train :', bce_loss(ys_train_pred, ys_train).item())\n",
    "print('Neuron BCE score - Valid :', bce_loss(ys_valid_pred, ys_valid).item())"
   ]
  },
  {
   "cell_type": "markdown",
   "metadata": {
    "id": "_nC0S3kXJn7g"
   },
   "source": [
    "*Nice!, we have better train score, but beware of the model <u>overfit</u>*"
   ]
  },
  {
   "cell_type": "code",
   "execution_count": 44,
   "metadata": {
    "colab": {
     "base_uri": "https://localhost:8080/"
    },
    "id": "qRhX4jMAKYO9",
    "outputId": "4003c29d-40b8-43d6-8b98-c64dc1f3db56"
   },
   "outputs": [
    {
     "name": "stdout",
     "output_type": "stream",
     "text": [
      "tensor([[ 0.0273,  0.0479, -0.2666],\n",
      "        [ 0.3816, -0.5141, -0.1202],\n",
      "        [ 0.3994,  0.8258,  1.0110],\n",
      "        [ 0.8635,  0.6363,  0.8762]], dtype=torch.float64, requires_grad=True)\n",
      "tensor([-0.3125, -0.9622, -1.1401], dtype=torch.float64, requires_grad=True)\n",
      "tensor([[0.5149, 0.4075],\n",
      "        [1.2220, 1.2511],\n",
      "        [1.0370, 1.5978]], dtype=torch.float64, requires_grad=True)\n",
      "tensor([-0.3662, -0.5089], dtype=torch.float64, requires_grad=True)\n",
      "tensor([[2.4100],\n",
      "        [3.1106]], dtype=torch.float64, requires_grad=True)\n",
      "tensor([-0.4337], dtype=torch.float64, requires_grad=True)\n"
     ]
    }
   ],
   "source": [
    "# parameters\n",
    "for p in parameters:\n",
    "    print(p)"
   ]
  },
  {
   "cell_type": "markdown",
   "metadata": {
    "id": "mW2n9YHEJn7g"
   },
   "source": [
    "## **Exercise**\n",
    "---\n",
    "\n",
    "- Build your own Neural Network Model\n",
    "- You can design your own architecture\n",
    "- Compare the results with your initial"
   ]
  },
  {
   "cell_type": "code",
   "execution_count": 45,
   "metadata": {
    "id": "TS81BGY2Jn7h"
   },
   "outputs": [],
   "source": [
    "# Code here"
   ]
  }
 ],
 "metadata": {
  "colab": {
   "collapsed_sections": [
    "32P_tHNDxF51",
    "RNf-GyAlyQZ2",
    "03lc_jDzqmZu",
    "yRGZci4MyDuD",
    "cDGfGucjz3rI",
    "uoGp2mQj8fMt",
    "vOfwk0rP6706",
    "63iiJrtk8xrZ",
    "asbSHvK-Jn7d",
    "mW2n9YHEJn7g"
   ],
   "provenance": []
  },
  "kernelspec": {
   "display_name": "Python 3 (ipykernel)",
   "language": "python",
   "name": "python3"
  },
  "language_info": {
   "codemirror_mode": {
    "name": "ipython",
    "version": 3
   },
   "file_extension": ".py",
   "mimetype": "text/x-python",
   "name": "python",
   "nbconvert_exporter": "python",
   "pygments_lexer": "ipython3",
   "version": "3.10.14"
  }
 },
 "nbformat": 4,
 "nbformat_minor": 1
}
