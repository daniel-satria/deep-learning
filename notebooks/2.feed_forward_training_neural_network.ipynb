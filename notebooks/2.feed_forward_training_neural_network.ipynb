{
 "cells": [
  {
   "cell_type": "markdown",
   "metadata": {
    "id": "ph7uNCKt2XSL"
   },
   "source": [
    "# **2. Neural Network**\n"
   ]
  },
  {
   "cell_type": "markdown",
   "metadata": {
    "id": "2JwmCLbWdlcD"
   },
   "source": [
    "> This code is adapted from course **NN from Zero to Hero** - Andrej Karpathy\n",
    "\n",
    "- We want to create a neuron (a unit of Neural Network or a perceptron) and  Neural Network (or Multi Layer Perceptron)"
   ]
  },
  {
   "cell_type": "code",
   "execution_count": 1,
   "metadata": {
    "id": "MRu3KKQoechi"
   },
   "outputs": [],
   "source": [
    "# Run this library\n",
    "import math\n",
    "import random\n",
    "import numpy as np\n",
    "import matplotlib.pyplot as plt\n",
    "from graphviz import Digraph\n",
    "\n",
    "%matplotlib inline"
   ]
  },
  {
   "cell_type": "code",
   "execution_count": 2,
   "metadata": {
    "id": "FnqHVOJ8erO6"
   },
   "outputs": [],
   "source": [
    "def trace(root):\n",
    "    \"\"\"Trace all noeds and edges in a graph\"\"\"\n",
    "    nodes = set()\n",
    "    edges = set()\n",
    "\n",
    "    # A local function\n",
    "    def build(node):\n",
    "        # If node is not in nodes, then trace the node\n",
    "        if node not in nodes:\n",
    "            # Store node to nodes\n",
    "            nodes.add(node)\n",
    "\n",
    "            # Iterate to find child of previous nodes\n",
    "            for child in node._prev:\n",
    "                # Add edges that connect node & child\n",
    "                edges.add((child, node))\n",
    "\n",
    "                # Build the child node recursively\n",
    "                build(child)\n",
    "\n",
    "    # Start building the node recursively from the final node\n",
    "    build(root)\n",
    "\n",
    "    return nodes, edges\n",
    "\n",
    "def draw_dot(root):\n",
    "    \"\"\"Draw the computational graph by backtracing the operation\"\"\"\n",
    "    # Create a workspace\n",
    "    dot = Digraph(format='svg',\n",
    "                  graph_attr={'rankdir': 'LR'})\n",
    "\n",
    "    # Trace the nodes & edges from computational graph\n",
    "    nodes, edges = trace(root)\n",
    "\n",
    "    # Draw\n",
    "    for node_ in nodes:\n",
    "        uid = str(id(node_))\n",
    "\n",
    "        # Create a rectangular node\n",
    "        # ADD GRAD RESULTS in here\n",
    "        dot.node(name = uid,\n",
    "                 label = '{ %s | data %.4f | grad %.4f }' % (node_.label, node_.data, node_.grad),\n",
    "                 shape = 'record')\n",
    "\n",
    "        # Create operator (node & edge)\n",
    "        if node_._op:\n",
    "            # Create an operation node\n",
    "            dot.node(name = uid + node_._op,\n",
    "                     label = node_._op)\n",
    "\n",
    "            # Connect edge between operation nodes to next value nodes\n",
    "            dot.edge(tail_name = uid + node_._op,\n",
    "                     head_name = uid)\n",
    "\n",
    "    # Create edge for value nodes to operation nodes\n",
    "    for node_1, node_2 in edges:\n",
    "        dot.edge(tail_name = str(id(node_1)),\n",
    "                 head_name = str(id(node_2)) + node_2._op)\n",
    "\n",
    "    return dot\n"
   ]
  },
  {
   "cell_type": "markdown",
   "metadata": {
    "id": "ltzouPCb4pZS"
   },
   "source": [
    "## **Task 1**\n",
    "---"
   ]
  },
  {
   "cell_type": "markdown",
   "metadata": {
    "id": "Blpc9s9G5Uzu"
   },
   "source": [
    "- Update the previous `Value` Class\n",
    "- Add\n",
    "  - Power operation method\n",
    "  - Negation operation method, e.g. substraction, division\n",
    "  - Input defense on each numerical operation method\n",
    "  - Enabling the class to operate with scalar value, e.g.\n",
    "    - `3 + Value(4)`\n",
    "    - `4 * Value(5)`"
   ]
  },
  {
   "cell_type": "code",
   "execution_count": 3,
   "metadata": {
    "id": "OBNwVwMv2Jrf"
   },
   "outputs": [],
   "source": [
    "# Write your code here\n",
    "class Value:\n",
    "    def __init__(self, data, _children=(), _op='', label=''):\n",
    "        self.data = data\n",
    "        self._prev = set(_children)\n",
    "        self._op = _op\n",
    "        self.label = label\n",
    "\n",
    "        # For automatic differentiation\n",
    "        self.grad = 0.0\n",
    "        self._backward = lambda: None\n",
    "\n",
    "    def __repr__(self):\n",
    "        return f'Value(data={self.data})'\n",
    "\n",
    "    def __add__(self, other):\n",
    "        # Asser other type\n",
    "        other = other if isinstance(other, Value) else Value(other)\n",
    "\n",
    "        out = Value(data = self.data + other.data,\n",
    "                    _children = (self, other),\n",
    "                    _op = '+')\n",
    "\n",
    "        # Local grad function\n",
    "        def _backward():\n",
    "            self.grad += 1.0 * out.grad\n",
    "            other.grad += 1.0 * out.grad\n",
    "\n",
    "        # Call the local functions\n",
    "        out._backward = _backward\n",
    "\n",
    "        return out\n",
    "\n",
    "    def __mul__(self, other):\n",
    "        # Asser other type\n",
    "        other = other if isinstance(other, Value) else Value(other)\n",
    "\n",
    "        out = Value(data = self.data * other.data,\n",
    "                    _children = (self, other),\n",
    "                    _op = '*')\n",
    "\n",
    "        # Local grad function\n",
    "        def _backward():\n",
    "            # Say C = A * B\n",
    "            # A = self ; B = other\n",
    "\n",
    "            # This is dC / dA = B\n",
    "            self.grad += other.data * out.grad\n",
    "\n",
    "            # This is dC / dB = A\n",
    "            other.grad += self.data * out.grad\n",
    "\n",
    "        # Call the local functions\n",
    "        out._backward = _backward\n",
    "\n",
    "        return out\n",
    "\n",
    "    def __pow__(self, other):\n",
    "        # Asser other type\n",
    "        assert isinstance(other, (int, float)), \"Only support int/float powers\"\n",
    "\n",
    "        out = Value(data = self.data**other,\n",
    "                    _children = (self,),\n",
    "                    _op = f\"**{other}\")\n",
    "\n",
    "        def _backward():\n",
    "            self.grad += other * (self.data ** (other-1)) * out.grad\n",
    "        out._backward = _backward\n",
    "\n",
    "        return out\n",
    "\n",
    "    def __radd__(self, other):\n",
    "        # For other + Value()\n",
    "        return self + other\n",
    "\n",
    "    def __rmul__(self, other):\n",
    "        # For other * Value()\n",
    "        return self * other\n",
    "\n",
    "    def __truediv__(self, other):\n",
    "        # For Value() / other\n",
    "        return self * (other**-1)\n",
    "\n",
    "    def __neg__(self):\n",
    "        # For -Value()\n",
    "        return self * -1\n",
    "\n",
    "    def __sub__(self, other):\n",
    "        # For Value() - other\n",
    "        return self + (-other)\n",
    "\n",
    "    def __rsub__(self, other):\n",
    "        # For other - Value()\n",
    "        return other + (-self)\n",
    "\n",
    "    def backward(self):\n",
    "        # Initialize\n",
    "        topo = []\n",
    "        visited = set()\n",
    "\n",
    "        # create a function to build topology recursively\n",
    "        def build_topo(node):\n",
    "            if node not in visited:\n",
    "                # add node\n",
    "                visited.add(node)\n",
    "\n",
    "                # visit child recursively\n",
    "                for child in node._prev:\n",
    "                    build_topo(child)\n",
    "\n",
    "                # append node to topo\n",
    "                topo.append(node)\n",
    "\n",
    "        # Run the build_topo\n",
    "        build_topo(node = self)\n",
    "\n",
    "        # Run the backward operation\n",
    "        self.grad = 1.0\n",
    "        for node in reversed(topo):\n",
    "            node._backward()\n"
   ]
  },
  {
   "cell_type": "markdown",
   "metadata": {
    "id": "tX8dQLlvhRbi"
   },
   "source": [
    "Test the code"
   ]
  },
  {
   "cell_type": "code",
   "execution_count": 4,
   "metadata": {
    "colab": {
     "base_uri": "https://localhost:8080/"
    },
    "id": "IKsuCxglhNVb",
    "outputId": "6804d231-5352-44f4-baaa-f3b180351f84"
   },
   "outputs": [
    {
     "name": "stdout",
     "output_type": "stream",
     "text": [
      "Value(data=6.0)\n",
      "Value(data=2.0)\n",
      "Value(data=0.0)\n"
     ]
    }
   ],
   "source": [
    "a = Value(data=3.0, label='a')\n",
    "b = Value(data=4.0, label='b')\n",
    "\n",
    "# Perform calculation\n",
    "print(3 + a)        # should be 6\n",
    "print(b / 2)        # should be 2\n",
    "print(4 - b)        # should be 0"
   ]
  },
  {
   "cell_type": "code",
   "execution_count": 5,
   "metadata": {
    "colab": {
     "base_uri": "https://localhost:8080/"
    },
    "id": "6jhqXhNgiApR",
    "outputId": "7fd59de2-8d5a-4d88-c441-9c8d4011a4da"
   },
   "outputs": [
    {
     "name": "stdout",
     "output_type": "stream",
     "text": [
      "Value(data=16.0)\n"
     ]
    }
   ],
   "source": [
    "c = 8 - b; c.label='c'\n",
    "d = c**2; d.label='d'\n",
    "\n",
    "print(d)"
   ]
  },
  {
   "cell_type": "code",
   "execution_count": 6,
   "metadata": {
    "colab": {
     "base_uri": "https://localhost:8080/"
    },
    "id": "VL0VZ9V7ijVR",
    "outputId": "b4bad828-49d1-4ea1-876c-7da03d1b19b3"
   },
   "outputs": [
    {
     "data": {
      "image/svg+xml": [
       "<?xml version=\"1.0\" encoding=\"UTF-8\" standalone=\"no\"?>\n",
       "<!DOCTYPE svg PUBLIC \"-//W3C//DTD SVG 1.1//EN\"\n",
       " \"http://www.w3.org/Graphics/SVG/1.1/DTD/svg11.dtd\">\n",
       "<!-- Generated by graphviz version 2.43.0 (0)\n",
       " -->\n",
       "<!-- Title: %3 Pages: 1 -->\n",
       "<svg width=\"1321pt\" height=\"128pt\"\n",
       " viewBox=\"0.00 0.00 1321.00 128.00\" xmlns=\"http://www.w3.org/2000/svg\" xmlns:xlink=\"http://www.w3.org/1999/xlink\">\n",
       "<g id=\"graph0\" class=\"graph\" transform=\"scale(1 1) rotate(0) translate(4 124)\">\n",
       "<title>%3</title>\n",
       "<polygon fill=\"white\" stroke=\"transparent\" points=\"-4,4 -4,-124 1317,-124 1317,4 -4,4\"/>\n",
       "<!-- 139949698419200 -->\n",
       "<g id=\"node1\" class=\"node\">\n",
       "<title>139949698419200</title>\n",
       "<polygon fill=\"none\" stroke=\"black\" points=\"716,-27.5 716,-63.5 946,-63.5 946,-27.5 716,-27.5\"/>\n",
       "<text text-anchor=\"middle\" x=\"728\" y=\"-41.8\" font-family=\"Times,serif\" font-size=\"14.00\">c</text>\n",
       "<polyline fill=\"none\" stroke=\"black\" points=\"740,-27.5 740,-63.5 \"/>\n",
       "<text text-anchor=\"middle\" x=\"791\" y=\"-41.8\" font-family=\"Times,serif\" font-size=\"14.00\">data 4.0000</text>\n",
       "<polyline fill=\"none\" stroke=\"black\" points=\"842,-27.5 842,-63.5 \"/>\n",
       "<text text-anchor=\"middle\" x=\"894\" y=\"-41.8\" font-family=\"Times,serif\" font-size=\"14.00\">grad 0.0000</text>\n",
       "</g>\n",
       "<!-- 139949698418432**2 -->\n",
       "<g id=\"node5\" class=\"node\">\n",
       "<title>139949698418432**2</title>\n",
       "<ellipse fill=\"none\" stroke=\"black\" cx=\"1009\" cy=\"-45.5\" rx=\"27\" ry=\"18\"/>\n",
       "<text text-anchor=\"middle\" x=\"1009\" y=\"-41.8\" font-family=\"Times,serif\" font-size=\"14.00\">**2</text>\n",
       "</g>\n",
       "<!-- 139949698419200&#45;&gt;139949698418432**2 -->\n",
       "<g id=\"edge7\" class=\"edge\">\n",
       "<title>139949698419200&#45;&gt;139949698418432**2</title>\n",
       "<path fill=\"none\" stroke=\"black\" d=\"M946.44,-45.5C955.47,-45.5 964.09,-45.5 971.87,-45.5\"/>\n",
       "<polygon fill=\"black\" stroke=\"black\" points=\"971.91,-49 981.91,-45.5 971.91,-42 971.91,-49\"/>\n",
       "</g>\n",
       "<!-- 139949698419200+ -->\n",
       "<g id=\"node2\" class=\"node\">\n",
       "<title>139949698419200+</title>\n",
       "<ellipse fill=\"none\" stroke=\"black\" cx=\"653\" cy=\"-45.5\" rx=\"27\" ry=\"18\"/>\n",
       "<text text-anchor=\"middle\" x=\"653\" y=\"-41.8\" font-family=\"Times,serif\" font-size=\"14.00\">+</text>\n",
       "</g>\n",
       "<!-- 139949698419200+&#45;&gt;139949698419200 -->\n",
       "<g id=\"edge1\" class=\"edge\">\n",
       "<title>139949698419200+&#45;&gt;139949698419200</title>\n",
       "<path fill=\"none\" stroke=\"black\" d=\"M680.35,-45.5C687.74,-45.5 696.3,-45.5 705.51,-45.5\"/>\n",
       "<polygon fill=\"black\" stroke=\"black\" points=\"705.74,-49 715.74,-45.5 705.74,-42 705.74,-49\"/>\n",
       "</g>\n",
       "<!-- 139949698417856 -->\n",
       "<g id=\"node3\" class=\"node\">\n",
       "<title>139949698417856</title>\n",
       "<polygon fill=\"none\" stroke=\"black\" points=\"0,-83.5 0,-119.5 232,-119.5 232,-83.5 0,-83.5\"/>\n",
       "<text text-anchor=\"middle\" x=\"13\" y=\"-97.8\" font-family=\"Times,serif\" font-size=\"14.00\">b</text>\n",
       "<polyline fill=\"none\" stroke=\"black\" points=\"26,-83.5 26,-119.5 \"/>\n",
       "<text text-anchor=\"middle\" x=\"77\" y=\"-97.8\" font-family=\"Times,serif\" font-size=\"14.00\">data 4.0000</text>\n",
       "<polyline fill=\"none\" stroke=\"black\" points=\"128,-83.5 128,-119.5 \"/>\n",
       "<text text-anchor=\"middle\" x=\"180\" y=\"-97.8\" font-family=\"Times,serif\" font-size=\"14.00\">grad 0.0000</text>\n",
       "</g>\n",
       "<!-- 139949698431776* -->\n",
       "<g id=\"node7\" class=\"node\">\n",
       "<title>139949698431776*</title>\n",
       "<ellipse fill=\"none\" stroke=\"black\" cx=\"295\" cy=\"-73.5\" rx=\"27\" ry=\"18\"/>\n",
       "<text text-anchor=\"middle\" x=\"295\" y=\"-69.8\" font-family=\"Times,serif\" font-size=\"14.00\">*</text>\n",
       "</g>\n",
       "<!-- 139949698417856&#45;&gt;139949698431776* -->\n",
       "<g id=\"edge5\" class=\"edge\">\n",
       "<title>139949698417856&#45;&gt;139949698431776*</title>\n",
       "<path fill=\"none\" stroke=\"black\" d=\"M231.1,-83.45C240.88,-81.9 250.21,-80.43 258.54,-79.11\"/>\n",
       "<polygon fill=\"black\" stroke=\"black\" points=\"259.19,-82.55 268.52,-77.53 258.1,-75.64 259.19,-82.55\"/>\n",
       "</g>\n",
       "<!-- 139949698418432 -->\n",
       "<g id=\"node4\" class=\"node\">\n",
       "<title>139949698418432</title>\n",
       "<polygon fill=\"none\" stroke=\"black\" points=\"1072,-27.5 1072,-63.5 1313,-63.5 1313,-27.5 1072,-27.5\"/>\n",
       "<text text-anchor=\"middle\" x=\"1085\" y=\"-41.8\" font-family=\"Times,serif\" font-size=\"14.00\">d</text>\n",
       "<polyline fill=\"none\" stroke=\"black\" points=\"1098,-27.5 1098,-63.5 \"/>\n",
       "<text text-anchor=\"middle\" x=\"1153.5\" y=\"-41.8\" font-family=\"Times,serif\" font-size=\"14.00\">data 16.0000</text>\n",
       "<polyline fill=\"none\" stroke=\"black\" points=\"1209,-27.5 1209,-63.5 \"/>\n",
       "<text text-anchor=\"middle\" x=\"1261\" y=\"-41.8\" font-family=\"Times,serif\" font-size=\"14.00\">grad 0.0000</text>\n",
       "</g>\n",
       "<!-- 139949698418432**2&#45;&gt;139949698418432 -->\n",
       "<g id=\"edge2\" class=\"edge\">\n",
       "<title>139949698418432**2&#45;&gt;139949698418432</title>\n",
       "<path fill=\"none\" stroke=\"black\" d=\"M1036,-45.5C1043.5,-45.5 1052.22,-45.5 1061.64,-45.5\"/>\n",
       "<polygon fill=\"black\" stroke=\"black\" points=\"1061.68,-49 1071.68,-45.5 1061.68,-42 1061.68,-49\"/>\n",
       "</g>\n",
       "<!-- 139949698431776 -->\n",
       "<g id=\"node6\" class=\"node\">\n",
       "<title>139949698431776</title>\n",
       "<polygon fill=\"none\" stroke=\"black\" points=\"358,-55.5 358,-91.5 590,-91.5 590,-55.5 358,-55.5\"/>\n",
       "<text text-anchor=\"middle\" x=\"368.5\" y=\"-69.8\" font-family=\"Times,serif\" font-size=\"14.00\"> </text>\n",
       "<polyline fill=\"none\" stroke=\"black\" points=\"379,-55.5 379,-91.5 \"/>\n",
       "<text text-anchor=\"middle\" x=\"432.5\" y=\"-69.8\" font-family=\"Times,serif\" font-size=\"14.00\">data &#45;4.0000</text>\n",
       "<polyline fill=\"none\" stroke=\"black\" points=\"486,-55.5 486,-91.5 \"/>\n",
       "<text text-anchor=\"middle\" x=\"538\" y=\"-69.8\" font-family=\"Times,serif\" font-size=\"14.00\">grad 0.0000</text>\n",
       "</g>\n",
       "<!-- 139949698431776&#45;&gt;139949698419200+ -->\n",
       "<g id=\"edge4\" class=\"edge\">\n",
       "<title>139949698431776&#45;&gt;139949698419200+</title>\n",
       "<path fill=\"none\" stroke=\"black\" d=\"M589.1,-55.45C598.88,-53.9 608.21,-52.43 616.54,-51.11\"/>\n",
       "<polygon fill=\"black\" stroke=\"black\" points=\"617.19,-54.55 626.52,-49.53 616.1,-47.64 617.19,-54.55\"/>\n",
       "</g>\n",
       "<!-- 139949698431776*&#45;&gt;139949698431776 -->\n",
       "<g id=\"edge3\" class=\"edge\">\n",
       "<title>139949698431776*&#45;&gt;139949698431776</title>\n",
       "<path fill=\"none\" stroke=\"black\" d=\"M322.12,-73.5C329.53,-73.5 338.14,-73.5 347.4,-73.5\"/>\n",
       "<polygon fill=\"black\" stroke=\"black\" points=\"347.69,-77 357.69,-73.5 347.69,-70 347.69,-77\"/>\n",
       "</g>\n",
       "<!-- 139949698419104 -->\n",
       "<g id=\"node8\" class=\"node\">\n",
       "<title>139949698419104</title>\n",
       "<polygon fill=\"none\" stroke=\"black\" points=\"360.5,-0.5 360.5,-36.5 587.5,-36.5 587.5,-0.5 360.5,-0.5\"/>\n",
       "<text text-anchor=\"middle\" x=\"371\" y=\"-14.8\" font-family=\"Times,serif\" font-size=\"14.00\"> </text>\n",
       "<polyline fill=\"none\" stroke=\"black\" points=\"381.5,-0.5 381.5,-36.5 \"/>\n",
       "<text text-anchor=\"middle\" x=\"432.5\" y=\"-14.8\" font-family=\"Times,serif\" font-size=\"14.00\">data 8.0000</text>\n",
       "<polyline fill=\"none\" stroke=\"black\" points=\"483.5,-0.5 483.5,-36.5 \"/>\n",
       "<text text-anchor=\"middle\" x=\"535.5\" y=\"-14.8\" font-family=\"Times,serif\" font-size=\"14.00\">grad 0.0000</text>\n",
       "</g>\n",
       "<!-- 139949698419104&#45;&gt;139949698419200+ -->\n",
       "<g id=\"edge8\" class=\"edge\">\n",
       "<title>139949698419104&#45;&gt;139949698419200+</title>\n",
       "<path fill=\"none\" stroke=\"black\" d=\"M587.6,-35.68C597.87,-37.24 607.68,-38.74 616.4,-40.07\"/>\n",
       "<polygon fill=\"black\" stroke=\"black\" points=\"616.05,-43.56 626.47,-41.61 617.11,-36.64 616.05,-43.56\"/>\n",
       "</g>\n",
       "<!-- 139949698431920 -->\n",
       "<g id=\"node9\" class=\"node\">\n",
       "<title>139949698431920</title>\n",
       "<polygon fill=\"none\" stroke=\"black\" points=\"0,-28.5 0,-64.5 232,-64.5 232,-28.5 0,-28.5\"/>\n",
       "<text text-anchor=\"middle\" x=\"10.5\" y=\"-42.8\" font-family=\"Times,serif\" font-size=\"14.00\"> </text>\n",
       "<polyline fill=\"none\" stroke=\"black\" points=\"21,-28.5 21,-64.5 \"/>\n",
       "<text text-anchor=\"middle\" x=\"74.5\" y=\"-42.8\" font-family=\"Times,serif\" font-size=\"14.00\">data &#45;1.0000</text>\n",
       "<polyline fill=\"none\" stroke=\"black\" points=\"128,-28.5 128,-64.5 \"/>\n",
       "<text text-anchor=\"middle\" x=\"180\" y=\"-42.8\" font-family=\"Times,serif\" font-size=\"14.00\">grad 0.0000</text>\n",
       "</g>\n",
       "<!-- 139949698431920&#45;&gt;139949698431776* -->\n",
       "<g id=\"edge6\" class=\"edge\">\n",
       "<title>139949698431920&#45;&gt;139949698431776*</title>\n",
       "<path fill=\"none\" stroke=\"black\" d=\"M232.09,-64.06C241.46,-65.49 250.39,-66.85 258.4,-68.07\"/>\n",
       "<polygon fill=\"black\" stroke=\"black\" points=\"257.96,-71.54 268.37,-69.59 259.01,-64.62 257.96,-71.54\"/>\n",
       "</g>\n",
       "</g>\n",
       "</svg>\n"
      ],
      "text/plain": [
       "<graphviz.graphs.Digraph at 0x7f48940f9150>"
      ]
     },
     "execution_count": 6,
     "metadata": {},
     "output_type": "execute_result"
    }
   ],
   "source": [
    "draw_dot(d)"
   ]
  },
  {
   "cell_type": "markdown",
   "metadata": {
    "id": "Sx9uTbk2h-If"
   },
   "source": [
    "## **Task 2**\n",
    "---"
   ]
  },
  {
   "cell_type": "markdown",
   "metadata": {
    "id": "0NMCd8MKh-Ii"
   },
   "source": [
    "- Update `Value` class to have some activation function operations & its derivative, i.e.\n",
    "  - Exp\n",
    "  - Sigmoid\n",
    "  - TanH"
   ]
  },
  {
   "cell_type": "markdown",
   "metadata": {
    "id": "OlHROJKikl4A"
   },
   "source": [
    "**Exponential**\n",
    "\n",
    "- The formula\n",
    "$$\n",
    "y = \\exp(x)\n",
    "$$\n",
    "\n",
    "- The derivative\n",
    "$$\n",
    "\\cfrac{\\partial \\ y}{\\partial x} = \\exp(x)\n",
    "$$"
   ]
  },
  {
   "cell_type": "markdown",
   "metadata": {
    "id": "4Jn5PHGslmAq"
   },
   "source": [
    "**Sigmoid**\n",
    "\n",
    "- The formula\n",
    "$$\n",
    "\\sigma(x) = \\cfrac{\\exp(x)}{\\exp(x)+1}\n",
    "$$\n",
    "\n",
    "- The derivative\n",
    "$$\n",
    "\\cfrac{\\partial \\ \\sigma(x)}{\\partial x} = \\sigma(x) (1 - \\sigma(x))\n",
    "$$"
   ]
  },
  {
   "cell_type": "markdown",
   "metadata": {
    "id": "ezsN3AqhmtWB"
   },
   "source": [
    "**Tanh**\n",
    "\n",
    "- The formula\n",
    "$$\n",
    "\\tanh(x) = \\cfrac{\\exp(2x) - 1}{\\exp(2x) + 1}\n",
    "$$\n",
    "\n",
    "- The derivative\n",
    "$$\n",
    "\\cfrac{\\partial \\ \\tanh(x)}{\\partial x} = 1 - \\tanh^{2}(x)\n",
    "$$"
   ]
  },
  {
   "cell_type": "code",
   "execution_count": 7,
   "metadata": {
    "id": "2FXiXEcohgUA"
   },
   "outputs": [],
   "source": [
    "# Write your code here\n",
    "class Value:\n",
    "    def __init__(self, data, _children=(), _op='', label=''):\n",
    "        self.data = data\n",
    "        self._prev = set(_children)\n",
    "        self._op = _op\n",
    "        self.label = label\n",
    "\n",
    "        # For automatic differentiation\n",
    "        self.grad = 0.0\n",
    "        self._backward = lambda: None\n",
    "\n",
    "    def __repr__(self):\n",
    "        return f'Value(data={self.data})'\n",
    "\n",
    "    def __add__(self, other):\n",
    "        # Asser other type\n",
    "        other = other if isinstance(other, Value) else Value(other)\n",
    "\n",
    "        out = Value(data = self.data + other.data,\n",
    "                    _children = (self, other),\n",
    "                    _op = '+')\n",
    "\n",
    "        # Local grad function\n",
    "        def _backward():\n",
    "            self.grad += 1.0 * out.grad\n",
    "            other.grad += 1.0 * out.grad\n",
    "\n",
    "        # Call the local functions\n",
    "        out._backward = _backward\n",
    "\n",
    "        return out\n",
    "\n",
    "    def __mul__(self, other):\n",
    "        # Asser other type\n",
    "        other = other if isinstance(other, Value) else Value(other)\n",
    "\n",
    "        out = Value(data = self.data * other.data,\n",
    "                    _children = (self, other),\n",
    "                    _op = '*')\n",
    "\n",
    "        # Local grad function\n",
    "        def _backward():\n",
    "            # Say C = A * B\n",
    "            # A = self ; B = other\n",
    "\n",
    "            # This is dC / dA = B\n",
    "            self.grad += other.data * out.grad\n",
    "\n",
    "            # This is dC / dB = A\n",
    "            other.grad += self.data * out.grad\n",
    "\n",
    "        # Call the local functions\n",
    "        out._backward = _backward\n",
    "\n",
    "        return out\n",
    "\n",
    "    def __pow__(self, other):\n",
    "        # Asser other type\n",
    "        assert isinstance(other, (int, float)), \"Only support int/float powers\"\n",
    "\n",
    "        out = Value(data = self.data**other,\n",
    "                    _children = (self,),\n",
    "                    _op = f\"**{other}\")\n",
    "\n",
    "        def _backward():\n",
    "            self.grad += other * (self.data ** (other-1)) * out.grad\n",
    "        out._backward = _backward\n",
    "\n",
    "        return out\n",
    "\n",
    "    def __radd__(self, other):\n",
    "        # For other + Value()\n",
    "        return self + other\n",
    "\n",
    "    def __rmul__(self, other):\n",
    "        # For other * Value()\n",
    "        return self * other\n",
    "\n",
    "    def __truediv__(self, other):\n",
    "        # For Value() / other\n",
    "        return self * (other**-1)\n",
    "\n",
    "    def __neg__(self):\n",
    "        # For -Value()\n",
    "        return self * -1\n",
    "\n",
    "    def __sub__(self, other):\n",
    "        # For Value() - other\n",
    "        return self + (-other)\n",
    "\n",
    "    def __rsub__(self, other):\n",
    "        # For other - Value()\n",
    "        return other + (-self)\n",
    "\n",
    "    def exp(self):\n",
    "        \"\"\"return exp(self)\"\"\"\n",
    "        x = self.data\n",
    "        out = Value(data = math.exp(x),\n",
    "                    _children = (self,),\n",
    "                    _op = 'exp')\n",
    "\n",
    "        def _backward():\n",
    "            self.grad += out.data * out.grad\n",
    "        out._backward = _backward\n",
    "\n",
    "        return out\n",
    "\n",
    "    def sigmoid(self):\n",
    "        \"\"\"return sigmoid(self)\"\"\"\n",
    "        x = self.data\n",
    "        exp_x = math.exp(x)\n",
    "        sigmoid_x = exp_x / (exp_x + 1.)\n",
    "        out = Value(data = sigmoid_x,\n",
    "                    _children = (self,),\n",
    "                    _op = 'sigmoid')\n",
    "\n",
    "        def _backward():\n",
    "            self.grad += (sigmoid_x) * (1 - sigmoid_x) * out.grad\n",
    "        out._backward = _backward\n",
    "\n",
    "        return out\n",
    "\n",
    "    def tanh(self):\n",
    "        \"\"\"return tanh(self)\"\"\"\n",
    "        x = self.data\n",
    "        exp_2x = math.exp(2*x)\n",
    "        tanh_x = (exp_2x - 1.) / (exp_2x + 1.)\n",
    "        out = Value(data = tanh_x,\n",
    "                    _children = (self,),\n",
    "                    _op = 'tanh')\n",
    "\n",
    "        def _backward():\n",
    "            self.grad += (1 - tanh_x**2) * out.grad\n",
    "        out._backward = _backward\n",
    "\n",
    "        return out\n",
    "\n",
    "    def backward(self):\n",
    "        # Initialize\n",
    "        topo = []\n",
    "        visited = set()\n",
    "\n",
    "        # create a function to build topology recursively\n",
    "        def build_topo(node):\n",
    "            if node not in visited:\n",
    "                # add node\n",
    "                visited.add(node)\n",
    "\n",
    "                # visit child recursively\n",
    "                for child in node._prev:\n",
    "                    build_topo(child)\n",
    "\n",
    "                # append node to topo\n",
    "                topo.append(node)\n",
    "\n",
    "        # Run the build_topo\n",
    "        build_topo(node = self)\n",
    "\n",
    "        # Run the backward operation\n",
    "        self.grad = 1.0\n",
    "        for node in reversed(topo):\n",
    "            node._backward()\n"
   ]
  },
  {
   "cell_type": "markdown",
   "metadata": {
    "id": "3eLxYZTwoxCj"
   },
   "source": [
    "Test the code"
   ]
  },
  {
   "cell_type": "code",
   "execution_count": 8,
   "metadata": {
    "colab": {
     "base_uri": "https://localhost:8080/"
    },
    "id": "I5x7Qe65sIzz",
    "outputId": "bb3b0663-b93a-4a50-cab7-38b1f531e1e8"
   },
   "outputs": [
    {
     "name": "stdout",
     "output_type": "stream",
     "text": [
      "Value(data=2.718281828459045)\n",
      "Value(data=0.7615941559557649)\n",
      "Value(data=0.7310585786300049)\n"
     ]
    }
   ],
   "source": [
    "# Simple test\n",
    "a = Value(data=1.0, label='a')\n",
    "\n",
    "print(a.exp())      # It should be 2.718\n",
    "print(a.tanh())     # It should be 0.762\n",
    "print(a.sigmoid())  # It should be 0.731"
   ]
  },
  {
   "cell_type": "code",
   "execution_count": 9,
   "metadata": {
    "colab": {
     "base_uri": "https://localhost:8080/"
    },
    "id": "GPuSlXdvnnDq",
    "outputId": "643d177c-f35e-45af-b8e1-bcade342c55c"
   },
   "outputs": [
    {
     "name": "stdout",
     "output_type": "stream",
     "text": [
      "Value(data=0.7064193203972352)\n"
     ]
    }
   ],
   "source": [
    "# A simple Neuron with TanH activation function\n",
    "x1 = Value(data=2.0, label='x1')\n",
    "x2 = Value(data=0.0, label='x2')\n",
    "w1 = Value(data=-3.0, label='w1')\n",
    "w2 = Value(data=1.0, label='w2')\n",
    "b = Value(data=6.88, label='b')\n",
    "\n",
    "n = x1*w1 + x2*w2 + b; n.label='pre'\n",
    "o = n.tanh(); o.label='o'\n",
    "\n",
    "print(o)    # should be 0.707"
   ]
  },
  {
   "cell_type": "code",
   "execution_count": 10,
   "metadata": {
    "colab": {
     "base_uri": "https://localhost:8080/"
    },
    "id": "nLM5CHRwpRzG",
    "outputId": "eb1b38a4-10b0-4fdc-edeb-0da2e5cc9b3c"
   },
   "outputs": [
    {
     "data": {
      "image/svg+xml": [
       "<?xml version=\"1.0\" encoding=\"UTF-8\" standalone=\"no\"?>\n",
       "<!DOCTYPE svg PUBLIC \"-//W3C//DTD SVG 1.1//EN\"\n",
       " \"http://www.w3.org/Graphics/SVG/1.1/DTD/svg11.dtd\">\n",
       "<!-- Generated by graphviz version 2.43.0 (0)\n",
       " -->\n",
       "<!-- Title: %3 Pages: 1 -->\n",
       "<svg width=\"1713pt\" height=\"210pt\"\n",
       " viewBox=\"0.00 0.00 1712.69 210.00\" xmlns=\"http://www.w3.org/2000/svg\" xmlns:xlink=\"http://www.w3.org/1999/xlink\">\n",
       "<g id=\"graph0\" class=\"graph\" transform=\"scale(1 1) rotate(0) translate(4 206)\">\n",
       "<title>%3</title>\n",
       "<polygon fill=\"white\" stroke=\"transparent\" points=\"-4,4 -4,-206 1708.69,-206 1708.69,4 -4,4\"/>\n",
       "<!-- 139949698590720 -->\n",
       "<g id=\"node1\" class=\"node\">\n",
       "<title>139949698590720</title>\n",
       "<polygon fill=\"none\" stroke=\"black\" points=\"377.5,-55.5 377.5,-91.5 604.5,-91.5 604.5,-55.5 377.5,-55.5\"/>\n",
       "<text text-anchor=\"middle\" x=\"388\" y=\"-69.8\" font-family=\"Times,serif\" font-size=\"14.00\"> </text>\n",
       "<polyline fill=\"none\" stroke=\"black\" points=\"398.5,-55.5 398.5,-91.5 \"/>\n",
       "<text text-anchor=\"middle\" x=\"449.5\" y=\"-69.8\" font-family=\"Times,serif\" font-size=\"14.00\">data 0.0000</text>\n",
       "<polyline fill=\"none\" stroke=\"black\" points=\"500.5,-55.5 500.5,-91.5 \"/>\n",
       "<text text-anchor=\"middle\" x=\"552.5\" y=\"-69.8\" font-family=\"Times,serif\" font-size=\"14.00\">grad 0.0000</text>\n",
       "</g>\n",
       "<!-- 139949698593120+ -->\n",
       "<g id=\"node14\" class=\"node\">\n",
       "<title>139949698593120+</title>\n",
       "<ellipse fill=\"none\" stroke=\"black\" cx=\"670\" cy=\"-100.5\" rx=\"27\" ry=\"18\"/>\n",
       "<text text-anchor=\"middle\" x=\"670\" y=\"-96.8\" font-family=\"Times,serif\" font-size=\"14.00\">+</text>\n",
       "</g>\n",
       "<!-- 139949698590720&#45;&gt;139949698593120+ -->\n",
       "<g id=\"edge12\" class=\"edge\">\n",
       "<title>139949698590720&#45;&gt;139949698593120+</title>\n",
       "<path fill=\"none\" stroke=\"black\" d=\"M604.6,-90.68C614.87,-92.24 624.68,-93.74 633.4,-95.07\"/>\n",
       "<polygon fill=\"black\" stroke=\"black\" points=\"633.05,-98.56 643.47,-96.61 634.11,-91.64 633.05,-98.56\"/>\n",
       "</g>\n",
       "<!-- 139949698590720* -->\n",
       "<g id=\"node2\" class=\"node\">\n",
       "<title>139949698590720*</title>\n",
       "<ellipse fill=\"none\" stroke=\"black\" cx=\"312\" cy=\"-73.5\" rx=\"27\" ry=\"18\"/>\n",
       "<text text-anchor=\"middle\" x=\"312\" y=\"-69.8\" font-family=\"Times,serif\" font-size=\"14.00\">*</text>\n",
       "</g>\n",
       "<!-- 139949698590720*&#45;&gt;139949698590720 -->\n",
       "<g id=\"edge1\" class=\"edge\">\n",
       "<title>139949698590720*&#45;&gt;139949698590720</title>\n",
       "<path fill=\"none\" stroke=\"black\" d=\"M339.12,-73.5C347.28,-73.5 356.88,-73.5 367.22,-73.5\"/>\n",
       "<polygon fill=\"black\" stroke=\"black\" points=\"367.34,-77 377.34,-73.5 367.34,-70 367.34,-77\"/>\n",
       "</g>\n",
       "<!-- 139949700099104 -->\n",
       "<g id=\"node3\" class=\"node\">\n",
       "<title>139949700099104</title>\n",
       "<polygon fill=\"none\" stroke=\"black\" points=\"4.5,-55.5 4.5,-91.5 244.5,-91.5 244.5,-55.5 4.5,-55.5\"/>\n",
       "<text text-anchor=\"middle\" x=\"21.5\" y=\"-69.8\" font-family=\"Times,serif\" font-size=\"14.00\">x2</text>\n",
       "<polyline fill=\"none\" stroke=\"black\" points=\"38.5,-55.5 38.5,-91.5 \"/>\n",
       "<text text-anchor=\"middle\" x=\"89.5\" y=\"-69.8\" font-family=\"Times,serif\" font-size=\"14.00\">data 0.0000</text>\n",
       "<polyline fill=\"none\" stroke=\"black\" points=\"140.5,-55.5 140.5,-91.5 \"/>\n",
       "<text text-anchor=\"middle\" x=\"192.5\" y=\"-69.8\" font-family=\"Times,serif\" font-size=\"14.00\">grad 0.0000</text>\n",
       "</g>\n",
       "<!-- 139949700099104&#45;&gt;139949698590720* -->\n",
       "<g id=\"edge13\" class=\"edge\">\n",
       "<title>139949700099104&#45;&gt;139949698590720*</title>\n",
       "<path fill=\"none\" stroke=\"black\" d=\"M244.55,-73.5C255.31,-73.5 265.54,-73.5 274.62,-73.5\"/>\n",
       "<polygon fill=\"black\" stroke=\"black\" points=\"274.7,-77 284.7,-73.5 274.7,-70 274.7,-77\"/>\n",
       "</g>\n",
       "<!-- 139949698593312 -->\n",
       "<g id=\"node4\" class=\"node\">\n",
       "<title>139949698593312</title>\n",
       "<polygon fill=\"none\" stroke=\"black\" points=\"375,-110.5 375,-146.5 607,-146.5 607,-110.5 375,-110.5\"/>\n",
       "<text text-anchor=\"middle\" x=\"385.5\" y=\"-124.8\" font-family=\"Times,serif\" font-size=\"14.00\"> </text>\n",
       "<polyline fill=\"none\" stroke=\"black\" points=\"396,-110.5 396,-146.5 \"/>\n",
       "<text text-anchor=\"middle\" x=\"449.5\" y=\"-124.8\" font-family=\"Times,serif\" font-size=\"14.00\">data &#45;6.0000</text>\n",
       "<polyline fill=\"none\" stroke=\"black\" points=\"503,-110.5 503,-146.5 \"/>\n",
       "<text text-anchor=\"middle\" x=\"555\" y=\"-124.8\" font-family=\"Times,serif\" font-size=\"14.00\">grad 0.0000</text>\n",
       "</g>\n",
       "<!-- 139949698593312&#45;&gt;139949698593120+ -->\n",
       "<g id=\"edge8\" class=\"edge\">\n",
       "<title>139949698593312&#45;&gt;139949698593120+</title>\n",
       "<path fill=\"none\" stroke=\"black\" d=\"M606.1,-110.45C615.88,-108.9 625.21,-107.43 633.54,-106.11\"/>\n",
       "<polygon fill=\"black\" stroke=\"black\" points=\"634.19,-109.55 643.52,-104.53 633.1,-102.64 634.19,-109.55\"/>\n",
       "</g>\n",
       "<!-- 139949698593312* -->\n",
       "<g id=\"node5\" class=\"node\">\n",
       "<title>139949698593312*</title>\n",
       "<ellipse fill=\"none\" stroke=\"black\" cx=\"312\" cy=\"-128.5\" rx=\"27\" ry=\"18\"/>\n",
       "<text text-anchor=\"middle\" x=\"312\" y=\"-124.8\" font-family=\"Times,serif\" font-size=\"14.00\">*</text>\n",
       "</g>\n",
       "<!-- 139949698593312*&#45;&gt;139949698593312 -->\n",
       "<g id=\"edge2\" class=\"edge\">\n",
       "<title>139949698593312*&#45;&gt;139949698593312</title>\n",
       "<path fill=\"none\" stroke=\"black\" d=\"M339.12,-128.5C346.53,-128.5 355.14,-128.5 364.4,-128.5\"/>\n",
       "<polygon fill=\"black\" stroke=\"black\" points=\"364.69,-132 374.69,-128.5 364.69,-125 364.69,-132\"/>\n",
       "</g>\n",
       "<!-- 139949698591296 -->\n",
       "<g id=\"node6\" class=\"node\">\n",
       "<title>139949698591296</title>\n",
       "<polygon fill=\"none\" stroke=\"black\" points=\"4.5,-165.5 4.5,-201.5 244.5,-201.5 244.5,-165.5 4.5,-165.5\"/>\n",
       "<text text-anchor=\"middle\" x=\"21.5\" y=\"-179.8\" font-family=\"Times,serif\" font-size=\"14.00\">x1</text>\n",
       "<polyline fill=\"none\" stroke=\"black\" points=\"38.5,-165.5 38.5,-201.5 \"/>\n",
       "<text text-anchor=\"middle\" x=\"89.5\" y=\"-179.8\" font-family=\"Times,serif\" font-size=\"14.00\">data 2.0000</text>\n",
       "<polyline fill=\"none\" stroke=\"black\" points=\"140.5,-165.5 140.5,-201.5 \"/>\n",
       "<text text-anchor=\"middle\" x=\"192.5\" y=\"-179.8\" font-family=\"Times,serif\" font-size=\"14.00\">grad 0.0000</text>\n",
       "</g>\n",
       "<!-- 139949698591296&#45;&gt;139949698593312* -->\n",
       "<g id=\"edge9\" class=\"edge\">\n",
       "<title>139949698591296&#45;&gt;139949698593312*</title>\n",
       "<path fill=\"none\" stroke=\"black\" d=\"M218.13,-165.46C228.63,-162.77 239.1,-159.78 249,-156.5 259.71,-152.96 271.05,-148.16 281.07,-143.54\"/>\n",
       "<polygon fill=\"black\" stroke=\"black\" points=\"282.67,-146.66 290.2,-139.21 279.67,-140.33 282.67,-146.66\"/>\n",
       "</g>\n",
       "<!-- 139949698583664 -->\n",
       "<g id=\"node7\" class=\"node\">\n",
       "<title>139949698583664</title>\n",
       "<polygon fill=\"none\" stroke=\"black\" points=\"1473.69,-109.5 1473.69,-145.5 1704.69,-145.5 1704.69,-109.5 1473.69,-109.5\"/>\n",
       "<text text-anchor=\"middle\" x=\"1486.19\" y=\"-123.8\" font-family=\"Times,serif\" font-size=\"14.00\">o</text>\n",
       "<polyline fill=\"none\" stroke=\"black\" points=\"1498.69,-109.5 1498.69,-145.5 \"/>\n",
       "<text text-anchor=\"middle\" x=\"1549.69\" y=\"-123.8\" font-family=\"Times,serif\" font-size=\"14.00\">data 0.7064</text>\n",
       "<polyline fill=\"none\" stroke=\"black\" points=\"1600.69,-109.5 1600.69,-145.5 \"/>\n",
       "<text text-anchor=\"middle\" x=\"1652.69\" y=\"-123.8\" font-family=\"Times,serif\" font-size=\"14.00\">grad 0.0000</text>\n",
       "</g>\n",
       "<!-- 139949698583664tanh -->\n",
       "<g id=\"node8\" class=\"node\">\n",
       "<title>139949698583664tanh</title>\n",
       "<ellipse fill=\"none\" stroke=\"black\" cx=\"1405.85\" cy=\"-127.5\" rx=\"31.7\" ry=\"18\"/>\n",
       "<text text-anchor=\"middle\" x=\"1405.85\" y=\"-123.8\" font-family=\"Times,serif\" font-size=\"14.00\">tanh</text>\n",
       "</g>\n",
       "<!-- 139949698583664tanh&#45;&gt;139949698583664 -->\n",
       "<g id=\"edge3\" class=\"edge\">\n",
       "<title>139949698583664tanh&#45;&gt;139949698583664</title>\n",
       "<path fill=\"none\" stroke=\"black\" d=\"M1438.02,-127.5C1445.61,-127.5 1454.19,-127.5 1463.31,-127.5\"/>\n",
       "<polygon fill=\"black\" stroke=\"black\" points=\"1463.4,-131 1473.4,-127.5 1463.4,-124 1463.4,-131\"/>\n",
       "</g>\n",
       "<!-- 139949698588848 -->\n",
       "<g id=\"node9\" class=\"node\">\n",
       "<title>139949698588848</title>\n",
       "<polygon fill=\"none\" stroke=\"black\" points=\"2.5,-0.5 2.5,-36.5 246.5,-36.5 246.5,-0.5 2.5,-0.5\"/>\n",
       "<text text-anchor=\"middle\" x=\"21.5\" y=\"-14.8\" font-family=\"Times,serif\" font-size=\"14.00\">w2</text>\n",
       "<polyline fill=\"none\" stroke=\"black\" points=\"40.5,-0.5 40.5,-36.5 \"/>\n",
       "<text text-anchor=\"middle\" x=\"91.5\" y=\"-14.8\" font-family=\"Times,serif\" font-size=\"14.00\">data 1.0000</text>\n",
       "<polyline fill=\"none\" stroke=\"black\" points=\"142.5,-0.5 142.5,-36.5 \"/>\n",
       "<text text-anchor=\"middle\" x=\"194.5\" y=\"-14.8\" font-family=\"Times,serif\" font-size=\"14.00\">grad 0.0000</text>\n",
       "</g>\n",
       "<!-- 139949698588848&#45;&gt;139949698590720* -->\n",
       "<g id=\"edge6\" class=\"edge\">\n",
       "<title>139949698588848&#45;&gt;139949698590720*</title>\n",
       "<path fill=\"none\" stroke=\"black\" d=\"M214.42,-36.55C226.15,-39.54 237.93,-42.87 249,-46.5 259.46,-49.93 270.57,-54.47 280.46,-58.84\"/>\n",
       "<polygon fill=\"black\" stroke=\"black\" points=\"279.31,-62.17 289.87,-63.12 282.21,-55.79 279.31,-62.17\"/>\n",
       "</g>\n",
       "<!-- 139949698593504 -->\n",
       "<g id=\"node10\" class=\"node\">\n",
       "<title>139949698593504</title>\n",
       "<polygon fill=\"none\" stroke=\"black\" points=\"1091,-109.5 1091,-145.5 1338,-145.5 1338,-109.5 1091,-109.5\"/>\n",
       "<text text-anchor=\"middle\" x=\"1111.5\" y=\"-123.8\" font-family=\"Times,serif\" font-size=\"14.00\">pre</text>\n",
       "<polyline fill=\"none\" stroke=\"black\" points=\"1132,-109.5 1132,-145.5 \"/>\n",
       "<text text-anchor=\"middle\" x=\"1183\" y=\"-123.8\" font-family=\"Times,serif\" font-size=\"14.00\">data 0.8800</text>\n",
       "<polyline fill=\"none\" stroke=\"black\" points=\"1234,-109.5 1234,-145.5 \"/>\n",
       "<text text-anchor=\"middle\" x=\"1286\" y=\"-123.8\" font-family=\"Times,serif\" font-size=\"14.00\">grad 0.0000</text>\n",
       "</g>\n",
       "<!-- 139949698593504&#45;&gt;139949698583664tanh -->\n",
       "<g id=\"edge7\" class=\"edge\">\n",
       "<title>139949698593504&#45;&gt;139949698583664tanh</title>\n",
       "<path fill=\"none\" stroke=\"black\" d=\"M1338.09,-127.5C1347.08,-127.5 1355.71,-127.5 1363.6,-127.5\"/>\n",
       "<polygon fill=\"black\" stroke=\"black\" points=\"1363.87,-131 1373.87,-127.5 1363.87,-124 1363.87,-131\"/>\n",
       "</g>\n",
       "<!-- 139949698593504+ -->\n",
       "<g id=\"node11\" class=\"node\">\n",
       "<title>139949698593504+</title>\n",
       "<ellipse fill=\"none\" stroke=\"black\" cx=\"1028\" cy=\"-127.5\" rx=\"27\" ry=\"18\"/>\n",
       "<text text-anchor=\"middle\" x=\"1028\" y=\"-123.8\" font-family=\"Times,serif\" font-size=\"14.00\">+</text>\n",
       "</g>\n",
       "<!-- 139949698593504+&#45;&gt;139949698593504 -->\n",
       "<g id=\"edge4\" class=\"edge\">\n",
       "<title>139949698593504+&#45;&gt;139949698593504</title>\n",
       "<path fill=\"none\" stroke=\"black\" d=\"M1055.04,-127.5C1062.56,-127.5 1071.32,-127.5 1080.79,-127.5\"/>\n",
       "<polygon fill=\"black\" stroke=\"black\" points=\"1080.89,-131 1090.89,-127.5 1080.89,-124 1080.89,-131\"/>\n",
       "</g>\n",
       "<!-- 139949698588944 -->\n",
       "<g id=\"node12\" class=\"node\">\n",
       "<title>139949698588944</title>\n",
       "<polygon fill=\"none\" stroke=\"black\" points=\"0,-110.5 0,-146.5 249,-146.5 249,-110.5 0,-110.5\"/>\n",
       "<text text-anchor=\"middle\" x=\"19\" y=\"-124.8\" font-family=\"Times,serif\" font-size=\"14.00\">w1</text>\n",
       "<polyline fill=\"none\" stroke=\"black\" points=\"38,-110.5 38,-146.5 \"/>\n",
       "<text text-anchor=\"middle\" x=\"91.5\" y=\"-124.8\" font-family=\"Times,serif\" font-size=\"14.00\">data &#45;3.0000</text>\n",
       "<polyline fill=\"none\" stroke=\"black\" points=\"145,-110.5 145,-146.5 \"/>\n",
       "<text text-anchor=\"middle\" x=\"197\" y=\"-124.8\" font-family=\"Times,serif\" font-size=\"14.00\">grad 0.0000</text>\n",
       "</g>\n",
       "<!-- 139949698588944&#45;&gt;139949698593312* -->\n",
       "<g id=\"edge11\" class=\"edge\">\n",
       "<title>139949698588944&#45;&gt;139949698593312*</title>\n",
       "<path fill=\"none\" stroke=\"black\" d=\"M249.23,-128.5C258.37,-128.5 267.05,-128.5 274.87,-128.5\"/>\n",
       "<polygon fill=\"black\" stroke=\"black\" points=\"274.95,-132 284.95,-128.5 274.95,-125 274.95,-132\"/>\n",
       "</g>\n",
       "<!-- 139949698593120 -->\n",
       "<g id=\"node13\" class=\"node\">\n",
       "<title>139949698593120</title>\n",
       "<polygon fill=\"none\" stroke=\"black\" points=\"733,-82.5 733,-118.5 965,-118.5 965,-82.5 733,-82.5\"/>\n",
       "<text text-anchor=\"middle\" x=\"743.5\" y=\"-96.8\" font-family=\"Times,serif\" font-size=\"14.00\"> </text>\n",
       "<polyline fill=\"none\" stroke=\"black\" points=\"754,-82.5 754,-118.5 \"/>\n",
       "<text text-anchor=\"middle\" x=\"807.5\" y=\"-96.8\" font-family=\"Times,serif\" font-size=\"14.00\">data &#45;6.0000</text>\n",
       "<polyline fill=\"none\" stroke=\"black\" points=\"861,-82.5 861,-118.5 \"/>\n",
       "<text text-anchor=\"middle\" x=\"913\" y=\"-96.8\" font-family=\"Times,serif\" font-size=\"14.00\">grad 0.0000</text>\n",
       "</g>\n",
       "<!-- 139949698593120&#45;&gt;139949698593504+ -->\n",
       "<g id=\"edge10\" class=\"edge\">\n",
       "<title>139949698593120&#45;&gt;139949698593504+</title>\n",
       "<path fill=\"none\" stroke=\"black\" d=\"M965.09,-118.06C974.46,-119.49 983.39,-120.85 991.4,-122.07\"/>\n",
       "<polygon fill=\"black\" stroke=\"black\" points=\"990.96,-125.54 1001.37,-123.59 992.01,-118.62 990.96,-125.54\"/>\n",
       "</g>\n",
       "<!-- 139949698593120+&#45;&gt;139949698593120 -->\n",
       "<g id=\"edge5\" class=\"edge\">\n",
       "<title>139949698593120+&#45;&gt;139949698593120</title>\n",
       "<path fill=\"none\" stroke=\"black\" d=\"M697.12,-100.5C704.53,-100.5 713.14,-100.5 722.4,-100.5\"/>\n",
       "<polygon fill=\"black\" stroke=\"black\" points=\"722.69,-104 732.69,-100.5 722.69,-97 722.69,-104\"/>\n",
       "</g>\n",
       "<!-- 139949698591584 -->\n",
       "<g id=\"node15\" class=\"node\">\n",
       "<title>139949698591584</title>\n",
       "<polygon fill=\"none\" stroke=\"black\" points=\"733,-137.5 733,-173.5 965,-173.5 965,-137.5 733,-137.5\"/>\n",
       "<text text-anchor=\"middle\" x=\"746\" y=\"-151.8\" font-family=\"Times,serif\" font-size=\"14.00\">b</text>\n",
       "<polyline fill=\"none\" stroke=\"black\" points=\"759,-137.5 759,-173.5 \"/>\n",
       "<text text-anchor=\"middle\" x=\"810\" y=\"-151.8\" font-family=\"Times,serif\" font-size=\"14.00\">data 6.8800</text>\n",
       "<polyline fill=\"none\" stroke=\"black\" points=\"861,-137.5 861,-173.5 \"/>\n",
       "<text text-anchor=\"middle\" x=\"913\" y=\"-151.8\" font-family=\"Times,serif\" font-size=\"14.00\">grad 0.0000</text>\n",
       "</g>\n",
       "<!-- 139949698591584&#45;&gt;139949698593504+ -->\n",
       "<g id=\"edge14\" class=\"edge\">\n",
       "<title>139949698591584&#45;&gt;139949698593504+</title>\n",
       "<path fill=\"none\" stroke=\"black\" d=\"M964.1,-137.45C973.88,-135.9 983.21,-134.43 991.54,-133.11\"/>\n",
       "<polygon fill=\"black\" stroke=\"black\" points=\"992.19,-136.55 1001.52,-131.53 991.1,-129.64 992.19,-136.55\"/>\n",
       "</g>\n",
       "</g>\n",
       "</svg>\n"
      ],
      "text/plain": [
       "<graphviz.graphs.Digraph at 0x7f4894122b90>"
      ]
     },
     "execution_count": 10,
     "metadata": {},
     "output_type": "execute_result"
    }
   ],
   "source": [
    "draw_dot(o)"
   ]
  },
  {
   "cell_type": "markdown",
   "metadata": {
    "id": "1qRwcDdLs0eo"
   },
   "source": [
    "## **Task 3**\n",
    "---"
   ]
  },
  {
   "cell_type": "markdown",
   "metadata": {
    "id": "HEL1xP8Zs0er"
   },
   "source": [
    "- Create a `Neuron` class using `Value` class.\n",
    "- Remember a Neuron has:\n",
    "  - Several inputs\n",
    "  - An activation functions\n",
    "  - An output"
   ]
  },
  {
   "cell_type": "markdown",
   "metadata": {
    "id": "bfVge6S9td_g"
   },
   "source": [
    "<center>\n",
    "<img src=\"https://miro.medium.com/v2/resize:fit:640/format:webp/1*O7YSSqlOdQuNgMrH7J_3dg.png\">\n",
    "<br>\n",
    "<a href=\"https://medium.com/analytics-vidhya/neural-network-part1-inside-a-single-neuron-fee5e44f1e\">image source</a>"
   ]
  },
  {
   "cell_type": "markdown",
   "metadata": {
    "id": "tJbX6WHJuCL-"
   },
   "source": [
    "- Your `Neuron` class should\n",
    "  - Initialize weight & bias randomly based on number of input when initialize\n",
    "  - If we call the `Neuron` object, you should return the activation function value, or $\\hat{y}$ based on the figure above.\n",
    "  - Has `parameters` method and return the parameter of that neuron"
   ]
  },
  {
   "cell_type": "code",
   "execution_count": 11,
   "metadata": {
    "id": "YDXsXx8UtNFW"
   },
   "outputs": [],
   "source": [
    "# Write your code here\n",
    "class Neuron:\n",
    "    \"\"\"Simple Neuron class\"\"\"\n",
    "    def __init__(self, n_in):\n",
    "        \"\"\"\n",
    "        We initialize the Neuron weights & biases\n",
    "            based on the number of input (n_in).\n",
    "\n",
    "        The weights & biases are generate randomly between [-1, 1]\n",
    "\n",
    "        Parameters\n",
    "        ----------\n",
    "        n_in : int\n",
    "            The number of input\n",
    "        \"\"\"\n",
    "        # Initialize the Neuron parameters (w & b)\n",
    "        self.w = [Value(data=random.uniform(-1, 1)) for _ in range(n_in)]\n",
    "        self.b = Value(data=random.uniform(-1, 1))\n",
    "\n",
    "    def __call__(self, x):\n",
    "        \"\"\"\n",
    "        Return the activation value\n",
    "\n",
    "        Parameters:\n",
    "        -----------\n",
    "        x : list\n",
    "            The input of 1D list\n",
    "        \"\"\"\n",
    "        # Calculate the pre-activation value\n",
    "        linear_sum = sum([wi*xi for wi, xi in zip(self.w, x)])\n",
    "        pre_act = linear_sum + self.b\n",
    "\n",
    "        # Calculate the activation value\n",
    "        # Assumed we use a TanH activation function\n",
    "        out = pre_act.tanh()\n",
    "\n",
    "        return out\n",
    "\n",
    "    def parameters(self):\n",
    "        \"\"\"Return the Neuron parameters\"\"\"\n",
    "        return self.w + [self.b]\n"
   ]
  },
  {
   "cell_type": "markdown",
   "metadata": {
    "id": "YVzjEtGEDlY9"
   },
   "source": [
    "Test the code"
   ]
  },
  {
   "cell_type": "code",
   "execution_count": 12,
   "metadata": {
    "colab": {
     "base_uri": "https://localhost:8080/"
    },
    "id": "j681NG0RDnqj",
    "outputId": "45bf93d6-37f2-492d-9645-0f0ede1f35be"
   },
   "outputs": [
    {
     "data": {
      "text/plain": [
       "<__main__.Neuron at 0x7f4894120b80>"
      ]
     },
     "execution_count": 12,
     "metadata": {},
     "output_type": "execute_result"
    }
   ],
   "source": [
    "# A neuron that has 3 inputs\n",
    "n_in = 3\n",
    "\n",
    "mdl = Neuron(n_in = n_in)\n",
    "mdl"
   ]
  },
  {
   "cell_type": "code",
   "execution_count": 13,
   "metadata": {
    "colab": {
     "base_uri": "https://localhost:8080/"
    },
    "id": "dJRZQ9ggDu8Z",
    "outputId": "32a3b4ef-d76a-41d1-9aca-806e020fb6a9"
   },
   "outputs": [
    {
     "data": {
      "text/plain": [
       "Value(data=-0.13875684858873008)"
      ]
     },
     "execution_count": 13,
     "metadata": {},
     "output_type": "execute_result"
    }
   ],
   "source": [
    "# Feed the input & return the Neuron output\n",
    "x = [0.1, 0.5, 1.0]\n",
    "mdl(x)"
   ]
  },
  {
   "cell_type": "code",
   "execution_count": 14,
   "metadata": {
    "colab": {
     "base_uri": "https://localhost:8080/"
    },
    "id": "NVCLtIZqD9dd",
    "outputId": "5f4a5173-055b-43ac-b546-7cb414a6dd39"
   },
   "outputs": [
    {
     "data": {
      "text/plain": [
       "[Value(data=-0.9959667388917455),\n",
       " Value(data=-0.7051018668187641),\n",
       " Value(data=-0.44240859800775745),\n",
       " Value(data=0.7548984091535678)]"
      ]
     },
     "execution_count": 14,
     "metadata": {},
     "output_type": "execute_result"
    }
   ],
   "source": [
    "# Extract the weight & biases\n",
    "mdl.parameters()"
   ]
  },
  {
   "cell_type": "code",
   "execution_count": 15,
   "metadata": {
    "colab": {
     "base_uri": "https://localhost:8080/"
    },
    "id": "1TrLCjcuEDk7",
    "outputId": "c222b781-8d53-46a1-c8d5-b62823fc453c"
   },
   "outputs": [
    {
     "data": {
      "text/plain": [
       "([Value(data=-0.9959667388917455),\n",
       "  Value(data=-0.7051018668187641),\n",
       "  Value(data=-0.44240859800775745)],\n",
       " Value(data=0.7548984091535678))"
      ]
     },
     "execution_count": 15,
     "metadata": {},
     "output_type": "execute_result"
    }
   ],
   "source": [
    "# Validate\n",
    "w = mdl.parameters()[:3]\n",
    "b = mdl.parameters()[-1]\n",
    "\n",
    "w, b"
   ]
  },
  {
   "cell_type": "code",
   "execution_count": 16,
   "metadata": {
    "colab": {
     "base_uri": "https://localhost:8080/"
    },
    "id": "VwCBA9WfERH6",
    "outputId": "8c762240-8cdc-4529-b857-d3b82b6170b0"
   },
   "outputs": [
    {
     "name": "stdout",
     "output_type": "stream",
     "text": [
      "Pre-activation value : Value(data=-0.13965779615274632)\n",
      "Output               : Value(data=-0.13875684858873008)\n"
     ]
    }
   ],
   "source": [
    "# Manually calculate the output\n",
    "pre_act_val = sum([wi*xi for wi, xi in zip(w, x)]) + b\n",
    "print('Pre-activation value :', pre_act_val)\n",
    "\n",
    "output = pre_act_val.tanh()\n",
    "print('Output               :', output)"
   ]
  },
  {
   "cell_type": "markdown",
   "metadata": {
    "id": "jjVc50q_EsaK"
   },
   "source": [
    "## **Task 4**\n",
    "---"
   ]
  },
  {
   "cell_type": "markdown",
   "metadata": {
    "id": "t9WnG0BcEsaP"
   },
   "source": [
    "- Create a `Layer` class using `Value` class.\n",
    "- Remember a Layer has:\n",
    "  - Several number of input\n",
    "  - Several number of Neurons\n",
    "  - Several number of output\n",
    "  - **Number of neuron** equals to number of output"
   ]
  },
  {
   "cell_type": "markdown",
   "metadata": {
    "id": "BjRvrsZA-0FH"
   },
   "source": [
    "<center>\n",
    "<img src=\"https://lucidar.me/en/neural-networks/files/single-layer-architecture.png\">\n",
    "<br>\n",
    "<a href=\"https://lucidar.me/en/neural-networks/single-layer-algorithm/\">image source</a>"
   ]
  },
  {
   "cell_type": "markdown",
   "metadata": {
    "id": "mKdslgvj_GIN"
   },
   "source": [
    "- The `Layer` class:\n",
    "  - Initialize by defining the number of input, `n_in`, and the number of output, `n_out`.\n",
    "  - If the `Layer` object is called, return the outputs value from each Neuron inside the layers.\n",
    "  - Create a method called by `parameters()` that return the stacked of model parameters from the first to last Neuron in series."
   ]
  },
  {
   "cell_type": "code",
   "execution_count": 17,
   "metadata": {
    "id": "mkfJ0wDyFPRR"
   },
   "outputs": [],
   "source": [
    "# Write your code here\n",
    "class Layer:\n",
    "    def __init__(self, n_in, n_out):\n",
    "        \"\"\"\n",
    "        Create a set of Neuron that has n_in input & n_out output\n",
    "\n",
    "        Parameters\n",
    "        ----------\n",
    "        n_in : int\n",
    "            Number of input in each Neuron\n",
    "\n",
    "        n_out : int\n",
    "            Number of output\n",
    "            This decide the number of Neuron.\n",
    "            Remember, 1 neuron = 1 output\n",
    "        \"\"\"\n",
    "        self.neurons = [Neuron(n_in=n_in) for _ in range(n_out)]\n",
    "\n",
    "    def __call__(self, x):\n",
    "        \"\"\"return the output of layers\"\"\"\n",
    "        # The output should be a list if n_out > 1\n",
    "        outs = [neuron(x) for neuron in self.neurons]\n",
    "        if len(outs) == 1:\n",
    "            return outs[0]\n",
    "        else:\n",
    "            return outs\n",
    "\n",
    "    def parameters(self):\n",
    "        \"\"\"return the Layer parameters\"\"\"\n",
    "        neuron_params = [neuron.parameters() for neuron in self.neurons]\n",
    "        layer_params = []\n",
    "        for param in neuron_params:\n",
    "            layer_params.extend(param)\n",
    "\n",
    "        return layer_params\n"
   ]
  },
  {
   "cell_type": "markdown",
   "metadata": {
    "id": "hgkYWVS3_tSE"
   },
   "source": [
    "Test your code!"
   ]
  },
  {
   "cell_type": "code",
   "execution_count": 18,
   "metadata": {
    "colab": {
     "base_uri": "https://localhost:8080/"
    },
    "id": "MGcMlHA-9ULP",
    "outputId": "0a9f8f6c-88cc-4d8e-d516-fa0a16b9e36f"
   },
   "outputs": [
    {
     "data": {
      "text/plain": [
       "<__main__.Layer at 0x7f4894121540>"
      ]
     },
     "execution_count": 18,
     "metadata": {},
     "output_type": "execute_result"
    }
   ],
   "source": [
    "# Create a layer that predict multi-classes output\n",
    "#   e.g. predict digit, 0..9\n",
    "# with 4 input\n",
    "mdl = Layer(n_in = 4,\n",
    "            n_out = 10)\n",
    "\n",
    "mdl"
   ]
  },
  {
   "cell_type": "code",
   "execution_count": 19,
   "metadata": {
    "colab": {
     "base_uri": "https://localhost:8080/"
    },
    "id": "GsBYmxldAI8j",
    "outputId": "06de1061-c316-4ab4-dc41-2dca52b33049"
   },
   "outputs": [
    {
     "data": {
      "text/plain": [
       "[Value(data=-0.9182006574644115),\n",
       " Value(data=0.8933270662162326),\n",
       " Value(data=0.87601959171595),\n",
       " Value(data=0.7538908393729976),\n",
       " Value(data=0.30531431058679354),\n",
       " Value(data=0.4391964148472784),\n",
       " Value(data=-0.8043363698153555),\n",
       " Value(data=0.5932625753088295),\n",
       " Value(data=-0.7728571826267966),\n",
       " Value(data=0.4097265650739636)]"
      ]
     },
     "execution_count": 19,
     "metadata": {},
     "output_type": "execute_result"
    }
   ],
   "source": [
    "# Feed the input & return the Neuron output\n",
    "x = [0.1, 0.5, 1.0, -0.75]\n",
    "mdl(x)"
   ]
  },
  {
   "cell_type": "code",
   "execution_count": 20,
   "metadata": {
    "colab": {
     "base_uri": "https://localhost:8080/"
    },
    "id": "nD-EonMxAI-A",
    "outputId": "1758588f-05d5-448b-d913-6417ecbf92e0"
   },
   "outputs": [
    {
     "data": {
      "text/plain": [
       "[Value(data=0.7901630858545579),\n",
       " Value(data=-0.21001694949264582),\n",
       " Value(data=-0.2837674383437885),\n",
       " Value(data=0.997382883775485),\n",
       " Value(data=-0.5196400636289031),\n",
       " Value(data=-0.8839749357801598),\n",
       " Value(data=0.7328607608444535),\n",
       " Value(data=0.03754596385689557),\n",
       " Value(data=-0.3465377802725844),\n",
       " Value(data=0.8626795407554695),\n",
       " Value(data=-0.9356350112669156),\n",
       " Value(data=-0.16361559247809443),\n",
       " Value(data=0.6235985895676637),\n",
       " Value(data=-0.07579632311114026),\n",
       " Value(data=0.8533174741868288),\n",
       " Value(data=-0.5175350237585175),\n",
       " Value(data=-0.5871383283542584),\n",
       " Value(data=0.09799842882837706),\n",
       " Value(data=-0.697752017849911),\n",
       " Value(data=0.7059186022633079),\n",
       " Value(data=-0.6967005857367541),\n",
       " Value(data=-0.6753573599657581),\n",
       " Value(data=-0.45491674449560127),\n",
       " Value(data=-0.5972482473793346),\n",
       " Value(data=0.7296991194970808),\n",
       " Value(data=0.10753953237848912),\n",
       " Value(data=0.815541784717666),\n",
       " Value(data=-0.778405650984541),\n",
       " Value(data=-0.36003601150965636),\n",
       " Value(data=0.5610885282227542),\n",
       " Value(data=-0.2647958247804869),\n",
       " Value(data=-0.24839550107208352),\n",
       " Value(data=-0.7161685742136594),\n",
       " Value(data=-0.28563321136889397),\n",
       " Value(data=-0.45815456560813317),\n",
       " Value(data=-0.5925187325959504),\n",
       " Value(data=-0.28258429033652965),\n",
       " Value(data=0.5903339631326168),\n",
       " Value(data=-0.9850475374203276),\n",
       " Value(data=-0.4458899487883594),\n",
       " Value(data=-0.7133862051206099),\n",
       " Value(data=-0.09295493625161733),\n",
       " Value(data=-0.9748628646212549),\n",
       " Value(data=-0.10279057445142348),\n",
       " Value(data=-0.011798367831161727),\n",
       " Value(data=0.9297947019364754),\n",
       " Value(data=0.6054160872872245),\n",
       " Value(data=-0.06346691420527928),\n",
       " Value(data=-0.6315519408523746),\n",
       " Value(data=-0.37060197501167935)]"
      ]
     },
     "execution_count": 20,
     "metadata": {},
     "output_type": "execute_result"
    }
   ],
   "source": [
    "# Extract the weight & biases\n",
    "mdl.parameters()"
   ]
  },
  {
   "cell_type": "code",
   "execution_count": 21,
   "metadata": {
    "colab": {
     "base_uri": "https://localhost:8080/"
    },
    "id": "VQ_DYiVxAI-C",
    "outputId": "b49254bf-a110-45ac-d512-882a6e88046d"
   },
   "outputs": [
    {
     "data": {
      "text/plain": [
       "([Value(data=0.7901630858545579),\n",
       "  Value(data=-0.21001694949264582),\n",
       "  Value(data=-0.2837674383437885),\n",
       "  Value(data=0.997382883775485)],\n",
       " Value(data=-0.5196400636289031))"
      ]
     },
     "execution_count": 21,
     "metadata": {},
     "output_type": "execute_result"
    }
   ],
   "source": [
    "# Validate the first neuron\n",
    "# 1st neuron has 4 weights + 1 bias\n",
    "w = mdl.parameters()[:4]\n",
    "b = mdl.parameters()[4]\n",
    "\n",
    "w, b"
   ]
  },
  {
   "cell_type": "code",
   "execution_count": 22,
   "metadata": {
    "colab": {
     "base_uri": "https://localhost:8080/"
    },
    "id": "GXrvcePqAI-E",
    "outputId": "a1982900-30d5-46cf-8ca0-70155fb256b0"
   },
   "outputs": [
    {
     "name": "stdout",
     "output_type": "stream",
     "text": [
      "Pre-activation value : Value(data=-1.5774368309651725)\n",
      "Output               : Value(data=-0.9182006574644115)\n"
     ]
    }
   ],
   "source": [
    "# Manually calculate the output\n",
    "pre_act_val = sum([wi*xi for wi, xi in zip(w, x)]) + b\n",
    "print('Pre-activation value :', pre_act_val)\n",
    "\n",
    "output = pre_act_val.tanh()\n",
    "print('Output               :', output)"
   ]
  },
  {
   "cell_type": "code",
   "execution_count": 23,
   "metadata": {
    "colab": {
     "base_uri": "https://localhost:8080/"
    },
    "id": "8FxqBjPxAiGG",
    "outputId": "322dc45f-c82b-4bae-9c16-c1f71672bef9"
   },
   "outputs": [
    {
     "data": {
      "text/plain": [
       "Value(data=-0.9182006574644115)"
      ]
     },
     "execution_count": 23,
     "metadata": {},
     "output_type": "execute_result"
    }
   ],
   "source": [
    "# Output of the first neuron\n",
    "mdl(x)[0]"
   ]
  },
  {
   "cell_type": "markdown",
   "metadata": {
    "id": "CGtp-m3WAw6n"
   },
   "source": [
    "## **Task 5**\n",
    "---"
   ]
  },
  {
   "cell_type": "markdown",
   "metadata": {
    "id": "cTYM7JgTAw6o"
   },
   "source": [
    "- Create a `MLP` (multi-layer perceptron or neural network) class using `Value` class.\n",
    "- Remember an MLP has:\n",
    "  - Several number of input\n",
    "  - Several number of layers\n",
    "  - Several number of output"
   ]
  },
  {
   "cell_type": "markdown",
   "metadata": {
    "id": "KvddT6l0BTqD"
   },
   "source": [
    "<center>\n",
    "<img src = \"https://www.researchgate.net/publication/354817375/figure/fig2/AS:1071622807097344@1632506195651/Multi-layer-perceptron-MLP-NN-basic-Architecture.jpg\">\n",
    "<br>\n",
    "<a href=\"https://www.researchgate.net/publication/354817375_Modeling_the_fluctuations_of_groundwater_level_by_employing_ensemble_deep_learning_techniques\">image source</a>"
   ]
  },
  {
   "cell_type": "markdown",
   "metadata": {
    "id": "58d-6wkbBj7Z"
   },
   "source": [
    "- In `MLP` class:\n",
    "  - Initialize the object by stating the number of input & outputs of each \"hidden\" layer.\n",
    "  - Return the MLP output if the object is called.\n",
    "  - Return all parameters from the first to last \"hidden\" layer by calling `parameters()` method."
   ]
  },
  {
   "cell_type": "code",
   "execution_count": 24,
   "metadata": {
    "id": "EcUmHECNAwh4"
   },
   "outputs": [],
   "source": [
    "# Write your code here\n",
    "class MLP:\n",
    "    def __init__(self, n_in, n_outs):\n",
    "        \"\"\"\n",
    "        Initialize the MLP layers\n",
    "\n",
    "        Parameters\n",
    "        ----------\n",
    "        n_in : int\n",
    "            Number of input\n",
    "\n",
    "        n_outs : list\n",
    "            The size (number of output) of each hidden layers\n",
    "        \"\"\"\n",
    "        sizes = [n_in] + n_outs\n",
    "        self.layers = []\n",
    "        for i in range(len(n_outs)):\n",
    "            layer_i = Layer(n_in = sizes[i],\n",
    "                            n_out = sizes[i+1])\n",
    "            self.layers.append(layer_i)\n",
    "\n",
    "    def __call__(self, x):\n",
    "        \"\"\"Return the MLP predictions\"\"\"\n",
    "        for layer in self.layers:\n",
    "            # re-assign the input from previous layer outputs\n",
    "            x = layer(x)\n",
    "\n",
    "        return x\n",
    "\n",
    "    def parameters(self):\n",
    "        \"\"\"Return all parameters\"\"\"\n",
    "        layer_params = [layer.parameters() for layer in self.layers]\n",
    "        mlp_params = []\n",
    "        for layer in layer_params:\n",
    "            mlp_params.extend(layer)\n",
    "\n",
    "        return mlp_params\n"
   ]
  },
  {
   "cell_type": "markdown",
   "metadata": {
    "id": "45MCHFKJDReP"
   },
   "source": [
    "Test your code!"
   ]
  },
  {
   "cell_type": "code",
   "execution_count": 25,
   "metadata": {
    "id": "CLo6fa3VDReQ"
   },
   "outputs": [],
   "source": [
    "# Create an MLP with\n",
    "# - 4 inputs\n",
    "# - 2 hidden layers (1st size 5, 2nd size 3)\n",
    "# - 2 outputs\n",
    "mdl = MLP(n_in = 4,\n",
    "          n_outs = [5, 3, 2])"
   ]
  },
  {
   "cell_type": "code",
   "execution_count": 26,
   "metadata": {
    "colab": {
     "base_uri": "https://localhost:8080/"
    },
    "id": "DzgvsnSbDReR",
    "outputId": "b80989b1-ff30-4f70-a082-147eed8cdb54"
   },
   "outputs": [
    {
     "data": {
      "text/plain": [
       "[Value(data=0.517916350065872), Value(data=0.228851312540066)]"
      ]
     },
     "execution_count": 26,
     "metadata": {},
     "output_type": "execute_result"
    }
   ],
   "source": [
    "# Feed the input & return the Neuron output\n",
    "x = [0.1, 0.5, 1.0, -0.75]\n",
    "mdl(x)"
   ]
  },
  {
   "cell_type": "code",
   "execution_count": 27,
   "metadata": {
    "colab": {
     "base_uri": "https://localhost:8080/"
    },
    "id": "VfgXTQaMDReS",
    "outputId": "695b0f60-99de-4dad-9e99-232866fcd9a7"
   },
   "outputs": [
    {
     "data": {
      "text/plain": [
       "[Value(data=0.7562739965751784),\n",
       " Value(data=0.921210834872475),\n",
       " Value(data=0.16663005483323978),\n",
       " Value(data=-0.2311613687966949),\n",
       " Value(data=0.011447643338688307),\n",
       " Value(data=0.19711732596051235),\n",
       " Value(data=-0.3509409066607152),\n",
       " Value(data=0.22911305605969012),\n",
       " Value(data=0.8243610343525363),\n",
       " Value(data=-0.7130402250745829),\n",
       " Value(data=0.7709103240959729),\n",
       " Value(data=-0.16794483939393245),\n",
       " Value(data=0.07994484037251226),\n",
       " Value(data=-0.9652582660195621),\n",
       " Value(data=0.2612009277945393),\n",
       " Value(data=0.1574348361042004),\n",
       " Value(data=0.879147226287355),\n",
       " Value(data=0.46031213537443083),\n",
       " Value(data=0.9751419493338436),\n",
       " Value(data=-0.28076062770107235),\n",
       " Value(data=0.9850121599416821),\n",
       " Value(data=0.16320544932406889),\n",
       " Value(data=-0.25946256565691717),\n",
       " Value(data=0.782499779963981),\n",
       " Value(data=-0.20591834124335606),\n",
       " Value(data=-0.6472848995642604),\n",
       " Value(data=-0.4964953235879812),\n",
       " Value(data=-0.5297789616954245),\n",
       " Value(data=0.595858296228192),\n",
       " Value(data=-0.4806918531285058),\n",
       " Value(data=-0.3844366591418238),\n",
       " Value(data=-0.9995694898114202),\n",
       " Value(data=-0.5744797431821846),\n",
       " Value(data=0.14326977889808523),\n",
       " Value(data=-0.4443714051465526),\n",
       " Value(data=-0.08208430292850766),\n",
       " Value(data=0.812807189022343),\n",
       " Value(data=0.12633786750637488),\n",
       " Value(data=-0.08347071663372829),\n",
       " Value(data=0.5452812448089919),\n",
       " Value(data=-0.36732781441153994),\n",
       " Value(data=-0.1411822501008364),\n",
       " Value(data=0.09077540072861212),\n",
       " Value(data=-0.7152753750287935),\n",
       " Value(data=-0.596343530982048),\n",
       " Value(data=0.08203637020785748),\n",
       " Value(data=0.5538412521692209),\n",
       " Value(data=0.5563818314375442),\n",
       " Value(data=-0.20679597966333563),\n",
       " Value(data=0.2924409040347633),\n",
       " Value(data=0.4558892544677946)]"
      ]
     },
     "execution_count": 27,
     "metadata": {},
     "output_type": "execute_result"
    }
   ],
   "source": [
    "# Extract the weight & biases\n",
    "mdl.parameters()"
   ]
  },
  {
   "cell_type": "markdown",
   "metadata": {
    "id": "n7po7sVdDyfn"
   },
   "source": [
    "## **Task 6**\n",
    "---"
   ]
  },
  {
   "cell_type": "markdown",
   "metadata": {
    "id": "sGiH_bs9Dyfp"
   },
   "source": [
    "- Your task is to train a single Neuron.\n",
    "- Remember, a single Neuron has a capability similar to a Linear Regression or Logistic Regression\n",
    "- We will use a gradient descent to train the Neuron"
   ]
  },
  {
   "cell_type": "markdown",
   "metadata": {
    "id": "4ActWP3NTvdt"
   },
   "source": [
    "<center>\n",
    "\n",
    "<img src=\"https://static.javatpoint.com/tutorial/machine-learning/images/gradient-descent-in-machine-learning2.png\">\n",
    "<br>\n",
    "<a href=\"https://www.javatpoint.com/gradient-descent-in-machine-learning\">image source</a>"
   ]
  },
  {
   "cell_type": "markdown",
   "metadata": {
    "id": "2WIlw5kLT4Ko"
   },
   "source": [
    "- In gradient descent, the weights & biases are updated iteratively\n",
    "\n",
    "$$\n",
    "w^{(\\text{new})}_{j} := w^{(\\text{old})}_{j} - \\mu \\cfrac{\\partial \\ \\text{Loss}}{\\partial \\ w_{j}}\n",
    "$$"
   ]
  },
  {
   "cell_type": "markdown",
   "metadata": {
    "id": "loGwgKdTVQDn"
   },
   "source": [
    "- Let's model a classification task"
   ]
  },
  {
   "cell_type": "code",
   "execution_count": 28,
   "metadata": {
    "id": "7Qe4NZOtDNbw"
   },
   "outputs": [],
   "source": [
    "# The input\n",
    "xs = [\n",
    "    [2.0, 3.0, -1.0],\n",
    "    [3.0, -1.0, 0.5],\n",
    "    [0.5, 1.0, 1.0],\n",
    "    [1.0, 1.0, -1.0]\n",
    "]\n",
    "\n",
    "ys = [1.0, -1.0, -1.0, 1.0]"
   ]
  },
  {
   "cell_type": "code",
   "execution_count": 29,
   "metadata": {
    "colab": {
     "base_uri": "https://localhost:8080/"
    },
    "id": "SMvoqJBxU6SG",
    "outputId": "8391ad0b-08ba-4eec-e796-e19dd2ea6be0"
   },
   "outputs": [
    {
     "data": {
      "text/plain": [
       "<__main__.Neuron at 0x7f48940fba00>"
      ]
     },
     "execution_count": 29,
     "metadata": {},
     "output_type": "execute_result"
    }
   ],
   "source": [
    "# Create model\n",
    "mdl = Neuron(n_in = 3)\n",
    "mdl"
   ]
  },
  {
   "cell_type": "code",
   "execution_count": 30,
   "metadata": {
    "id": "JXlWyYN1VZv_"
   },
   "outputs": [],
   "source": [
    "def mse(y_true, y_pred):\n",
    "    \"\"\"return a mean squared error predictions\"\"\"\n",
    "    losses = [(yt-yp)**2 for yt, yp in zip(y_true, y_pred)]\n",
    "    mean_loss = sum(losses) / len(y_true)\n",
    "    return mean_loss"
   ]
  },
  {
   "cell_type": "code",
   "execution_count": 31,
   "metadata": {
    "colab": {
     "base_uri": "https://localhost:8080/"
    },
    "id": "FiKCnRDZUrrF",
    "outputId": "ef1fd30a-c2d3-478c-8899-5ec6e9cd5fc4"
   },
   "outputs": [
    {
     "name": "stdout",
     "output_type": "stream",
     "text": [
      "iter: 0, MSE loss: 2.6921\n",
      "iter: 50, MSE loss: 0.0164\n",
      "iter: 100, MSE loss: 0.0074\n",
      "iter: 150, MSE loss: 0.0047\n",
      "iter: 200, MSE loss: 0.0035\n",
      "iter: 250, MSE loss: 0.0028\n",
      "iter: 300, MSE loss: 0.0023\n",
      "iter: 350, MSE loss: 0.0019\n",
      "iter: 400, MSE loss: 0.0017\n",
      "iter: 450, MSE loss: 0.0015\n",
      "iter: 500, MSE loss: 0.0013\n",
      "iter: 550, MSE loss: 0.0012\n",
      "iter: 600, MSE loss: 0.0011\n",
      "iter: 650, MSE loss: 0.0010\n",
      "iter: 700, MSE loss: 0.0009\n",
      "iter: 750, MSE loss: 0.0009\n",
      "iter: 800, MSE loss: 0.0008\n",
      "iter: 850, MSE loss: 0.0008\n",
      "iter: 900, MSE loss: 0.0007\n",
      "iter: 950, MSE loss: 0.0007\n",
      "iter: 999, MSE loss: 0.0007\n"
     ]
    }
   ],
   "source": [
    "# Let's do the gradient descent\n",
    "for k in range(1000):\n",
    "    # Do the forward pass\n",
    "    y_pred = [mdl(x) for x in xs]\n",
    "\n",
    "    # Calculate the loss\n",
    "    loss = mse(y_true=ys, y_pred=y_pred)\n",
    "\n",
    "    # Do the backward pass\n",
    "    # No need to manually compute the derivative of loss\n",
    "    # Always set the grad to 0.0 in every iteration\n",
    "    for model_param in mdl.parameters():\n",
    "        model_param.grad = 0.0\n",
    "\n",
    "    # Do the backward\n",
    "    loss.backward()\n",
    "\n",
    "    # Update the model parameters using gradient descent\n",
    "    learning_rate = 0.1\n",
    "    for model_param in mdl.parameters():\n",
    "        model_param.data += -learning_rate * model_param.grad\n",
    "\n",
    "    if k%50 == 0 or k==1000-1:\n",
    "        print(f'iter: {k}, MSE loss: {loss.data:.4f}')"
   ]
  },
  {
   "cell_type": "code",
   "execution_count": 32,
   "metadata": {
    "colab": {
     "base_uri": "https://localhost:8080/"
    },
    "id": "2CLJ3paGWzU9",
    "outputId": "236e0173-eb23-4675-e1ac-1a0d237d0e22"
   },
   "outputs": [
    {
     "name": "stdout",
     "output_type": "stream",
     "text": [
      "True value      : [1.0, -1.0, -1.0, 1.0]\n",
      "Predicted value : [0.9835340715740074, -0.9850154460264454, -0.9627533541457491, 0.9725014396560449]\n",
      "Final loss      : 0.0006597867762746017\n"
     ]
    }
   ],
   "source": [
    "# Let's predict\n",
    "y_pred_final = [mdl(x).data for x in xs]\n",
    "\n",
    "print(f'True value      :', ys)\n",
    "print(f'Predicted value :', y_pred_final)\n",
    "print(f'Final loss      :', mse(ys, y_pred_final))"
   ]
  },
  {
   "cell_type": "markdown",
   "metadata": {
    "id": "rXg3RPhqX3GY"
   },
   "source": [
    "Great!"
   ]
  },
  {
   "cell_type": "markdown",
   "metadata": {
    "id": "LIRp_LzuD35B"
   },
   "source": [
    "## **Task 7**\n",
    "---"
   ]
  },
  {
   "cell_type": "markdown",
   "metadata": {
    "id": "_LxA-e2WD36D"
   },
   "source": [
    "- Now your task is to train a single layer"
   ]
  },
  {
   "cell_type": "code",
   "execution_count": 33,
   "metadata": {
    "colab": {
     "base_uri": "https://localhost:8080/"
    },
    "id": "e0CnzmAdD36F",
    "outputId": "4e7621aa-7538-4937-f6b1-069b56c03d58"
   },
   "outputs": [
    {
     "data": {
      "text/plain": [
       "<__main__.Layer at 0x7f48940fa1d0>"
      ]
     },
     "execution_count": 33,
     "metadata": {},
     "output_type": "execute_result"
    }
   ],
   "source": [
    "# Create model\n",
    "mdl = Layer(n_in = 3, n_out = 1)\n",
    "mdl"
   ]
  },
  {
   "cell_type": "code",
   "execution_count": 34,
   "metadata": {
    "colab": {
     "base_uri": "https://localhost:8080/"
    },
    "id": "WEewa8C1YCZU",
    "outputId": "a142304b-ebff-4757-ede5-c4707d2f6647"
   },
   "outputs": [
    {
     "name": "stdout",
     "output_type": "stream",
     "text": [
      "iter: 0, MSE loss: 2.5533\n",
      "iter: 50, MSE loss: 0.0375\n",
      "iter: 100, MSE loss: 0.0111\n",
      "iter: 150, MSE loss: 0.0064\n",
      "iter: 200, MSE loss: 0.0045\n",
      "iter: 250, MSE loss: 0.0034\n",
      "iter: 300, MSE loss: 0.0028\n",
      "iter: 350, MSE loss: 0.0023\n",
      "iter: 400, MSE loss: 0.0020\n",
      "iter: 450, MSE loss: 0.0017\n",
      "iter: 500, MSE loss: 0.0016\n",
      "iter: 550, MSE loss: 0.0014\n",
      "iter: 600, MSE loss: 0.0013\n",
      "iter: 650, MSE loss: 0.0012\n",
      "iter: 700, MSE loss: 0.0011\n",
      "iter: 750, MSE loss: 0.0010\n",
      "iter: 800, MSE loss: 0.0009\n",
      "iter: 850, MSE loss: 0.0009\n",
      "iter: 900, MSE loss: 0.0008\n",
      "iter: 950, MSE loss: 0.0008\n",
      "iter: 999, MSE loss: 0.0007\n"
     ]
    }
   ],
   "source": [
    "# Let's do the gradient descent\n",
    "for k in range(1000):\n",
    "    # Do the forward pass\n",
    "    y_pred = [mdl(x) for x in xs]\n",
    "\n",
    "    # Calculate the loss\n",
    "    loss = mse(y_true=ys, y_pred=y_pred)\n",
    "\n",
    "    # Do the backward pass\n",
    "    # No need to manually compute the derivative of loss\n",
    "    # Always set the grad to 0.0 in every iteration\n",
    "    for model_param in mdl.parameters():\n",
    "        model_param.grad = 0.0\n",
    "\n",
    "    # Do the backward\n",
    "    loss.backward()\n",
    "\n",
    "    # Update the model parameters using gradient descent\n",
    "    learning_rate = 0.1\n",
    "    for model_param in mdl.parameters():\n",
    "        model_param.data += -learning_rate * model_param.grad\n",
    "\n",
    "    if k%50 == 0 or k==1000-1:\n",
    "        print(f'iter: {k}, MSE loss: {loss.data:.4f}')"
   ]
  },
  {
   "cell_type": "code",
   "execution_count": 35,
   "metadata": {
    "colab": {
     "base_uri": "https://localhost:8080/"
    },
    "id": "_mDonIi1YCZj",
    "outputId": "e0b2c52a-6af3-4cd0-8d38-3fa64fc68fee"
   },
   "outputs": [
    {
     "name": "stdout",
     "output_type": "stream",
     "text": [
      "True value      : [1.0, -1.0, -1.0, 1.0]\n",
      "Predicted value : [0.9958634388239777, -0.9825398147381808, -0.964026860776831, 0.9635360904405088]\n",
      "Final loss      : 0.0007364131634180701\n"
     ]
    }
   ],
   "source": [
    "# Let's predict\n",
    "y_pred_final = [mdl(x).data for x in xs]\n",
    "\n",
    "print(f'True value      :', ys)\n",
    "print(f'Predicted value :', y_pred_final)\n",
    "print(f'Final loss      :', mse(ys, y_pred_final))"
   ]
  },
  {
   "cell_type": "markdown",
   "metadata": {
    "id": "fYTtCsxND6Je"
   },
   "source": [
    "## **Task 8**\n",
    "---"
   ]
  },
  {
   "cell_type": "markdown",
   "metadata": {
    "id": "oq7HGG8SD6Jh"
   },
   "source": [
    "- Train an MLP"
   ]
  },
  {
   "cell_type": "code",
   "execution_count": 36,
   "metadata": {
    "colab": {
     "base_uri": "https://localhost:8080/"
    },
    "id": "ciUpkvY1Ytqb",
    "outputId": "dbfc3436-0286-4f33-a57c-54be09287c51"
   },
   "outputs": [
    {
     "data": {
      "text/plain": [
       "<__main__.MLP at 0x7f4894172ce0>"
      ]
     },
     "execution_count": 36,
     "metadata": {},
     "output_type": "execute_result"
    }
   ],
   "source": [
    "# Create model\n",
    "mdl = MLP(n_in = 3, n_outs = [2, 2, 1])\n",
    "mdl"
   ]
  },
  {
   "cell_type": "code",
   "execution_count": 37,
   "metadata": {
    "colab": {
     "base_uri": "https://localhost:8080/"
    },
    "id": "M7JRvelmYtqe",
    "outputId": "36ae6430-c2b1-471b-c6f9-5caaa124cf4c"
   },
   "outputs": [
    {
     "name": "stdout",
     "output_type": "stream",
     "text": [
      "iter: 0, MSE loss: 1.4194\n",
      "iter: 50, MSE loss: 0.0192\n",
      "iter: 100, MSE loss: 0.0081\n",
      "iter: 150, MSE loss: 0.0050\n",
      "iter: 200, MSE loss: 0.0036\n",
      "iter: 250, MSE loss: 0.0029\n",
      "iter: 300, MSE loss: 0.0023\n",
      "iter: 350, MSE loss: 0.0020\n",
      "iter: 400, MSE loss: 0.0017\n",
      "iter: 450, MSE loss: 0.0015\n",
      "iter: 500, MSE loss: 0.0014\n",
      "iter: 550, MSE loss: 0.0012\n",
      "iter: 600, MSE loss: 0.0011\n",
      "iter: 650, MSE loss: 0.0010\n",
      "iter: 700, MSE loss: 0.0010\n",
      "iter: 750, MSE loss: 0.0009\n",
      "iter: 800, MSE loss: 0.0008\n",
      "iter: 850, MSE loss: 0.0008\n",
      "iter: 900, MSE loss: 0.0007\n",
      "iter: 950, MSE loss: 0.0007\n",
      "iter: 999, MSE loss: 0.0007\n"
     ]
    }
   ],
   "source": [
    "# Let's do the gradient descent\n",
    "for k in range(1000):\n",
    "    # Do the forward pass\n",
    "    y_pred = [mdl(x) for x in xs]\n",
    "\n",
    "    # Calculate the loss\n",
    "    loss = mse(y_true=ys, y_pred=y_pred)\n",
    "\n",
    "    # Do the backward pass\n",
    "    # No need to manually compute the derivative of loss\n",
    "    # Always set the grad to 0.0 in every iteration\n",
    "    for model_param in mdl.parameters():\n",
    "        model_param.grad = 0.0\n",
    "\n",
    "    # Do the backward\n",
    "    loss.backward()\n",
    "\n",
    "    # Update the model parameters using gradient descent\n",
    "    learning_rate = 0.1\n",
    "    for model_param in mdl.parameters():\n",
    "        model_param.data += -learning_rate * model_param.grad\n",
    "\n",
    "    if k%50 == 0 or k==1000-1:\n",
    "        print(f'iter: {k}, MSE loss: {loss.data:.4f}')"
   ]
  },
  {
   "cell_type": "code",
   "execution_count": 38,
   "metadata": {
    "colab": {
     "base_uri": "https://localhost:8080/"
    },
    "id": "x-pN-r9zYtqe",
    "outputId": "db377ad7-f114-489c-8ce5-4b7cce9278c5"
   },
   "outputs": [
    {
     "name": "stdout",
     "output_type": "stream",
     "text": [
      "True value      : [1.0, -1.0, -1.0, 1.0]\n",
      "Predicted value : [0.9792016757378268, -0.9816064172348523, -0.9677122841710839, 0.9716079631492043]\n",
      "Final loss      : 0.0006548746322596555\n"
     ]
    }
   ],
   "source": [
    "# Let's predict\n",
    "y_pred_final = [mdl(x).data for x in xs]\n",
    "\n",
    "print(f'True value      :', ys)\n",
    "print(f'Predicted value :', y_pred_final)\n",
    "print(f'Final loss      :', mse(ys, y_pred_final))"
   ]
  },
  {
   "cell_type": "markdown",
   "metadata": {
    "id": "4X8SKfT-Y0Tu"
   },
   "source": [
    "This is a great result!"
   ]
  },
  {
   "cell_type": "markdown",
   "metadata": {
    "id": "v4KKvmDCY5AS"
   },
   "source": [
    "## **Exercise**\n",
    "---"
   ]
  },
  {
   "cell_type": "markdown",
   "metadata": {
    "id": "eJwp9uXiY5AT"
   },
   "source": [
    "- Train a neural network to solve the XOR Problem"
   ]
  },
  {
   "cell_type": "markdown",
   "metadata": {
    "id": "MT32DjOUZC7Z"
   },
   "source": [
    "<center>\n",
    "\n",
    "<img src=\"https://media2.dev.to/dynamic/image/width=1000,height=420,fit=cover,gravity=auto,format=auto/https%3A%2F%2Fdev-to-uploads.s3.amazonaws.com%2Fi%2Flkli02223oqhlac1jetz.png\">\n",
    "<br>\n",
    "<a href=\"https://dev.to/jbahire/demystifying-the-xor-problem-1blk\">image source</a>"
   ]
  },
  {
   "cell_type": "code",
   "execution_count": 39,
   "metadata": {
    "id": "s7k36KEHY5AT"
   },
   "outputs": [],
   "source": [
    "# The input of XOR problem\n",
    "xs = [\n",
    "    [1.0, 1.0],\n",
    "    [1.0, 0.0],\n",
    "    [0.0, 1.0],\n",
    "    [0.0, 0.0]\n",
    "]\n",
    "\n",
    "ys = [-1.0, 1.0, 1.0, -1.0]"
   ]
  }
 ],
 "metadata": {
  "colab": {
   "collapsed_sections": [
    "ltzouPCb4pZS",
    "Sx9uTbk2h-If",
    "1qRwcDdLs0eo",
    "jjVc50q_EsaK",
    "CGtp-m3WAw6n",
    "n7po7sVdDyfn",
    "LIRp_LzuD35B",
    "fYTtCsxND6Je",
    "v4KKvmDCY5AS"
   ],
   "provenance": []
  },
  "kernelspec": {
   "display_name": "Python 3 (ipykernel)",
   "language": "python",
   "name": "python3"
  },
  "language_info": {
   "codemirror_mode": {
    "name": "ipython",
    "version": 3
   },
   "file_extension": ".py",
   "mimetype": "text/x-python",
   "name": "python",
   "nbconvert_exporter": "python",
   "pygments_lexer": "ipython3",
   "version": "3.10.14"
  }
 },
 "nbformat": 4,
 "nbformat_minor": 1
}
