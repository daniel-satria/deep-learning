{
 "cells": [
  {
   "cell_type": "markdown",
   "metadata": {
    "id": "xZw9namamh3V"
   },
   "source": [
    "# **6. Mastering Backpropagation**"
   ]
  },
  {
   "cell_type": "code",
   "execution_count": 1,
   "metadata": {
    "id": "LqdCQJhMmedx"
   },
   "outputs": [],
   "source": [
    "import torch\n",
    "import torch.nn.functional as F\n",
    "\n",
    "import matplotlib.pyplot as plt"
   ]
  },
  {
   "cell_type": "markdown",
   "metadata": {
    "id": "GtzMfOn-xp13"
   },
   "source": [
    "# **Let's prepare the dataset**\n",
    "---"
   ]
  },
  {
   "cell_type": "markdown",
   "metadata": {
    "id": "wYZfs4uryhni"
   },
   "source": [
    "We use digits classification cases"
   ]
  },
  {
   "cell_type": "code",
   "execution_count": 2,
   "metadata": {
    "id": "I3-hZrNRzI1C"
   },
   "outputs": [],
   "source": [
    "from sklearn.datasets import load_digits"
   ]
  },
  {
   "cell_type": "code",
   "execution_count": 3,
   "metadata": {
    "colab": {
     "base_uri": "https://localhost:8080/"
    },
    "id": "1RAD0EMKxo6U",
    "outputId": "dc19cc78-47fe-4203-922d-034c95936eb0"
   },
   "outputs": [
    {
     "name": "stdout",
     "output_type": "stream",
     "text": [
      "X shape: (1797, 64)\n",
      "y shape: (1797,)\n"
     ]
    }
   ],
   "source": [
    "# import dataset\n",
    "X, y = load_digits(return_X_y=True)\n",
    "\n",
    "# Validate\n",
    "print('X shape:', X.shape)\n",
    "print('y shape:', y.shape)"
   ]
  },
  {
   "cell_type": "markdown",
   "metadata": {
    "id": "YHCD938Uyl-q"
   },
   "source": [
    "Next, we split the data into train, valid, and test set"
   ]
  },
  {
   "cell_type": "code",
   "execution_count": 4,
   "metadata": {
    "id": "96_LF7BYyZlK"
   },
   "outputs": [],
   "source": [
    "from sklearn.model_selection import train_test_split"
   ]
  },
  {
   "cell_type": "code",
   "execution_count": 5,
   "metadata": {
    "colab": {
     "base_uri": "https://localhost:8080/"
    },
    "id": "Y_Kw-TJjysXi",
    "outputId": "b42a6c6c-0b37-4dc9-d3da-7bbd89b597c3"
   },
   "outputs": [
    {
     "name": "stdout",
     "output_type": "stream",
     "text": [
      "X train shape: (1437, 64)\n",
      "y train shape: (1437,)\n",
      "X valid shape: (180, 64)\n",
      "y valid shape: (180,)\n",
      "X test shape : (180, 64)\n",
      "y test shape : (180,)\n"
     ]
    }
   ],
   "source": [
    "# Split train & (valid and test) --> 80:20\n",
    "X_train, X_test, y_train, y_test = train_test_split(\n",
    "    X,\n",
    "    y,\n",
    "    stratify=y,\n",
    "    test_size=0.2,\n",
    "    random_state=42\n",
    ")\n",
    "\n",
    "# Split valid & test --> 50:50\n",
    "X_valid, X_test, y_valid, y_test = train_test_split(\n",
    "    X_test,\n",
    "    y_test,\n",
    "    stratify=y_test,\n",
    "    test_size=0.5,\n",
    "    random_state=42\n",
    ")\n",
    "\n",
    "# Validate\n",
    "print('X train shape:', X_train.shape)\n",
    "print('y train shape:', y_train.shape)\n",
    "print('X valid shape:', X_valid.shape)\n",
    "print('y valid shape:', y_valid.shape)\n",
    "print('X test shape :', X_test.shape)\n",
    "print('y test shape :', y_test.shape)"
   ]
  },
  {
   "cell_type": "code",
   "execution_count": 6,
   "metadata": {
    "id": "qsG8zOK84Wh_"
   },
   "outputs": [],
   "source": [
    "# Convert to torch tensor\n",
    "X_train, y_train = torch.tensor(X_train, dtype=torch.float32), torch.tensor(y_train)\n",
    "X_valid, y_valid = torch.tensor(X_valid, dtype=torch.float32), torch.tensor(y_valid)\n",
    "X_test, y_test = torch.tensor(X_test, dtype=torch.float32), torch.tensor(y_test)"
   ]
  },
  {
   "cell_type": "markdown",
   "metadata": {
    "id": "hinxL0kb1OyP"
   },
   "source": [
    "# **Create a Comparison Function**\n",
    "---"
   ]
  },
  {
   "cell_type": "markdown",
   "metadata": {
    "id": "rR8NRx58z18q"
   },
   "source": [
    "Next, we create a utility function to compare manual gradients to PyTorch gradients"
   ]
  },
  {
   "cell_type": "code",
   "execution_count": 7,
   "metadata": {
    "id": "P1Fb0IfszwWh"
   },
   "outputs": [],
   "source": [
    "# This code is adapted from NN zero to hero, Andrej Karpathy\n",
    "def compare_grad(element, manual_grad, torch_node):\n",
    "    \"\"\"comparing manual gradients to PyTorch gradients\"\"\"\n",
    "    # Extract gradients\n",
    "    torch_grad = torch_node.grad\n",
    "\n",
    "    # Exact comparison\n",
    "    exact = torch.all(manual_grad == torch_grad).item()\n",
    "\n",
    "    # Approximate comparison\n",
    "    apprx = torch.allclose(manual_grad, torch_grad)\n",
    "\n",
    "    # Calculate maximum different between manual and torch gradients\n",
    "    max_diff = (\n",
    "        (manual_grad-torch_grad)    # calculate the difference\n",
    "        .abs()                      # then take the absolute value\n",
    "        .max()                      # and find the maximum value of it\n",
    "        .item()\n",
    "    )\n",
    "\n",
    "    # Print\n",
    "    print(f'{element:15s} | exact: {str(exact):5s} | approximate: {str(apprx):5s} | max diff.: {max_diff}')\n"
   ]
  },
  {
   "cell_type": "markdown",
   "metadata": {
    "id": "rHPt29SN1Swx"
   },
   "source": [
    "# **Create the Neural Network using PyTorch**\n",
    "---"
   ]
  },
  {
   "cell_type": "markdown",
   "metadata": {
    "id": "PvvGhw0z1aVd"
   },
   "source": [
    "- We create a neural network to classify the digits.\n",
    "- The architectures are\n",
    "  - Have 64 input dimensions\n",
    "  - Have 2 layers (1 hidden layer and 1 output layer)\n",
    "  - The output layer has 10 neurons (1 neuron for each digits)"
   ]
  },
  {
   "cell_type": "code",
   "execution_count": 8,
   "metadata": {
    "id": "mL_LHSCi1MTg"
   },
   "outputs": [],
   "source": [
    "# Defining the size\n",
    "n_in = 64\n",
    "n_hidden = 15\n",
    "n_out = 10"
   ]
  },
  {
   "cell_type": "code",
   "execution_count": 9,
   "metadata": {
    "colab": {
     "base_uri": "https://localhost:8080/"
    },
    "id": "ZwDeEMdM10oY",
    "outputId": "1e499416-bcfb-4c23-d037-b858edde574e"
   },
   "outputs": [
    {
     "name": "stdout",
     "output_type": "stream",
     "text": [
      "1165\n"
     ]
    }
   ],
   "source": [
    "# Create the Neural Network\n",
    "g = torch.Generator().manual_seed(42)\n",
    "\n",
    "# Layer 1 (The hidden layer)\n",
    "W1 = torch.randn((n_in, n_hidden),  generator=g) * (5/3) / (n_in**0.5)\n",
    "b1 = torch.randn(n_hidden,          generator=g) * 0.1\n",
    "\n",
    "# Layer 2 (The output layer)\n",
    "W2 = torch.randn((n_hidden, n_out), generator=g) * 0.1\n",
    "b2 = torch.randn(n_out,             generator=g) * 0.1\n",
    "\n",
    "# Batch normalization parameters\n",
    "bn_gain = torch.randn((1, n_hidden), generator=g) * 0.1 + 1.0\n",
    "bn_bias = torch.randn((1, n_hidden), generator=g) * 0.1\n",
    "\n",
    "# Get the parameters\n",
    "parameters = [W1, b1, W2, b2, bn_gain, bn_bias]\n",
    "print(sum(param.nelement() for param in parameters))\n",
    "\n",
    "# Activate the grad\n",
    "for param in parameters:\n",
    "    param.requires_grad = True\n"
   ]
  },
  {
   "cell_type": "markdown",
   "metadata": {
    "id": "yMEqMt7Q2kUB"
   },
   "source": [
    "Next, we create a single forward pass that we want to calculate its gradients manually. Yeay!"
   ]
  },
  {
   "cell_type": "code",
   "execution_count": 10,
   "metadata": {
    "colab": {
     "base_uri": "https://localhost:8080/"
    },
    "id": "shUqvUG02gx3",
    "outputId": "8f6d2348-85fe-4517-bd5c-c17b0cc6ab91"
   },
   "outputs": [
    {
     "name": "stdout",
     "output_type": "stream",
     "text": [
      "X_batch shape: torch.Size([16, 64])\n",
      "y_batch shape: torch.Size([16])\n"
     ]
    }
   ],
   "source": [
    "# Create a batch learning\n",
    "batch_size = 16\n",
    "n = batch_size\n",
    "\n",
    "# Construct a minibatch\n",
    "mini_ix = torch.randint(0, X_train.shape[0], (batch_size,), generator=g)\n",
    "X_batch, y_batch = X_train[mini_ix], y_train[mini_ix]\n",
    "\n",
    "# Validate\n",
    "print('X_batch shape:', X_batch.shape)\n",
    "print('y_batch shape:', y_batch.shape)"
   ]
  },
  {
   "cell_type": "code",
   "execution_count": 11,
   "metadata": {
    "colab": {
     "base_uri": "https://localhost:8080/"
    },
    "id": "KZQezbHC3DFL",
    "outputId": "953a6853-928c-4442-8f82-d25c46643171"
   },
   "outputs": [
    {
     "data": {
      "text/plain": [
       "tensor(2.2752, grad_fn=<NegBackward0>)"
      ]
     },
     "execution_count": 11,
     "metadata": {},
     "output_type": "execute_result"
    }
   ],
   "source": [
    "# Perform a forward pass\n",
    "\n",
    "# The hidden layer\n",
    "h_pre_bn = X_batch @ W1 + b1\n",
    "\n",
    "# Batch normalization layer\n",
    "bn_mean_i = (1./n) * h_pre_bn.sum(0, keepdim=True)\n",
    "bn_diff = h_pre_bn - bn_mean_i\n",
    "bn_diff2 = bn_diff**2\n",
    "bn_var = (1./(n-1)) * bn_diff2.sum(0, keepdim=True)\n",
    "bn_var_inv = (bn_var + 1e-5)**(-0.5)\n",
    "bn_raw = bn_diff * bn_var_inv\n",
    "h_pre_act = bn_gain * bn_raw + bn_bias\n",
    "\n",
    "# Non-linearity\n",
    "h = torch.tanh(h_pre_act)\n",
    "\n",
    "# The output layer\n",
    "logits = h @ W2 + b2\n",
    "\n",
    "# Calculate loss\n",
    "counts = logits.exp()\n",
    "counts_sum = counts.sum(1, keepdims=True)\n",
    "counts_sum_inv = counts_sum**-1\n",
    "probs = counts * counts_sum_inv\n",
    "log_probs = probs.log()\n",
    "loss = -log_probs[range(n), y_batch].mean()\n",
    "\n",
    "# Do the backward pass with PyTorch\n",
    "for p in parameters:\n",
    "    p.grad = None\n",
    "\n",
    "for p in [log_probs, probs, counts_sum_inv, counts_sum, counts,\n",
    "          logits, h, h_pre_act,\n",
    "          bn_raw, bn_var_inv, bn_var, bn_diff2, bn_diff, bn_mean_i,\n",
    "          h_pre_bn]:\n",
    "    p.retain_grad()\n",
    "\n",
    "loss.backward()\n",
    "loss"
   ]
  },
  {
   "cell_type": "markdown",
   "metadata": {
    "id": "vjsBTQSlqe02"
   },
   "source": [
    "# **Task 1: Backprop the whole things manually**\n",
    "---"
   ]
  },
  {
   "cell_type": "markdown",
   "metadata": {
    "id": "YPvFAK_Nqi1q"
   },
   "source": [
    "Similar to the pre-class video, perform backpropagation through the whole things manually and compare the gradients to the PyTorch gradients"
   ]
  },
  {
   "cell_type": "code",
   "execution_count": 13,
   "metadata": {
    "colab": {
     "base_uri": "https://localhost:8080/"
    },
    "id": "Zp0WMWM_qiab",
    "outputId": "e560b10b-457c-4656-d19a-faea20afa8f5"
   },
   "outputs": [
    {
     "name": "stdout",
     "output_type": "stream",
     "text": [
      "log_probs       | exact: True  | approximate: True  | max diff.: 0.0\n",
      "probs           | exact: True  | approximate: True  | max diff.: 0.0\n",
      "counts_sum_inv  | exact: True  | approximate: True  | max diff.: 0.0\n",
      "counts_sum      | exact: True  | approximate: True  | max diff.: 0.0\n",
      "counts          | exact: True  | approximate: True  | max diff.: 0.0\n",
      "logits          | exact: True  | approximate: True  | max diff.: 0.0\n",
      "h               | exact: True  | approximate: True  | max diff.: 0.0\n",
      "W2              | exact: True  | approximate: True  | max diff.: 0.0\n",
      "b2              | exact: True  | approximate: True  | max diff.: 0.0\n",
      "h_pre_act       | exact: False | approximate: True  | max diff.: 9.313225746154785e-10\n",
      "bn_bias         | exact: False | approximate: True  | max diff.: 3.725290298461914e-09\n",
      "bn_gain         | exact: False | approximate: True  | max diff.: 1.862645149230957e-09\n",
      "bn_raw          | exact: False | approximate: True  | max diff.: 9.313225746154785e-10\n",
      "bn_var_inv      | exact: False | approximate: True  | max diff.: 1.4901161193847656e-08\n",
      "bn_var          | exact: False | approximate: True  | max diff.: 2.9103830456733704e-11\n",
      "bn_diff2        | exact: False | approximate: True  | max diff.: 1.8189894035458565e-12\n",
      "bn_diff         | exact: False | approximate: True  | max diff.: 2.3283064365386963e-10\n",
      "bn_mean_i       | exact: False | approximate: True  | max diff.: 9.313225746154785e-10\n",
      "h_pre_bn        | exact: False | approximate: True  | max diff.: 2.3283064365386963e-10\n",
      "W1              | exact: False | approximate: True  | max diff.: 1.6763806343078613e-08\n",
      "b1              | exact: False | approximate: True  | max diff.: 1.1932570487260818e-09\n"
     ]
    }
   ],
   "source": [
    "dlog_probs = torch.zeros_like(log_probs)\n",
    "dlog_probs[range(n), y_batch] = -1./n\n",
    "dprobs = (1./probs) * dlog_probs\n",
    "dcounts_sum_inv = (counts*dprobs).sum(1, keepdim=True)\n",
    "dcounts_sum = (-1) * (counts_sum**(-2)) * dcounts_sum_inv\n",
    "dcounts = counts_sum_inv * dprobs\n",
    "dcounts += torch.ones_like(counts) * dcounts_sum\n",
    "dlogits = counts * dcounts\n",
    "dh = dlogits @ W2.T\n",
    "dW2 = h.T @ dlogits\n",
    "db2 = dlogits.sum(0)\n",
    "dh_pre_act = (1. - h**2) * dh\n",
    "dbn_bias = dh_pre_act.sum(0, keepdim=True)\n",
    "dbn_gain = (bn_raw * dh_pre_act).sum(0, keepdim=True)\n",
    "dbn_raw = bn_gain * dh_pre_act\n",
    "dbn_var_inv = (bn_diff*dbn_raw).sum(0, keepdim=True)\n",
    "dbn_var = (-0.5)*((bn_var + 1e-5)**(-1.5)) * dbn_var_inv\n",
    "dbn_diff2 = (1./(n-1)) * torch.ones_like(bn_diff2) * dbn_var\n",
    "dbn_diff = 2. * bn_diff * dbn_diff2\n",
    "dbn_diff += bn_var_inv * dbn_raw\n",
    "dbn_mean_i = -1. * dbn_diff.sum(0, keepdim=True)\n",
    "dh_pre_bn = dbn_diff.clone()\n",
    "dh_pre_bn += (1./n) * torch.ones_like(h_pre_bn) * dbn_mean_i\n",
    "dW1 = X_batch.T @ dh_pre_bn\n",
    "db1 = dh_pre_bn.sum(0)\n",
    "\n",
    "# Compare the gradients\n",
    "compare_grad('log_probs', dlog_probs, log_probs)\n",
    "compare_grad('probs', dprobs, probs)\n",
    "compare_grad('counts_sum_inv', dcounts_sum_inv, counts_sum_inv)\n",
    "compare_grad('counts_sum', dcounts_sum, counts_sum)\n",
    "compare_grad('counts', dcounts, counts)\n",
    "compare_grad('logits', dlogits, logits)\n",
    "compare_grad('h', dh, h)\n",
    "compare_grad('W2', dW2, W2)\n",
    "compare_grad('b2', db2, b2)\n",
    "compare_grad('h_pre_act', dh_pre_act, h_pre_act)\n",
    "compare_grad('bn_bias', dbn_bias, bn_bias)\n",
    "compare_grad('bn_gain', dbn_gain, bn_gain)\n",
    "compare_grad('bn_raw', dbn_raw, bn_raw)\n",
    "compare_grad('bn_var_inv', dbn_var_inv, bn_var_inv)\n",
    "compare_grad('bn_var', dbn_var, bn_var)\n",
    "compare_grad('bn_diff2', dbn_diff2, bn_diff2)\n",
    "compare_grad('bn_diff', dbn_diff, bn_diff)\n",
    "compare_grad('bn_mean_i', dbn_mean_i, bn_mean_i)\n",
    "compare_grad('h_pre_bn', dh_pre_bn, h_pre_bn)\n",
    "compare_grad('W1', dW1, W1)\n",
    "compare_grad('b1', db1, b1)"
   ]
  },
  {
   "cell_type": "markdown",
   "metadata": {
    "id": "dFyrf3hJGXh0"
   },
   "source": [
    "# **Task 2: Backprop the cross entropy loss**\n",
    "---"
   ]
  },
  {
   "cell_type": "markdown",
   "metadata": {
    "id": "jRthUKa5GXh1"
   },
   "source": [
    "This is too long\n",
    "\n",
    "```python\n",
    "# Calculate loss\n",
    "counts = logits.exp()\n",
    "counts_sum = counts.sum(1, keepdims=True)\n",
    "counts_sum_inv = counts_sum**-1\n",
    "probs = counts * counts_sum_inv\n",
    "log_probs = probs.log()\n",
    "loss = -log_probs[range(n), y_batch].mean()\n",
    "```\n",
    "\n",
    "We can simplify this as"
   ]
  },
  {
   "cell_type": "code",
   "execution_count": 14,
   "metadata": {
    "colab": {
     "base_uri": "https://localhost:8080/"
    },
    "id": "BLf5ib6yGT_I",
    "outputId": "c3a82756-7181-4643-ea77-5e06daba7fa3"
   },
   "outputs": [
    {
     "name": "stdout",
     "output_type": "stream",
     "text": [
      "2.2752017974853516\n",
      "Difference to before: 2.384185791015625e-07\n"
     ]
    }
   ],
   "source": [
    "# Simplify\n",
    "loss_simple = F.cross_entropy(input=logits, target=y_batch)\n",
    "\n",
    "# Print\n",
    "print(loss_simple.item())\n",
    "print(f'Difference to before: {(loss_simple-loss).item()}')"
   ]
  },
  {
   "cell_type": "markdown",
   "metadata": {
    "id": "oqLIlqr0HXmS"
   },
   "source": [
    "Then, find the gradients of loss w.r.t the logits manually"
   ]
  },
  {
   "cell_type": "code",
   "execution_count": 15,
   "metadata": {
    "colab": {
     "base_uri": "https://localhost:8080/"
    },
    "id": "C7NG8rGJHWFg",
    "outputId": "11f5a9e0-43eb-4b45-baf0-a17cb0397b9d"
   },
   "outputs": [
    {
     "name": "stdout",
     "output_type": "stream",
     "text": [
      "logits          | exact: False | approximate: True  | max diff.: 7.450580596923828e-09\n"
     ]
    }
   ],
   "source": [
    "# Softmax function\n",
    "dlogits_simple = F.softmax(logits, 1)\n",
    "dlogits_simple[range(n), y_batch] -= 1\n",
    "dlogits_simple /= n\n",
    "\n",
    "# Compare the gradients\n",
    "compare_grad('logits', dlogits_simple, logits)"
   ]
  },
  {
   "cell_type": "markdown",
   "metadata": {
    "id": "nYodVhswJxfK"
   },
   "source": [
    "# **Task 3: Train with manual backpropagation**\n",
    "---"
   ]
  },
  {
   "cell_type": "markdown",
   "metadata": {
    "id": "UPVzug2GH-_F"
   },
   "source": [
    "First, reinitialize the weights"
   ]
  },
  {
   "cell_type": "code",
   "execution_count": 16,
   "metadata": {
    "colab": {
     "base_uri": "https://localhost:8080/"
    },
    "id": "OQrwuT_LIJYi",
    "outputId": "8c54c256-5f7f-40c4-8b48-9318b7256182"
   },
   "outputs": [
    {
     "name": "stdout",
     "output_type": "stream",
     "text": [
      "1165\n"
     ]
    }
   ],
   "source": [
    "# Create the Neural Network\n",
    "g = torch.Generator().manual_seed(42)\n",
    "\n",
    "# Layer 1 (The hidden layer)\n",
    "W1 = torch.randn((n_in, n_hidden),  generator=g) * (5/3) / (n_in**0.5)\n",
    "b1 = torch.randn(n_hidden,          generator=g) * 0.1\n",
    "\n",
    "# Layer 2 (The output layer)\n",
    "W2 = torch.randn((n_hidden, n_out), generator=g) * 0.1\n",
    "b2 = torch.randn(n_out,             generator=g) * 0.1\n",
    "\n",
    "# Batch normalization parameters\n",
    "bn_gain = torch.randn((1, n_hidden), generator=g) * 0.1 + 1.0\n",
    "bn_bias = torch.randn((1, n_hidden), generator=g) * 0.1\n",
    "\n",
    "# Get the parameters\n",
    "parameters = [W1, b1, W2, b2, bn_gain, bn_bias]\n",
    "print(sum(param.nelement() for param in parameters))\n",
    "\n",
    "# Activate the grad\n",
    "for param in parameters:\n",
    "    param.requires_grad = True\n"
   ]
  },
  {
   "cell_type": "markdown",
   "metadata": {
    "id": "L2cqKERWILtC"
   },
   "source": [
    "Then let's train"
   ]
  },
  {
   "cell_type": "code",
   "execution_count": 17,
   "metadata": {
    "colab": {
     "base_uri": "https://localhost:8080/"
    },
    "id": "Fl3m3v3DILMq",
    "outputId": "9aaf7dd8-6f9b-4277-9564-acec6bf631b7"
   },
   "outputs": [
    {
     "name": "stdout",
     "output_type": "stream",
     "text": [
      "       0/  100000: 2.2752\n",
      "   10000/  100000: 0.0575\n",
      "   20000/  100000: 0.0262\n",
      "   30000/  100000: 0.0202\n",
      "   40000/  100000: 0.0043\n",
      "   50000/  100000: 0.0404\n",
      "   60000/  100000: 0.3940\n",
      "   70000/  100000: 0.0029\n",
      "   80000/  100000: 0.0019\n",
      "   90000/  100000: 0.0038\n"
     ]
    }
   ],
   "source": [
    "max_steps = 100_000\n",
    "batch_size = 16\n",
    "n = batch_size\n",
    "losses = []\n",
    "\n",
    "# We will calculate the grad manually\n",
    "with torch.no_grad():\n",
    "\n",
    "    # Start optimizing\n",
    "    for i in range(max_steps):\n",
    "        # Construct a minibatch\n",
    "        mini_ix = torch.randint(0, X_train.shape[0], (batch_size,), generator=g)\n",
    "        X_batch, y_batch = X_train[mini_ix], y_train[mini_ix]\n",
    "\n",
    "        # Perform the forward pass\n",
    "        h_pre_bn = X_batch @ W1 + b1\n",
    "        bn_mean_i = (1./n) * h_pre_bn.sum(0, keepdim=True)\n",
    "        bn_diff = h_pre_bn - bn_mean_i\n",
    "        bn_diff2 = bn_diff**2\n",
    "        bn_var = (1./(n-1)) * bn_diff2.sum(0, keepdim=True)\n",
    "        bn_var_inv = (bn_var + 1e-5)**(-0.5)\n",
    "        bn_raw = bn_diff * bn_var_inv\n",
    "        h_pre_act = bn_gain * bn_raw + bn_bias\n",
    "        h = torch.tanh(h_pre_act)\n",
    "        logits = h @ W2 + b2\n",
    "\n",
    "        # Calculate loss\n",
    "        loss = F.cross_entropy(input=logits, target=y_batch)\n",
    "\n",
    "        # Let's do the backward pass\n",
    "        for p in parameters:\n",
    "            p.grad = None\n",
    "\n",
    "        # Let's manually calculate the gradients\n",
    "        dlogits = F.softmax(logits, 1)\n",
    "        dlogits[range(n), y_batch] -= 1\n",
    "        dlogits /= n\n",
    "        dh = dlogits @ W2.T\n",
    "        dW2 = h.T @ dlogits\n",
    "        db2 = dlogits.sum(0)\n",
    "        dh_pre_act = (1. - h**2) * dh\n",
    "        dbn_bias = dh_pre_act.sum(0, keepdim=True)\n",
    "        dbn_gain = (bn_raw * dh_pre_act).sum(0, keepdim=True)\n",
    "        dbn_raw = bn_gain * dh_pre_act\n",
    "        dbn_var_inv = (bn_diff*dbn_raw).sum(0, keepdim=True)\n",
    "        dbn_var = (-0.5)*((bn_var + 1e-5)**(-1.5)) * dbn_var_inv\n",
    "        dbn_diff2 = (1./(n-1)) * torch.ones_like(bn_diff2) * dbn_var\n",
    "        dbn_diff = 2. * bn_diff * dbn_diff2\n",
    "        dbn_diff += bn_var_inv * dbn_raw\n",
    "        dbn_mean_i = -1. * dbn_diff.sum(0, keepdim=True)\n",
    "        dh_pre_bn = dbn_diff.clone()\n",
    "        dh_pre_bn += (1./n) * torch.ones_like(h_pre_bn) * dbn_mean_i\n",
    "        dW1 = X_batch.T @ dh_pre_bn\n",
    "        db1 = dh_pre_bn.sum(0)\n",
    "        grads = [dW1, db1, dW2, db2, dbn_gain, dbn_bias]  # store the grads of our model parameters\n",
    "\n",
    "        # Update the model parameters\n",
    "        lr = 0.1 if i < 50_000 else 0.01\n",
    "        for p, grad in zip(parameters, grads):\n",
    "            p.data += -lr * grad\n",
    "\n",
    "        # Track\n",
    "        if i%10000 == 0:\n",
    "            print(f'{i:8d}/{max_steps:8d}: {loss.item():.4f}')\n",
    "        losses.append(loss.log().item())\n"
   ]
  },
  {
   "cell_type": "code",
   "execution_count": 18,
   "metadata": {
    "id": "3of1KuWTNI9t"
   },
   "outputs": [],
   "source": [
    "# Calibrate the batch normalization layer\n",
    "with torch.no_grad():\n",
    "    # pass the training set through\n",
    "    h_pre_bn = X_train @ W1 + b1\n",
    "    bn_mean_i = (1./n) * h_pre_bn.sum(0, keepdim=True)\n",
    "    bn_diff = h_pre_bn - bn_mean_i\n",
    "    bn_diff2 = bn_diff**2\n",
    "    bn_var = (1./(n-1)) * bn_diff2.sum(0, keepdim=True)\n",
    "    bn_var_inv = (bn_var + 1e-5)**(-0.5)\n",
    "    bn_raw = bn_diff * bn_var_inv\n",
    "    h_pre_act = bn_gain * bn_raw + bn_bias\n",
    "\n",
    "    # measure the mean/std over the entire training set\n",
    "    bn_mean = h_pre_act.mean(0, keepdim=True)\n",
    "    bn_var = h_pre_act.var(0, keepdim=True, unbiased=True)"
   ]
  },
  {
   "cell_type": "markdown",
   "metadata": {
    "id": "uxSc2FegJ0Kb"
   },
   "source": [
    "Lets evaluate"
   ]
  },
  {
   "cell_type": "code",
   "execution_count": 19,
   "metadata": {
    "colab": {
     "base_uri": "https://localhost:8080/"
    },
    "id": "yTu3mdghJ3SP",
    "outputId": "cbac6d3c-d32e-4a76-fe61-bca5bd52cbf1"
   },
   "outputs": [
    {
     "name": "stdout",
     "output_type": "stream",
     "text": [
      "train 0.6982054710388184\n",
      "valid 0.9543957114219666\n"
     ]
    }
   ],
   "source": [
    "@torch.no_grad()\n",
    "def check_loss(split):\n",
    "    X, y = {\n",
    "    'train': (X_train, y_train),\n",
    "    'valid': (X_valid, y_valid),\n",
    "    'test': (X_test, y_test),\n",
    "    }[split]\n",
    "\n",
    "    # Perform a forward pass\n",
    "    h_pre_bn = X @ W1 + b1\n",
    "    bn_diff = h_pre_bn - bn_mean\n",
    "    bn_var_inv = (bn_var + 1e-5)**(-0.5)\n",
    "    bn_raw = bn_diff * bn_var_inv\n",
    "    h_pre_act = bn_gain * bn_raw + bn_bias\n",
    "    h = torch.tanh(h_pre_act)\n",
    "    logits = h @ W2 + b2\n",
    "    loss = F.cross_entropy(logits, y)\n",
    "\n",
    "    print(split, loss.item())\n",
    "\n",
    "check_loss('train')\n",
    "check_loss('valid')"
   ]
  },
  {
   "cell_type": "markdown",
   "metadata": {
    "id": "dYlqpmIbKvS4"
   },
   "source": [
    "Let's predict"
   ]
  },
  {
   "cell_type": "code",
   "execution_count": 20,
   "metadata": {
    "id": "YrYdHh48K5W4"
   },
   "outputs": [],
   "source": [
    "@torch.no_grad()\n",
    "def predict(split):\n",
    "    X, y = {\n",
    "    'train': (X_train, y_train),\n",
    "    'valid': (X_valid, y_valid),\n",
    "    'test': (X_test, y_test),\n",
    "    }[split]\n",
    "\n",
    "    # Perform a forward pass\n",
    "    h_pre_bn = X @ W1 + b1\n",
    "    bn_diff = h_pre_bn - bn_mean\n",
    "    bn_var_inv = (bn_var + 1e-5)**(-0.5)\n",
    "    bn_raw = bn_diff * bn_var_inv\n",
    "    h_pre_act = bn_gain * bn_raw + bn_bias\n",
    "    h = torch.tanh(h_pre_act)\n",
    "    logits = h @ W2 + b2\n",
    "    probs = F.softmax(logits, dim=1)\n",
    "    y_pred = probs.max(1).indices\n",
    "    y_pred_proba = probs.max(1).values\n",
    "\n",
    "    return y_pred, y_pred_proba\n",
    "\n",
    "y_test_pred, y_test_pred_proba = predict('test')"
   ]
  },
  {
   "cell_type": "code",
   "execution_count": 21,
   "metadata": {
    "colab": {
     "base_uri": "https://localhost:8080/",
     "height": 117
    },
    "id": "FcQtZFrcJV9g",
    "outputId": "f46a90a5-78cf-442f-c522-ed2d0ca2b947"
   },
   "outputs": [
    {
     "data": {
      "image/png": "[encoded data removed]",
      "text/plain": [
       "<Figure size 1500x100 with 5 Axes>"
      ]
     },
     "metadata": {},
     "output_type": "display_data"
    }
   ],
   "source": [
    "# plot\n",
    "ix = torch.randint(0, X_test.shape[0], (5,))\n",
    "fig, axes = plt.subplots(nrows=1, ncols=5, figsize=(15, 1))\n",
    "for ax, img, act, pred, proba in zip(axes, X_test[ix], y_test[ix], y_test_pred[ix], y_test_pred_proba[ix]):\n",
    "    ax.set_axis_off()\n",
    "    ax.imshow(img.reshape(8, 8), cmap=plt.cm.gray_r, interpolation='nearest')\n",
    "    ax.set_title(f'Actual: {act}, Predicted: {pred}\\nProba: {proba:.4f}', fontsize=12)"
   ]
  }
 ],
 "metadata": {
  "colab": {
   "collapsed_sections": [
    "GtzMfOn-xp13",
    "hinxL0kb1OyP",
    "rHPt29SN1Swx",
    "vjsBTQSlqe02",
    "dFyrf3hJGXh0",
    "nYodVhswJxfK"
   ],
   "provenance": []
  },
  "kernelspec": {
   "display_name": ".venv",
   "language": "python",
   "name": "python3"
  },
  "language_info": {
   "codemirror_mode": {
    "name": "ipython",
    "version": 3
   },
   "file_extension": ".py",
   "mimetype": "text/x-python",
   "name": "python",
   "nbconvert_exporter": "python",
   "pygments_lexer": "ipython3",
   "version": "3.10.14"
  }
 },
 "nbformat": 4,
 "nbformat_minor": 1
}
