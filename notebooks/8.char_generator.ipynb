{
 "cells": [
  {
   "cell_type": "markdown",
   "metadata": {
    "id": "lLeBPHrLAgz2"
   },
   "source": [
    "# **8. Char Generator**"
   ]
  },
  {
   "cell_type": "markdown",
   "metadata": {
    "id": "Wgaap8YjApQQ"
   },
   "source": [
    "- This is adopted from [Makemore, Andrej Karpathy](https://github.com/karpathy/makemore)\n",
    "- Karpathy refers to [Bengio et al. 2003](https://www.jmlr.org/papers/volume3/bengio03a/bengio03a.pdf) (**Note:** please read this paper first)"
   ]
  },
  {
   "cell_type": "markdown",
   "metadata": {
    "id": "lKU_T7yhA-OG"
   },
   "source": [
    "What are we going to do?\n",
    "- We will create the char generator to **generate Indonesian names**.\n",
    "- The dataset we're using is scrapped from public website."
   ]
  },
  {
   "cell_type": "markdown",
   "metadata": {
    "id": "fuP65y6mCSbp"
   },
   "source": [
    "# **$1^{\\text{st}}$ Try - Understand the Modeling Pipeline (from the paper)**\n",
    "---"
   ]
  },
  {
   "cell_type": "code",
   "execution_count": 1,
   "metadata": {
    "id": "KJYiN_jyAYS-"
   },
   "outputs": [],
   "source": [
    "# Import library\n",
    "import torch\n",
    "import torch.nn as nn\n",
    "import torch.nn.functional as F"
   ]
  },
  {
   "cell_type": "markdown",
   "metadata": {
    "id": "5w2Uxzj3EObS"
   },
   "source": [
    "## 1.1 Read the data\n",
    "---"
   ]
  },
  {
   "cell_type": "markdown",
   "metadata": {
    "id": "ei_l9nXCCpcT"
   },
   "source": [
    "- First, we can read all the name from file `indonesian_name.txt`"
   ]
  },
  {
   "cell_type": "code",
   "execution_count": 2,
   "metadata": {
    "id": "G8teLxMKCo23"
   },
   "outputs": [],
   "source": [
    "WORDS_PATH = '../data/indonesian_name.txt'"
   ]
  },
  {
   "cell_type": "code",
   "execution_count": 3,
   "metadata": {
    "colab": {
     "base_uri": "https://localhost:8080/"
    },
    "id": "eTttwA5nC2w7",
    "outputId": "8a566408-6648-4288-a858-e565ca77477f"
   },
   "outputs": [
    {
     "name": "stdout",
     "output_type": "stream",
     "text": [
      "Number of words      : 7872\n",
      "Maximum chars in word: 17\n",
      "['aaron', 'ababiel', 'abadi', 'aban', 'abbil', 'abbiyu', 'abd', 'abdalla', 'abdallah', 'abdi']\n"
     ]
    }
   ],
   "source": [
    "# Get all the words\n",
    "words = (\n",
    "    open(WORDS_PATH, 'r')\n",
    "    .read()\n",
    "    .splitlines()\n",
    ")\n",
    "\n",
    "print(f'Number of words      :', len(words))\n",
    "print(f'Maximum chars in word:', max([len(w) for w in words]))\n",
    "print(words[:10])"
   ]
  },
  {
   "cell_type": "markdown",
   "metadata": {
    "id": "VtYg7szbDfv0"
   },
   "source": [
    "- Now get the characters"
   ]
  },
  {
   "cell_type": "code",
   "execution_count": 4,
   "metadata": {
    "colab": {
     "base_uri": "https://localhost:8080/"
    },
    "id": "XhlJsOe8DQSA",
    "outputId": "7d73bb71-5391-433d-df51-d5ec14a82b84"
   },
   "outputs": [
    {
     "name": "stdout",
     "output_type": "stream",
     "text": [
      "Number of chars: 26\n",
      "abcdefghijklmnopqrstuvwxyz\n"
     ]
    }
   ],
   "source": [
    "# Get all the characters\n",
    "chars = sorted(list(set(''.join(words))))\n",
    "\n",
    "print(f'Number of chars:', len(chars))\n",
    "print(''.join(chars))"
   ]
  },
  {
   "cell_type": "markdown",
   "metadata": {
    "id": "J_TFTwdUDhnF"
   },
   "source": [
    "- Next, create mappers\n",
    "  - index to char\n",
    "  - char to index"
   ]
  },
  {
   "cell_type": "code",
   "execution_count": 5,
   "metadata": {
    "colab": {
     "base_uri": "https://localhost:8080/"
    },
    "id": "7NQfFFR4DoOl",
    "outputId": "fda2c41c-9554-4785-aab5-dd2fc6c5f1e3"
   },
   "outputs": [
    {
     "name": "stdout",
     "output_type": "stream",
     "text": [
      "Vocab size: 27\n",
      "Index to char\n",
      "{1: 'a', 2: 'b', 3: 'c', 4: 'd', 5: 'e', 6: 'f', 7: 'g', 8: 'h', 9: 'i', 10: 'j', 11: 'k', 12: 'l', 13: 'm', 14: 'n', 15: 'o', 16: 'p', 17: 'q', 18: 'r', 19: 's', 20: 't', 21: 'u', 22: 'v', 23: 'w', 24: 'x', 25: 'y', 26: 'z', 0: '.'}\n"
     ]
    }
   ],
   "source": [
    "# Create char to index\n",
    "ctoi = {char:idx+1 for idx, char in enumerate(chars)}\n",
    "ctoi['.'] = 0       # For defining stop condition\n",
    "\n",
    "# Create index to char\n",
    "itoc = {idx:char for char, idx in ctoi.items()}\n",
    "\n",
    "# Get the vocab size, i.e. the char size in ctoi or itoc\n",
    "vocab_size = len(itoc)\n",
    "\n",
    "print(f'Vocab size: {vocab_size}')\n",
    "print(f'Index to char')\n",
    "print(itoc)"
   ]
  },
  {
   "cell_type": "markdown",
   "metadata": {
    "id": "M8-zREx3ERYv"
   },
   "source": [
    "## 1.2 Build dataset\n",
    "---"
   ]
  },
  {
   "cell_type": "markdown",
   "metadata": {
    "id": "GP8MqTlyF8XE"
   },
   "source": [
    "- We're going to predict the next word, e.g.\n",
    "- Using number of context = 8\n",
    "\n",
    "```\n",
    "for 'budi'\n",
    "input, target\n",
    "........ -> b\n",
    ".......b -> u\n",
    "......bu -> d\n",
    ".....bud -> i\n",
    "....budi -> .\n",
    "```\n",
    "\n",
    "```\n",
    "for 'gumelar'\n",
    "input, target\n",
    "........ -> g\n",
    ".......g -> u\n",
    "......gu -> m\n",
    ".....gum -> e\n",
    "....gume -> l\n",
    "...gumel -> a\n",
    "..gumela -> r\n",
    ".gumelar -> .\n",
    "```"
   ]
  },
  {
   "cell_type": "code",
   "execution_count": 6,
   "metadata": {
    "id": "K7CS44G2EUBl"
   },
   "outputs": [],
   "source": [
    "# Define block size\n",
    "BLOCK_SIZE = 8"
   ]
  },
  {
   "cell_type": "code",
   "execution_count": 7,
   "metadata": {
    "id": "ld_bObgrHGNO"
   },
   "outputs": [],
   "source": [
    "def build_dataset(words):\n",
    "    X, y = [], []\n",
    "\n",
    "    # Iterate over words\n",
    "    for word in words:\n",
    "        # Generate the context (input)\n",
    "        # i.e. [0, 0, 0, 0, 0, 0, 0, 0] --> we will fill the context with chars index\n",
    "        context = [0] * BLOCK_SIZE\n",
    "\n",
    "        # Fill the context fo every word + '.', e.g. 'budi.'\n",
    "        for char in word + '.':\n",
    "            # Get char index\n",
    "            ix = ctoi[char]\n",
    "\n",
    "            # Append context to X and target to y\n",
    "            X.append(context)\n",
    "            y.append(ix)\n",
    "\n",
    "            # Roll the context\n",
    "            context = context[1:] + [ix]\n",
    "\n",
    "    # Convert to tensor\n",
    "    X = torch.tensor(X)\n",
    "    y = torch.tensor(y)\n",
    "\n",
    "    # Validate\n",
    "    print('X shape:', X.shape)\n",
    "    print('y shape:', y.shape)\n",
    "\n",
    "    return X, y\n"
   ]
  },
  {
   "cell_type": "code",
   "execution_count": 8,
   "metadata": {
    "colab": {
     "base_uri": "https://localhost:8080/"
    },
    "id": "utMcs97nICH1",
    "outputId": "eafce71e-3663-486b-89d0-68a549a23b90"
   },
   "outputs": [
    {
     "name": "stdout",
     "output_type": "stream",
     "text": [
      "X shape: torch.Size([60887, 8])\n",
      "y shape: torch.Size([60887])\n"
     ]
    }
   ],
   "source": [
    "X, y = build_dataset(words)"
   ]
  },
  {
   "cell_type": "code",
   "execution_count": 9,
   "metadata": {
    "colab": {
     "base_uri": "https://localhost:8080/"
    },
    "id": "hS6YgwDnIE0C",
    "outputId": "52a9db54-ec3c-4ee5-b5c1-f3d44c7c4bf7"
   },
   "outputs": [
    {
     "name": "stdout",
     "output_type": "stream",
     "text": [
      "context  --> target\n",
      "====================\n",
      "........ --> a\n",
      ".......a --> a\n",
      "......aa --> r\n",
      ".....aar --> o\n",
      "....aaro --> n\n",
      "...aaron --> .\n",
      "........ --> a\n",
      ".......a --> b\n",
      "......ab --> a\n",
      ".....aba --> b\n",
      "....abab --> i\n",
      "...ababi --> e\n",
      "..ababie --> l\n",
      ".ababiel --> .\n",
      "........ --> a\n",
      ".......a --> b\n",
      "......ab --> a\n",
      ".....aba --> d\n",
      "....abad --> i\n",
      "...abadi --> .\n",
      "........ --> a\n",
      ".......a --> b\n",
      "......ab --> a\n",
      ".....aba --> n\n",
      "....aban --> .\n"
     ]
    }
   ],
   "source": [
    "# Print dataset sample\n",
    "print('context ', '-->', 'target')\n",
    "print(20*'=')\n",
    "for context_idx, target_idx in zip(X[:25], y[:25]):\n",
    "    context_char = ''.join([itoc[idx.item()] for idx in context_idx])\n",
    "    target_char = itoc[target_idx.item()]\n",
    "\n",
    "    print(context_char, '-->', target_char)"
   ]
  },
  {
   "cell_type": "markdown",
   "metadata": {
    "id": "RB1b_36II4mr"
   },
   "source": [
    "- Now, let's split the data\n",
    "- 80% train, 10% valid, 10% test"
   ]
  },
  {
   "cell_type": "code",
   "execution_count": 10,
   "metadata": {
    "id": "bvPC-8LIIkdo"
   },
   "outputs": [],
   "source": [
    "import random"
   ]
  },
  {
   "cell_type": "code",
   "execution_count": 11,
   "metadata": {
    "colab": {
     "base_uri": "https://localhost:8080/"
    },
    "id": "8CO1x2U6I9j2",
    "outputId": "000f6d17-ea2c-40fb-ca6d-20d757919262"
   },
   "outputs": [
    {
     "name": "stdout",
     "output_type": "stream",
     "text": [
      "X shape: torch.Size([48740, 8])\n",
      "y shape: torch.Size([48740])\n",
      "X shape: torch.Size([6128, 8])\n",
      "y shape: torch.Size([6128])\n",
      "X shape: torch.Size([6019, 8])\n",
      "y shape: torch.Size([6019])\n"
     ]
    }
   ],
   "source": [
    "random.seed(42)\n",
    "\n",
    "# Shuffle the word first\n",
    "random.shuffle(words)\n",
    "\n",
    "# Get the split size\n",
    "n1 = int(0.8*len(words))\n",
    "n2 = int(0.9*len(words))\n",
    "\n",
    "# Split the dataset\n",
    "X_train, y_train = build_dataset(words[:n1])\n",
    "X_valid, y_valid = build_dataset(words[n1:n2])\n",
    "X_test, y_test = build_dataset(words[n2:])"
   ]
  },
  {
   "cell_type": "markdown",
   "metadata": {
    "id": "wf6tB6uaJfe5"
   },
   "source": [
    "## 1.3 Modeling\n",
    "---"
   ]
  },
  {
   "cell_type": "markdown",
   "metadata": {
    "id": "vRhVJytLNL3E"
   },
   "source": [
    "- From Bengio et. al (2023), we want to create this kind of architectures\n",
    "\n",
    "![](../assets/mlp_arch_bengio.png)"
   ]
  },
  {
   "cell_type": "markdown",
   "metadata": {
    "id": "C36ItKvZNZTB"
   },
   "source": [
    "- So, our architecture should be consist of two building blocks, i.e.\n",
    "  1. The character vectorizer --> embedding\n",
    "  2. The multiclass classifier --> could be anything, e.g. logistic regression, MLP, RNN, etc."
   ]
  },
  {
   "cell_type": "markdown",
   "metadata": {
    "id": "aAkVZDMTR7Wh"
   },
   "source": [
    "### **1. Character Embedding**\n",
    "\n",
    "---"
   ]
  },
  {
   "cell_type": "markdown",
   "metadata": {
    "id": "-XSUMqcnNn14"
   },
   "source": [
    "- The embedding convert a character to a vector, e.g. embedding of our character vocabulary to vector with 10 dimensions\n",
    "\n",
    "```\n",
    "illustration\n",
    "'.' --> [0.3, 0.2, 0.1, 0.3, 0.5, -0.1, 0.9, -2.2, 1.0]\n",
    "'a' --> [0.4, 0.1, 0.5, 1.3, 6.5, -2.1, -0.9, -2.1, 5.0]\n",
    "...\n",
    "```"
   ]
  },
  {
   "cell_type": "markdown",
   "metadata": {
    "id": "DFrhZw1dOje4"
   },
   "source": [
    "- Let's create the embedding vector `C`"
   ]
  },
  {
   "cell_type": "code",
   "execution_count": 12,
   "metadata": {
    "id": "X6udiZveJgek"
   },
   "outputs": [],
   "source": [
    "g = torch.Generator().manual_seed(42)"
   ]
  },
  {
   "cell_type": "code",
   "execution_count": 13,
   "metadata": {
    "colab": {
     "base_uri": "https://localhost:8080/"
    },
    "id": "2dKnQkfpOpq1",
    "outputId": "69142303-85f7-436f-aec4-3c7d01affd70"
   },
   "outputs": [
    {
     "data": {
      "text/plain": [
       "tensor([[ 1.9269,  1.4873,  0.9007],\n",
       "        [-2.1055,  0.6784, -1.2345],\n",
       "        [-0.0431, -1.6047, -0.7521],\n",
       "        [ 1.6487, -0.3925, -1.4036],\n",
       "        [-0.7279, -0.5594, -0.7688]])"
      ]
     },
     "execution_count": 13,
     "metadata": {},
     "output_type": "execute_result"
    }
   ],
   "source": [
    "# Define embedding dimension\n",
    "n_embd = 3\n",
    "\n",
    "# Create embedding vector\n",
    "C = torch.randn((vocab_size, n_embd), generator=g)\n",
    "C[:5]"
   ]
  },
  {
   "cell_type": "markdown",
   "metadata": {
    "id": "X8lK5RniPCzM"
   },
   "source": [
    "- So the vector of char `'.'` is `[ 1.9269,  1.4873,  0.9007]`"
   ]
  },
  {
   "cell_type": "markdown",
   "metadata": {
    "id": "KAi2OlkxPNs2"
   },
   "source": [
    "- Before inserting to the classifier, we need to flatten all the embedding vector.\n",
    "\n",
    "<img src=\"../assets/mlp_arch_bengio_detail.png\">"
   ]
  },
  {
   "cell_type": "markdown",
   "metadata": {
    "id": "_xPWb3LgQRhO"
   },
   "source": [
    "- Say we want to flatten 2 datas"
   ]
  },
  {
   "cell_type": "code",
   "execution_count": 14,
   "metadata": {
    "colab": {
     "base_uri": "https://localhost:8080/"
    },
    "id": "wDg33KhlO68N",
    "outputId": "9f47e5bf-1fa4-4317-da35-4776e3093429"
   },
   "outputs": [
    {
     "name": "stdout",
     "output_type": "stream",
     "text": [
      "torch.Size([2, 8])\n"
     ]
    },
    {
     "data": {
      "text/plain": [
       "tensor([[ 0,  0,  0,  0,  0,  0,  0,  0],\n",
       "        [ 0,  0,  0,  0,  0,  0,  0, 13]])"
      ]
     },
     "execution_count": 14,
     "metadata": {},
     "output_type": "execute_result"
    }
   ],
   "source": [
    "X_samples = X_train[:2]\n",
    "print(X_samples.shape)\n",
    "X_samples"
   ]
  },
  {
   "cell_type": "markdown",
   "metadata": {
    "id": "x9SXyU-QQPTW"
   },
   "source": [
    "- We will have\n",
    "\n",
    "```\n",
    "Context index:\n",
    "[0,  0,  0,  0,  0,  0,  0,  0,  0,  0,  0,  0,  0,  0,  0, 23]\n",
    " <--       first data       -->  <--       second data     -->\n",
    "```"
   ]
  },
  {
   "cell_type": "markdown",
   "metadata": {
    "id": "40Mb0zOtQ6sv"
   },
   "source": [
    "- That turn to\n",
    "\n",
    "```python\n",
    "emb = [\n",
    "    # 1st data\n",
    "    [\n",
    "        [1.9269, 1.4873, 0.9007],  # 1st char in 1st data context ('.')\n",
    "        [1.9269, 1.4873, 0.9007],  # 2nd char in 1st data context ('.')\n",
    "        ...,\n",
    "        [1.9269, 1.4873, 0.9007]   # last char in 1st data context ('.')\n",
    "    ],\n",
    "\n",
    "    # 2nd data\n",
    "    [\n",
    "        [1.9269, 1.4873, 0.9007],  # 1st char in 2nd data context ('.')\n",
    "        [1.9269, 1.4873, 0.9007],  # 2nd char in 2nd data context ('.')\n",
    "        ...,\n",
    "        [0.5246, 1.1412, 0.0516]   # last char in 2nd data context ('a')\n",
    "    ]\n",
    "]\n",
    "```\n",
    "\n",
    "- Looks easy right?"
   ]
  },
  {
   "cell_type": "code",
   "execution_count": 15,
   "metadata": {
    "colab": {
     "base_uri": "https://localhost:8080/"
    },
    "id": "nIOpLItfQONW",
    "outputId": "eedbfe19-ac7c-47f0-e32d-ed8acce4df3b"
   },
   "outputs": [
    {
     "name": "stdout",
     "output_type": "stream",
     "text": [
      "torch.Size([2, 8, 3])\n"
     ]
    },
    {
     "data": {
      "text/plain": [
       "tensor([[[ 1.9269,  1.4873,  0.9007],\n",
       "         [ 1.9269,  1.4873,  0.9007],\n",
       "         [ 1.9269,  1.4873,  0.9007],\n",
       "         [ 1.9269,  1.4873,  0.9007],\n",
       "         [ 1.9269,  1.4873,  0.9007],\n",
       "         [ 1.9269,  1.4873,  0.9007],\n",
       "         [ 1.9269,  1.4873,  0.9007],\n",
       "         [ 1.9269,  1.4873,  0.9007]],\n",
       "\n",
       "        [[ 1.9269,  1.4873,  0.9007],\n",
       "         [ 1.9269,  1.4873,  0.9007],\n",
       "         [ 1.9269,  1.4873,  0.9007],\n",
       "         [ 1.9269,  1.4873,  0.9007],\n",
       "         [ 1.9269,  1.4873,  0.9007],\n",
       "         [ 1.9269,  1.4873,  0.9007],\n",
       "         [ 1.9269,  1.4873,  0.9007],\n",
       "         [-0.7746, -1.5576,  0.9956]]])"
      ]
     },
     "execution_count": 15,
     "metadata": {},
     "output_type": "execute_result"
    }
   ],
   "source": [
    "# Get the unflattened embedding\n",
    "emb = C[X_samples]\n",
    "print(emb.shape)\n",
    "emb"
   ]
  },
  {
   "cell_type": "code",
   "execution_count": 16,
   "metadata": {
    "colab": {
     "base_uri": "https://localhost:8080/"
    },
    "id": "8y4Er_kLRkct",
    "outputId": "2b590e47-3b14-438f-8065-d63cb5f9f16e"
   },
   "outputs": [
    {
     "name": "stdout",
     "output_type": "stream",
     "text": [
      "torch.Size([2, 24])\n"
     ]
    },
    {
     "data": {
      "text/plain": [
       "tensor([[ 1.9269,  1.4873,  0.9007,  1.9269,  1.4873,  0.9007,  1.9269,  1.4873,\n",
       "          0.9007,  1.9269,  1.4873,  0.9007,  1.9269,  1.4873,  0.9007,  1.9269,\n",
       "          1.4873,  0.9007,  1.9269,  1.4873,  0.9007,  1.9269,  1.4873,  0.9007],\n",
       "        [ 1.9269,  1.4873,  0.9007,  1.9269,  1.4873,  0.9007,  1.9269,  1.4873,\n",
       "          0.9007,  1.9269,  1.4873,  0.9007,  1.9269,  1.4873,  0.9007,  1.9269,\n",
       "          1.4873,  0.9007,  1.9269,  1.4873,  0.9007, -0.7746, -1.5576,  0.9956]])"
      ]
     },
     "execution_count": 16,
     "metadata": {},
     "output_type": "execute_result"
    }
   ],
   "source": [
    "# Flatten the embedding\n",
    "# The shape should be (2, 8x3) -> (2, 24) --> 8 for number of context and 3 for embedding size\n",
    "emb_flatten = emb.view(X_samples.shape[0], -1)\n",
    "print(emb_flatten.shape)\n",
    "emb_flatten"
   ]
  },
  {
   "cell_type": "markdown",
   "metadata": {
    "id": "_aLaaT62R_Y_"
   },
   "source": [
    "### **2. Our model**\n",
    "\n",
    "---"
   ]
  },
  {
   "cell_type": "markdown",
   "metadata": {
    "id": "ojyOXg8gSICB"
   },
   "source": [
    "- Now we define the model, i.e. an MLP with 1 hidden layer & 1 output layer\n",
    "- The hidden layer needs `block_size*n_embd` input size and `n_hidden` output size\n",
    "- The output layer needs `n_hidden` input size and `vocab_size` output size"
   ]
  },
  {
   "cell_type": "code",
   "execution_count": 17,
   "metadata": {
    "id": "b_MGncw1SCc_"
   },
   "outputs": [],
   "source": [
    "# Define n_hidden\n",
    "n_hidden = 100\n",
    "\n",
    "# Define the model parameters\n",
    "# For hidden layer\n",
    "W1 = torch.randn((BLOCK_SIZE*n_embd, n_hidden), generator=g)\n",
    "b1 = torch.randn(n_hidden, generator=g)\n",
    "\n",
    "# For output layer\n",
    "W2 = torch.randn((n_hidden, vocab_size), generator=g)\n",
    "b2 = torch.randn(vocab_size, generator=g)"
   ]
  },
  {
   "cell_type": "markdown",
   "metadata": {
    "id": "bhoeszA8doxZ"
   },
   "source": [
    "- Let's forward pass the information"
   ]
  },
  {
   "cell_type": "code",
   "execution_count": 18,
   "metadata": {
    "colab": {
     "base_uri": "https://localhost:8080/"
    },
    "id": "YQwbgC0pSxyO",
    "outputId": "910e4564-9181-4661-ecd8-ca3fc33e2bba"
   },
   "outputs": [
    {
     "name": "stdout",
     "output_type": "stream",
     "text": [
      "torch.Size([2, 100])\n"
     ]
    },
    {
     "data": {
      "text/plain": [
       "tensor([[  5.2682,   6.3252,   7.1898,  -2.5402,   8.5029,  17.4430,   5.5025,\n",
       "           0.9174,   6.2955,  10.1558,   4.2166,   3.3713,   4.5578, -12.1551,\n",
       "          -3.9118,  -2.7044,  -6.7685,   0.9250,  -5.3482,   2.0212,   1.7470,\n",
       "          -1.8980,   6.9548,   5.7182, -12.8488,  12.1636,   4.9464,   2.6657,\n",
       "           6.8974,  -8.7187,   7.0057,  -4.7390,   4.7148, -11.4654,   4.5402,\n",
       "           9.4069,  -5.5390, -10.3612,  15.4873,  -6.0531,  -6.6360,   4.5821,\n",
       "          10.3351,   5.6579,   1.3586,  10.7093, -14.9284, -11.7898,  14.8563,\n",
       "          -5.9924,   7.7442,  -1.9801,   8.5644,   0.4041,   9.3385,   3.4834,\n",
       "          -0.2290,  -7.6089,   6.4224,   4.2266,  -3.4875, -16.7647,   7.8674,\n",
       "           5.4883,  14.5354, -10.5081,  17.4915,   4.1982,  -7.4184,   4.0560,\n",
       "          -4.1485,   7.8443, -11.7026, -12.4274, -20.9969,  -7.0935,  -8.6705,\n",
       "           7.5531,   5.2412,  -9.1616, -10.2890,   2.1480,  -5.5404,  -6.1336,\n",
       "           5.1891,  -5.4701,  -3.8719,   3.7288,   1.6581,   4.7038,  -7.8604,\n",
       "           6.7697, -13.1024,  10.9198,   9.1786, -11.1612,   3.8142,   1.2348,\n",
       "           8.8011,  -9.7324],\n",
       "        [  0.4948,   8.9910,  -1.5066,  -2.2881,   5.8373,  11.2414,   1.4307,\n",
       "          -0.8401,   9.6016,  11.8844,   8.4024,   7.0071,  -1.9189,  -4.7913,\n",
       "          -7.0621,  -1.0403,  -1.2204,   2.3521,  -1.7867,  -0.1745,  -5.2392,\n",
       "          -4.3050,   9.7028,   5.7531,  -8.1393,  19.2133,   9.2088,  -4.1095,\n",
       "           5.5857,  -8.9869,   2.4365,  -8.3805,   1.2727, -18.7520,  -1.6325,\n",
       "          11.4271,  -3.9435,  -6.7317,   6.7340,  -4.5919,  -3.9061,   5.2028,\n",
       "          13.4680,   8.3280,   5.5417,   6.6168, -12.9386,  -8.2111,  16.7268,\n",
       "          -4.0495,   7.0486,  -4.8809,   4.8866,  -1.9784,   9.2548,   3.3035,\n",
       "          -6.2642,  -3.7993,  11.1910,  -3.7913,  -7.4379, -11.5580,   2.5688,\n",
       "           3.6768,   8.7302,  -3.7147,  14.0449,   2.0697,  -8.1386,   4.1548,\n",
       "          -2.8218,   5.1538,  -5.5032, -11.1059, -16.2891,  -4.7895,  -6.3497,\n",
       "           0.5026,   5.5223,  -7.7968,  -6.7533,  -6.4815,  -7.6517,  -6.6046,\n",
       "          -1.0757,  -7.2895,  -7.3957,   4.2178,  -4.8314,   0.7539,  -9.7337,\n",
       "           1.6477, -12.5084,   5.4328,   4.7079, -11.9856,   3.4968,   0.3088,\n",
       "           3.7375,  -3.1159]])"
      ]
     },
     "execution_count": 18,
     "metadata": {},
     "output_type": "execute_result"
    }
   ],
   "source": [
    "# In hidden layer\n",
    "# Find the pre-activated value\n",
    "h_pre_act = emb_flatten @ W1 + b1\n",
    "print(h_pre_act.shape)\n",
    "h_pre_act"
   ]
  },
  {
   "cell_type": "code",
   "execution_count": 19,
   "metadata": {
    "colab": {
     "base_uri": "https://localhost:8080/"
    },
    "id": "JCS6e6X2d0mX",
    "outputId": "d71ccc3a-cc2f-4251-a5e7-7ed3408db169"
   },
   "outputs": [
    {
     "name": "stdout",
     "output_type": "stream",
     "text": [
      "torch.Size([2, 100])\n"
     ]
    },
    {
     "data": {
      "text/plain": [
       "tensor([[ 0.9999,  1.0000,  1.0000, -0.9876,  1.0000,  1.0000,  1.0000,  0.7246,\n",
       "          1.0000,  1.0000,  0.9996,  0.9976,  0.9998, -1.0000, -0.9992, -0.9911,\n",
       "         -1.0000,  0.7282, -1.0000,  0.9655,  0.9410, -0.9561,  1.0000,  1.0000,\n",
       "         -1.0000,  1.0000,  0.9999,  0.9904,  1.0000, -1.0000,  1.0000, -0.9998,\n",
       "          0.9998, -1.0000,  0.9998,  1.0000, -1.0000, -1.0000,  1.0000, -1.0000,\n",
       "         -1.0000,  0.9998,  1.0000,  1.0000,  0.8761,  1.0000, -1.0000, -1.0000,\n",
       "          1.0000, -1.0000,  1.0000, -0.9626,  1.0000,  0.3835,  1.0000,  0.9981,\n",
       "         -0.2251, -1.0000,  1.0000,  0.9996, -0.9981, -1.0000,  1.0000,  1.0000,\n",
       "          1.0000, -1.0000,  1.0000,  0.9995, -1.0000,  0.9994, -0.9995,  1.0000,\n",
       "         -1.0000, -1.0000, -1.0000, -1.0000, -1.0000,  1.0000,  0.9999, -1.0000,\n",
       "         -1.0000,  0.9731, -1.0000, -1.0000,  0.9999, -1.0000, -0.9991,  0.9988,\n",
       "          0.9300,  0.9998, -1.0000,  1.0000, -1.0000,  1.0000,  1.0000, -1.0000,\n",
       "          0.9990,  0.8440,  1.0000, -1.0000],\n",
       "        [ 0.4581,  1.0000, -0.9063, -0.9796,  1.0000,  1.0000,  0.8918, -0.6859,\n",
       "          1.0000,  1.0000,  1.0000,  1.0000, -0.9578, -0.9999, -1.0000, -0.7780,\n",
       "         -0.8398,  0.9820, -0.9454, -0.1727, -0.9999, -0.9996,  1.0000,  1.0000,\n",
       "         -1.0000,  1.0000,  1.0000, -0.9995,  1.0000, -1.0000,  0.9848, -1.0000,\n",
       "          0.8545, -1.0000, -0.9264,  1.0000, -0.9992, -1.0000,  1.0000, -0.9998,\n",
       "         -0.9992,  0.9999,  1.0000,  1.0000,  1.0000,  1.0000, -1.0000, -1.0000,\n",
       "          1.0000, -0.9994,  1.0000, -0.9999,  0.9999, -0.9625,  1.0000,  0.9973,\n",
       "         -1.0000, -0.9990,  1.0000, -0.9990, -1.0000, -1.0000,  0.9883,  0.9987,\n",
       "          1.0000, -0.9988,  1.0000,  0.9686, -1.0000,  0.9995, -0.9929,  0.9999,\n",
       "         -1.0000, -1.0000, -1.0000, -0.9999, -1.0000,  0.4642,  1.0000, -1.0000,\n",
       "         -1.0000, -1.0000, -1.0000, -1.0000, -0.7916, -1.0000, -1.0000,  0.9996,\n",
       "         -0.9999,  0.6375, -1.0000,  0.9285, -1.0000,  1.0000,  0.9998, -1.0000,\n",
       "          0.9982,  0.2994,  0.9989, -0.9961]])"
      ]
     },
     "execution_count": 19,
     "metadata": {},
     "output_type": "execute_result"
    }
   ],
   "source": [
    "# Then, activate it with tanH activation function\n",
    "h = torch.tanh(h_pre_act)\n",
    "print(h.shape)\n",
    "h"
   ]
  },
  {
   "cell_type": "code",
   "execution_count": 20,
   "metadata": {
    "colab": {
     "base_uri": "https://localhost:8080/"
    },
    "id": "5ZwE4MXieAgG",
    "outputId": "9b25ce3c-3ceb-4a48-c33e-c574cdb84bce"
   },
   "outputs": [
    {
     "name": "stdout",
     "output_type": "stream",
     "text": [
      "torch.Size([2, 27])\n"
     ]
    },
    {
     "data": {
      "text/plain": [
       "tensor([[  5.5174,   1.3106,   7.7886, -12.2630,  -0.3254,   6.7035,  20.2166,\n",
       "           5.6740, -10.8276, -10.1822, -11.6496,  11.5447,   7.8219,   0.5122,\n",
       "          -8.4570,   9.3249,  -9.5133,   4.3423,  11.5071,  -7.1407,  -6.4799,\n",
       "          11.4697,  -2.4887,  16.4487,   2.9806,  -9.7058,   3.9017],\n",
       "        [  2.5201,   8.3830,  -3.5453,  -4.9275,   3.4754,   6.0622,  13.2329,\n",
       "           7.2177, -17.3718,  -8.9218,  -8.1375,   2.1004,   6.2601,  -4.1042,\n",
       "         -11.1653,  10.1393,  -7.8310,   4.8580,  10.5171, -11.0650,  -8.0657,\n",
       "          10.5573,  -5.7966,  10.2257,   1.9335,  -3.0331,   5.9620]])"
      ]
     },
     "execution_count": 20,
     "metadata": {},
     "output_type": "execute_result"
    }
   ],
   "source": [
    "# After that we find the logits from the output layer\n",
    "logits = h @ W2 + b2\n",
    "print(logits.shape)\n",
    "logits"
   ]
  },
  {
   "cell_type": "markdown",
   "metadata": {
    "id": "LLtV3LoPeLXl"
   },
   "source": [
    "### **3. Perform training**\n",
    "\n",
    "---"
   ]
  },
  {
   "cell_type": "markdown",
   "metadata": {
    "id": "psT-lx5OesjF"
   },
   "source": [
    "- Re initialize all"
   ]
  },
  {
   "cell_type": "code",
   "execution_count": 21,
   "metadata": {
    "colab": {
     "base_uri": "https://localhost:8080/"
    },
    "id": "EGNFrPsweNov",
    "outputId": "64a1253d-a50e-4b7d-9aa3-196ccc95e708"
   },
   "outputs": [
    {
     "name": "stdout",
     "output_type": "stream",
     "text": [
      "Total number of parameters : 44177\n"
     ]
    }
   ],
   "source": [
    "# Initialize\n",
    "n_embd = 50  # let's enlarge the embedding size, so a char is represented by 50 sized vector\n",
    "n_hidden = 100\n",
    "\n",
    "# Define the model parameter\n",
    "g = torch.Generator().manual_seed(42)  # Define the random number generator\n",
    "C = torch.randn((vocab_size, n_embd), generator=g)\n",
    "W1 = torch.randn((BLOCK_SIZE*n_embd, n_hidden), generator=g)\n",
    "b1 = torch.randn(n_hidden, generator=g)\n",
    "W2 = torch.randn((n_hidden, vocab_size), generator=g) * 0.01  # we scale the weights to reduce initial loss\n",
    "b2 = torch.randn(vocab_size, generator=g) * 0.0               # we scale the biases to reduce initial loss\n",
    "\n",
    "# Summarize the parameters\n",
    "parameters = [C, W1, b1, W2, b2]\n",
    "print('Total number of parameters :', sum([p.nelement() for p in parameters]))\n",
    "\n",
    "# Activate grad\n",
    "for p in parameters:\n",
    "    p.requires_grad = True"
   ]
  },
  {
   "cell_type": "markdown",
   "metadata": {
    "id": "ydXxoQyheucU"
   },
   "source": [
    "- Start the iteration"
   ]
  },
  {
   "cell_type": "code",
   "execution_count": 22,
   "metadata": {
    "id": "m_gX0KHqffJJ"
   },
   "outputs": [],
   "source": [
    "import time"
   ]
  },
  {
   "cell_type": "code",
   "execution_count": 23,
   "metadata": {
    "colab": {
     "base_uri": "https://localhost:8080/"
    },
    "id": "PyGvmIvcegS7",
    "outputId": "bbc16234-67ef-4e76-ce70-083fceac5754"
   },
   "outputs": [
    {
     "name": "stdout",
     "output_type": "stream",
     "text": [
      "Step       0/ 200000 | Loss 3.3229 | Step time 4.01 ms\n"
     ]
    },
    {
     "name": "stdout",
     "output_type": "stream",
     "text": [
      "Step    5000/ 200000 | Loss 2.5434 | Step time 0.71 ms\n",
      "Step   10000/ 200000 | Loss 2.2059 | Step time 0.91 ms\n",
      "Step   15000/ 200000 | Loss 2.1022 | Step time 0.93 ms\n",
      "Step   20000/ 200000 | Loss 2.1243 | Step time 0.94 ms\n",
      "Step   25000/ 200000 | Loss 2.0396 | Step time 0.70 ms\n",
      "Step   30000/ 200000 | Loss 2.5270 | Step time 0.70 ms\n",
      "Step   35000/ 200000 | Loss 2.1818 | Step time 0.71 ms\n",
      "Step   40000/ 200000 | Loss 2.1506 | Step time 0.71 ms\n",
      "Step   45000/ 200000 | Loss 2.2582 | Step time 0.71 ms\n",
      "Step   50000/ 200000 | Loss 2.4017 | Step time 0.70 ms\n",
      "Step   55000/ 200000 | Loss 1.9348 | Step time 0.93 ms\n",
      "Step   60000/ 200000 | Loss 2.4389 | Step time 0.69 ms\n",
      "Step   65000/ 200000 | Loss 1.9433 | Step time 0.69 ms\n",
      "Step   70000/ 200000 | Loss 2.2317 | Step time 0.71 ms\n",
      "Step   75000/ 200000 | Loss 1.9814 | Step time 0.68 ms\n",
      "Step   80000/ 200000 | Loss 2.0045 | Step time 0.70 ms\n",
      "Step   85000/ 200000 | Loss 2.0239 | Step time 0.71 ms\n",
      "Step   90000/ 200000 | Loss 2.3753 | Step time 0.69 ms\n",
      "Step   95000/ 200000 | Loss 1.8117 | Step time 0.72 ms\n",
      "Step  100000/ 200000 | Loss 2.0787 | Step time 0.69 ms\n",
      "Step  105000/ 200000 | Loss 2.0491 | Step time 0.69 ms\n",
      "Step  110000/ 200000 | Loss 2.0584 | Step time 0.69 ms\n",
      "Step  115000/ 200000 | Loss 1.8341 | Step time 0.70 ms\n",
      "Step  120000/ 200000 | Loss 2.0537 | Step time 0.69 ms\n",
      "Step  125000/ 200000 | Loss 1.6312 | Step time 0.69 ms\n",
      "Step  130000/ 200000 | Loss 2.2463 | Step time 0.69 ms\n",
      "Step  135000/ 200000 | Loss 1.8522 | Step time 0.70 ms\n",
      "Step  140000/ 200000 | Loss 1.6365 | Step time 0.70 ms\n",
      "Step  145000/ 200000 | Loss 1.6962 | Step time 0.72 ms\n",
      "Step  150000/ 200000 | Loss 1.7567 | Step time 0.69 ms\n",
      "Step  155000/ 200000 | Loss 1.8656 | Step time 0.71 ms\n",
      "Step  160000/ 200000 | Loss 2.0352 | Step time 0.69 ms\n",
      "Step  165000/ 200000 | Loss 1.6699 | Step time 0.70 ms\n",
      "Step  170000/ 200000 | Loss 2.1079 | Step time 0.68 ms\n",
      "Step  175000/ 200000 | Loss 1.8310 | Step time 0.72 ms\n",
      "Step  180000/ 200000 | Loss 1.7497 | Step time 0.71 ms\n",
      "Step  185000/ 200000 | Loss 1.9102 | Step time 0.71 ms\n",
      "Step  190000/ 200000 | Loss 2.1765 | Step time 0.73 ms\n",
      "Step  195000/ 200000 | Loss 1.9623 | Step time 0.71 ms\n"
     ]
    }
   ],
   "source": [
    "# Initialize\n",
    "batch_size = 32\n",
    "max_iter = 200_000\n",
    "losses = []\n",
    "\n",
    "# Iterate\n",
    "for iter in range(max_iter):\n",
    "    t1 = time.time()\n",
    "\n",
    "    # Construct the minibatch\n",
    "    ix = torch.randint(0, X_train.shape[0], (batch_size,), generator=g)\n",
    "    X_batch = X_train[ix]\n",
    "    y_batch = y_train[ix]\n",
    "\n",
    "    # Forward pass\n",
    "    emb = C[X_batch]\n",
    "    emb_flatten = emb.view(X_batch.shape[0], -1)\n",
    "    h_pre_act = emb_flatten @ W1 + b1\n",
    "    h = torch.tanh(h_pre_act)\n",
    "    logits = h @ W2 + b2\n",
    "    loss = F.cross_entropy(logits, y_batch)\n",
    "\n",
    "    # Backward pass\n",
    "    for p in parameters:\n",
    "        p.grad = None\n",
    "    loss.backward()\n",
    "\n",
    "    # Update the parameters\n",
    "    lr = 0.1 if iter < 100_000 else 0.01\n",
    "    for p in parameters:\n",
    "        p.data += -lr * p.grad\n",
    "\n",
    "    # Append the loss\n",
    "    losses.append(loss.item())\n",
    "    elapsed = time.time() - t1\n",
    "    if iter % 5000 == 0:\n",
    "        print(f\"Step {iter:7d}/{max_iter:7d} \"\n",
    "              f\"| Loss {loss.item():.4f} \"\n",
    "              f\"| Step time {elapsed*1000:.2f} ms\")\n"
   ]
  },
  {
   "cell_type": "markdown",
   "metadata": {
    "id": "LbUfHHtZhs_y"
   },
   "source": [
    "- Let's plot the loss"
   ]
  },
  {
   "cell_type": "code",
   "execution_count": 24,
   "metadata": {
    "id": "4Qtz0PhphuKd"
   },
   "outputs": [],
   "source": [
    "import numpy as np\n",
    "import matplotlib.pyplot as plt\n",
    "%matplotlib inline"
   ]
  },
  {
   "cell_type": "code",
   "execution_count": 25,
   "metadata": {
    "colab": {
     "base_uri": "https://localhost:8080/",
     "height": 449
    },
    "id": "nzFfG_3xhwXf",
    "outputId": "43bdb3b5-af1a-49dd-ca1d-1134401d8020"
   },
   "outputs": [
    {
     "data": {
      "image/png": "[encoded data removed]",
      "text/plain": [
       "<Figure size 640x480 with 1 Axes>"
      ]
     },
     "metadata": {},
     "output_type": "display_data"
    }
   ],
   "source": [
    "plt.plot(np.arange(len(losses)), losses)\n",
    "plt.xlabel('Iter'); plt.ylabel('Loss')\n",
    "plt.show()"
   ]
  },
  {
   "cell_type": "markdown",
   "metadata": {
    "id": "YPr82ZgEiEkX"
   },
   "source": [
    "- Now let's evaluate"
   ]
  },
  {
   "cell_type": "code",
   "execution_count": 26,
   "metadata": {
    "id": "kLWfz1YRiF6L"
   },
   "outputs": [],
   "source": [
    "@torch.no_grad()\n",
    "def evaluate_loss(type):\n",
    "    # Get the data\n",
    "    X, y = {\n",
    "        'train': (X_train, y_train),\n",
    "        'valid': (X_valid, y_valid),\n",
    "        'test': (X_test, y_test)\n",
    "    }[type]\n",
    "\n",
    "    # Do the forward pass\n",
    "    emb = C[X]\n",
    "    emb_flatten = emb.view(X.shape[0], -1)\n",
    "    h_pre_act = emb_flatten @ W1 + b1\n",
    "    h = torch.tanh(h_pre_act)\n",
    "    logits = h @ W2 + b2\n",
    "    loss = F.cross_entropy(logits, y)\n",
    "\n",
    "    print(f'Loss on {type} data:', loss.item())"
   ]
  },
  {
   "cell_type": "code",
   "execution_count": 27,
   "metadata": {
    "colab": {
     "base_uri": "https://localhost:8080/"
    },
    "id": "bFor-Ftwip3K",
    "outputId": "a75d0ec0-992f-4809-9f3b-90d585f9098d"
   },
   "outputs": [
    {
     "name": "stdout",
     "output_type": "stream",
     "text": [
      "Loss on train data: 1.9094129800796509\n",
      "Loss on valid data: 2.342254638671875\n"
     ]
    }
   ],
   "source": [
    "# Evaluate on train & valid\n",
    "evaluate_loss('train')\n",
    "evaluate_loss('valid')"
   ]
  },
  {
   "cell_type": "markdown",
   "metadata": {
    "id": "EtvI3wxRivTA"
   },
   "source": [
    "- Not so good, but we have created the pipeline\n",
    "- Let's generate the results"
   ]
  },
  {
   "cell_type": "code",
   "execution_count": 28,
   "metadata": {
    "id": "7ZI4R27Gw26X"
   },
   "outputs": [],
   "source": [
    "g_ = torch.Generator().manual_seed(1234)"
   ]
  },
  {
   "cell_type": "code",
   "execution_count": 29,
   "metadata": {
    "colab": {
     "base_uri": "https://localhost:8080/"
    },
    "id": "T2WTf-79i1X8",
    "outputId": "6241508d-bb49-4925-e9da-0a86cd6c5a99"
   },
   "outputs": [
    {
     "name": "stdout",
     "output_type": "stream",
     "text": [
      "kendika.\n",
      "daniani.\n",
      "bivadqa.\n",
      "yasi.\n",
      "zyin.\n",
      "freundido.\n",
      "shofa.\n",
      "bouma.\n",
      "caruswarika.\n",
      "yurdoniva.\n",
      "rahmada.\n",
      "ningohi.\n",
      "sousykhinra.\n",
      "mahara.\n",
      "nya.\n",
      "faktis.\n",
      "lataery.\n",
      "diagia.\n",
      "vaira.\n",
      "jendo.\n"
     ]
    }
   ],
   "source": [
    "# Sample from model\n",
    "n_samples = 20\n",
    "with torch.no_grad():\n",
    "    for _ in range(n_samples):\n",
    "        # Define output generated index\n",
    "        out = []\n",
    "\n",
    "        # Define context\n",
    "        context = [0] * BLOCK_SIZE\n",
    "\n",
    "        # Iterate while char is not '.'\n",
    "        while True:\n",
    "            # Forward pass\n",
    "            emb = C[torch.tensor([context])]\n",
    "            emb_flatten = emb.view(1, -1)\n",
    "            h_pre_act = emb_flatten @ W1 + b1\n",
    "            h = torch.tanh(h_pre_act)\n",
    "            logits = h @ W2 + b2\n",
    "            probs = F.softmax(logits, dim=1)  # Get the probability of generating new chars\n",
    "\n",
    "            # Now, let's sample the new char from the given probability\n",
    "            ix = torch.multinomial(probs, num_samples=1, generator=g_).item()\n",
    "\n",
    "            # Update the context\n",
    "            context = context[1:] + [ix]\n",
    "\n",
    "            # append to out list\n",
    "            out.append(ix)\n",
    "\n",
    "            # Stopping the iteration\n",
    "            if ix == 0:\n",
    "                break\n",
    "\n",
    "        # After getting all the new char, we decode index to char\n",
    "        print(''.join([itoc[ix] for ix in out]))"
   ]
  },
  {
   "cell_type": "markdown",
   "metadata": {
    "id": "JqzXdXsGlU2K"
   },
   "source": [
    "# **$2^{\\text{nd}}$ Try - Build a Better DL Model and Supervised the Learning Process**\n",
    "---"
   ]
  },
  {
   "cell_type": "markdown",
   "metadata": {
    "id": "w_lqX_2Umkie"
   },
   "source": [
    "## 2.1 Build a Simple MLP Class object\n",
    "\n",
    "---"
   ]
  },
  {
   "cell_type": "markdown",
   "metadata": {
    "id": "nbvkZknQ03ju"
   },
   "source": [
    "- MLP with 1 hidden layer & 1 output layer"
   ]
  },
  {
   "cell_type": "code",
   "execution_count": 30,
   "metadata": {
    "id": "C1yOOEJwxCMa"
   },
   "outputs": [],
   "source": [
    "class MLP(nn.Module):\n",
    "    def __init__(self, config):\n",
    "        super().__init__()\n",
    "\n",
    "        # Extract parameters\n",
    "        # We extract several network information\n",
    "        block_size = config['block_size']\n",
    "        vocab_size = config['vocab_size']\n",
    "        n_embd = config['n_embd']\n",
    "        n_hidden = config['n_hidden']\n",
    "\n",
    "        # Create the layer\n",
    "        torch.manual_seed(42)\n",
    "\n",
    "        # The char embedding\n",
    "        self.C = nn.Embedding(vocab_size, n_embd)\n",
    "\n",
    "        # The MLP\n",
    "        self.mlp = nn.Sequential(\n",
    "            # The hidden layer\n",
    "            nn.Linear(block_size*n_embd, n_hidden),\n",
    "            nn.Tanh(),\n",
    "\n",
    "            # The output layer\n",
    "            nn.Linear(n_hidden, vocab_size),\n",
    "        )\n",
    "\n",
    "    def forward(self, idx):\n",
    "        # Create the embedding\n",
    "        embs = self.C(idx)\n",
    "\n",
    "        # Forward pass\n",
    "        # Flatten the image first\n",
    "        embs_flatten = embs.view(embs.shape[0], -1)\n",
    "\n",
    "        # Then find the logits\n",
    "        logits = self.mlp(embs_flatten)\n",
    "\n",
    "        return logits\n"
   ]
  },
  {
   "cell_type": "markdown",
   "metadata": {
    "id": "hf0a-GDBtLdR"
   },
   "source": [
    "- Define the model configuration"
   ]
  },
  {
   "cell_type": "code",
   "execution_count": 31,
   "metadata": {
    "id": "HS005Hg5tH75"
   },
   "outputs": [],
   "source": [
    "config = {\n",
    "    'vocab_size': vocab_size,\n",
    "    'block_size': BLOCK_SIZE,\n",
    "    'n_hidden': 100,\n",
    "    'n_embd': 50\n",
    "}"
   ]
  },
  {
   "cell_type": "markdown",
   "metadata": {
    "id": "a58IY7ittV-P"
   },
   "source": [
    "- Create the model"
   ]
  },
  {
   "cell_type": "code",
   "execution_count": 32,
   "metadata": {
    "colab": {
     "base_uri": "https://localhost:8080/"
    },
    "id": "H_b_sNxmtVHF",
    "outputId": "3dd3b59a-5368-44ca-c57b-e3754213a484"
   },
   "outputs": [
    {
     "name": "stdout",
     "output_type": "stream",
     "text": [
      "#parameters : 44177\n"
     ]
    }
   ],
   "source": [
    "mlp_v1 = MLP(config)\n",
    "print('#parameters :', sum([p.numel() for p in mlp_v1.parameters()]))"
   ]
  },
  {
   "cell_type": "markdown",
   "metadata": {
    "id": "ZYQmWpAY3Zbk"
   },
   "source": [
    "## 2.2 Sanity Check the First Iteration Loss\n",
    "---"
   ]
  },
  {
   "cell_type": "markdown",
   "metadata": {
    "id": "NP87Oipttq3O"
   },
   "source": [
    "- Now, let's sanity check the first iteration loss.\n",
    "- It should be `-log(1/vocab_size)`"
   ]
  },
  {
   "cell_type": "code",
   "execution_count": 33,
   "metadata": {
    "id": "9b932zM_xv21"
   },
   "outputs": [],
   "source": [
    "# Create a training function\n",
    "def train(model,\n",
    "          batch_size,\n",
    "          X_train,\n",
    "          y_train,\n",
    "          max_iter,\n",
    "          lr,\n",
    "          generator):\n",
    "    # Initialize\n",
    "    losses = []\n",
    "\n",
    "    # Iterate\n",
    "    for iter in range(max_iter):\n",
    "        t1 = time.time()\n",
    "\n",
    "        # Construct the minibatch\n",
    "        if batch_size is not None:\n",
    "            ix = torch.randint(0, X_train.shape[0], (batch_size,), generator=generator)\n",
    "            X_batch = X_train[ix]\n",
    "            y_batch = y_train[ix]\n",
    "        else:\n",
    "            X_batch = X_train\n",
    "            y_batch = y_train\n",
    "\n",
    "        # Forward pass\n",
    "        logits = model(X_batch)\n",
    "        loss = F.cross_entropy(logits, y_batch)\n",
    "\n",
    "        # Backward pass\n",
    "        model.zero_grad(set_to_none=True)\n",
    "        loss.backward()\n",
    "\n",
    "        # Update the parameters\n",
    "        learning_rate = lr if iter < 100_000 else lr/10.\n",
    "        for p in model.parameters():\n",
    "            p.data += -learning_rate * p.grad\n",
    "\n",
    "        # Append the loss\n",
    "        losses.append(loss.item())\n",
    "        elapsed = time.time() - t1\n",
    "        if max_iter == 1:\n",
    "            print(f\"Step {iter:7d}/{max_iter:7d} \"\n",
    "                f\"| Loss {loss.item():.4f} \"\n",
    "                f\"| Step time {elapsed*1000:.2f} ms\")\n",
    "\n",
    "        elif iter % int(max_iter/40) == 0:\n",
    "            print(f\"Step {iter:7d}/{max_iter:7d} \"\n",
    "                f\"| Loss {loss.item():.4f} \"\n",
    "                f\"| Step time {elapsed*1000:.2f} ms\")\n",
    "\n",
    "    return losses\n"
   ]
  },
  {
   "cell_type": "code",
   "execution_count": 34,
   "metadata": {
    "colab": {
     "base_uri": "https://localhost:8080/"
    },
    "id": "2HEsMCb42WK9",
    "outputId": "db39c683-2bf5-45b8-da54-4354456d46a7"
   },
   "outputs": [
    {
     "name": "stdout",
     "output_type": "stream",
     "text": [
      "Step       0/      1 | Loss 3.3392 | Step time 1.96 ms\n"
     ]
    }
   ],
   "source": [
    "# Check the first loss\n",
    "losses = train(\n",
    "    model=mlp_v1,\n",
    "    batch_size=32,\n",
    "    X_train=X_train,\n",
    "    y_train=y_train,\n",
    "    max_iter=1,\n",
    "    lr=0.1,\n",
    "    generator=g\n",
    ")"
   ]
  },
  {
   "cell_type": "code",
   "execution_count": 35,
   "metadata": {
    "colab": {
     "base_uri": "https://localhost:8080/"
    },
    "id": "PPwhK8JVtkDv",
    "outputId": "00702825-a6d7-4ada-f9cc-619a746987c7"
   },
   "outputs": [
    {
     "data": {
      "text/plain": [
       "tensor([3.2958])"
      ]
     },
     "execution_count": 35,
     "metadata": {},
     "output_type": "execute_result"
    }
   ],
   "source": [
    "# Expected initial loss\n",
    "-torch.tensor([1/vocab_size]).log()"
   ]
  },
  {
   "cell_type": "markdown",
   "metadata": {
    "id": "npoJHPdCujCJ"
   },
   "source": [
    "- Nice! It's close enough"
   ]
  },
  {
   "cell_type": "markdown",
   "metadata": {
    "id": "nBs-1jJj3Gpb"
   },
   "source": [
    "## 2.3 Overfit a Small Portion of the Training Data\n",
    "\n",
    "---"
   ]
  },
  {
   "cell_type": "markdown",
   "metadata": {
    "id": "LX-RW5r0ulIf"
   },
   "source": [
    "- Assume our model will go well, then our model could overfit a small portion of the training data"
   ]
  },
  {
   "cell_type": "code",
   "execution_count": 36,
   "metadata": {
    "id": "b9gGcIq5ukfQ"
   },
   "outputs": [],
   "source": [
    "# Construct a minibatch\n",
    "ix = torch.randint(0, X_train.shape[0], (10,), generator=g)\n",
    "X_batch = X_train[ix]\n",
    "y_batch = y_train[ix]"
   ]
  },
  {
   "cell_type": "code",
   "execution_count": 37,
   "metadata": {
    "colab": {
     "base_uri": "https://localhost:8080/"
    },
    "id": "G_d0vete3iuu",
    "outputId": "a6d3ef5e-8f84-418b-e912-d8f8c6e87593"
   },
   "outputs": [
    {
     "name": "stdout",
     "output_type": "stream",
     "text": [
      "#parameters : 44177\n",
      "Step       0/    200 | Loss 3.4060 | Step time 9.19 ms\n"
     ]
    },
    {
     "name": "stdout",
     "output_type": "stream",
     "text": [
      "Step       5/    200 | Loss 0.9321 | Step time 0.96 ms\n",
      "Step      10/    200 | Loss 0.3830 | Step time 1.00 ms\n",
      "Step      15/    200 | Loss 0.1990 | Step time 0.96 ms\n",
      "Step      20/    200 | Loss 0.1256 | Step time 2.17 ms\n",
      "Step      25/    200 | Loss 0.0893 | Step time 0.95 ms\n",
      "Step      30/    200 | Loss 0.0684 | Step time 1.00 ms\n",
      "Step      35/    200 | Loss 0.0550 | Step time 0.99 ms\n",
      "Step      40/    200 | Loss 0.0458 | Step time 0.97 ms\n",
      "Step      45/    200 | Loss 0.0391 | Step time 0.97 ms\n",
      "Step      50/    200 | Loss 0.0341 | Step time 0.98 ms\n",
      "Step      55/    200 | Loss 0.0301 | Step time 0.96 ms\n",
      "Step      60/    200 | Loss 0.0270 | Step time 0.99 ms\n",
      "Step      65/    200 | Loss 0.0244 | Step time 0.97 ms\n",
      "Step      70/    200 | Loss 0.0222 | Step time 0.97 ms\n",
      "Step      75/    200 | Loss 0.0204 | Step time 1.80 ms\n",
      "Step      80/    200 | Loss 0.0189 | Step time 1.00 ms\n",
      "Step      85/    200 | Loss 0.0175 | Step time 0.95 ms\n",
      "Step      90/    200 | Loss 0.0164 | Step time 0.97 ms\n",
      "Step      95/    200 | Loss 0.0153 | Step time 0.96 ms\n",
      "Step     100/    200 | Loss 0.0144 | Step time 0.99 ms\n",
      "Step     105/    200 | Loss 0.0136 | Step time 0.95 ms\n",
      "Step     110/    200 | Loss 0.0129 | Step time 0.97 ms\n",
      "Step     115/    200 | Loss 0.0122 | Step time 1.40 ms\n",
      "Step     120/    200 | Loss 0.0116 | Step time 0.95 ms\n",
      "Step     125/    200 | Loss 0.0111 | Step time 1.10 ms\n",
      "Step     130/    200 | Loss 0.0106 | Step time 0.95 ms\n",
      "Step     135/    200 | Loss 0.0102 | Step time 0.98 ms\n",
      "Step     140/    200 | Loss 0.0097 | Step time 0.97 ms\n",
      "Step     145/    200 | Loss 0.0094 | Step time 0.99 ms\n",
      "Step     150/    200 | Loss 0.0090 | Step time 0.94 ms\n",
      "Step     155/    200 | Loss 0.0087 | Step time 0.96 ms\n",
      "Step     160/    200 | Loss 0.0084 | Step time 1.00 ms\n",
      "Step     165/    200 | Loss 0.0081 | Step time 1.53 ms\n",
      "Step     170/    200 | Loss 0.0078 | Step time 0.96 ms\n",
      "Step     175/    200 | Loss 0.0075 | Step time 0.97 ms\n",
      "Step     180/    200 | Loss 0.0073 | Step time 0.95 ms\n",
      "Step     185/    200 | Loss 0.0071 | Step time 0.99 ms\n",
      "Step     190/    200 | Loss 0.0069 | Step time 0.95 ms\n",
      "Step     195/    200 | Loss 0.0067 | Step time 0.98 ms\n"
     ]
    }
   ],
   "source": [
    "# Build the model\n",
    "mlp_v1 = MLP(config)\n",
    "print('#parameters :', sum([p.numel() for p in mlp_v1.parameters()]))\n",
    "\n",
    "# Check wether our model can overfit a small batch\n",
    "losses = train(\n",
    "    model=mlp_v1,\n",
    "    batch_size=None,\n",
    "    X_train=X_batch,\n",
    "    y_train=y_batch,\n",
    "    max_iter=200,\n",
    "    lr=0.1,\n",
    "    generator=g\n",
    ")"
   ]
  },
  {
   "cell_type": "markdown",
   "metadata": {
    "id": "mzF_5drr4Fr1"
   },
   "source": [
    "- Great! Loss = 0.0067 is small enough\n",
    "- Your model can overfit this data\n",
    "- Let's evaluate"
   ]
  },
  {
   "cell_type": "code",
   "execution_count": 38,
   "metadata": {
    "id": "sH-PdEQjxJyy"
   },
   "outputs": [],
   "source": [
    "@torch.no_grad()\n",
    "def evaluate_loss(model, type):\n",
    "    # Get the data\n",
    "    X, y = {\n",
    "        'train': (X_train, y_train),\n",
    "        'valid': (X_valid, y_valid),\n",
    "        'test': (X_test, y_test)\n",
    "    }[type]\n",
    "\n",
    "    # Do the forward pass\n",
    "    logits = model(X)\n",
    "    loss = F.cross_entropy(logits, y)\n",
    "\n",
    "    print(f'Loss on {type} data:', loss.item())"
   ]
  },
  {
   "cell_type": "code",
   "execution_count": 39,
   "metadata": {
    "colab": {
     "base_uri": "https://localhost:8080/"
    },
    "id": "T169hVopvQIv",
    "outputId": "15571a64-9e6e-4e59-bbf4-96e0399c7029"
   },
   "outputs": [
    {
     "name": "stdout",
     "output_type": "stream",
     "text": [
      "Loss on train data: 4.381712436676025\n",
      "Loss on valid data: 4.376656532287598\n"
     ]
    }
   ],
   "source": [
    "# Evaluate on train & valid\n",
    "evaluate_loss(mlp_v1, 'train')\n",
    "evaluate_loss(mlp_v1, 'valid')"
   ]
  },
  {
   "cell_type": "markdown",
   "metadata": {
    "id": "qNgQ25q84ecd"
   },
   "source": [
    "## 2.4 Find the learning rates\n",
    "\n",
    "---"
   ]
  },
  {
   "cell_type": "markdown",
   "metadata": {
    "id": "r_sfYUrw4kve"
   },
   "source": [
    "- Our deep learning model is sensitive to learning rate.\n",
    "- We need to find the correct learning rate.\n",
    "- Let's start by finding the learning rate boundary from few iterations"
   ]
  },
  {
   "cell_type": "markdown",
   "metadata": {
    "id": "S5j5jvsZ1Tlf"
   },
   "source": [
    "- Find learning rates\n",
    "- do with small iteration"
   ]
  },
  {
   "cell_type": "code",
   "execution_count": 40,
   "metadata": {
    "colab": {
     "base_uri": "https://localhost:8080/"
    },
    "id": "SBvvRqpq46dT",
    "outputId": "d50029aa-12c6-46cc-d2a0-a180ba19617a"
   },
   "outputs": [
    {
     "name": "stdout",
     "output_type": "stream",
     "text": [
      "#parameters : 44177\n",
      "Step       0/    200 | Loss 3.4452 | Step time 1.16 ms\n",
      "Step       5/    200 | Loss 3.3251 | Step time 3.26 ms\n",
      "Step      10/    200 | Loss 3.3317 | Step time 0.87 ms\n",
      "Step      15/    200 | Loss 3.3858 | Step time 0.84 ms\n",
      "Step      20/    200 | Loss 3.3982 | Step time 0.87 ms\n",
      "Step      25/    200 | Loss 3.3889 | Step time 0.86 ms\n",
      "Step      30/    200 | Loss 3.3648 | Step time 0.85 ms\n",
      "Step      35/    200 | Loss 3.3174 | Step time 0.86 ms\n",
      "Step      40/    200 | Loss 3.2996 | Step time 0.90 ms\n",
      "Step      45/    200 | Loss 3.4362 | Step time 0.87 ms\n",
      "Step      50/    200 | Loss 3.3903 | Step time 0.88 ms\n",
      "Step      55/    200 | Loss 3.3704 | Step time 0.86 ms\n",
      "Step      60/    200 | Loss 3.2682 | Step time 0.85 ms\n",
      "Step      65/    200 | Loss 3.2668 | Step time 0.89 ms\n",
      "Step      70/    200 | Loss 3.4467 | Step time 0.87 ms\n",
      "Step      75/    200 | Loss 3.4612 | Step time 0.90 ms\n",
      "Step      80/    200 | Loss 3.3669 | Step time 0.88 ms\n",
      "Step      85/    200 | Loss 3.3570 | Step time 0.89 ms\n",
      "Step      90/    200 | Loss 3.3085 | Step time 0.85 ms\n",
      "Step      95/    200 | Loss 3.3604 | Step time 0.86 ms\n",
      "Step     100/    200 | Loss 3.3042 | Step time 0.86 ms\n",
      "Step     105/    200 | Loss 3.3412 | Step time 0.86 ms\n",
      "Step     110/    200 | Loss 3.2871 | Step time 0.88 ms\n",
      "Step     115/    200 | Loss 3.4025 | Step time 0.87 ms\n",
      "Step     120/    200 | Loss 3.3772 | Step time 0.85 ms\n",
      "Step     125/    200 | Loss 3.4094 | Step time 0.88 ms\n",
      "Step     130/    200 | Loss 3.3668 | Step time 0.89 ms\n",
      "Step     135/    200 | Loss 3.3423 | Step time 0.87 ms\n",
      "Step     140/    200 | Loss 3.2887 | Step time 0.86 ms\n",
      "Step     145/    200 | Loss 3.3165 | Step time 0.85 ms\n",
      "Step     150/    200 | Loss 3.2464 | Step time 0.86 ms\n",
      "Step     155/    200 | Loss 3.3826 | Step time 0.88 ms\n",
      "Step     160/    200 | Loss 3.3626 | Step time 0.87 ms\n",
      "Step     165/    200 | Loss 3.3176 | Step time 0.87 ms\n",
      "Step     170/    200 | Loss 3.4691 | Step time 0.86 ms\n",
      "Step     175/    200 | Loss 3.3680 | Step time 0.85 ms\n",
      "Step     180/    200 | Loss 3.2997 | Step time 0.86 ms\n",
      "Step     185/    200 | Loss 3.2360 | Step time 0.86 ms\n",
      "Step     190/    200 | Loss 3.4910 | Step time 0.86 ms\n",
      "Step     195/    200 | Loss 3.4378 | Step time 0.89 ms\n"
     ]
    }
   ],
   "source": [
    "# Build the model\n",
    "mlp_v1 = MLP(config)\n",
    "print('#parameters :', sum([p.numel() for p in mlp_v1.parameters()]))\n",
    "\n",
    "# Check wether our model can overfit a small batch\n",
    "losses = train(\n",
    "    model=mlp_v1,\n",
    "    batch_size=32,\n",
    "    X_train=X_train,\n",
    "    y_train=y_train,\n",
    "    max_iter=200,\n",
    "    lr=1.e-6,\n",
    "    generator=g\n",
    ")"
   ]
  },
  {
   "cell_type": "code",
   "execution_count": 41,
   "metadata": {
    "colab": {
     "base_uri": "https://localhost:8080/",
     "height": 447
    },
    "id": "NLsBCd164_sW",
    "outputId": "e23de376-b5c4-4893-b292-b20164dd134c"
   },
   "outputs": [
    {
     "data": {
      "text/plain": [
       "[<matplotlib.lines.Line2D at 0x7f7703bf4880>]"
      ]
     },
     "execution_count": 41,
     "metadata": {},
     "output_type": "execute_result"
    },
    {
     "data": {
      "image/png": "[encoded data removed]",
      "text/plain": [
       "<Figure size 640x480 with 1 Axes>"
      ]
     },
     "metadata": {},
     "output_type": "display_data"
    }
   ],
   "source": [
    "plt.plot(losses)"
   ]
  },
  {
   "cell_type": "markdown",
   "metadata": {
    "id": "NRsjdDKK4-4S"
   },
   "source": [
    "- You see that the loss is barely changing\n",
    "- We can set `1e-6` as our lower learning rate boundary\n",
    "- Now let's find the upper learning rate boundary"
   ]
  },
  {
   "cell_type": "code",
   "execution_count": 42,
   "metadata": {
    "colab": {
     "base_uri": "https://localhost:8080/"
    },
    "id": "GS4LkUVY5S7S",
    "outputId": "1ef500b7-c6a0-40c0-f95c-dd89bb66af29"
   },
   "outputs": [
    {
     "name": "stdout",
     "output_type": "stream",
     "text": [
      "#parameters : 44177\n",
      "Step       0/    200 | Loss 3.3132 | Step time 1.30 ms\n",
      "Step       5/    200 | Loss 27203472.0000 | Step time 0.89 ms\n",
      "Step      10/    200 | Loss 37747624.0000 | Step time 0.85 ms\n",
      "Step      15/    200 | Loss 30264934.0000 | Step time 0.84 ms\n",
      "Step      20/    200 | Loss 12696472.0000 | Step time 0.84 ms\n",
      "Step      25/    200 | Loss 29651334.0000 | Step time 0.85 ms\n",
      "Step      30/    200 | Loss 19898496.0000 | Step time 0.86 ms\n",
      "Step      35/    200 | Loss 19286934.0000 | Step time 0.89 ms\n",
      "Step      40/    200 | Loss 33109740.0000 | Step time 0.84 ms\n",
      "Step      45/    200 | Loss 22293742.0000 | Step time 0.84 ms\n",
      "Step      50/    200 | Loss 21214950.0000 | Step time 0.84 ms\n",
      "Step      55/    200 | Loss 27501310.0000 | Step time 0.84 ms\n",
      "Step      60/    200 | Loss 32985126.0000 | Step time 0.87 ms\n",
      "Step      65/    200 | Loss 31003074.0000 | Step time 0.87 ms\n",
      "Step      70/    200 | Loss 25657868.0000 | Step time 0.87 ms\n",
      "Step      75/    200 | Loss 24275564.0000 | Step time 0.84 ms\n",
      "Step      80/    200 | Loss 21143012.0000 | Step time 0.94 ms\n",
      "Step      85/    200 | Loss 25867672.0000 | Step time 0.85 ms\n",
      "Step      90/    200 | Loss 19938070.0000 | Step time 0.86 ms\n",
      "Step      95/    200 | Loss 13926525.0000 | Step time 0.85 ms\n",
      "Step     100/    200 | Loss 17851662.0000 | Step time 0.86 ms\n",
      "Step     105/    200 | Loss 15806004.0000 | Step time 0.84 ms\n",
      "Step     110/    200 | Loss 15669406.0000 | Step time 0.84 ms\n",
      "Step     115/    200 | Loss 23085614.0000 | Step time 0.84 ms\n",
      "Step     120/    200 | Loss 20555442.0000 | Step time 0.84 ms\n",
      "Step     125/    200 | Loss 17768224.0000 | Step time 0.87 ms\n",
      "Step     130/    200 | Loss 25999878.0000 | Step time 0.86 ms\n",
      "Step     135/    200 | Loss 22621182.0000 | Step time 1.01 ms\n",
      "Step     140/    200 | Loss 21389616.0000 | Step time 1.07 ms\n",
      "Step     145/    200 | Loss 17226664.0000 | Step time 0.87 ms\n",
      "Step     150/    200 | Loss 19951044.0000 | Step time 0.84 ms\n",
      "Step     155/    200 | Loss 24723168.0000 | Step time 0.84 ms\n",
      "Step     160/    200 | Loss 26996930.0000 | Step time 0.85 ms\n",
      "Step     165/    200 | Loss 15260180.0000 | Step time 0.98 ms\n",
      "Step     170/    200 | Loss 15323818.0000 | Step time 0.85 ms\n",
      "Step     175/    200 | Loss 33539762.0000 | Step time 0.85 ms\n",
      "Step     180/    200 | Loss 12427231.0000 | Step time 0.88 ms\n",
      "Step     185/    200 | Loss 16371873.0000 | Step time 0.87 ms\n",
      "Step     190/    200 | Loss 29885784.0000 | Step time 0.85 ms\n",
      "Step     195/    200 | Loss 34498160.0000 | Step time 0.84 ms\n"
     ]
    }
   ],
   "source": [
    "# Build the model\n",
    "mlp_v1 = MLP(config)\n",
    "print('#parameters :', sum([p.numel() for p in mlp_v1.parameters()]))\n",
    "\n",
    "# Check wether our model can overfit a small batch\n",
    "losses = train(\n",
    "    model=mlp_v1,\n",
    "    batch_size=32,\n",
    "    X_train=X_train,\n",
    "    y_train=y_train,\n",
    "    max_iter=200,\n",
    "    lr=1.e6,\n",
    "    generator=g\n",
    ")"
   ]
  },
  {
   "cell_type": "code",
   "execution_count": 43,
   "metadata": {
    "colab": {
     "base_uri": "https://localhost:8080/",
     "height": 462
    },
    "id": "_tVZ24nj5gIk",
    "outputId": "0994c63c-0ec8-4877-ddf6-cb5754be058b"
   },
   "outputs": [
    {
     "data": {
      "text/plain": [
       "[<matplotlib.lines.Line2D at 0x7f7703a8cdf0>]"
      ]
     },
     "execution_count": 43,
     "metadata": {},
     "output_type": "execute_result"
    },
    {
     "data": {
      "image/png": "[encoded data removed]",
      "text/plain": [
       "<Figure size 640x480 with 1 Axes>"
      ]
     },
     "metadata": {},
     "output_type": "display_data"
    }
   ],
   "source": [
    "plt.plot(losses)"
   ]
  },
  {
   "cell_type": "markdown",
   "metadata": {
    "id": "8eL5ZZga5lfi"
   },
   "source": [
    "- The loss is not going down --> learning rate is too high\n",
    "- Let's reduce the learning rate"
   ]
  },
  {
   "cell_type": "code",
   "execution_count": 44,
   "metadata": {
    "colab": {
     "base_uri": "https://localhost:8080/"
    },
    "id": "84RFoVSX6Srf",
    "outputId": "e3e6949a-75d4-46eb-d090-8a8558bb9200"
   },
   "outputs": [
    {
     "name": "stdout",
     "output_type": "stream",
     "text": [
      "#parameters : 44177\n",
      "Step       0/    200 | Loss 3.3121 | Step time 1.21 ms\n",
      "Step       5/    200 | Loss 3.3307 | Step time 0.84 ms\n",
      "Step      10/    200 | Loss 3.2973 | Step time 1.24 ms\n",
      "Step      15/    200 | Loss 3.2417 | Step time 0.84 ms\n",
      "Step      20/    200 | Loss 3.2964 | Step time 1.00 ms\n",
      "Step      25/    200 | Loss 3.2446 | Step time 0.88 ms\n",
      "Step      30/    200 | Loss 3.1813 | Step time 0.84 ms\n",
      "Step      35/    200 | Loss 3.2471 | Step time 0.84 ms\n",
      "Step      40/    200 | Loss 3.1912 | Step time 0.88 ms\n",
      "Step      45/    200 | Loss 3.1128 | Step time 0.86 ms\n",
      "Step      50/    200 | Loss 3.0333 | Step time 0.85 ms\n",
      "Step      55/    200 | Loss 3.1743 | Step time 0.84 ms\n",
      "Step      60/    200 | Loss 3.1116 | Step time 0.84 ms\n",
      "Step      65/    200 | Loss 3.1532 | Step time 0.84 ms\n",
      "Step      70/    200 | Loss 3.0363 | Step time 0.84 ms\n",
      "Step      75/    200 | Loss 3.0423 | Step time 0.87 ms\n",
      "Step      80/    200 | Loss 2.9082 | Step time 0.87 ms\n",
      "Step      85/    200 | Loss 3.1135 | Step time 0.87 ms\n",
      "Step      90/    200 | Loss 2.9791 | Step time 0.84 ms\n",
      "Step      95/    200 | Loss 2.8619 | Step time 0.84 ms\n",
      "Step     100/    200 | Loss 2.8042 | Step time 0.84 ms\n",
      "Step     105/    200 | Loss 3.0339 | Step time 0.83 ms\n",
      "Step     110/    200 | Loss 2.9080 | Step time 0.84 ms\n",
      "Step     115/    200 | Loss 2.9554 | Step time 0.85 ms\n",
      "Step     120/    200 | Loss 3.0007 | Step time 0.85 ms\n",
      "Step     125/    200 | Loss 2.8825 | Step time 0.85 ms\n",
      "Step     130/    200 | Loss 2.8954 | Step time 0.84 ms\n",
      "Step     135/    200 | Loss 2.8901 | Step time 0.83 ms\n",
      "Step     140/    200 | Loss 3.0214 | Step time 0.83 ms\n",
      "Step     145/    200 | Loss 2.9852 | Step time 0.84 ms\n",
      "Step     150/    200 | Loss 2.7692 | Step time 0.87 ms\n",
      "Step     155/    200 | Loss 2.8317 | Step time 0.86 ms\n",
      "Step     160/    200 | Loss 2.8706 | Step time 0.84 ms\n",
      "Step     165/    200 | Loss 3.0577 | Step time 0.84 ms\n",
      "Step     170/    200 | Loss 2.8390 | Step time 0.84 ms\n",
      "Step     175/    200 | Loss 2.8225 | Step time 0.83 ms\n",
      "Step     180/    200 | Loss 3.0716 | Step time 0.85 ms\n",
      "Step     185/    200 | Loss 2.8040 | Step time 0.85 ms\n",
      "Step     190/    200 | Loss 3.0547 | Step time 0.85 ms\n",
      "Step     195/    200 | Loss 2.7619 | Step time 0.83 ms\n"
     ]
    }
   ],
   "source": [
    "# Build the model\n",
    "mlp_v1 = MLP(config)\n",
    "print('#parameters :', sum([p.numel() for p in mlp_v1.parameters()]))\n",
    "\n",
    "# Check wether our model can overfit a small batch\n",
    "losses = train(\n",
    "    model=mlp_v1,\n",
    "    batch_size=32,\n",
    "    X_train=X_train,\n",
    "    y_train=y_train,\n",
    "    max_iter=200,\n",
    "    lr=3.e-3,\n",
    "    generator=g\n",
    ")"
   ]
  },
  {
   "cell_type": "code",
   "execution_count": 45,
   "metadata": {
    "colab": {
     "base_uri": "https://localhost:8080/",
     "height": 447
    },
    "id": "wHpr4tB66Wvh",
    "outputId": "4e337385-7a8d-495d-f5ef-c4225b15c5b1"
   },
   "outputs": [
    {
     "data": {
      "text/plain": [
       "[<matplotlib.lines.Line2D at 0x7f7703b1a0e0>]"
      ]
     },
     "execution_count": 45,
     "metadata": {},
     "output_type": "execute_result"
    },
    {
     "data": {
      "image/png": "[encoded data removed]",
      "text/plain": [
       "<Figure size 640x480 with 1 Axes>"
      ]
     },
     "metadata": {},
     "output_type": "display_data"
    }
   ],
   "source": [
    "plt.plot(losses)"
   ]
  },
  {
   "cell_type": "markdown",
   "metadata": {
    "id": "rSNImWcC6jmZ"
   },
   "source": [
    "- We see that the loss is decreasing, but at higher iteration, it tends to level out.\n",
    "- We can then cross validate the learning rate in range of `[1e-3 ... 1e-6]`"
   ]
  },
  {
   "cell_type": "markdown",
   "metadata": {
    "id": "kMrlmFSE7EAG"
   },
   "source": [
    "## 2.5 Cross Validation\n",
    "\n",
    "---"
   ]
  },
  {
   "cell_type": "markdown",
   "metadata": {
    "id": "8XToGqF17YSP"
   },
   "source": [
    "Our strategy\n",
    "1. Coarse search = use few epoch to get the rough ideas about how params work\n",
    "2. Fine search = longer running time"
   ]
  },
  {
   "cell_type": "markdown",
   "metadata": {
    "id": "pVQEveux8BsS"
   },
   "source": [
    "### **Coarse Search**\n",
    "\n",
    "---"
   ]
  },
  {
   "cell_type": "markdown",
   "metadata": {
    "id": "xOg9-Kb58EsT"
   },
   "source": [
    "- Assume we have two variables, i.e. learning rate & regularization strength\n",
    "- We want to find the best learning rate & regularization strength\n",
    "- Assume\n",
    "  - Learning rate range = `[1e-2, 1e0]`\n",
    "  - Regularization strength range = `[1e-5, 1e1]`"
   ]
  },
  {
   "cell_type": "code",
   "execution_count": 46,
   "metadata": {
    "id": "c9QgkHla_T6X"
   },
   "outputs": [],
   "source": [
    "# Create evaluation function\n",
    "@torch.no_grad()\n",
    "def evaluate_loss(model, type):\n",
    "    # Get the data\n",
    "    X, y = {\n",
    "        'train': (X_train, y_train),\n",
    "        'valid': (X_valid, y_valid),\n",
    "        'test': (X_test, y_test)\n",
    "    }[type]\n",
    "\n",
    "    # Do the forward pass\n",
    "    logits = model(X)\n",
    "    loss = F.cross_entropy(logits, y)\n",
    "\n",
    "    return loss"
   ]
  },
  {
   "cell_type": "code",
   "execution_count": 47,
   "metadata": {
    "colab": {
     "base_uri": "https://localhost:8080/"
    },
    "id": "IyDEfV1D9Az5",
    "outputId": "c22217e4-27ec-491b-d71f-634d073ac7bd"
   },
   "outputs": [
    {
     "name": "stdout",
     "output_type": "stream",
     "text": [
      "#parameters : 44177\n",
      "Step       0/    100 | Loss mini batch 3.3914 | Loss train 3.2558 | Loss valid 3.2584 | lr: 5.611516e-02 | reg: 5.061577e+00 | Step time 93.11 ms\n",
      "Step       1/    100 | Loss mini batch 3.2914 | Loss train 3.1252 | Loss valid 3.1289 | lr: 2.910636e-01 | reg: 3.907967e-02 | Step time 88.43 ms\n",
      "Step       2/    100 | Loss mini batch 3.0777 | Loss train 3.1202 | Loss valid 3.1242 | lr: 2.051338e-02 | reg: 8.629132e-05 | Step time 88.28 ms\n",
      "Step       3/    100 | Loss mini batch 3.0823 | Loss train 3.1198 | Loss valid 3.1237 | lr: 1.306674e-02 | reg: 1.574189e+00 | Step time 88.92 ms\n",
      "Step       4/    100 | Loss mini batch 3.1473 | Loss train 3.0686 | Loss valid 3.0703 | lr: 1.593052e-01 | reg: 1.771885e-01 | Step time 88.50 ms\n",
      "Step       5/    100 | Loss mini batch 3.2123 | Loss train 3.0959 | Loss valid 3.0972 | lr: 1.099434e-02 | reg: 6.598711e+00 | Step time 128.22 ms\n",
      "Step       6/    100 | Loss mini batch 3.0657 | Loss train 3.0623 | Loss valid 3.0687 | lr: 4.622589e-01 | reg: 1.879467e-04 | Step time 89.96 ms\n",
      "Step       7/    100 | Loss mini batch 3.2199 | Loss train 3.0414 | Loss valid 3.0481 | lr: 2.310202e-02 | reg: 1.260164e-04 | Step time 88.87 ms\n",
      "Step       8/    100 | Loss mini batch 2.9338 | Loss train 3.0258 | Loss valid 3.0313 | lr: 4.059612e-02 | reg: 1.407792e-02 | Step time 89.76 ms\n",
      "Step       9/    100 | Loss mini batch 3.0871 | Loss train 2.9985 | Loss valid 3.0040 | lr: 7.309540e-02 | reg: 5.589524e-04 | Step time 88.42 ms\n",
      "Step      10/    100 | Loss mini batch 3.1521 | Loss train 2.9701 | Loss valid 2.9749 | lr: 1.673809e-01 | reg: 6.870102e-05 | Step time 89.14 ms\n",
      "Step      11/    100 | Loss mini batch 3.1503 | Loss train 2.9663 | Loss valid 2.9708 | lr: 3.839629e-02 | reg: 1.578233e-03 | Step time 89.86 ms\n",
      "Step      12/    100 | Loss mini batch 2.9923 | Loss train 2.9756 | Loss valid 2.9774 | lr: 8.168456e-02 | reg: 5.141097e-01 | Step time 88.81 ms\n",
      "Step      13/    100 | Loss mini batch 2.8935 | Loss train 2.9734 | Loss valid 2.9750 | lr: 2.508116e-02 | reg: 1.217325e-02 | Step time 88.59 ms\n",
      "Step      14/    100 | Loss mini batch 3.0572 | Loss train 2.9616 | Loss valid 2.9628 | lr: 1.530485e-01 | reg: 1.899776e-05 | Step time 90.16 ms\n",
      "Step      15/    100 | Loss mini batch 3.0529 | Loss train 2.9550 | Loss valid 2.9535 | lr: 1.640929e-01 | reg: 1.054738e-04 | Step time 88.88 ms\n",
      "Step      16/    100 | Loss mini batch 3.0380 | Loss train 2.9845 | Loss valid 2.9832 | lr: 1.349283e-02 | reg: 4.935296e+00 | Step time 89.07 ms\n",
      "Step      17/    100 | Loss mini batch 3.0028 | Loss train 3.1755 | Loss valid 3.1772 | lr: 8.536190e-01 | reg: 7.085722e-01 | Step time 89.13 ms\n",
      "Step      18/    100 | Loss mini batch 3.1757 | Loss train 3.1696 | Loss valid 3.1714 | lr: 4.066563e-02 | reg: 3.855074e-05 | Step time 89.06 ms\n",
      "Step      19/    100 | Loss mini batch 3.1007 | Loss train 3.1228 | Loss valid 3.1249 | lr: 2.335964e-01 | reg: 4.374364e-03 | Step time 88.70 ms\n"
     ]
    }
   ],
   "source": [
    "# First define the model\n",
    "mlp_v1 = MLP(config)\n",
    "print('#parameters :', sum([p.numel() for p in mlp_v1.parameters()]))\n",
    "\n",
    "\n",
    "# Next, define optimizer\n",
    "optimizer = torch.optim.SGD(mlp_v1.parameters(),\n",
    "                            lr=0.1,\n",
    "                            weight_decay=0.0)\n",
    "\n",
    "\n",
    "# After that, initialize\n",
    "max_iter = 100       # run for small iteration\n",
    "batch_size = 32\n",
    "losses = []\n",
    "losses_train = []\n",
    "losses_valid = []\n",
    "regs = []\n",
    "lrs = []\n",
    "\n",
    "# Iterate\n",
    "np.random.seed(42)\n",
    "g = torch.Generator().manual_seed(42)\n",
    "\n",
    "for iter in range(max_iter):\n",
    "    t1 = time.time()\n",
    "\n",
    "    # Generate the regularization strenght & learning rates randomly\n",
    "    # This is similar to a randomized search cv\n",
    "    lr = 10**np.random.uniform(-2, 0)\n",
    "    reg = 10**np.random.uniform(-5, 1)\n",
    "\n",
    "    # Construct the minibatch\n",
    "    ix = torch.randint(0, X_train.shape[0], (batch_size,), generator=g)\n",
    "    X_batch = X_train[ix]\n",
    "    y_batch = y_train[ix]\n",
    "\n",
    "    # Forward pass\n",
    "    logits = mlp_v1(X_batch)\n",
    "    loss = F.cross_entropy(logits, y_batch)\n",
    "\n",
    "    # Calculate & append loss\n",
    "\n",
    "    # Backward pass\n",
    "    mlp_v1.zero_grad(set_to_none=True)\n",
    "    loss.backward()\n",
    "\n",
    "    # Update the optimizer parameters\n",
    "    optimizer.param_groups[0]['lr'] = lr\n",
    "    optimizer.param_groups[0]['weight_decay'] = reg\n",
    "\n",
    "    # Update the parameters\n",
    "    optimizer.step()\n",
    "\n",
    "    # Calculate & append loss\n",
    "    loss_train = evaluate_loss(mlp_v1, 'train')\n",
    "    loss_valid = evaluate_loss(mlp_v1, 'valid')\n",
    "    losses.append(loss.item())\n",
    "    losses_train.append(loss_train.item())\n",
    "    losses_valid.append(loss_valid.item())\n",
    "    lrs.append(lr)\n",
    "    regs.append(reg)\n",
    "    elapsed = time.time() - t1\n",
    "    if iter < 20:\n",
    "        print(f\"Step {iter:7d}/{max_iter:7d} \"\n",
    "            f\"| Loss mini batch {loss.item():.4f} \"\n",
    "            f\"| Loss train {loss_train.item():.4f} \"\n",
    "            f\"| Loss valid {loss_valid.item():.4f} \"\n",
    "            f\"| lr: {lr:.6e} \"\n",
    "            f\"| reg: {reg:.6e} \"\n",
    "            f\"| Step time {elapsed*1000:.2f} ms\")"
   ]
  },
  {
   "cell_type": "code",
   "execution_count": 48,
   "metadata": {
    "id": "N_JTdmOCGtZE"
   },
   "outputs": [],
   "source": [
    "# Summarize\n",
    "import pandas as pd"
   ]
  },
  {
   "cell_type": "code",
   "execution_count": 49,
   "metadata": {
    "colab": {
     "base_uri": "https://localhost:8080/",
     "height": 206
    },
    "id": "PKg5IsRyGwAD",
    "outputId": "05a57171-92eb-419c-ce8e-91436fbeba1d"
   },
   "outputs": [
    {
     "data": {
      "text/html": [
       "<div>\n",
       "<style scoped>\n",
       "    .dataframe tbody tr th:only-of-type {\n",
       "        vertical-align: middle;\n",
       "    }\n",
       "\n",
       "    .dataframe tbody tr th {\n",
       "        vertical-align: top;\n",
       "    }\n",
       "\n",
       "    .dataframe thead th {\n",
       "        text-align: right;\n",
       "    }\n",
       "</style>\n",
       "<table border=\"1\" class=\"dataframe\">\n",
       "  <thead>\n",
       "    <tr style=\"text-align: right;\">\n",
       "      <th></th>\n",
       "      <th>valid_loss</th>\n",
       "      <th>lr</th>\n",
       "      <th>reg</th>\n",
       "    </tr>\n",
       "  </thead>\n",
       "  <tbody>\n",
       "    <tr>\n",
       "      <th>15</th>\n",
       "      <td>2.953454</td>\n",
       "      <td>0.164093</td>\n",
       "      <td>0.000105</td>\n",
       "    </tr>\n",
       "    <tr>\n",
       "      <th>14</th>\n",
       "      <td>2.962833</td>\n",
       "      <td>0.153049</td>\n",
       "      <td>0.000019</td>\n",
       "    </tr>\n",
       "    <tr>\n",
       "      <th>11</th>\n",
       "      <td>2.970791</td>\n",
       "      <td>0.038396</td>\n",
       "      <td>0.001578</td>\n",
       "    </tr>\n",
       "    <tr>\n",
       "      <th>10</th>\n",
       "      <td>2.974900</td>\n",
       "      <td>0.167381</td>\n",
       "      <td>0.000069</td>\n",
       "    </tr>\n",
       "    <tr>\n",
       "      <th>13</th>\n",
       "      <td>2.974994</td>\n",
       "      <td>0.025081</td>\n",
       "      <td>0.012173</td>\n",
       "    </tr>\n",
       "  </tbody>\n",
       "</table>\n",
       "</div>"
      ],
      "text/plain": [
       "    valid_loss        lr       reg\n",
       "15    2.953454  0.164093  0.000105\n",
       "14    2.962833  0.153049  0.000019\n",
       "11    2.970791  0.038396  0.001578\n",
       "10    2.974900  0.167381  0.000069\n",
       "13    2.974994  0.025081  0.012173"
      ]
     },
     "execution_count": 49,
     "metadata": {},
     "output_type": "execute_result"
    }
   ],
   "source": [
    "# Create df\n",
    "summary_df = pd.DataFrame(\n",
    "    {'valid_loss': losses_valid,\n",
    "     'lr': lrs,\n",
    "     'reg': regs}\n",
    ")\n",
    "\n",
    "# sort values\n",
    "summary_df = summary_df.sort_values(by='valid_loss')\n",
    "summary_df.head(5)"
   ]
  },
  {
   "cell_type": "markdown",
   "metadata": {
    "id": "x3BgY_9GBtwk"
   },
   "source": [
    "- We can fine search the hyperparameter from the above range\n",
    "  - LR = `[2e-2, 2e-1]`\n",
    "  - Regularization Strength = `[1e-5, 2e-2]`"
   ]
  },
  {
   "cell_type": "markdown",
   "metadata": {
    "id": "9kTFYXzxCfKe"
   },
   "source": [
    "### **Fine Search**\n",
    "\n",
    "---"
   ]
  },
  {
   "cell_type": "markdown",
   "metadata": {
    "id": "xh1AsBTxDB1r"
   },
   "source": [
    "- We can perform longer run (if necessary) to find the best hyperparameters"
   ]
  },
  {
   "cell_type": "code",
   "execution_count": 50,
   "metadata": {
    "colab": {
     "base_uri": "https://localhost:8080/"
    },
    "id": "jEOiv9xXDIfm",
    "outputId": "b3317dfb-2ced-47ac-ba5f-f0b1d887a856"
   },
   "outputs": [
    {
     "name": "stdout",
     "output_type": "stream",
     "text": [
      "#parameters : 44177\n",
      "Step       0/    200 | Loss mini batch 3.3914 | Loss train 3.3137 | Loss valid 3.3177 | lr: 2.368864e-02 | reg: 7.114476e-03 | Step time 88.89 ms\n",
      "Step       1/    200 | Loss mini batch 3.3780 | Loss train 3.2249 | Loss valid 3.2300 | lr: 5.395031e-02 | reg: 6.251374e-04 | Step time 88.72 ms\n"
     ]
    },
    {
     "name": "stdout",
     "output_type": "stream",
     "text": [
      "Step       2/    200 | Loss mini batch 3.2408 | Loss train 3.2113 | Loss valid 3.2167 | lr: 1.432249e-02 | reg: 2.937538e-05 | Step time 88.85 ms\n",
      "Step       3/    200 | Loss mini batch 3.1489 | Loss train 3.1955 | Loss valid 3.2011 | lr: 1.143098e-02 | reg: 3.967605e-03 | Step time 89.60 ms\n",
      "Step       4/    200 | Loss mini batch 3.2198 | Loss train 3.1456 | Loss valid 3.1497 | lr: 3.991306e-02 | reg: 1.331122e-03 | Step time 88.43 ms\n",
      "Step       5/    200 | Loss mini batch 3.2586 | Loss train 3.1432 | Loss valid 3.1467 | lr: 1.048539e-02 | reg: 8.123245e-03 | Step time 88.96 ms\n",
      "Step       6/    200 | Loss mini batch 3.1032 | Loss train 3.0713 | Loss valid 3.0780 | lr: 6.798962e-02 | reg: 4.335282e-05 | Step time 87.05 ms\n",
      "Step       7/    200 | Loss mini batch 3.1824 | Loss train 3.0628 | Loss valid 3.0698 | lr: 1.519935e-02 | reg: 3.549879e-05 | Step time 88.56 ms\n",
      "Step       8/    200 | Loss mini batch 2.9921 | Loss train 3.0504 | Loss valid 3.0566 | lr: 2.014848e-02 | reg: 3.752056e-04 | Step time 88.95 ms\n",
      "Step       9/    200 | Loss mini batch 3.1058 | Loss train 3.0403 | Loss valid 3.0470 | lr: 2.703616e-02 | reg: 7.476312e-05 | Step time 88.43 ms\n",
      "Step      10/    200 | Loss mini batch 3.1642 | Loss train 3.0254 | Loss valid 3.0316 | lr: 4.091221e-02 | reg: 2.621088e-05 | Step time 88.43 ms\n",
      "Step      11/    200 | Loss mini batch 3.1633 | Loss train 3.0218 | Loss valid 3.0276 | lr: 1.959497e-02 | reg: 1.256277e-04 | Step time 90.26 ms\n",
      "Step      12/    200 | Loss mini batch 3.0577 | Loss train 3.0131 | Loss valid 3.0169 | lr: 2.858051e-02 | reg: 2.267399e-03 | Step time 88.74 ms\n",
      "Step      13/    200 | Loss mini batch 2.8871 | Loss train 3.0097 | Loss valid 3.0130 | lr: 1.583703e-02 | reg: 3.489019e-04 | Step time 88.46 ms\n",
      "Step      14/    200 | Loss mini batch 3.1087 | Loss train 2.9997 | Loss valid 3.0027 | lr: 3.912142e-02 | reg: 1.378324e-05 | Step time 89.41 ms\n",
      "Step      15/    200 | Loss mini batch 3.0982 | Loss train 2.9907 | Loss valid 2.9915 | lr: 4.050838e-02 | reg: 3.247674e-05 | Step time 88.60 ms\n",
      "Step      16/    200 | Loss mini batch 3.0931 | Loss train 2.9884 | Loss valid 2.9889 | lr: 1.161587e-02 | reg: 7.025166e-03 | Step time 88.56 ms\n",
      "Step      17/    200 | Loss mini batch 2.9914 | Loss train 2.9758 | Loss valid 2.9758 | lr: 9.239150e-02 | reg: 2.661902e-03 | Step time 89.24 ms\n",
      "Step      18/    200 | Loss mini batch 2.9626 | Loss train 2.9636 | Loss valid 2.9640 | lr: 2.016572e-02 | reg: 1.963434e-05 | Step time 87.75 ms\n",
      "Step      19/    200 | Loss mini batch 2.8552 | Loss train 2.9421 | Loss valid 2.9434 | lr: 4.833181e-02 | reg: 2.091498e-04 | Step time 88.67 ms\n"
     ]
    }
   ],
   "source": [
    "# First define the model\n",
    "mlp_v1 = MLP(config)\n",
    "print('#parameters :', sum([p.numel() for p in mlp_v1.parameters()]))\n",
    "\n",
    "\n",
    "# Next, define optimizer\n",
    "optimizer = torch.optim.SGD(mlp_v1.parameters(),\n",
    "                            lr=0.1,\n",
    "                            weight_decay=0.0)\n",
    "\n",
    "\n",
    "# After that, initialize\n",
    "max_iter = 200       # run for longer iteration\n",
    "batch_size = 32\n",
    "losses = []\n",
    "losses_train = []\n",
    "losses_valid = []\n",
    "regs = []\n",
    "lrs = []\n",
    "\n",
    "# Iterate\n",
    "np.random.seed(42)\n",
    "g = torch.Generator().manual_seed(42)\n",
    "\n",
    "for iter in range(max_iter):\n",
    "    t1 = time.time()\n",
    "\n",
    "    # Generate the regularization strenght & learning rates randomly\n",
    "    # This is similar to a randomized search cv\n",
    "    lr = 10**np.random.uniform(-2, -1)\n",
    "    reg = 10**np.random.uniform(-5, -2)\n",
    "\n",
    "    # Construct the minibatch\n",
    "    ix = torch.randint(0, X_train.shape[0], (batch_size,), generator=g)\n",
    "    X_batch = X_train[ix]\n",
    "    y_batch = y_train[ix]\n",
    "\n",
    "    # Forward pass\n",
    "    logits = mlp_v1(X_batch)\n",
    "    loss = F.cross_entropy(logits, y_batch)\n",
    "\n",
    "    # Calculate & append loss\n",
    "\n",
    "    # Backward pass\n",
    "    mlp_v1.zero_grad(set_to_none=True)\n",
    "    loss.backward()\n",
    "\n",
    "    # Update the optimizer parameters\n",
    "    optimizer.param_groups[0]['lr'] = lr\n",
    "    optimizer.param_groups[0]['weight_decay'] = reg\n",
    "\n",
    "    # Update the parameters\n",
    "    optimizer.step()\n",
    "\n",
    "    # Calculate & append loss\n",
    "    loss_train = evaluate_loss(mlp_v1, 'train')\n",
    "    loss_valid = evaluate_loss(mlp_v1, 'valid')\n",
    "    losses.append(loss.item())\n",
    "    losses_train.append(loss_train.item())\n",
    "    losses_valid.append(loss_valid.item())\n",
    "    lrs.append(lr)\n",
    "    regs.append(reg)\n",
    "    elapsed = time.time() - t1\n",
    "    if iter < 20:\n",
    "        print(f\"Step {iter:7d}/{max_iter:7d} \"\n",
    "            f\"| Loss mini batch {loss.item():.4f} \"\n",
    "            f\"| Loss train {loss_train.item():.4f} \"\n",
    "            f\"| Loss valid {loss_valid.item():.4f} \"\n",
    "            f\"| lr: {lr:.6e} \"\n",
    "            f\"| reg: {reg:.6e} \"\n",
    "            f\"| Step time {elapsed*1000:.2f} ms\")"
   ]
  },
  {
   "cell_type": "code",
   "execution_count": 51,
   "metadata": {
    "colab": {
     "base_uri": "https://localhost:8080/",
     "height": 206
    },
    "id": "yX9phZcgHxiC",
    "outputId": "bff83a10-d628-49bc-8b85-74293d198486"
   },
   "outputs": [
    {
     "data": {
      "text/html": [
       "<div>\n",
       "<style scoped>\n",
       "    .dataframe tbody tr th:only-of-type {\n",
       "        vertical-align: middle;\n",
       "    }\n",
       "\n",
       "    .dataframe tbody tr th {\n",
       "        vertical-align: top;\n",
       "    }\n",
       "\n",
       "    .dataframe thead th {\n",
       "        text-align: right;\n",
       "    }\n",
       "</style>\n",
       "<table border=\"1\" class=\"dataframe\">\n",
       "  <thead>\n",
       "    <tr style=\"text-align: right;\">\n",
       "      <th></th>\n",
       "      <th>valid_loss</th>\n",
       "      <th>lr</th>\n",
       "      <th>reg</th>\n",
       "    </tr>\n",
       "  </thead>\n",
       "  <tbody>\n",
       "    <tr>\n",
       "      <th>167</th>\n",
       "      <td>2.527558</td>\n",
       "      <td>0.011117</td>\n",
       "      <td>0.000013</td>\n",
       "    </tr>\n",
       "    <tr>\n",
       "      <th>166</th>\n",
       "      <td>2.527744</td>\n",
       "      <td>0.010337</td>\n",
       "      <td>0.000022</td>\n",
       "    </tr>\n",
       "    <tr>\n",
       "      <th>177</th>\n",
       "      <td>2.528588</td>\n",
       "      <td>0.011764</td>\n",
       "      <td>0.000846</td>\n",
       "    </tr>\n",
       "    <tr>\n",
       "      <th>187</th>\n",
       "      <td>2.528679</td>\n",
       "      <td>0.011781</td>\n",
       "      <td>0.000091</td>\n",
       "    </tr>\n",
       "    <tr>\n",
       "      <th>178</th>\n",
       "      <td>2.528720</td>\n",
       "      <td>0.010629</td>\n",
       "      <td>0.000572</td>\n",
       "    </tr>\n",
       "  </tbody>\n",
       "</table>\n",
       "</div>"
      ],
      "text/plain": [
       "     valid_loss        lr       reg\n",
       "167    2.527558  0.011117  0.000013\n",
       "166    2.527744  0.010337  0.000022\n",
       "177    2.528588  0.011764  0.000846\n",
       "187    2.528679  0.011781  0.000091\n",
       "178    2.528720  0.010629  0.000572"
      ]
     },
     "execution_count": 51,
     "metadata": {},
     "output_type": "execute_result"
    }
   ],
   "source": [
    "# Create df\n",
    "summary_df = pd.DataFrame(\n",
    "    {'valid_loss': losses_valid,\n",
    "     'lr': lrs,\n",
    "     'reg': regs}\n",
    ")\n",
    "\n",
    "# sort values\n",
    "summary_df = summary_df.sort_values(by='valid_loss')\n",
    "summary_df.head(5)"
   ]
  },
  {
   "cell_type": "markdown",
   "metadata": {
    "id": "ELng8DaiIz3m"
   },
   "source": [
    "- Great!\n",
    "- We can use `lr=0.011117` with `reg=0.000013`"
   ]
  },
  {
   "cell_type": "markdown",
   "metadata": {
    "id": "pRx9dzNTHw45"
   },
   "source": [
    "### **Retrain**\n",
    "---"
   ]
  },
  {
   "cell_type": "markdown",
   "metadata": {
    "id": "45qk3VGiPd9d"
   },
   "source": [
    "- We can retrain it with the tuned hyperparameters"
   ]
  },
  {
   "cell_type": "code",
   "execution_count": 52,
   "metadata": {
    "id": "iFsGOMaXJHxh"
   },
   "outputs": [],
   "source": [
    "# We create the training function\n",
    "def train(model,\n",
    "          batch_size,\n",
    "          X_train,\n",
    "          y_train,\n",
    "          max_iter,\n",
    "          optimizer,\n",
    "          generator):\n",
    "    # Initialize\n",
    "    losses = []\n",
    "    decay_flag = False\n",
    "\n",
    "    # Iterate\n",
    "    for iter in range(max_iter):\n",
    "        t1 = time.time()\n",
    "\n",
    "        # Construct the minibatch\n",
    "        if batch_size is not None:\n",
    "            ix = torch.randint(0, X_train.shape[0], (batch_size,), generator=generator)\n",
    "            X_batch = X_train[ix]\n",
    "            y_batch = y_train[ix]\n",
    "        else:\n",
    "            X_batch = X_train\n",
    "            y_batch = y_train\n",
    "\n",
    "        # Forward pass\n",
    "        logits = model(X_batch)\n",
    "        loss = F.cross_entropy(logits, y_batch)\n",
    "\n",
    "        # Backward pass\n",
    "        model.zero_grad(set_to_none=True)\n",
    "        loss.backward()\n",
    "\n",
    "        # Update the parameters\n",
    "        # Custom decay\n",
    "        if iter > int(max_iter/2.) and decay_flag==False:\n",
    "            optimizer.param_groups[0]['lr'] = optimizer.param_groups[0]['lr']/10.\n",
    "            decay_flag = True\n",
    "        optimizer.step()\n",
    "\n",
    "        # Append the loss\n",
    "        losses.append(loss.item())\n",
    "        elapsed = time.time() - t1\n",
    "        if max_iter == 1:\n",
    "            print(f\"Step {iter:7d}/{max_iter:7d} \"\n",
    "                f\"| Loss {loss.item():.4f} \"\n",
    "                f\"| Step time {elapsed*1000:.2f} ms\")\n",
    "\n",
    "        elif iter % int(max_iter/40) == 0:\n",
    "            print(f\"Step {iter:7d}/{max_iter:7d} \"\n",
    "                f\"| Loss {loss.item():.4f} \"\n",
    "                f\"| Step time {elapsed*1000:.2f} ms\")\n",
    "\n",
    "    return losses\n"
   ]
  },
  {
   "cell_type": "code",
   "execution_count": 53,
   "metadata": {
    "colab": {
     "base_uri": "https://localhost:8080/"
    },
    "id": "0g1YFOkEJsz0",
    "outputId": "3de59205-92b1-424c-dc34-3e75ae07a699"
   },
   "outputs": [
    {
     "name": "stdout",
     "output_type": "stream",
     "text": [
      "#parameters : 44177\n",
      "Step       0/ 200000 | Loss 3.3914 | Step time 1.39 ms\n",
      "Step    5000/ 200000 | Loss 2.4635 | Step time 0.89 ms\n",
      "Step   10000/ 200000 | Loss 2.1713 | Step time 0.90 ms\n",
      "Step   15000/ 200000 | Loss 1.7503 | Step time 0.89 ms\n",
      "Step   20000/ 200000 | Loss 2.4265 | Step time 0.89 ms\n",
      "Step   25000/ 200000 | Loss 2.1950 | Step time 0.89 ms\n",
      "Step   30000/ 200000 | Loss 2.5662 | Step time 0.89 ms\n",
      "Step   35000/ 200000 | Loss 1.7424 | Step time 0.89 ms\n",
      "Step   40000/ 200000 | Loss 1.9513 | Step time 0.89 ms\n",
      "Step   45000/ 200000 | Loss 2.0108 | Step time 0.90 ms\n",
      "Step   50000/ 200000 | Loss 1.8545 | Step time 0.92 ms\n",
      "Step   55000/ 200000 | Loss 1.6281 | Step time 0.93 ms\n",
      "Step   60000/ 200000 | Loss 1.7178 | Step time 0.92 ms\n",
      "Step   65000/ 200000 | Loss 1.6975 | Step time 0.90 ms\n",
      "Step   70000/ 200000 | Loss 1.9898 | Step time 0.89 ms\n",
      "Step   75000/ 200000 | Loss 1.8051 | Step time 0.89 ms\n",
      "Step   80000/ 200000 | Loss 1.9636 | Step time 0.90 ms\n",
      "Step   85000/ 200000 | Loss 1.6348 | Step time 0.90 ms\n",
      "Step   90000/ 200000 | Loss 1.7697 | Step time 0.89 ms\n",
      "Step   95000/ 200000 | Loss 1.8154 | Step time 0.90 ms\n",
      "Step  100000/ 200000 | Loss 2.2943 | Step time 0.89 ms\n",
      "Step  105000/ 200000 | Loss 1.7208 | Step time 0.89 ms\n",
      "Step  110000/ 200000 | Loss 1.4202 | Step time 0.91 ms\n",
      "Step  115000/ 200000 | Loss 1.8838 | Step time 0.90 ms\n",
      "Step  120000/ 200000 | Loss 1.7628 | Step time 0.89 ms\n",
      "Step  125000/ 200000 | Loss 1.8499 | Step time 0.91 ms\n",
      "Step  130000/ 200000 | Loss 1.9892 | Step time 0.91 ms\n",
      "Step  135000/ 200000 | Loss 1.7464 | Step time 0.89 ms\n",
      "Step  140000/ 200000 | Loss 2.2875 | Step time 0.92 ms\n",
      "Step  145000/ 200000 | Loss 1.9186 | Step time 0.89 ms\n",
      "Step  150000/ 200000 | Loss 1.7076 | Step time 0.89 ms\n",
      "Step  155000/ 200000 | Loss 1.7821 | Step time 0.92 ms\n",
      "Step  160000/ 200000 | Loss 1.8075 | Step time 0.91 ms\n",
      "Step  165000/ 200000 | Loss 1.7317 | Step time 0.75 ms\n",
      "Step  170000/ 200000 | Loss 1.7780 | Step time 0.75 ms\n",
      "Step  175000/ 200000 | Loss 1.3596 | Step time 0.75 ms\n",
      "Step  180000/ 200000 | Loss 2.0466 | Step time 0.75 ms\n",
      "Step  185000/ 200000 | Loss 1.8998 | Step time 0.75 ms\n",
      "Step  190000/ 200000 | Loss 1.5751 | Step time 0.75 ms\n",
      "Step  195000/ 200000 | Loss 1.4911 | Step time 0.76 ms\n"
     ]
    }
   ],
   "source": [
    "# First define the model\n",
    "mlp_v1 = MLP(config)\n",
    "print('#parameters :', sum([p.numel() for p in mlp_v1.parameters()]))\n",
    "\n",
    "# Define optimizer\n",
    "optimizer = torch.optim.SGD(params=mlp_v1.parameters(),\n",
    "                            lr=0.011117,\n",
    "                            weight_decay=0.000013)\n",
    "\n",
    "\n",
    "# Train the model\n",
    "g = torch.Generator().manual_seed(42)\n",
    "losses = train(\n",
    "    model=mlp_v1,\n",
    "    batch_size=32,\n",
    "    X_train=X_train,\n",
    "    y_train=y_train,\n",
    "    max_iter=200_000,\n",
    "    optimizer=optimizer,\n",
    "    generator=g\n",
    ")"
   ]
  },
  {
   "cell_type": "code",
   "execution_count": 54,
   "metadata": {
    "colab": {
     "base_uri": "https://localhost:8080/"
    },
    "id": "T1EspKorMpvC",
    "outputId": "1086db6d-b943-4f32-8002-736061af7c33"
   },
   "outputs": [
    {
     "name": "stdout",
     "output_type": "stream",
     "text": [
      "Loss at train dataset : 1.7516\n",
      "Loss at valid dataset : 2.1800\n"
     ]
    }
   ],
   "source": [
    "# Check loss\n",
    "loss_train = evaluate_loss(mlp_v1, 'train')\n",
    "loss_valid = evaluate_loss(mlp_v1, 'valid')\n",
    "\n",
    "print(f'Loss at train dataset : {loss_train.item():.4f}')\n",
    "print(f'Loss at valid dataset : {loss_valid.item():.4f}')"
   ]
  },
  {
   "cell_type": "code",
   "execution_count": 55,
   "metadata": {
    "id": "dnuMkb6AMpOQ"
   },
   "outputs": [],
   "source": [
    "# Sample from model\n",
    "@torch.no_grad()\n",
    "def generate_sample(model, n_samples=20, generator=None):\n",
    "    for _ in range(n_samples):\n",
    "        # Define output generated index\n",
    "        out = []\n",
    "\n",
    "        # Define context\n",
    "        context = [0] * BLOCK_SIZE\n",
    "\n",
    "        # Iterate while char is not '.'\n",
    "        model.eval()  # Tell the model that this is not a training process\n",
    "        while True:\n",
    "            # Forward pass\n",
    "            logits = model(torch.tensor([context]))\n",
    "            probs = F.softmax(logits, dim=1)  # Get the probability of generating new chars\n",
    "\n",
    "            # Now, let's sample the new char from the given probability\n",
    "            ix = torch.multinomial(probs, num_samples=1, generator=generator).item()\n",
    "\n",
    "            # Update the context\n",
    "            context = context[1:] + [ix]\n",
    "\n",
    "            # append to out list\n",
    "            out.append(ix)\n",
    "\n",
    "            # Stopping the iteration\n",
    "            if ix == 0:\n",
    "                break\n",
    "\n",
    "        # After getting all the new char, we decode index to char\n",
    "        print(''.join([itoc[ix] for ix in out]))"
   ]
  },
  {
   "cell_type": "code",
   "execution_count": 56,
   "metadata": {
    "colab": {
     "base_uri": "https://localhost:8080/"
    },
    "id": "Ly0rNwocNu-K",
    "outputId": "2fef310e-77ae-4339-f451-e9421d10b44c"
   },
   "outputs": [
    {
     "name": "stdout",
     "output_type": "stream",
     "text": [
      "yessya.\n",
      "lefian.\n",
      "dlianti.\n",
      "degony.\n",
      "nuryawitha.\n",
      "naera.\n",
      "daputri.\n",
      "ery.\n",
      "kella.\n",
      "adi.\n",
      "topheovey.\n",
      "maulo.\n",
      "annazilla.\n",
      "sastriawan.\n",
      "achil.\n",
      "fadria.\n",
      "zihaqi.\n",
      "tangsiusum.\n",
      "amrezi.\n",
      "inyari.\n"
     ]
    }
   ],
   "source": [
    "g = torch.Generator().manual_seed(42)\n",
    "generate_sample(mlp_v1, generator=g)"
   ]
  },
  {
   "cell_type": "markdown",
   "metadata": {
    "id": "Zpstzdw3OGX_"
   },
   "source": [
    "# **$3^{\\text{rd}}$ Try - More Model Variations**\n",
    "---"
   ]
  },
  {
   "cell_type": "markdown",
   "metadata": {
    "id": "r31dACzPse87"
   },
   "source": [
    "## 3.1 Preparation\n",
    "---"
   ]
  },
  {
   "cell_type": "markdown",
   "metadata": {
    "id": "z5enrcuDOO5E"
   },
   "source": [
    "- We will explore more models, e.g.\n",
    "  - An MLP with deeper layer\n",
    "  - An MLP with Batch Normalization\n",
    "  - A WaveNet, [Oord, et. al. 2016](https://arxiv.org/pdf/1609.03499.pdf)\n"
   ]
  },
  {
   "cell_type": "code",
   "execution_count": 57,
   "metadata": {
    "id": "G60M6kyhadtj"
   },
   "outputs": [],
   "source": [
    "# MLP Deeper, e.g. 2 hidden layer\n",
    "class MLPDeep(nn.Module):\n",
    "    def __init__(self, config):\n",
    "        super().__init__()\n",
    "\n",
    "        # Extract parameters\n",
    "        # We extract several network information\n",
    "        block_size = config['block_size']\n",
    "        vocab_size = config['vocab_size']\n",
    "        n_embd = config['n_embd']\n",
    "        n_hidden = config['n_hidden']\n",
    "\n",
    "        # Create the layer\n",
    "        torch.manual_seed(42)\n",
    "\n",
    "        # The char embedding\n",
    "        self.C = nn.Embedding(vocab_size, n_embd)\n",
    "\n",
    "        # The MLP\n",
    "        self.mlp = nn.Sequential(\n",
    "            # The 1st hidden layer\n",
    "            nn.Linear(block_size*n_embd, n_hidden),\n",
    "            nn.Tanh(),\n",
    "\n",
    "            # The 2nd hidden layer\n",
    "            nn.Linear(n_hidden, n_hidden),\n",
    "            nn.Tanh(),\n",
    "\n",
    "            # The output layer\n",
    "            nn.Linear(n_hidden, vocab_size),\n",
    "        )\n",
    "\n",
    "    def forward(self, idx):\n",
    "        # Create the embedding\n",
    "        embs = self.C(idx)\n",
    "\n",
    "        # Forward pass\n",
    "        # Flatten the image first\n",
    "        embs_flatten = embs.view(embs.shape[0], -1)\n",
    "\n",
    "        # Then find the logits\n",
    "        logits = self.mlp(embs_flatten)\n",
    "\n",
    "        return logits\n"
   ]
  },
  {
   "cell_type": "code",
   "execution_count": 58,
   "metadata": {
    "id": "UEixlq5oay05"
   },
   "outputs": [],
   "source": [
    "# MLP single layer with batch normalization\n",
    "class MLPBnorm(nn.Module):\n",
    "    def __init__(self, config):\n",
    "        super().__init__()\n",
    "\n",
    "        # Extract parameters\n",
    "        # We extract several network information\n",
    "        block_size = config['block_size']\n",
    "        vocab_size = config['vocab_size']\n",
    "        n_embd = config['n_embd']\n",
    "        n_hidden = config['n_hidden']\n",
    "\n",
    "        # Create the layer\n",
    "        torch.manual_seed(42)\n",
    "\n",
    "        # The char embedding\n",
    "        self.C = nn.Embedding(vocab_size, n_embd)\n",
    "\n",
    "        # The MLP\n",
    "        self.mlp = nn.Sequential(\n",
    "            # The hidden layer\n",
    "            nn.Linear(block_size*n_embd, n_hidden, bias=False),\n",
    "            nn.BatchNorm1d(n_hidden),\n",
    "            nn.Tanh(),\n",
    "\n",
    "            # The output layer\n",
    "            nn.Linear(n_hidden, vocab_size),\n",
    "        )\n",
    "\n",
    "    def forward(self, idx):\n",
    "        # Create the embedding\n",
    "        embs = self.C(idx)\n",
    "\n",
    "        # Forward pass\n",
    "        # Flatten the image first\n",
    "        embs_flatten = embs.view(embs.shape[0], -1)\n",
    "\n",
    "        # Then find the logits\n",
    "        logits = self.mlp(embs_flatten)\n",
    "\n",
    "        return logits\n"
   ]
  },
  {
   "cell_type": "code",
   "execution_count": 59,
   "metadata": {
    "id": "M7wmHSg4bKDV"
   },
   "outputs": [],
   "source": [
    "# WaveNet\n",
    "# Create a new Flatten Class\n",
    "class FlattenConsecutive(nn.Module):\n",
    "    def __init__(self, n):\n",
    "        super().__init__()\n",
    "        self.n = n\n",
    "\n",
    "    def forward(self, x):\n",
    "        # Extract dimension\n",
    "        B, T, C = x.shape\n",
    "\n",
    "        # Reshape\n",
    "        x = x.view(B, T//self.n, C*self.n)\n",
    "\n",
    "        self.out = x\n",
    "        return self.out\n",
    "\n",
    "# MLP single layer with batch normalization\n",
    "class WaveNet(nn.Module):\n",
    "    def __init__(self, config):\n",
    "        super().__init__()\n",
    "\n",
    "        # Extract parameters\n",
    "        # We extract several network information\n",
    "        block_size = config['block_size']\n",
    "        vocab_size = config['vocab_size']\n",
    "        n_embd = config['n_embd']\n",
    "        n_hidden = config['n_hidden']\n",
    "        n_dilatation = config['n_dilatation']\n",
    "\n",
    "        # Create the layer\n",
    "        torch.manual_seed(42)\n",
    "\n",
    "        # The char embedding\n",
    "        self.C = nn.Embedding(vocab_size, n_embd)\n",
    "\n",
    "        # The MLP\n",
    "        self.mlp = nn.Sequential(\n",
    "            # The 1st hidden layer\n",
    "            FlattenConsecutive(n_dilatation),\n",
    "            nn.Linear(n_embd*2, n_hidden),\n",
    "            nn.Tanh(),\n",
    "\n",
    "            # The 2nd hidden layer\n",
    "            FlattenConsecutive(n_dilatation),\n",
    "            nn.Linear(n_hidden*n_dilatation, n_hidden),\n",
    "            nn.Tanh(),\n",
    "\n",
    "            # The 3rd hidden layer\n",
    "            FlattenConsecutive(n_dilatation),\n",
    "            nn.Linear(n_hidden*n_dilatation, n_hidden),\n",
    "            nn.Tanh(),\n",
    "\n",
    "            # The output layer\n",
    "            nn.Linear(n_hidden, vocab_size),\n",
    "        )\n",
    "\n",
    "    def forward(self, idx):\n",
    "        # Create the embedding\n",
    "        embs = self.C(idx)\n",
    "\n",
    "        # Forward pass\n",
    "        logits = self.mlp(embs)\n",
    "        logits = logits.squeeze(1)\n",
    "\n",
    "        return logits\n"
   ]
  },
  {
   "cell_type": "markdown",
   "metadata": {
    "id": "18PkvuTxf8oC"
   },
   "source": [
    "- Now let's define the configuration"
   ]
  },
  {
   "cell_type": "code",
   "execution_count": 60,
   "metadata": {
    "id": "Szzyqkx5d85h"
   },
   "outputs": [],
   "source": [
    "config = {\n",
    "    'vocab_size': vocab_size,\n",
    "    'block_size': BLOCK_SIZE,\n",
    "    'n_hidden': 100,\n",
    "    'n_embd': 50,\n",
    "    'n_dilatation': 2\n",
    "}"
   ]
  },
  {
   "cell_type": "markdown",
   "metadata": {
    "id": "_blJmKXRj25u"
   },
   "source": [
    "- Next, we prepare several function"
   ]
  },
  {
   "cell_type": "code",
   "execution_count": 61,
   "metadata": {
    "id": "EuPXJr-Ukj__"
   },
   "outputs": [],
   "source": [
    "# For evaluation\n",
    "@torch.no_grad()\n",
    "def evaluate_loss(model, type):\n",
    "    # Get the data\n",
    "    X, y = {\n",
    "        'train': (X_train, y_train),\n",
    "        'valid': (X_valid, y_valid),\n",
    "        'test': (X_test, y_test)\n",
    "    }[type]\n",
    "\n",
    "    # Do the forward pass\n",
    "    model.eval()\n",
    "    logits = model(X)\n",
    "    loss = F.cross_entropy(logits, y)\n",
    "\n",
    "    return loss\n"
   ]
  },
  {
   "cell_type": "code",
   "execution_count": 62,
   "metadata": {
    "id": "fniZVF26kASp"
   },
   "outputs": [],
   "source": [
    "# For training\n",
    "def train(model,\n",
    "          batch_size,\n",
    "          X_train,\n",
    "          y_train,\n",
    "          max_iter,\n",
    "          optimizer,\n",
    "          generator):\n",
    "    # Initialize\n",
    "    losses = []\n",
    "    decay_flag = False\n",
    "\n",
    "    # Iterate\n",
    "    for iter in range(max_iter):\n",
    "        t1 = time.time()\n",
    "\n",
    "        # Construct the minibatch\n",
    "        ix = torch.randint(0, X_train.shape[0], (batch_size,), generator=generator)\n",
    "        X_batch = X_train[ix]\n",
    "        y_batch = y_train[ix]\n",
    "\n",
    "        # Forward pass\n",
    "        model.train()\n",
    "        logits = model(X_batch)\n",
    "        loss = F.cross_entropy(logits, y_batch)\n",
    "\n",
    "        # Backward pass\n",
    "        model.zero_grad(set_to_none=True)\n",
    "        loss.backward()\n",
    "\n",
    "        # Update the parameters\n",
    "        if iter > int(max_iter/2.) and decay_flag==False:\n",
    "            optimizer.param_groups[0]['lr'] = optimizer.param_groups[0]['lr']/10.\n",
    "            decay_flag = True\n",
    "        optimizer.step()\n",
    "\n",
    "        # Append the loss\n",
    "        losses.append(loss.item())\n",
    "        if iter % int(max_iter/40) == 0:\n",
    "            if iter % int(max_iter/5) == 0:\n",
    "                loss_train = evaluate_loss(model, 'train')\n",
    "                loss_valid = evaluate_loss(model, 'valid')\n",
    "                elapsed = time.time() - t1\n",
    "                print(f\"Step {iter:7d}/{max_iter:7d} \"\n",
    "                    f\"| Loss {loss.item():.4f} \"\n",
    "                    f\"| Loss train {loss_train.item():.4f} \"\n",
    "                    f\"| Loss valid {loss_valid.item():.4f} \"\n",
    "                    f\"| Step time {elapsed*1000:.2f} ms\")\n",
    "            else:\n",
    "                elapsed = time.time() - t1\n",
    "                print(f\"Step {iter:7d}/{max_iter:7d} \"\n",
    "                    f\"| Loss {loss.item():.4f} \"\n",
    "                    f\"| Step time {elapsed*1000:.2f} ms\")\n",
    "\n",
    "    return losses\n"
   ]
  },
  {
   "cell_type": "code",
   "execution_count": 63,
   "metadata": {
    "id": "ONBdniXJk4LH"
   },
   "outputs": [],
   "source": [
    "# For generate sample\n",
    "@torch.no_grad()\n",
    "def generate_sample(model, n_samples=20, generator=None):\n",
    "    for _ in range(n_samples):\n",
    "        # Define output generated index\n",
    "        out = []\n",
    "\n",
    "        # Define context\n",
    "        context = [0] * BLOCK_SIZE\n",
    "\n",
    "        # Iterate while char is not '.'\n",
    "        model.eval()  # Tell the model that this is not a training process\n",
    "        while True:\n",
    "            # Forward pass\n",
    "            logits = model(torch.tensor([context]))\n",
    "            probs = F.softmax(logits, dim=1)  # Get the probability of generating new chars\n",
    "\n",
    "            # Now, let's sample the new char from the given probability\n",
    "            ix = torch.multinomial(probs, num_samples=1, generator=generator).item()\n",
    "\n",
    "            # Update the context\n",
    "            context = context[1:] + [ix]\n",
    "\n",
    "            # append to out list\n",
    "            out.append(ix)\n",
    "\n",
    "            # Stopping the iteration\n",
    "            if ix == 0:\n",
    "                break\n",
    "\n",
    "        # After getting all the new char, we decode index to char\n",
    "        print(''.join([itoc[ix] for ix in out]))\n"
   ]
  },
  {
   "cell_type": "markdown",
   "metadata": {
    "id": "VCFS4GgwlC4p"
   },
   "source": [
    "## 3.2 Train a Deeper MLP\n",
    "---"
   ]
  },
  {
   "cell_type": "code",
   "execution_count": 64,
   "metadata": {
    "colab": {
     "base_uri": "https://localhost:8080/"
    },
    "id": "l-sr1G1KlHV5",
    "outputId": "e2e29d0e-3031-40fe-b332-4299ec12eb70"
   },
   "outputs": [
    {
     "name": "stdout",
     "output_type": "stream",
     "text": [
      "#parameters : 54277\n",
      "Step       0/ 200000 | Loss 3.3352 | Loss train 3.3396 | Loss valid 3.3421 | Step time 92.53 ms\n",
      "Step    5000/ 200000 | Loss 2.5232 | Step time 0.99 ms\n",
      "Step   10000/ 200000 | Loss 2.2238 | Step time 0.96 ms\n",
      "Step   15000/ 200000 | Loss 1.7667 | Step time 0.96 ms\n",
      "Step   20000/ 200000 | Loss 2.3626 | Step time 0.98 ms\n",
      "Step   25000/ 200000 | Loss 2.1665 | Step time 0.98 ms\n",
      "Step   30000/ 200000 | Loss 2.5604 | Step time 0.95 ms\n",
      "Step   35000/ 200000 | Loss 1.7154 | Step time 0.95 ms\n",
      "Step   40000/ 200000 | Loss 1.8746 | Loss train 1.9606 | Loss valid 2.1532 | Step time 67.10 ms\n",
      "Step   45000/ 200000 | Loss 1.9952 | Step time 0.98 ms\n",
      "Step   50000/ 200000 | Loss 1.8504 | Step time 0.97 ms\n",
      "Step   55000/ 200000 | Loss 1.5285 | Step time 0.97 ms\n",
      "Step   60000/ 200000 | Loss 1.5249 | Step time 0.96 ms\n",
      "Step   65000/ 200000 | Loss 1.6731 | Step time 0.95 ms\n",
      "Step   70000/ 200000 | Loss 2.0389 | Step time 0.95 ms\n",
      "Step   75000/ 200000 | Loss 1.5577 | Step time 0.95 ms\n",
      "Step   80000/ 200000 | Loss 1.8183 | Loss train 1.7808 | Loss valid 2.2113 | Step time 63.76 ms\n",
      "Step   85000/ 200000 | Loss 1.4435 | Step time 0.97 ms\n",
      "Step   90000/ 200000 | Loss 1.8406 | Step time 0.97 ms\n",
      "Step   95000/ 200000 | Loss 1.7904 | Step time 0.95 ms\n",
      "Step  100000/ 200000 | Loss 1.9894 | Step time 0.95 ms\n",
      "Step  105000/ 200000 | Loss 1.5137 | Step time 0.95 ms\n",
      "Step  110000/ 200000 | Loss 1.4942 | Step time 0.97 ms\n",
      "Step  115000/ 200000 | Loss 1.8059 | Step time 0.97 ms\n",
      "Step  120000/ 200000 | Loss 1.8694 | Loss train 1.6801 | Loss valid 2.2502 | Step time 64.75 ms\n",
      "Step  125000/ 200000 | Loss 1.8995 | Step time 0.96 ms\n",
      "Step  130000/ 200000 | Loss 1.8011 | Step time 1.00 ms\n",
      "Step  135000/ 200000 | Loss 1.7756 | Step time 0.98 ms\n",
      "Step  140000/ 200000 | Loss 2.3005 | Step time 0.97 ms\n",
      "Step  145000/ 200000 | Loss 1.8062 | Step time 0.95 ms\n",
      "Step  150000/ 200000 | Loss 1.5231 | Step time 0.97 ms\n",
      "Step  155000/ 200000 | Loss 1.4605 | Step time 0.99 ms\n",
      "Step  160000/ 200000 | Loss 1.7329 | Loss train 1.6650 | Loss valid 2.2727 | Step time 63.57 ms\n",
      "Step  165000/ 200000 | Loss 1.6283 | Step time 0.97 ms\n",
      "Step  170000/ 200000 | Loss 1.5343 | Step time 0.97 ms\n",
      "Step  175000/ 200000 | Loss 1.1333 | Step time 0.96 ms\n",
      "Step  180000/ 200000 | Loss 1.9652 | Step time 0.96 ms\n",
      "Step  185000/ 200000 | Loss 1.8800 | Step time 0.98 ms\n",
      "Step  190000/ 200000 | Loss 1.5253 | Step time 0.97 ms\n",
      "Step  195000/ 200000 | Loss 1.5043 | Step time 0.95 ms\n"
     ]
    }
   ],
   "source": [
    "# First define the model\n",
    "mlp_deep = MLPDeep(config)\n",
    "print('#parameters :', sum([p.numel() for p in mlp_deep.parameters()]))\n",
    "\n",
    "# Define optimizer\n",
    "optimizer = torch.optim.SGD(params=mlp_deep.parameters(),\n",
    "                            lr=0.011117,\n",
    "                            weight_decay=0.000013)\n",
    "\n",
    "\n",
    "# Train the model\n",
    "g = torch.Generator().manual_seed(42)\n",
    "losses = train(\n",
    "    model=mlp_deep,\n",
    "    batch_size=32,\n",
    "    X_train=X_train,\n",
    "    y_train=y_train,\n",
    "    max_iter=200_000,\n",
    "    optimizer=optimizer,\n",
    "    generator=g\n",
    ")"
   ]
  },
  {
   "cell_type": "code",
   "execution_count": 65,
   "metadata": {
    "colab": {
     "base_uri": "https://localhost:8080/"
    },
    "id": "WYlH7j05lyYc",
    "outputId": "a945f69b-3d06-4e51-e439-20a5f6b4813c"
   },
   "outputs": [
    {
     "name": "stdout",
     "output_type": "stream",
     "text": [
      "Loss at train dataset : 1.6516\n",
      "Loss at valid dataset : 2.2881\n"
     ]
    }
   ],
   "source": [
    "# Check loss\n",
    "loss_train_deep = evaluate_loss(mlp_deep, 'train')\n",
    "loss_valid_deep = evaluate_loss(mlp_deep, 'valid')\n",
    "\n",
    "print(f'Loss at train dataset : {loss_train_deep.item():.4f}')\n",
    "print(f'Loss at valid dataset : {loss_valid_deep.item():.4f}')"
   ]
  },
  {
   "cell_type": "code",
   "execution_count": 66,
   "metadata": {
    "colab": {
     "base_uri": "https://localhost:8080/",
     "height": 112
    },
    "id": "GC10H6v8obrs",
    "outputId": "0325e9cb-3e1c-485d-b672-f2db3bb6fec2"
   },
   "outputs": [
    {
     "data": {
      "text/html": [
       "<div>\n",
       "<style scoped>\n",
       "    .dataframe tbody tr th:only-of-type {\n",
       "        vertical-align: middle;\n",
       "    }\n",
       "\n",
       "    .dataframe tbody tr th {\n",
       "        vertical-align: top;\n",
       "    }\n",
       "\n",
       "    .dataframe thead th {\n",
       "        text-align: right;\n",
       "    }\n",
       "</style>\n",
       "<table border=\"1\" class=\"dataframe\">\n",
       "  <thead>\n",
       "    <tr style=\"text-align: right;\">\n",
       "      <th></th>\n",
       "      <th>model</th>\n",
       "      <th>Loss Train</th>\n",
       "      <th>Loss Valid</th>\n",
       "    </tr>\n",
       "  </thead>\n",
       "  <tbody>\n",
       "    <tr>\n",
       "      <th>0</th>\n",
       "      <td>MLP 1-HL</td>\n",
       "      <td>1.751615</td>\n",
       "      <td>2.180040</td>\n",
       "    </tr>\n",
       "    <tr>\n",
       "      <th>1</th>\n",
       "      <td>MLP 2-HL</td>\n",
       "      <td>1.651612</td>\n",
       "      <td>2.288122</td>\n",
       "    </tr>\n",
       "  </tbody>\n",
       "</table>\n",
       "</div>"
      ],
      "text/plain": [
       "      model  Loss Train  Loss Valid\n",
       "0  MLP 1-HL    1.751615    2.180040\n",
       "1  MLP 2-HL    1.651612    2.288122"
      ]
     },
     "execution_count": 66,
     "metadata": {},
     "output_type": "execute_result"
    }
   ],
   "source": [
    "# Summary\n",
    "summary_df = pd.DataFrame(\n",
    "    {'model': ['MLP 1-HL', 'MLP 2-HL'],\n",
    "     'Loss Train': [loss_train.item(), loss_train_deep.item()],\n",
    "     'Loss Valid': [loss_valid.item(), loss_valid_deep.item()]}\n",
    ")\n",
    "\n",
    "summary_df"
   ]
  },
  {
   "cell_type": "code",
   "execution_count": 67,
   "metadata": {
    "colab": {
     "base_uri": "https://localhost:8080/"
    },
    "id": "-KmyeNzPlyYd",
    "outputId": "baa8f8fe-9dcf-4a78-f418-64d87537c97f"
   },
   "outputs": [
    {
     "name": "stdout",
     "output_type": "stream",
     "text": [
      "yessy.\n",
      "hasith.\n",
      "nullaksi.\n",
      "degony.\n",
      "nuryawari.\n",
      "widena.\n",
      "dapam.\n",
      "izzah.\n",
      "keles.\n",
      "adhitopo.\n",
      "siton.\n",
      "pugo.\n",
      "annezka.\n",
      "frizil.\n",
      "mifta.\n",
      "achro.\n",
      "fadria.\n",
      "ziyaadita.\n",
      "shidyamas.\n",
      "weidi.\n"
     ]
    }
   ],
   "source": [
    "g_sample = torch.Generator().manual_seed(42)\n",
    "generate_sample(mlp_deep, generator=g_sample)"
   ]
  },
  {
   "cell_type": "markdown",
   "metadata": {
    "id": "qZ_v0VWqpkWG"
   },
   "source": [
    "## 3.3 Train MLP with Batch Normalization\n",
    "---"
   ]
  },
  {
   "cell_type": "code",
   "execution_count": 68,
   "metadata": {
    "colab": {
     "base_uri": "https://localhost:8080/"
    },
    "id": "XJHJB-Z_pkWR",
    "outputId": "fc9e9daa-c87d-46e9-86a2-dde0585dd36e"
   },
   "outputs": [
    {
     "name": "stdout",
     "output_type": "stream",
     "text": [
      "#parameters : 44277\n",
      "Step       0/ 200000 | Loss 3.4580 | Loss train 3.3520 | Loss valid 3.3491 | Step time 58.56 ms\n"
     ]
    },
    {
     "name": "stdout",
     "output_type": "stream",
     "text": [
      "Step    5000/ 200000 | Loss 2.3505 | Step time 0.95 ms\n",
      "Step   10000/ 200000 | Loss 2.1620 | Step time 0.94 ms\n",
      "Step   15000/ 200000 | Loss 1.7707 | Step time 0.93 ms\n",
      "Step   20000/ 200000 | Loss 2.5379 | Step time 0.95 ms\n",
      "Step   25000/ 200000 | Loss 2.1951 | Step time 0.93 ms\n",
      "Step   30000/ 200000 | Loss 2.5461 | Step time 0.95 ms\n",
      "Step   35000/ 200000 | Loss 1.7317 | Step time 0.93 ms\n",
      "Step   40000/ 200000 | Loss 1.9742 | Loss train 1.9581 | Loss valid 2.1421 | Step time 55.92 ms\n",
      "Step   45000/ 200000 | Loss 1.9353 | Step time 0.92 ms\n",
      "Step   50000/ 200000 | Loss 1.9002 | Step time 0.93 ms\n",
      "Step   55000/ 200000 | Loss 1.5796 | Step time 0.93 ms\n",
      "Step   60000/ 200000 | Loss 1.6654 | Step time 0.93 ms\n",
      "Step   65000/ 200000 | Loss 1.7444 | Step time 0.93 ms\n",
      "Step   70000/ 200000 | Loss 2.0133 | Step time 0.93 ms\n",
      "Step   75000/ 200000 | Loss 1.8660 | Step time 0.94 ms\n",
      "Step   80000/ 200000 | Loss 2.0759 | Loss train 1.8504 | Loss valid 2.1671 | Step time 56.59 ms\n",
      "Step   85000/ 200000 | Loss 1.5445 | Step time 0.96 ms\n",
      "Step   90000/ 200000 | Loss 1.8424 | Step time 0.93 ms\n",
      "Step   95000/ 200000 | Loss 1.9817 | Step time 0.94 ms\n",
      "Step  100000/ 200000 | Loss 2.2396 | Step time 0.95 ms\n",
      "Step  105000/ 200000 | Loss 1.8973 | Step time 0.94 ms\n",
      "Step  110000/ 200000 | Loss 1.6979 | Step time 0.93 ms\n",
      "Step  115000/ 200000 | Loss 1.8302 | Step time 0.94 ms\n",
      "Step  120000/ 200000 | Loss 1.8450 | Loss train 1.7658 | Loss valid 2.1389 | Step time 55.88 ms\n",
      "Step  125000/ 200000 | Loss 1.8073 | Step time 0.96 ms\n",
      "Step  130000/ 200000 | Loss 1.7437 | Step time 0.93 ms\n",
      "Step  135000/ 200000 | Loss 1.8154 | Step time 0.95 ms\n",
      "Step  140000/ 200000 | Loss 2.2306 | Step time 0.94 ms\n",
      "Step  145000/ 200000 | Loss 1.7612 | Step time 0.93 ms\n",
      "Step  150000/ 200000 | Loss 1.7443 | Step time 0.94 ms\n",
      "Step  155000/ 200000 | Loss 1.6803 | Step time 0.95 ms\n",
      "Step  160000/ 200000 | Loss 1.8775 | Loss train 1.7553 | Loss valid 2.1489 | Step time 56.09 ms\n",
      "Step  165000/ 200000 | Loss 1.7071 | Step time 0.95 ms\n",
      "Step  170000/ 200000 | Loss 1.7432 | Step time 0.93 ms\n",
      "Step  175000/ 200000 | Loss 1.4454 | Step time 0.96 ms\n",
      "Step  180000/ 200000 | Loss 2.1890 | Step time 0.93 ms\n",
      "Step  185000/ 200000 | Loss 1.9360 | Step time 0.95 ms\n",
      "Step  190000/ 200000 | Loss 1.7986 | Step time 0.96 ms\n",
      "Step  195000/ 200000 | Loss 1.7637 | Step time 0.94 ms\n"
     ]
    }
   ],
   "source": [
    "# First define the model\n",
    "mlp_bn = MLPBnorm(config)\n",
    "print('#parameters :', sum([p.numel() for p in mlp_bn.parameters()]))\n",
    "\n",
    "# Define optimizer\n",
    "optimizer = torch.optim.SGD(params=mlp_bn.parameters(),\n",
    "                            lr=0.011117,\n",
    "                            weight_decay=0.000013)\n",
    "\n",
    "\n",
    "# Train the model\n",
    "g = torch.Generator().manual_seed(42)\n",
    "losses = train(\n",
    "    model=mlp_bn,\n",
    "    batch_size=32,\n",
    "    X_train=X_train,\n",
    "    y_train=y_train,\n",
    "    max_iter=200_000,\n",
    "    optimizer=optimizer,\n",
    "    generator=g\n",
    ")"
   ]
  },
  {
   "cell_type": "code",
   "execution_count": 69,
   "metadata": {
    "colab": {
     "base_uri": "https://localhost:8080/"
    },
    "id": "sX1wDc1QpkWR",
    "outputId": "2f0e1477-20cf-47d7-b47b-f017f9edb256"
   },
   "outputs": [
    {
     "name": "stdout",
     "output_type": "stream",
     "text": [
      "Loss at train dataset : 1.7455\n",
      "Loss at valid dataset : 2.1515\n"
     ]
    }
   ],
   "source": [
    "# Check loss\n",
    "loss_train_bn = evaluate_loss(mlp_bn, 'train')\n",
    "loss_valid_bn = evaluate_loss(mlp_bn, 'valid')\n",
    "\n",
    "print(f'Loss at train dataset : {loss_train_bn.item():.4f}')\n",
    "print(f'Loss at valid dataset : {loss_valid_bn.item():.4f}')"
   ]
  },
  {
   "cell_type": "code",
   "execution_count": 70,
   "metadata": {
    "colab": {
     "base_uri": "https://localhost:8080/",
     "height": 143
    },
    "id": "TQrzUE3fpkWS",
    "outputId": "367b2058-bdb3-4b3f-cc5a-10ef6800ff8f"
   },
   "outputs": [
    {
     "data": {
      "text/html": [
       "<div>\n",
       "<style scoped>\n",
       "    .dataframe tbody tr th:only-of-type {\n",
       "        vertical-align: middle;\n",
       "    }\n",
       "\n",
       "    .dataframe tbody tr th {\n",
       "        vertical-align: top;\n",
       "    }\n",
       "\n",
       "    .dataframe thead th {\n",
       "        text-align: right;\n",
       "    }\n",
       "</style>\n",
       "<table border=\"1\" class=\"dataframe\">\n",
       "  <thead>\n",
       "    <tr style=\"text-align: right;\">\n",
       "      <th></th>\n",
       "      <th>model</th>\n",
       "      <th>Loss Train</th>\n",
       "      <th>Loss Valid</th>\n",
       "    </tr>\n",
       "  </thead>\n",
       "  <tbody>\n",
       "    <tr>\n",
       "      <th>0</th>\n",
       "      <td>MLP 1-HL</td>\n",
       "      <td>1.751615</td>\n",
       "      <td>2.180040</td>\n",
       "    </tr>\n",
       "    <tr>\n",
       "      <th>1</th>\n",
       "      <td>MLP 2-HL</td>\n",
       "      <td>1.651612</td>\n",
       "      <td>2.288122</td>\n",
       "    </tr>\n",
       "    <tr>\n",
       "      <th>2</th>\n",
       "      <td>MLP BN</td>\n",
       "      <td>1.745502</td>\n",
       "      <td>2.151457</td>\n",
       "    </tr>\n",
       "  </tbody>\n",
       "</table>\n",
       "</div>"
      ],
      "text/plain": [
       "      model  Loss Train  Loss Valid\n",
       "0  MLP 1-HL    1.751615    2.180040\n",
       "1  MLP 2-HL    1.651612    2.288122\n",
       "2    MLP BN    1.745502    2.151457"
      ]
     },
     "execution_count": 70,
     "metadata": {},
     "output_type": "execute_result"
    }
   ],
   "source": [
    "# Summary\n",
    "summary_df.loc[len(summary_df.index)] = ['MLP BN', loss_train_bn.item(), loss_valid_bn.item()]\n",
    "summary_df"
   ]
  },
  {
   "cell_type": "code",
   "execution_count": 71,
   "metadata": {
    "colab": {
     "base_uri": "https://localhost:8080/"
    },
    "id": "C0MFz8xGpkWS",
    "outputId": "30f2dc09-40f9-4b98-9cd4-874b09939a86"
   },
   "outputs": [
    {
     "name": "stdout",
     "output_type": "stream",
     "text": [
      "yessy.\n",
      "hasibin.\n",
      "dliektima.\n",
      "gonda.\n",
      "tryawani.\n",
      "widena.\n",
      "daputri.\n",
      "ery.\n",
      "keles.\n",
      "adi.\n",
      "toprasito.\n",
      "maulonta.\n",
      "dzulfisarilid.\n",
      "wangga.\n",
      "pudya.\n",
      "arivia.\n",
      "aulita.\n",
      "shidahmos.\n",
      "wendi.\n",
      "nisa.\n"
     ]
    }
   ],
   "source": [
    "g_sample = torch.Generator().manual_seed(42)\n",
    "generate_sample(mlp_bn, generator=g_sample)"
   ]
  },
  {
   "cell_type": "markdown",
   "metadata": {
    "id": "9dLo1lxmrKzp"
   },
   "source": [
    "## 3.4 Train WaveNet\n",
    "---"
   ]
  },
  {
   "cell_type": "code",
   "execution_count": 72,
   "metadata": {
    "colab": {
     "base_uri": "https://localhost:8080/"
    },
    "id": "IBJxYWwBrKzq",
    "outputId": "359e7dc0-7cb0-4a1a-f798-cc34d47af688"
   },
   "outputs": [
    {
     "name": "stdout",
     "output_type": "stream",
     "text": [
      "#parameters : 54377\n",
      "Step       0/ 200000 | Loss 3.3155 | Loss train 3.2917 | Loss valid 3.2925 | Step time 164.32 ms\n",
      "Step    5000/ 200000 | Loss 2.5591 | Step time 1.35 ms\n",
      "Step   10000/ 200000 | Loss 2.2489 | Step time 1.35 ms\n",
      "Step   15000/ 200000 | Loss 1.9771 | Step time 1.35 ms\n",
      "Step   20000/ 200000 | Loss 2.4687 | Step time 1.35 ms\n",
      "Step   25000/ 200000 | Loss 2.2452 | Step time 1.35 ms\n",
      "Step   30000/ 200000 | Loss 2.6478 | Step time 1.34 ms\n",
      "Step   35000/ 200000 | Loss 1.7687 | Step time 1.36 ms\n",
      "Step   40000/ 200000 | Loss 1.9915 | Loss train 2.0411 | Loss valid 2.1355 | Step time 159.69 ms\n",
      "Step   45000/ 200000 | Loss 2.0072 | Step time 1.35 ms\n",
      "Step   50000/ 200000 | Loss 1.9030 | Step time 1.35 ms\n",
      "Step   55000/ 200000 | Loss 1.4153 | Step time 1.37 ms\n",
      "Step   60000/ 200000 | Loss 1.6588 | Step time 1.34 ms\n",
      "Step   65000/ 200000 | Loss 1.8303 | Step time 1.36 ms\n",
      "Step   70000/ 200000 | Loss 1.9548 | Step time 1.35 ms\n",
      "Step   75000/ 200000 | Loss 1.7830 | Step time 1.36 ms\n",
      "Step   80000/ 200000 | Loss 2.0222 | Loss train 1.8674 | Loss valid 2.1137 | Step time 160.08 ms\n",
      "Step   85000/ 200000 | Loss 1.5639 | Step time 1.34 ms\n",
      "Step   90000/ 200000 | Loss 1.8723 | Step time 1.37 ms\n",
      "Step   95000/ 200000 | Loss 1.8464 | Step time 1.37 ms\n",
      "Step  100000/ 200000 | Loss 2.0315 | Step time 1.35 ms\n",
      "Step  105000/ 200000 | Loss 1.6311 | Step time 1.34 ms\n",
      "Step  110000/ 200000 | Loss 1.4929 | Step time 1.34 ms\n",
      "Step  115000/ 200000 | Loss 1.8623 | Step time 1.34 ms\n",
      "Step  120000/ 200000 | Loss 1.8110 | Loss train 1.7540 | Loss valid 2.1041 | Step time 159.96 ms\n",
      "Step  125000/ 200000 | Loss 1.7925 | Step time 1.34 ms\n",
      "Step  130000/ 200000 | Loss 1.7129 | Step time 1.36 ms\n",
      "Step  135000/ 200000 | Loss 1.8297 | Step time 1.36 ms\n",
      "Step  140000/ 200000 | Loss 2.2165 | Step time 1.38 ms\n",
      "Step  145000/ 200000 | Loss 1.7301 | Step time 1.34 ms\n",
      "Step  150000/ 200000 | Loss 1.8126 | Step time 1.35 ms\n",
      "Step  155000/ 200000 | Loss 1.6665 | Step time 1.39 ms\n",
      "Step  160000/ 200000 | Loss 1.9573 | Loss train 1.7363 | Loss valid 2.1149 | Step time 159.76 ms\n",
      "Step  165000/ 200000 | Loss 1.5347 | Step time 1.36 ms\n",
      "Step  170000/ 200000 | Loss 1.6075 | Step time 1.36 ms\n",
      "Step  175000/ 200000 | Loss 1.4534 | Step time 1.36 ms\n",
      "Step  180000/ 200000 | Loss 1.9841 | Step time 1.36 ms\n",
      "Step  185000/ 200000 | Loss 1.7615 | Step time 1.36 ms\n",
      "Step  190000/ 200000 | Loss 1.6098 | Step time 1.36 ms\n",
      "Step  195000/ 200000 | Loss 1.6151 | Step time 1.36 ms\n"
     ]
    }
   ],
   "source": [
    "# First define the model\n",
    "wavenet = WaveNet(config)\n",
    "print('#parameters :', sum([p.numel() for p in wavenet.parameters()]))\n",
    "\n",
    "# Define optimizer\n",
    "optimizer = torch.optim.SGD(params=wavenet.parameters(),\n",
    "                            lr=0.011117,\n",
    "                            weight_decay=0.000013)\n",
    "\n",
    "\n",
    "# Train the model\n",
    "g = torch.Generator().manual_seed(42)\n",
    "losses = train(\n",
    "    model=wavenet,\n",
    "    batch_size=32,\n",
    "    X_train=X_train,\n",
    "    y_train=y_train,\n",
    "    max_iter=200_000,\n",
    "    optimizer=optimizer,\n",
    "    generator=g\n",
    ")"
   ]
  },
  {
   "cell_type": "code",
   "execution_count": 73,
   "metadata": {
    "colab": {
     "base_uri": "https://localhost:8080/"
    },
    "id": "F0pTEVzSrKzq",
    "outputId": "05c1dca7-ce19-4b40-9832-3caf0f29acf8"
   },
   "outputs": [
    {
     "name": "stdout",
     "output_type": "stream",
     "text": [
      "Loss at train dataset : 1.7199\n",
      "Loss at valid dataset : 2.1226\n"
     ]
    }
   ],
   "source": [
    "# Check loss\n",
    "loss_train_wavenet = evaluate_loss(wavenet, 'train')\n",
    "loss_valid_wavenet = evaluate_loss(wavenet, 'valid')\n",
    "\n",
    "print(f'Loss at train dataset : {loss_train_wavenet.item():.4f}')\n",
    "print(f'Loss at valid dataset : {loss_valid_wavenet.item():.4f}')"
   ]
  },
  {
   "cell_type": "code",
   "execution_count": 74,
   "metadata": {
    "colab": {
     "base_uri": "https://localhost:8080/",
     "height": 175
    },
    "id": "hExLreoSrKzr",
    "outputId": "adc9084a-0d69-4e40-8600-03767070bba7"
   },
   "outputs": [
    {
     "data": {
      "text/html": [
       "<div>\n",
       "<style scoped>\n",
       "    .dataframe tbody tr th:only-of-type {\n",
       "        vertical-align: middle;\n",
       "    }\n",
       "\n",
       "    .dataframe tbody tr th {\n",
       "        vertical-align: top;\n",
       "    }\n",
       "\n",
       "    .dataframe thead th {\n",
       "        text-align: right;\n",
       "    }\n",
       "</style>\n",
       "<table border=\"1\" class=\"dataframe\">\n",
       "  <thead>\n",
       "    <tr style=\"text-align: right;\">\n",
       "      <th></th>\n",
       "      <th>model</th>\n",
       "      <th>Loss Train</th>\n",
       "      <th>Loss Valid</th>\n",
       "    </tr>\n",
       "  </thead>\n",
       "  <tbody>\n",
       "    <tr>\n",
       "      <th>0</th>\n",
       "      <td>MLP 1-HL</td>\n",
       "      <td>1.751615</td>\n",
       "      <td>2.180040</td>\n",
       "    </tr>\n",
       "    <tr>\n",
       "      <th>1</th>\n",
       "      <td>MLP 2-HL</td>\n",
       "      <td>1.651612</td>\n",
       "      <td>2.288122</td>\n",
       "    </tr>\n",
       "    <tr>\n",
       "      <th>2</th>\n",
       "      <td>MLP BN</td>\n",
       "      <td>1.745502</td>\n",
       "      <td>2.151457</td>\n",
       "    </tr>\n",
       "    <tr>\n",
       "      <th>3</th>\n",
       "      <td>WaveNet</td>\n",
       "      <td>1.719936</td>\n",
       "      <td>2.122620</td>\n",
       "    </tr>\n",
       "  </tbody>\n",
       "</table>\n",
       "</div>"
      ],
      "text/plain": [
       "      model  Loss Train  Loss Valid\n",
       "0  MLP 1-HL    1.751615    2.180040\n",
       "1  MLP 2-HL    1.651612    2.288122\n",
       "2    MLP BN    1.745502    2.151457\n",
       "3   WaveNet    1.719936    2.122620"
      ]
     },
     "execution_count": 74,
     "metadata": {},
     "output_type": "execute_result"
    }
   ],
   "source": [
    "# Summary\n",
    "summary_df.loc[len(summary_df.index)] = ['WaveNet', loss_train_wavenet.item(), loss_valid_wavenet.item()]\n",
    "summary_df"
   ]
  },
  {
   "cell_type": "code",
   "execution_count": 75,
   "metadata": {
    "colab": {
     "base_uri": "https://localhost:8080/"
    },
    "id": "AnsaW5FbrKzr",
    "outputId": "9507b88d-383b-4261-fc01-cf1f04e8201c"
   },
   "outputs": [
    {
     "name": "stdout",
     "output_type": "stream",
     "text": [
      "yengya.\n",
      "lintan.\n",
      "dlie.\n",
      "mikhaidaya.\n",
      "tryawani.\n",
      "widen.\n",
      "edly.\n",
      "maisery.\n",
      "kelesia.\n",
      "natopa.\n",
      "sitawanugro.\n",
      "noer.\n",
      "sefrianto.\n",
      "moningcar.\n",
      "clandra.\n",
      "zira.\n",
      "artansongkum.\n",
      "amreisaniyya.\n",
      "nochaiza.\n",
      "adanesa.\n"
     ]
    }
   ],
   "source": [
    "g_sample = torch.Generator().manual_seed(42)\n",
    "generate_sample(wavenet, generator=g_sample)"
   ]
  },
  {
   "cell_type": "code",
   "execution_count": 76,
   "metadata": {
    "colab": {
     "base_uri": "https://localhost:8080/"
    },
    "id": "JzBZK7R8twz2",
    "outputId": "92702796-4231-4a89-98df-9b8c4fff21b1"
   },
   "outputs": [
    {
     "name": "stdout",
     "output_type": "stream",
     "text": [
      "nita.\n",
      "nabhiak.\n",
      "thudya.\n",
      "wini.\n",
      "fridana.\n",
      "jedio.\n",
      "keliny.\n",
      "astia.\n",
      "nisela.\n",
      "mahareng.\n",
      "rosari.\n",
      "larister.\n",
      "pramugina.\n",
      "rabie.\n",
      "mahaishaq.\n",
      "askarlel.\n",
      "anan.\n",
      "rijal.\n",
      "rozi.\n",
      "almar.\n"
     ]
    }
   ],
   "source": [
    "# other samples\n",
    "generate_sample(wavenet, generator=g_sample)"
   ]
  }
 ],
 "metadata": {
  "colab": {
   "collapsed_sections": [
    "fuP65y6mCSbp",
    "5w2Uxzj3EObS",
    "M8-zREx3ERYv",
    "wf6tB6uaJfe5",
    "aAkVZDMTR7Wh",
    "_aLaaT62R_Y_",
    "LLtV3LoPeLXl",
    "JqzXdXsGlU2K",
    "w_lqX_2Umkie",
    "ZYQmWpAY3Zbk",
    "nBs-1jJj3Gpb",
    "qNgQ25q84ecd",
    "kMrlmFSE7EAG",
    "pVQEveux8BsS",
    "9kTFYXzxCfKe",
    "pRx9dzNTHw45",
    "Zpstzdw3OGX_",
    "r31dACzPse87",
    "VCFS4GgwlC4p",
    "qZ_v0VWqpkWG",
    "9dLo1lxmrKzp"
   ],
   "provenance": []
  },
  "kernelspec": {
   "display_name": ".venv",
   "language": "python",
   "name": "python3"
  },
  "language_info": {
   "codemirror_mode": {
    "name": "ipython",
    "version": 3
   },
   "file_extension": ".py",
   "mimetype": "text/x-python",
   "name": "python",
   "nbconvert_exporter": "python",
   "pygments_lexer": "ipython3",
   "version": "3.10.14"
  }
 },
 "nbformat": 4,
 "nbformat_minor": 1
}
